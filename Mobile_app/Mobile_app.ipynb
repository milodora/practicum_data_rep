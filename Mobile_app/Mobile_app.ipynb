{
 "cells": [
  {
   "cell_type": "markdown",
   "metadata": {},
   "source": [
    "# Анализ поведения пользователей  в стартапе по продаже продуктов питания\n",
    "\n",
    "**Цель проекта**\n",
    "Проанализировать поведение покупателей в мобильном приложении на основании логов пользователей и результатов А/А/В - эксперимента (изменение шрифта во всем приложении).\n",
    "\n",
    " \n",
    "**Ход исследования**\n",
    "\n",
    "Исследование пройдёт в 6 этапов:\n",
    "\n",
    "1. Изучение входных данных\n",
    "2. Предобработка\n",
    "3. Исследовательский анализ данных\n",
    "    - Количество событий \n",
    "    - Количество пользователей\n",
    "    - Среднее количество событий на одного пользователя\n",
    "    - Определение временного промежутка анализа\n",
    "    - Определение потерь данных при установке временного промежутка анализа\n",
    "    - Количество пользователей в каждой группе тестирования\n",
    "4. Изучение воронки событий\n",
    "    - Анализ всех событий\n",
    "    - Количество пользователей совершивших событие\n",
    "    - Определение последовательности событий в воронке\n",
    "    - Расчет воронки событий. Определение шага с наибольшими потерями и доли пользователей дошедших до оплаты \n",
    "5. Изучение результатов эксперимента\n",
    "    - Количество пользователей в каждой экспериментальной группе\n",
    "    - Проведение А/А - тестирования\n",
    "    - Проведение А/Б - тестирования\n",
    "6. Общий вывод\n",
    "\n",
    "\n",
    "\n",
    "**Данные**\n",
    "\n",
    "Каждая запись в логе — это действие пользователя, или событие.\n",
    "* логи пользователей мобильного приложения (файл `logs_exp.csv`)\n",
    "\n",
    "`EventName` — название события;   \n",
    "`DeviceIDHash` — уникальный идентификатор пользователя;    \n",
    "`EventTimestamp` — время события;     \n",
    "`ExpId` — номер эксперимента: 246 и 247 — контрольные группы, а 248 — экспериментальная.   \n"
   ]
  },
  {
   "cell_type": "markdown",
   "metadata": {
    "toc": true
   },
   "source": [
    "<h1>Навигация<span class=\"tocSkip\"></span></h1>\n",
    "<div class=\"toc\"><ul class=\"toc-item\"><li><span><a href=\"#Обзор-данных\" data-toc-modified-id=\"Обзор-данных-1\"><span class=\"toc-item-num\">1&nbsp;&nbsp;</span><strong>Обзор данных</strong></a></span><ul class=\"toc-item\"><li><span><a href=\"#Функции\" data-toc-modified-id=\"Функции-1.1\"><span class=\"toc-item-num\">1.1&nbsp;&nbsp;</span>Функции</a></span><ul class=\"toc-item\"><li><span><a href=\"#z-test\" data-toc-modified-id=\"z-test-1.1.1\"><span class=\"toc-item-num\">1.1.1&nbsp;&nbsp;</span>z-test</a></span></li><li><span><a href=\"#другие-функции\" data-toc-modified-id=\"другие-функции-1.1.2\"><span class=\"toc-item-num\">1.1.2&nbsp;&nbsp;</span>другие функции</a></span></li></ul></li><li><span><a href=\"#Знакомство-с-данными\" data-toc-modified-id=\"Знакомство-с-данными-1.2\"><span class=\"toc-item-num\">1.2&nbsp;&nbsp;</span>Знакомство с данными</a></span></li><li><span><a href=\"#Вывод\" data-toc-modified-id=\"Вывод-1.3\"><span class=\"toc-item-num\">1.3&nbsp;&nbsp;</span><strong>Вывод</strong></a></span></li></ul></li><li><span><a href=\"#Предобработка\" data-toc-modified-id=\"Предобработка-2\"><span class=\"toc-item-num\">2&nbsp;&nbsp;</span><strong>Предобработка</strong></a></span><ul class=\"toc-item\"><li><span><a href=\"#Наименования-столбцов-и-новые-данные\" data-toc-modified-id=\"Наименования-столбцов-и-новые-данные-2.1\"><span class=\"toc-item-num\">2.1&nbsp;&nbsp;</span>Наименования столбцов и новые данные</a></span></li><li><span><a href=\"#Проверка-данных-на-соответствие-нормам-А/B-теста\" data-toc-modified-id=\"Проверка-данных-на-соответствие-нормам-А/B-теста-2.2\"><span class=\"toc-item-num\">2.2&nbsp;&nbsp;</span>Проверка данных на соответствие нормам А/B теста</a></span></li><li><span><a href=\"#Именование-событий-(event)\" data-toc-modified-id=\"Именование-событий-(event)-2.3\"><span class=\"toc-item-num\">2.3&nbsp;&nbsp;</span>Именование событий (event)</a></span></li><li><span><a href=\"#Именование-групп\" data-toc-modified-id=\"Именование-групп-2.4\"><span class=\"toc-item-num\">2.4&nbsp;&nbsp;</span>Именование групп</a></span></li><li><span><a href=\"#Вывод\" data-toc-modified-id=\"Вывод-2.5\"><span class=\"toc-item-num\">2.5&nbsp;&nbsp;</span><strong>Вывод</strong></a></span></li></ul></li><li><span><a href=\"#Исследовательский-анализ-данных\" data-toc-modified-id=\"Исследовательский-анализ-данных-3\"><span class=\"toc-item-num\">3&nbsp;&nbsp;</span><strong>Исследовательский анализ данных</strong></a></span><ul class=\"toc-item\"><li><span><a href=\"#Количество-событий\" data-toc-modified-id=\"Количество-событий-3.1\"><span class=\"toc-item-num\">3.1&nbsp;&nbsp;</span>Количество событий</a></span></li><li><span><a href=\"#Количество-пользователей\" data-toc-modified-id=\"Количество-пользователей-3.2\"><span class=\"toc-item-num\">3.2&nbsp;&nbsp;</span>Количество пользователей</a></span></li><li><span><a href=\"#Среднее-количество-событий-на-одного-пользователя\" data-toc-modified-id=\"Среднее-количество-событий-на-одного-пользователя-3.3\"><span class=\"toc-item-num\">3.3&nbsp;&nbsp;</span>Среднее количество событий на одного пользователя</a></span></li><li><span><a href=\"#Определение-временного-промежутка-анализа\" data-toc-modified-id=\"Определение-временного-промежутка-анализа-3.4\"><span class=\"toc-item-num\">3.4&nbsp;&nbsp;</span>Определение временного промежутка анализа</a></span></li><li><span><a href=\"#Определение-потерь-данных-при-установке-временного-промежутка-анализа\" data-toc-modified-id=\"Определение-потерь-данных-при-установке-временного-промежутка-анализа-3.5\"><span class=\"toc-item-num\">3.5&nbsp;&nbsp;</span>Определение потерь данных при установке временного промежутка анализа</a></span></li><li><span><a href=\"#Количество-пользователей-в-каждой-группе-тестирования\" data-toc-modified-id=\"Количество-пользователей-в-каждой-группе-тестирования-3.6\"><span class=\"toc-item-num\">3.6&nbsp;&nbsp;</span>Количество пользователей в каждой группе тестирования</a></span></li><li><span><a href=\"#Вывод\" data-toc-modified-id=\"Вывод-3.7\"><span class=\"toc-item-num\">3.7&nbsp;&nbsp;</span><strong>Вывод</strong></a></span></li></ul></li><li><span><a href=\"#Изучение-воронки-событий\" data-toc-modified-id=\"Изучение-воронки-событий-4\"><span class=\"toc-item-num\">4&nbsp;&nbsp;</span>Изучение воронки событий</a></span><ul class=\"toc-item\"><li><span><a href=\"#Анализ-всех-событий-и-их-частоты\" data-toc-modified-id=\"Анализ-всех-событий-и-их-частоты-4.1\"><span class=\"toc-item-num\">4.1&nbsp;&nbsp;</span>Анализ всех событий и их частоты</a></span></li><li><span><a href=\"#Количество-пользователей-совершивших-событие\" data-toc-modified-id=\"Количество-пользователей-совершивших-событие-4.2\"><span class=\"toc-item-num\">4.2&nbsp;&nbsp;</span>Количество пользователей совершивших событие</a></span></li><li><span><a href=\"#Определение-последовательности-событий\" data-toc-modified-id=\"Определение-последовательности-событий-4.3\"><span class=\"toc-item-num\">4.3&nbsp;&nbsp;</span>Определение последовательности событий</a></span></li><li><span><a href=\"#Расчет-воронки-событий.-Определение-шага-с-наибольшими-потерями-и-доли-пользователей-дошедших-до-оплаты\" data-toc-modified-id=\"Расчет-воронки-событий.-Определение-шага-с-наибольшими-потерями-и-доли-пользователей-дошедших-до-оплаты-4.4\"><span class=\"toc-item-num\">4.4&nbsp;&nbsp;</span>Расчет воронки событий. Определение шага с наибольшими потерями и доли пользователей дошедших до оплаты</a></span></li><li><span><a href=\"#Вывод\" data-toc-modified-id=\"Вывод-4.5\"><span class=\"toc-item-num\">4.5&nbsp;&nbsp;</span><strong>Вывод</strong></a></span></li></ul></li><li><span><a href=\"#Изучение-результатов-эксперимента\" data-toc-modified-id=\"Изучение-результатов-эксперимента-5\"><span class=\"toc-item-num\">5&nbsp;&nbsp;</span>Изучение результатов эксперимента</a></span><ul class=\"toc-item\"><li><span><a href=\"#Количество-пользователей-в-каждой-экспериментальной-группе\" data-toc-modified-id=\"Количество-пользователей-в-каждой-экспериментальной-группе-5.1\"><span class=\"toc-item-num\">5.1&nbsp;&nbsp;</span>Количество пользователей в каждой экспериментальной группе</a></span></li><li><span><a href=\"#Подготовка-таблицы-событие-пользователи-для-оценки-результатов-экспериментов\" data-toc-modified-id=\"Подготовка-таблицы-событие-пользователи-для-оценки-результатов-экспериментов-5.2\"><span class=\"toc-item-num\">5.2&nbsp;&nbsp;</span>Подготовка таблицы событие-пользователи для оценки результатов экспериментов</a></span></li><li><span><a href=\"#А/А-тест.-Проверка-разницы-между-выборками-246-и-247\" data-toc-modified-id=\"А/А-тест.-Проверка-разницы-между-выборками-246-и-247-5.3\"><span class=\"toc-item-num\">5.3&nbsp;&nbsp;</span>А/А тест. Проверка разницы между выборками 246 и 247</a></span><ul class=\"toc-item\"><li><span><a href=\"#Проверка-стат.разницы-для-самого-популярного-события-между-А1-и-А2\" data-toc-modified-id=\"Проверка-стат.разницы-для-самого-популярного-события-между-А1-и-А2-5.3.1\"><span class=\"toc-item-num\">5.3.1&nbsp;&nbsp;</span>Проверка стат.разницы для самого популярного события между А1 и А2</a></span></li><li><span><a href=\"#Для-остальных-событий\" data-toc-modified-id=\"Для-остальных-событий-5.3.2\"><span class=\"toc-item-num\">5.3.2&nbsp;&nbsp;</span>Для остальных событий</a></span></li><li><span><a href=\"#Вывод-о-корректности-разбиения-на-группы\" data-toc-modified-id=\"Вывод-о-корректности-разбиения-на-группы-5.3.3\"><span class=\"toc-item-num\">5.3.3&nbsp;&nbsp;</span><strong>Вывод о корректности разбиения на группы</strong></a></span></li></ul></li><li><span><a href=\"#А/А/В-тест.\" data-toc-modified-id=\"А/А/В-тест.-5.4\"><span class=\"toc-item-num\">5.4&nbsp;&nbsp;</span>А/А/В тест.</a></span><ul class=\"toc-item\"><li><span><a href=\"#А1/В\" data-toc-modified-id=\"А1/В-5.4.1\"><span class=\"toc-item-num\">5.4.1&nbsp;&nbsp;</span>А1/В</a></span></li><li><span><a href=\"#А2/В\" data-toc-modified-id=\"А2/В-5.4.2\"><span class=\"toc-item-num\">5.4.2&nbsp;&nbsp;</span>А2/В</a></span></li><li><span><a href=\"#А1+А2/В\" data-toc-modified-id=\"А1+А2/В-5.4.3\"><span class=\"toc-item-num\">5.4.3&nbsp;&nbsp;</span>А1+А2/В</a></span></li><li><span><a href=\"#Вывод\" data-toc-modified-id=\"Вывод-5.4.4\"><span class=\"toc-item-num\">5.4.4&nbsp;&nbsp;</span><strong>Вывод</strong></a></span></li></ul></li><li><span><a href=\"#Корректировка-для-множественных-тестов\" data-toc-modified-id=\"Корректировка-для-множественных-тестов-5.5\"><span class=\"toc-item-num\">5.5&nbsp;&nbsp;</span>Корректировка для множественных тестов</a></span></li></ul></li><li><span><a href=\"#Общий-вывод\" data-toc-modified-id=\"Общий-вывод-6\"><span class=\"toc-item-num\">6&nbsp;&nbsp;</span>Общий вывод</a></span></li></ul></div>"
   ]
  },
  {
   "cell_type": "markdown",
   "metadata": {},
   "source": [
    "## **Обзор данных**\n",
    "\n",
    "\n",
    "\n",
    "Загрузим необходимые библиотеки"
   ]
  },
  {
   "cell_type": "code",
   "execution_count": 1,
   "metadata": {},
   "outputs": [],
   "source": [
    "# импорт библиотек\n",
    "import pandas as pd\n",
    "import numpy as np\n",
    "import matplotlib.pyplot as plt\n",
    "import seaborn as sns\n",
    "import datetime as dt\n",
    "import scipy.stats as st\n",
    "import math as mth\n",
    "from pandas.plotting import register_matplotlib_converters\n",
    "\n",
    "import plotly.express as px\n",
    "from plotly.subplots import make_subplots\n",
    "import plotly.graph_objects as go\n",
    "import plotly.io as pio\n",
    "\n",
    "pio.renderers.default = \"png\"\n",
    "\n",
    "\n",
    "color = [\n",
    "    \"rgb(0, 147, 146)\",\n",
    "    \"rgb(57, 177, 133)\",\n",
    "    \"rgb(156, 203, 134)\",\n",
    "    \"rgb(233, 226, 156)\",\n",
    "    \"rgb(238, 180, 121)\",\n",
    "    \"rgb(232, 132, 113)\",\n",
    "    \"rgb(207, 89, 126)\",\n",
    "]\n",
    "\n",
    "pio.templates[\"myname\"] = go.layout.Template(layout_colorway=color)\n",
    "pio.templates.default = \"simple_white+myname\"\n",
    "\n",
    "\n",
    "# конвертеры, которые позволяют использовать типы pandas в matplotlib\n",
    "register_matplotlib_converters()\n",
    "\n",
    "# игнорируем предупреждения\n",
    "import warnings\n",
    "warnings.filterwarnings(action=\"ignore\")\n",
    "\n",
    "# отображение текста/таблиц с markdown\n",
    "from IPython.display import Markdown, display, display_html\n",
    "\n",
    "# снимаем ограничение на количество столбцов и ширину\n",
    "pd.set_option(\"display.max_columns\", None)\n",
    "pd.set_option(\"display.max_colwidth\", None)\n",
    "\n",
    "# выставляем ограничение на показ знаков после запятой\n",
    "pd.options.display.float_format = \"{:,.2f}\".format\n",
    "\n",
    "# задаем размер графика\n",
    "sns.set(rc={\"figure.figsize\": (12, 6)})"
   ]
  },
  {
   "cell_type": "markdown",
   "metadata": {},
   "source": [
    "Прочитаем данные и сохраним их в рабочие таблицы"
   ]
  },
  {
   "cell_type": "code",
   "execution_count": 2,
   "metadata": {},
   "outputs": [],
   "source": [
    "# чтение файлов с данными и сохранение в df\n",
    "try:\n",
    "    logs = pd.read_csv(\"https://code.s3.yandex.net/datasets/logs_exp.csv\", sep=\"\\t\")\n",
    "except:\n",
    "    logs = pd.read_csv(\"logs_exp.csv\", sep=\"\\t\")\n",
    "\n",
    "# дадим датафрейму имя (понадобится в функции для предобработки данных)\n",
    "logs.name = \"logs\""
   ]
  },
  {
   "cell_type": "code",
   "execution_count": 3,
   "metadata": {},
   "outputs": [
    {
     "data": {
      "text/plain": [
       "'logs'"
      ]
     },
     "execution_count": 3,
     "metadata": {},
     "output_type": "execute_result"
    }
   ],
   "source": [
    "logs.name"
   ]
  },
  {
   "cell_type": "markdown",
   "metadata": {},
   "source": [
    "### Функции\n",
    "\n",
    "Вынесли функции, использующиеся как в предобработке данных, так и далее в проекте\n",
    "\n",
    "- `label()` — для подписей столбчатых графиков,\n",
    "- `inf_df()` — информация о датафрейме,\n",
    "- `column_info()` — информация о уникальных значениях в колонках, а для числовых - описательная статистика и диаграммы размаха,\n",
    "- `st_create()` — функция для формирования выборок для проведения z-test из общего подготовленного датафрейма\n",
    "- `z_test()` - функция для проведения z-теста"
   ]
  },
  {
   "cell_type": "markdown",
   "metadata": {},
   "source": [
    "#### z-test"
   ]
  },
  {
   "cell_type": "code",
   "execution_count": 4,
   "metadata": {},
   "outputs": [],
   "source": [
    "# функция для проведения z-теста\n",
    "# аргументы\n",
    "# - датафрейм (если у нас будет несколько таблиц и просто чтобы не привязываться к названию в коде функции),\n",
    "# - наименования сравниваемых групп - группа 1, группа 2,\n",
    "# - alpha (не обязательное, по умолчанию - 0.05)\n",
    "# - событие (необязательное, по умолчанию - по всем из датафрейма)\n",
    "\n",
    "def z_test(df, group_1, group_2, alpha = 0.05, event=0):\n",
    "    \n",
    "    table = pd.DataFrame()\n",
    "    display(Markdown(f'**z-test между группами {group_1} и {group_2}, значение alpha - {alpha}**'))\n",
    "    \n",
    "    # если событие не указано, берем все строки из датафрейма кроме последней (итоговой)\n",
    "    if event == 0 :\n",
    "        event=list(df.index[0:-1])\n",
    "    \n",
    "    # для каждого элемента из списка событий\n",
    "    for i in list(event):\n",
    "        \n",
    "        # вызываем функцию которая формирует необходимые выборки из сводной таблицы для определения долей\n",
    "        s_1, s_2, t_1, t_2 = st_create(df, i, group_1, group_2)\n",
    "\n",
    "        # определение долей (успеха) по группам\n",
    "        p1 = s_1/t_1\n",
    "        p2 = s_2/t_2\n",
    "        p_combined = (s_1 + s_2) / (t_1 + t_2)        \n",
    "        difference = p1 - p2\n",
    "        \n",
    "        # считаем статистику в стандартных отклонениях стандартного нормального распределения\n",
    "        z_value = difference / mth.sqrt(p_combined * (1 - p_combined) * (1/t_1 + 1/t_2))\n",
    "        \n",
    "        # задаем стандартное нормальное распределение (среднее 0, ст.отклонение 1)\n",
    "        distr = st.norm(0, 1) \n",
    "        \n",
    "        # считаем p_value\n",
    "        p_value = (1 - distr.cdf(abs(z_value))) * 2\n",
    "        \n",
    "        data = {'group_1':group_1,'group_2':group_2,'event':i,'p_value':p_value}\n",
    "        table = table.append(data, ignore_index=True)\n",
    "        \n",
    "        # выводим результат\n",
    "        display(Markdown(f'Для события **{i}** p-значение: **{p_value.round(5)}**'))\n",
    "        if (p_value < alpha):\n",
    "            print(\"   Отвергаем нулевую гипотезу так как между долями есть значимая разница\")\n",
    "        else:\n",
    "            print(\"   Не получилось отвергнуть нулевую гипотезу, нет оснований считать доли разными\")\n",
    "    return table"
   ]
  },
  {
   "cell_type": "code",
   "execution_count": 5,
   "metadata": {},
   "outputs": [],
   "source": [
    "# функция для формирования выборок для проведения z-test из общего подготовленного датафрейма\n",
    "def st_create(df, event, group_1, group_2):\n",
    "    \n",
    "        # значения выборок по событию\n",
    "        success_1 = df.loc[event, group_1]\n",
    "        success_2 = df.loc[event, group_2]\n",
    "    \n",
    "        # значения выборок всего\n",
    "        trial_1 = df.loc[df.index[-1],group_1] \n",
    "        trial_2 = df.loc[df.index[-1], group_2]\n",
    "        \n",
    "        return success_1, success_2, trial_1, trial_2"
   ]
  },
  {
   "cell_type": "markdown",
   "metadata": {},
   "source": [
    "#### другие функции"
   ]
  },
  {
   "cell_type": "code",
   "execution_count": 6,
   "metadata": {},
   "outputs": [],
   "source": [
    "# функция подписи значений на столбчатой диаграмме\n",
    "# аргументы  \n",
    "# axs - оси/датафрейм, \n",
    "# orient - ориентация (вертикальная/горизонатальная), чтобы определить где располагать подписи\n",
    "# total - сумма, если указано, то определем долю значения относительно нее и выводим % \n",
    "# space - отступы для регулировки расположения \n",
    "\n",
    "def label(axs, orient=\"v\", total=0, space=1):\n",
    "    def _single(ax):\n",
    "        if orient == \"v\":\n",
    "            if total == 0:\n",
    "                for p in ax.patches:\n",
    "                    _x = p.get_x() + p.get_width() / 2\n",
    "                    _y = p.get_y() + p.get_height()\n",
    "                    value = \"{:.2f}\".format(p.get_height())\n",
    "                    ax.text(_x, _y, value, ha=\"center\")\n",
    "            elif total > 0:\n",
    "                for p in ax.patches:\n",
    "                    percentage = \"{:.1f}%\".format(100 * p.get_height() / total)\n",
    "                    x = p.get_x() + p.get_width() / 2\n",
    "                    y = p.get_y() + p.get_height()\n",
    "                    ax.annotate(percentage, (x, y), ha=\"center\")\n",
    "\n",
    "        elif orient == \"h\":\n",
    "            if total == 0:\n",
    "                for p in ax.patches:\n",
    "                    _x = p.get_x() + p.get_width() + space\n",
    "                    _y = p.get_y() + p.get_height() - (p.get_height() * 0.5)\n",
    "                    value = \"{:.0f}\".format(p.get_width())\n",
    "                    ax.text(_x, _y, value, ha=\"left\")\n",
    "            elif total > 0:\n",
    "                for p in ax.patches:\n",
    "                    percentage = \"{:.1f}%\".format(100 * p.get_width() / total)\n",
    "                    x = p.get_x() + p.get_width() + 0.2\n",
    "                    y = p.get_y() + 0.5\n",
    "                    ax.annotate(percentage, (x, y), ha=\"left\")\n",
    "\n",
    "    if isinstance(axs, np.ndarray):\n",
    "        for idx, ax in np.ndenumerate(axs):\n",
    "            _single(ax)\n",
    "    else:\n",
    "        _single(axs)\n"
   ]
  },
  {
   "cell_type": "code",
   "execution_count": 7,
   "metadata": {},
   "outputs": [],
   "source": [
    "# функция для просмотра информации о датафрейме\n",
    "def inf_df(df):\n",
    "\n",
    "    # общая информация о датафрейме\n",
    "    display(Markdown(f\"**Общая информация о датафрейме - {df.name}**\"))\n",
    "    df.info()\n",
    "    display(Markdown(f\"**Первые 10 строк {df.name}**\"), df.head(10))\n",
    "\n",
    "    # проверим возможное количество дубликатов\n",
    "    if df.duplicated().sum() > 0:\n",
    "        display(Markdown(f\"**Количество явных дубликатов:** {df.duplicated().sum()}\"))\n",
    "        display(Markdown(f\"% явных дубликатов: **{round(df.duplicated().sum()/len(df)*100,2)} %**\"))\n",
    "    else:\n",
    "        display(Markdown(f\"**Явных дубликатов в {df.name} нет**\"))\n",
    "\n",
    "    # оценка пропусков\n",
    "    # соберем сумму пропусков по каждому столбцу\n",
    "    nulls = df.isnull().sum().sort_values(ascending=False).round(1).reset_index()\n",
    "    # именуем колонки\n",
    "    nulls.columns = [\"Параметр\", \"Количество_пропусков\"]\n",
    "    # уберем строки, в которых пропуски отсутствуют\n",
    "    nulls_bar = nulls.query(\"Количество_пропусков > 0\")\n",
    "    # сохраним общее количество строк для подсчета % пропусков\n",
    "    total = len(df)\n",
    "\n",
    "    # нарисуем диаграмму\n",
    "    if nulls_bar.empty == False:\n",
    "        f, ax = plt.subplots(figsize=(8, 3))\n",
    "        pl = sns.barplot(x=\"Количество_пропусков\", y=\"Параметр\", data=nulls_bar)\n",
    "        plt.title(\"Доля содержания пропусков по каждому параметру\")\n",
    "        # подпишем значения % функцией\n",
    "        label(pl, \"h\", total)\n",
    "        plt.show()\n",
    "        # выведем таблицу с суммой пропусков по каждому столбцу\n",
    "        display(df.isna().sum().to_frame())\n",
    "    else:\n",
    "        display(Markdown(f\"**Пропусков в {df.name} нет**\"))\n",
    " "
   ]
  },
  {
   "cell_type": "code",
   "execution_count": 8,
   "metadata": {},
   "outputs": [],
   "source": [
    "# просмотр информации по столбцам\n",
    "def column_info(df):\n",
    "    np.object = object\n",
    "    for i in df.columns:\n",
    "        if df[i].dtype == np.object:\n",
    "            display(\n",
    "                Markdown(f\"**Список уникальных значений столбца {i}**\"), df[i].unique()\n",
    "            )\n",
    "    # построим диаграмму размаха для всех числовых столбцов\n",
    "    display(Markdown(f\"**Описание числовых столбцов {df.name}**\"), df.describe())\n",
    "    df.plot(kind=\"box\", subplots=True, layout=(2, 3), figsize=(12, 10))"
   ]
  },
  {
   "cell_type": "markdown",
   "metadata": {},
   "source": [
    "### Знакомство с данными\n",
    "\n",
    "Изучим данные. Проверим есть ли в данных пропуски и дубликаты. Убедимся, что типы данных во всех колонках соответствуют сохранённым в них значениям. \n",
    "Оценим датафрейм - logs.\n",
    "С помощью функции inf_df выведем подготовленную оценку."
   ]
  },
  {
   "cell_type": "code",
   "execution_count": 9,
   "metadata": {},
   "outputs": [
    {
     "data": {
      "text/markdown": [
       "**Общая информация о датафрейме - logs**"
      ],
      "text/plain": [
       "<IPython.core.display.Markdown object>"
      ]
     },
     "metadata": {},
     "output_type": "display_data"
    },
    {
     "name": "stdout",
     "output_type": "stream",
     "text": [
      "<class 'pandas.core.frame.DataFrame'>\n",
      "RangeIndex: 244126 entries, 0 to 244125\n",
      "Data columns (total 4 columns):\n",
      " #   Column          Non-Null Count   Dtype \n",
      "---  ------          --------------   ----- \n",
      " 0   EventName       244126 non-null  object\n",
      " 1   DeviceIDHash    244126 non-null  int64 \n",
      " 2   EventTimestamp  244126 non-null  int64 \n",
      " 3   ExpId           244126 non-null  int64 \n",
      "dtypes: int64(3), object(1)\n",
      "memory usage: 7.5+ MB\n"
     ]
    },
    {
     "data": {
      "text/markdown": [
       "**Первые 10 строк logs**"
      ],
      "text/plain": [
       "<IPython.core.display.Markdown object>"
      ]
     },
     "metadata": {},
     "output_type": "display_data"
    },
    {
     "data": {
      "text/html": [
       "<div>\n",
       "<style scoped>\n",
       "    .dataframe tbody tr th:only-of-type {\n",
       "        vertical-align: middle;\n",
       "    }\n",
       "\n",
       "    .dataframe tbody tr th {\n",
       "        vertical-align: top;\n",
       "    }\n",
       "\n",
       "    .dataframe thead th {\n",
       "        text-align: right;\n",
       "    }\n",
       "</style>\n",
       "<table border=\"1\" class=\"dataframe\">\n",
       "  <thead>\n",
       "    <tr style=\"text-align: right;\">\n",
       "      <th></th>\n",
       "      <th>EventName</th>\n",
       "      <th>DeviceIDHash</th>\n",
       "      <th>EventTimestamp</th>\n",
       "      <th>ExpId</th>\n",
       "    </tr>\n",
       "  </thead>\n",
       "  <tbody>\n",
       "    <tr>\n",
       "      <th>0</th>\n",
       "      <td>MainScreenAppear</td>\n",
       "      <td>4575588528974610257</td>\n",
       "      <td>1564029816</td>\n",
       "      <td>246</td>\n",
       "    </tr>\n",
       "    <tr>\n",
       "      <th>1</th>\n",
       "      <td>MainScreenAppear</td>\n",
       "      <td>7416695313311560658</td>\n",
       "      <td>1564053102</td>\n",
       "      <td>246</td>\n",
       "    </tr>\n",
       "    <tr>\n",
       "      <th>2</th>\n",
       "      <td>PaymentScreenSuccessful</td>\n",
       "      <td>3518123091307005509</td>\n",
       "      <td>1564054127</td>\n",
       "      <td>248</td>\n",
       "    </tr>\n",
       "    <tr>\n",
       "      <th>3</th>\n",
       "      <td>CartScreenAppear</td>\n",
       "      <td>3518123091307005509</td>\n",
       "      <td>1564054127</td>\n",
       "      <td>248</td>\n",
       "    </tr>\n",
       "    <tr>\n",
       "      <th>4</th>\n",
       "      <td>PaymentScreenSuccessful</td>\n",
       "      <td>6217807653094995999</td>\n",
       "      <td>1564055322</td>\n",
       "      <td>248</td>\n",
       "    </tr>\n",
       "    <tr>\n",
       "      <th>5</th>\n",
       "      <td>CartScreenAppear</td>\n",
       "      <td>6217807653094995999</td>\n",
       "      <td>1564055323</td>\n",
       "      <td>248</td>\n",
       "    </tr>\n",
       "    <tr>\n",
       "      <th>6</th>\n",
       "      <td>OffersScreenAppear</td>\n",
       "      <td>8351860793733343758</td>\n",
       "      <td>1564066242</td>\n",
       "      <td>246</td>\n",
       "    </tr>\n",
       "    <tr>\n",
       "      <th>7</th>\n",
       "      <td>MainScreenAppear</td>\n",
       "      <td>5682100281902512875</td>\n",
       "      <td>1564085677</td>\n",
       "      <td>246</td>\n",
       "    </tr>\n",
       "    <tr>\n",
       "      <th>8</th>\n",
       "      <td>MainScreenAppear</td>\n",
       "      <td>1850981295691852772</td>\n",
       "      <td>1564086702</td>\n",
       "      <td>247</td>\n",
       "    </tr>\n",
       "    <tr>\n",
       "      <th>9</th>\n",
       "      <td>MainScreenAppear</td>\n",
       "      <td>5407636962369102641</td>\n",
       "      <td>1564112112</td>\n",
       "      <td>246</td>\n",
       "    </tr>\n",
       "  </tbody>\n",
       "</table>\n",
       "</div>"
      ],
      "text/plain": [
       "                 EventName         DeviceIDHash  EventTimestamp  ExpId\n",
       "0         MainScreenAppear  4575588528974610257      1564029816    246\n",
       "1         MainScreenAppear  7416695313311560658      1564053102    246\n",
       "2  PaymentScreenSuccessful  3518123091307005509      1564054127    248\n",
       "3         CartScreenAppear  3518123091307005509      1564054127    248\n",
       "4  PaymentScreenSuccessful  6217807653094995999      1564055322    248\n",
       "5         CartScreenAppear  6217807653094995999      1564055323    248\n",
       "6       OffersScreenAppear  8351860793733343758      1564066242    246\n",
       "7         MainScreenAppear  5682100281902512875      1564085677    246\n",
       "8         MainScreenAppear  1850981295691852772      1564086702    247\n",
       "9         MainScreenAppear  5407636962369102641      1564112112    246"
      ]
     },
     "metadata": {},
     "output_type": "display_data"
    },
    {
     "data": {
      "text/markdown": [
       "**Количество явных дубликатов:** 413"
      ],
      "text/plain": [
       "<IPython.core.display.Markdown object>"
      ]
     },
     "metadata": {},
     "output_type": "display_data"
    },
    {
     "data": {
      "text/markdown": [
       "% явных дубликатов: **0.17 %**"
      ],
      "text/plain": [
       "<IPython.core.display.Markdown object>"
      ]
     },
     "metadata": {},
     "output_type": "display_data"
    },
    {
     "data": {
      "text/markdown": [
       "**Пропусков в logs нет**"
      ],
      "text/plain": [
       "<IPython.core.display.Markdown object>"
      ]
     },
     "metadata": {},
     "output_type": "display_data"
    }
   ],
   "source": [
    "inf_df(logs)"
   ]
  },
  {
   "cell_type": "markdown",
   "metadata": {},
   "source": [
    "С помощью функции column_info выведем информацию о содержании столбцов"
   ]
  },
  {
   "cell_type": "code",
   "execution_count": 10,
   "metadata": {},
   "outputs": [
    {
     "data": {
      "text/markdown": [
       "**Список уникальных значений столбца EventName**"
      ],
      "text/plain": [
       "<IPython.core.display.Markdown object>"
      ]
     },
     "metadata": {},
     "output_type": "display_data"
    },
    {
     "data": {
      "text/plain": [
       "array(['MainScreenAppear', 'PaymentScreenSuccessful', 'CartScreenAppear',\n",
       "       'OffersScreenAppear', 'Tutorial'], dtype=object)"
      ]
     },
     "metadata": {},
     "output_type": "display_data"
    },
    {
     "data": {
      "text/markdown": [
       "**Описание числовых столбцов logs**"
      ],
      "text/plain": [
       "<IPython.core.display.Markdown object>"
      ]
     },
     "metadata": {},
     "output_type": "display_data"
    },
    {
     "data": {
      "text/html": [
       "<div>\n",
       "<style scoped>\n",
       "    .dataframe tbody tr th:only-of-type {\n",
       "        vertical-align: middle;\n",
       "    }\n",
       "\n",
       "    .dataframe tbody tr th {\n",
       "        vertical-align: top;\n",
       "    }\n",
       "\n",
       "    .dataframe thead th {\n",
       "        text-align: right;\n",
       "    }\n",
       "</style>\n",
       "<table border=\"1\" class=\"dataframe\">\n",
       "  <thead>\n",
       "    <tr style=\"text-align: right;\">\n",
       "      <th></th>\n",
       "      <th>DeviceIDHash</th>\n",
       "      <th>EventTimestamp</th>\n",
       "      <th>ExpId</th>\n",
       "    </tr>\n",
       "  </thead>\n",
       "  <tbody>\n",
       "    <tr>\n",
       "      <th>count</th>\n",
       "      <td>244,126.00</td>\n",
       "      <td>244,126.00</td>\n",
       "      <td>244,126.00</td>\n",
       "    </tr>\n",
       "    <tr>\n",
       "      <th>mean</th>\n",
       "      <td>4,627,568,124,591,259,648.00</td>\n",
       "      <td>1,564,913,915.84</td>\n",
       "      <td>247.02</td>\n",
       "    </tr>\n",
       "    <tr>\n",
       "      <th>std</th>\n",
       "      <td>2,642,424,998,963,961,856.00</td>\n",
       "      <td>177,134.32</td>\n",
       "      <td>0.82</td>\n",
       "    </tr>\n",
       "    <tr>\n",
       "      <th>min</th>\n",
       "      <td>6,888,746,892,508,752.00</td>\n",
       "      <td>1,564,029,816.00</td>\n",
       "      <td>246.00</td>\n",
       "    </tr>\n",
       "    <tr>\n",
       "      <th>25%</th>\n",
       "      <td>2,372,212,476,992,240,640.00</td>\n",
       "      <td>1,564,756,580.25</td>\n",
       "      <td>246.00</td>\n",
       "    </tr>\n",
       "    <tr>\n",
       "      <th>50%</th>\n",
       "      <td>4,623,191,541,214,045,184.00</td>\n",
       "      <td>1,564,919,395.00</td>\n",
       "      <td>247.00</td>\n",
       "    </tr>\n",
       "    <tr>\n",
       "      <th>75%</th>\n",
       "      <td>6,932,517,045,703,054,336.00</td>\n",
       "      <td>1,565,074,511.00</td>\n",
       "      <td>248.00</td>\n",
       "    </tr>\n",
       "    <tr>\n",
       "      <th>max</th>\n",
       "      <td>9,222,603,179,720,523,776.00</td>\n",
       "      <td>1,565,212,517.00</td>\n",
       "      <td>248.00</td>\n",
       "    </tr>\n",
       "  </tbody>\n",
       "</table>\n",
       "</div>"
      ],
      "text/plain": [
       "                      DeviceIDHash   EventTimestamp      ExpId\n",
       "count                   244,126.00       244,126.00 244,126.00\n",
       "mean  4,627,568,124,591,259,648.00 1,564,913,915.84     247.02\n",
       "std   2,642,424,998,963,961,856.00       177,134.32       0.82\n",
       "min       6,888,746,892,508,752.00 1,564,029,816.00     246.00\n",
       "25%   2,372,212,476,992,240,640.00 1,564,756,580.25     246.00\n",
       "50%   4,623,191,541,214,045,184.00 1,564,919,395.00     247.00\n",
       "75%   6,932,517,045,703,054,336.00 1,565,074,511.00     248.00\n",
       "max   9,222,603,179,720,523,776.00 1,565,212,517.00     248.00"
      ]
     },
     "metadata": {},
     "output_type": "display_data"
    },
    {
     "data": {
      "image/png": "[encoded data removed]",
      "text/plain": [
       "<Figure size 1200x1000 with 6 Axes>"
      ]
     },
     "metadata": {},
     "output_type": "display_data"
    }
   ],
   "source": [
    "column_info(logs)"
   ]
  },
  {
   "cell_type": "markdown",
   "metadata": {},
   "source": [
    "### **Вывод** \n",
    "- Пропусков значений нет\n",
    "- Дубликатов строк - 0.17%, их можно удалить \n",
    "\n",
    "**Содержание** \n",
    "- **EventName** - 5 событий 'MainScreenAppear', 'PaymentScreenSuccessful', 'CartScreenAppear', 'OffersScreenAppear', 'Tutorial', неявных дубликатов нет, для удобства чтения графиков можно перевести названия на русский \n",
    "- **ExpId** - 3 группы под номерами 246, 247, 248 - что соответствует входным данным, для удобства чтения графиков и таблиц можно ввести дополнительно наименования А1 и А2 для контрольных 246 и 247 группы и В для 248 группы\n",
    "- **EventTimestamp** - информация о дате и времени событии, для удобства на ее основании нужно добавить отдельно дату-время в формате date и информацию о дате без времени \n",
    "\n",
    "**Стиль наименований**\n",
    "- названия столбцов необходимо перевести в нижний регистр \n",
    "\n",
    "**Типы данных** \n",
    "- соответствуют содержанию"
   ]
  },
  {
   "cell_type": "markdown",
   "metadata": {},
   "source": [
    "## **Предобработка**\n",
    "По выводам, сделанным в процессе знакомства с данными, произведем их предобработку."
   ]
  },
  {
   "cell_type": "markdown",
   "metadata": {},
   "source": [
    "### Наименования столбцов и новые данные\n",
    "\n",
    "\n",
    "Удалим дубликаты \n",
    "\n",
    "Изменим названия столбцов. \n",
    "\n",
    "Добавим столбец даты и времени, а также отдельный столбец дат;"
   ]
  },
  {
   "cell_type": "code",
   "execution_count": 11,
   "metadata": {},
   "outputs": [
    {
     "name": "stdout",
     "output_type": "stream",
     "text": [
      "Кол-во оставшихся дубликатов = 0\n"
     ]
    }
   ],
   "source": [
    "# удалим дубликаты\n",
    "logs = logs.drop_duplicates().reset_index(drop=True)\n",
    "print('Кол-во оставшихся дубликатов =', logs.duplicated().sum())"
   ]
  },
  {
   "cell_type": "code",
   "execution_count": 12,
   "metadata": {},
   "outputs": [
    {
     "data": {
      "text/html": [
       "<div>\n",
       "<style scoped>\n",
       "    .dataframe tbody tr th:only-of-type {\n",
       "        vertical-align: middle;\n",
       "    }\n",
       "\n",
       "    .dataframe tbody tr th {\n",
       "        vertical-align: top;\n",
       "    }\n",
       "\n",
       "    .dataframe thead th {\n",
       "        text-align: right;\n",
       "    }\n",
       "</style>\n",
       "<table border=\"1\" class=\"dataframe\">\n",
       "  <thead>\n",
       "    <tr style=\"text-align: right;\">\n",
       "      <th></th>\n",
       "      <th>event</th>\n",
       "      <th>user_id</th>\n",
       "      <th>timestamp</th>\n",
       "      <th>group_id</th>\n",
       "      <th>event_time</th>\n",
       "      <th>date</th>\n",
       "    </tr>\n",
       "  </thead>\n",
       "  <tbody>\n",
       "    <tr>\n",
       "      <th>0</th>\n",
       "      <td>MainScreenAppear</td>\n",
       "      <td>4575588528974610257</td>\n",
       "      <td>1564029816</td>\n",
       "      <td>246</td>\n",
       "      <td>2019-07-25 04:43:36</td>\n",
       "      <td>2019-07-25</td>\n",
       "    </tr>\n",
       "    <tr>\n",
       "      <th>1</th>\n",
       "      <td>MainScreenAppear</td>\n",
       "      <td>7416695313311560658</td>\n",
       "      <td>1564053102</td>\n",
       "      <td>246</td>\n",
       "      <td>2019-07-25 11:11:42</td>\n",
       "      <td>2019-07-25</td>\n",
       "    </tr>\n",
       "    <tr>\n",
       "      <th>2</th>\n",
       "      <td>PaymentScreenSuccessful</td>\n",
       "      <td>3518123091307005509</td>\n",
       "      <td>1564054127</td>\n",
       "      <td>248</td>\n",
       "      <td>2019-07-25 11:28:47</td>\n",
       "      <td>2019-07-25</td>\n",
       "    </tr>\n",
       "    <tr>\n",
       "      <th>3</th>\n",
       "      <td>CartScreenAppear</td>\n",
       "      <td>3518123091307005509</td>\n",
       "      <td>1564054127</td>\n",
       "      <td>248</td>\n",
       "      <td>2019-07-25 11:28:47</td>\n",
       "      <td>2019-07-25</td>\n",
       "    </tr>\n",
       "    <tr>\n",
       "      <th>4</th>\n",
       "      <td>PaymentScreenSuccessful</td>\n",
       "      <td>6217807653094995999</td>\n",
       "      <td>1564055322</td>\n",
       "      <td>248</td>\n",
       "      <td>2019-07-25 11:48:42</td>\n",
       "      <td>2019-07-25</td>\n",
       "    </tr>\n",
       "  </tbody>\n",
       "</table>\n",
       "</div>"
      ],
      "text/plain": [
       "                     event              user_id   timestamp  group_id  \\\n",
       "0         MainScreenAppear  4575588528974610257  1564029816       246   \n",
       "1         MainScreenAppear  7416695313311560658  1564053102       246   \n",
       "2  PaymentScreenSuccessful  3518123091307005509  1564054127       248   \n",
       "3         CartScreenAppear  3518123091307005509  1564054127       248   \n",
       "4  PaymentScreenSuccessful  6217807653094995999  1564055322       248   \n",
       "\n",
       "           event_time       date  \n",
       "0 2019-07-25 04:43:36 2019-07-25  \n",
       "1 2019-07-25 11:11:42 2019-07-25  \n",
       "2 2019-07-25 11:28:47 2019-07-25  \n",
       "3 2019-07-25 11:28:47 2019-07-25  \n",
       "4 2019-07-25 11:48:42 2019-07-25  "
      ]
     },
     "execution_count": 12,
     "metadata": {},
     "output_type": "execute_result"
    }
   ],
   "source": [
    "# изменим наименования столбцов orders\n",
    "logs.columns = [\"event\", \"user_id\", \"timestamp\", \"group_id\"]\n",
    "\n",
    "# определим дату и время события\n",
    "logs[\"event_time\"] = pd.to_datetime(\n",
    "    logs[\"timestamp\"], errors=\"ignore\", unit=\"s\"\n",
    ")  \n",
    "\n",
    "# определим отдельно дату события\n",
    "logs[\"date\"] = logs[\"event_time\"].dt.floor(\"d\")  \n",
    "\n",
    "# оценим изменения\n",
    "logs.head()"
   ]
  },
  {
   "cell_type": "markdown",
   "metadata": {},
   "source": [
    "### Проверка данных на соответствие нормам А/B теста\n",
    "\n",
    "На всякий случай проверим нет ли ошибки в данных и пересечения пользователей в группах, когда они попали одновременно в несколько групп тестирования"
   ]
  },
  {
   "cell_type": "code",
   "execution_count": 13,
   "metadata": {},
   "outputs": [
    {
     "data": {
      "text/markdown": [
       "Пользователей, попавших в несколько групп одновременно -                 **0**"
      ],
      "text/plain": [
       "<IPython.core.display.Markdown object>"
      ]
     },
     "metadata": {},
     "output_type": "display_data"
    }
   ],
   "source": [
    "# соберем таблицу с группировкой по user_id и посчитаем количество групп пользователя\n",
    "user_dub = logs.groupby(\"user_id\")[\"group_id\"].nunique().reset_index()\n",
    "\n",
    "# выведем количество пользователей, у которых число групп больше 1\n",
    "display(\n",
    "    Markdown(\n",
    "        f'Пользователей, попавших в несколько групп одновременно - \\\n",
    "                **{user_dub[user_dub[\"group_id\"] != 1][\"user_id\"].count()}**'\n",
    "    )\n",
    ")"
   ]
  },
  {
   "cell_type": "markdown",
   "metadata": {},
   "source": [
    "### Именование событий (event)\n",
    "Именуем события для удобства чтения графиков и таблиц"
   ]
  },
  {
   "cell_type": "code",
   "execution_count": 14,
   "metadata": {},
   "outputs": [],
   "source": [
    "# создадим словарь\n",
    "dict1 = {\n",
    "    \"MainScreenAppear\": \"Главный экран\",\n",
    "    \"PaymentScreenSuccessful\": \"Экран оплаты\",\n",
    "    \"CartScreenAppear\": \"Экран заказа\",\n",
    "    \"OffersScreenAppear\": \"Экран офера\",\n",
    "    \"Tutorial\": \"Обучение\",\n",
    "}\n",
    "\n",
    "# заполним новый столбец по словарю\n",
    "logs[\"event_name\"] = logs[\"event\"].map(dict1)"
   ]
  },
  {
   "cell_type": "markdown",
   "metadata": {},
   "source": [
    "### Именование групп\n",
    "\n",
    "Именуем группы для удобства чтения графиков и таблиц"
   ]
  },
  {
   "cell_type": "code",
   "execution_count": 15,
   "metadata": {},
   "outputs": [],
   "source": [
    "# создадим словарь\n",
    "dict2 = {\n",
    "    246: \"A1\",\n",
    "    247: \"A2\",\n",
    "    248: \"B\",\n",
    "}\n",
    "\n",
    "# заполним новый столбец по словарю\n",
    "logs[\"group_name\"] = logs[\"group_id\"].map(dict2)"
   ]
  },
  {
   "cell_type": "markdown",
   "metadata": {},
   "source": [
    "### **Вывод**\n",
    "Оценим изменения"
   ]
  },
  {
   "cell_type": "code",
   "execution_count": 16,
   "metadata": {},
   "outputs": [
    {
     "name": "stdout",
     "output_type": "stream",
     "text": [
      "<class 'pandas.core.frame.DataFrame'>\n",
      "RangeIndex: 243713 entries, 0 to 243712\n",
      "Data columns (total 8 columns):\n",
      " #   Column      Non-Null Count   Dtype         \n",
      "---  ------      --------------   -----         \n",
      " 0   event       243713 non-null  object        \n",
      " 1   user_id     243713 non-null  int64         \n",
      " 2   timestamp   243713 non-null  int64         \n",
      " 3   group_id    243713 non-null  int64         \n",
      " 4   event_time  243713 non-null  datetime64[ns]\n",
      " 5   date        243713 non-null  datetime64[ns]\n",
      " 6   event_name  243713 non-null  object        \n",
      " 7   group_name  243713 non-null  object        \n",
      "dtypes: datetime64[ns](2), int64(3), object(3)\n",
      "memory usage: 14.9+ MB\n"
     ]
    },
    {
     "data": {
      "text/html": [
       "<div>\n",
       "<style scoped>\n",
       "    .dataframe tbody tr th:only-of-type {\n",
       "        vertical-align: middle;\n",
       "    }\n",
       "\n",
       "    .dataframe tbody tr th {\n",
       "        vertical-align: top;\n",
       "    }\n",
       "\n",
       "    .dataframe thead th {\n",
       "        text-align: right;\n",
       "    }\n",
       "</style>\n",
       "<table border=\"1\" class=\"dataframe\">\n",
       "  <thead>\n",
       "    <tr style=\"text-align: right;\">\n",
       "      <th></th>\n",
       "      <th>event</th>\n",
       "      <th>user_id</th>\n",
       "      <th>timestamp</th>\n",
       "      <th>group_id</th>\n",
       "      <th>event_time</th>\n",
       "      <th>date</th>\n",
       "      <th>event_name</th>\n",
       "      <th>group_name</th>\n",
       "    </tr>\n",
       "  </thead>\n",
       "  <tbody>\n",
       "    <tr>\n",
       "      <th>0</th>\n",
       "      <td>MainScreenAppear</td>\n",
       "      <td>4575588528974610257</td>\n",
       "      <td>1564029816</td>\n",
       "      <td>246</td>\n",
       "      <td>2019-07-25 04:43:36</td>\n",
       "      <td>2019-07-25</td>\n",
       "      <td>Главный экран</td>\n",
       "      <td>A1</td>\n",
       "    </tr>\n",
       "    <tr>\n",
       "      <th>1</th>\n",
       "      <td>MainScreenAppear</td>\n",
       "      <td>7416695313311560658</td>\n",
       "      <td>1564053102</td>\n",
       "      <td>246</td>\n",
       "      <td>2019-07-25 11:11:42</td>\n",
       "      <td>2019-07-25</td>\n",
       "      <td>Главный экран</td>\n",
       "      <td>A1</td>\n",
       "    </tr>\n",
       "    <tr>\n",
       "      <th>2</th>\n",
       "      <td>PaymentScreenSuccessful</td>\n",
       "      <td>3518123091307005509</td>\n",
       "      <td>1564054127</td>\n",
       "      <td>248</td>\n",
       "      <td>2019-07-25 11:28:47</td>\n",
       "      <td>2019-07-25</td>\n",
       "      <td>Экран оплаты</td>\n",
       "      <td>B</td>\n",
       "    </tr>\n",
       "    <tr>\n",
       "      <th>3</th>\n",
       "      <td>CartScreenAppear</td>\n",
       "      <td>3518123091307005509</td>\n",
       "      <td>1564054127</td>\n",
       "      <td>248</td>\n",
       "      <td>2019-07-25 11:28:47</td>\n",
       "      <td>2019-07-25</td>\n",
       "      <td>Экран заказа</td>\n",
       "      <td>B</td>\n",
       "    </tr>\n",
       "    <tr>\n",
       "      <th>4</th>\n",
       "      <td>PaymentScreenSuccessful</td>\n",
       "      <td>6217807653094995999</td>\n",
       "      <td>1564055322</td>\n",
       "      <td>248</td>\n",
       "      <td>2019-07-25 11:48:42</td>\n",
       "      <td>2019-07-25</td>\n",
       "      <td>Экран оплаты</td>\n",
       "      <td>B</td>\n",
       "    </tr>\n",
       "  </tbody>\n",
       "</table>\n",
       "</div>"
      ],
      "text/plain": [
       "                     event              user_id   timestamp  group_id  \\\n",
       "0         MainScreenAppear  4575588528974610257  1564029816       246   \n",
       "1         MainScreenAppear  7416695313311560658  1564053102       246   \n",
       "2  PaymentScreenSuccessful  3518123091307005509  1564054127       248   \n",
       "3         CartScreenAppear  3518123091307005509  1564054127       248   \n",
       "4  PaymentScreenSuccessful  6217807653094995999  1564055322       248   \n",
       "\n",
       "           event_time       date     event_name group_name  \n",
       "0 2019-07-25 04:43:36 2019-07-25  Главный экран         A1  \n",
       "1 2019-07-25 11:11:42 2019-07-25  Главный экран         A1  \n",
       "2 2019-07-25 11:28:47 2019-07-25   Экран оплаты          B  \n",
       "3 2019-07-25 11:28:47 2019-07-25   Экран заказа          B  \n",
       "4 2019-07-25 11:48:42 2019-07-25   Экран оплаты          B  "
      ]
     },
     "execution_count": 16,
     "metadata": {},
     "output_type": "execute_result"
    }
   ],
   "source": [
    "# оценим изменения\n",
    "logs.info()\n",
    "logs.head()"
   ]
  },
  {
   "cell_type": "markdown",
   "metadata": {},
   "source": [
    "- Пропусков значений нет\n",
    "- Дубликатов строк нет (удалено 0.17% от изначальной величины датафрейма)\n",
    "\n",
    "**Стиль наименований**\n",
    "- столбцы переименованы в удобном виде \n",
    "\n",
    "**Содержание** \n",
    "- **user_id** - информация об идентификаторе пользователя\n",
    "- **event** - 5 событий 'MainScreenAppear', 'PaymentScreenSuccessful', 'CartScreenAppear', 'OffersScreenAppear', 'Tutorial', неявных дубликатов нет, \n",
    "- **event_name** - для удобства чтения введен столбец с наименованием событий на языке отчета - 5 событий 'Главный экран', 'Экран оплаты', 'Экран заказа', 'Экран офера', 'Обучение'\n",
    "- **group_id** - 3 группы под номерами 246, 247, 248 - что соответствует входным данным, \n",
    "- **group_name** - для удобства чтения графиков и таблиц введены дополнительно наименования А1 и А2 для контрольных 246 и 247 группы и В для 248 группы\n",
    "- **timestamp** - информация о дате и времени событии, \n",
    "- **event_time** - для удобства обработки информации добавлен столбец с датой и временем события в формате datetime\n",
    "- **date** - для удобства обработки информации добавлен столбец с датой события без ууказания времени \n",
    "\n",
    "\n",
    "**Типы данных** \n",
    "- соответствуют содержанию"
   ]
  },
  {
   "cell_type": "markdown",
   "metadata": {},
   "source": [
    "## **Исследовательский анализ данных**\n",
    "\n",
    "На данном этапе необходимо изучить и проверить следующие данные: \n",
    "\n",
    "- Сколько всего событий в логе\n",
    "- Сколько всего пользователей в логе\n",
    "- Сколько в среднем событий приходится на пользователя\n",
    "- Данными за какой период мы располагаем. Найти максимальную и минимальную дату. Построить гистограмму по дате и времени. Определить можно ли быть уверенным, что у нас одинаково полные данные за весь период. Определить, с какого момента данные полные и отбросить более старые. Определить данными за какой период времени мы располагаем на самом деле\n",
    "- Много ли событий и пользователей мы потеряли, отбросив старые данные\n",
    "- Проверить, что у нас есть пользователи из всех трёх экспериментальных групп.\n",
    "\n",
    "###  Количество событий"
   ]
  },
  {
   "cell_type": "code",
   "execution_count": 17,
   "metadata": {},
   "outputs": [
    {
     "data": {
      "text/markdown": [
       "**Всего событий  -** 243713"
      ],
      "text/plain": [
       "<IPython.core.display.Markdown object>"
      ]
     },
     "metadata": {},
     "output_type": "display_data"
    },
    {
     "data": {
      "text/markdown": [
       "**Уникальные события  -** 5 это  ['Главный экран' 'Экран оплаты' 'Экран заказа' 'Экран офера' 'Обучение']"
      ],
      "text/plain": [
       "<IPython.core.display.Markdown object>"
      ]
     },
     "metadata": {},
     "output_type": "display_data"
    }
   ],
   "source": [
    "display(Markdown(f\"**Всего событий  -** {logs['event_name'].count()}\"))\n",
    "display(Markdown(f\"**Уникальные события  -** {logs['event_name'].nunique()} это  {logs['event_name'].unique()}\"))"
   ]
  },
  {
   "cell_type": "markdown",
   "metadata": {},
   "source": [
    "###  Количество пользователей"
   ]
  },
  {
   "cell_type": "code",
   "execution_count": 18,
   "metadata": {},
   "outputs": [
    {
     "data": {
      "text/markdown": [
       "**Количество пользователей -** 7551"
      ],
      "text/plain": [
       "<IPython.core.display.Markdown object>"
      ]
     },
     "metadata": {},
     "output_type": "display_data"
    }
   ],
   "source": [
    "display(Markdown(f\"**Количество пользователей -** {logs['user_id'].nunique()}\"))"
   ]
  },
  {
   "cell_type": "markdown",
   "metadata": {},
   "source": [
    "###  Среднее количество событий на одного пользователя\n"
   ]
  },
  {
   "cell_type": "code",
   "execution_count": 19,
   "metadata": {},
   "outputs": [
    {
     "data": {
      "text/html": [
       "<div>\n",
       "<style scoped>\n",
       "    .dataframe tbody tr th:only-of-type {\n",
       "        vertical-align: middle;\n",
       "    }\n",
       "\n",
       "    .dataframe tbody tr th {\n",
       "        vertical-align: top;\n",
       "    }\n",
       "\n",
       "    .dataframe thead th {\n",
       "        text-align: right;\n",
       "    }\n",
       "</style>\n",
       "<table border=\"1\" class=\"dataframe\">\n",
       "  <thead>\n",
       "    <tr style=\"text-align: right;\">\n",
       "      <th></th>\n",
       "      <th>event_name</th>\n",
       "    </tr>\n",
       "  </thead>\n",
       "  <tbody>\n",
       "    <tr>\n",
       "      <th>count</th>\n",
       "      <td>7,551.00</td>\n",
       "    </tr>\n",
       "    <tr>\n",
       "      <th>mean</th>\n",
       "      <td>32.28</td>\n",
       "    </tr>\n",
       "    <tr>\n",
       "      <th>std</th>\n",
       "      <td>65.15</td>\n",
       "    </tr>\n",
       "    <tr>\n",
       "      <th>min</th>\n",
       "      <td>1.00</td>\n",
       "    </tr>\n",
       "    <tr>\n",
       "      <th>50%</th>\n",
       "      <td>20.00</td>\n",
       "    </tr>\n",
       "    <tr>\n",
       "      <th>95%</th>\n",
       "      <td>89.00</td>\n",
       "    </tr>\n",
       "    <tr>\n",
       "      <th>99%</th>\n",
       "      <td>200.50</td>\n",
       "    </tr>\n",
       "    <tr>\n",
       "      <th>max</th>\n",
       "      <td>2,307.00</td>\n",
       "    </tr>\n",
       "  </tbody>\n",
       "</table>\n",
       "</div>"
      ],
      "text/plain": [
       "       event_name\n",
       "count    7,551.00\n",
       "mean        32.28\n",
       "std         65.15\n",
       "min          1.00\n",
       "50%         20.00\n",
       "95%         89.00\n",
       "99%        200.50\n",
       "max      2,307.00"
      ]
     },
     "execution_count": 19,
     "metadata": {},
     "output_type": "execute_result"
    }
   ],
   "source": [
    "#соберем сводную таблицу по user_id, подсчитав количество событий для обозначенной группировки \n",
    "events = logs.pivot_table(index='user_id', values='event_name', aggfunc='count')\n",
    "events.describe(percentiles=[0.95, 0.99])"
   ]
  },
  {
   "cell_type": "markdown",
   "metadata": {},
   "source": [
    "**В среднем - 32 события на пользователя**, \n",
    "\n",
    "медиана - 20 и даже по описательной статистике мы видим выбросы.\n",
    "Посмотрим на гистограмму распределения количества событий на пользователя"
   ]
  },
  {
   "cell_type": "code",
   "execution_count": 20,
   "metadata": {},
   "outputs": [
    {
     "data": {
      "image/png": "[encoded data removed]"
     },
     "metadata": {},
     "output_type": "display_data"
    }
   ],
   "source": [
    "fig = px.histogram(events['event_name'], nbins=200)\n",
    "fig.update_layout(title_text=\"Гистограмма распределения количества событий на пользователя\")\n",
    "\n",
    "fig.update_traces( textsrc=\"outside\")\n",
    "fig.show()"
   ]
  },
  {
   "cell_type": "markdown",
   "metadata": {},
   "source": [
    "Выбросы очевидны, посмотрим на распределение событий по пользователям, участвовавшим не более чем в 88 событиях (95% персентиль по описательной статистике)."
   ]
  },
  {
   "cell_type": "code",
   "execution_count": 21,
   "metadata": {},
   "outputs": [
    {
     "data": {
      "image/png": "[encoded data removed]"
     },
     "metadata": {},
     "output_type": "display_data"
    }
   ],
   "source": [
    "fig = px.histogram(events.query('event_name < 88')['event_name'], nbins=100)\n",
    "fig.update_layout(title_text=\"Гистограмма распределения количества событий на пользователя\")\n",
    "\n",
    "fig.update_traces( textsrc=\"outside\")\n",
    "fig.show()"
   ]
  },
  {
   "cell_type": "markdown",
   "metadata": {},
   "source": [
    "Здесь нас уже встречает нормальное распределение. Так как мы не удаляли выбросы по обозначенному параметру, в оценке среднего количества событий на пользователя **лучше ориентироваться на медианное значение - 20 событий на пользователя**"
   ]
  },
  {
   "cell_type": "markdown",
   "metadata": {},
   "source": [
    "###  Определение временного промежутка анализа"
   ]
  },
  {
   "cell_type": "code",
   "execution_count": 22,
   "metadata": {},
   "outputs": [
    {
     "data": {
      "text/markdown": [
       "**Первый день наличия данных в логе -** 2019-07-25 00:00:00"
      ],
      "text/plain": [
       "<IPython.core.display.Markdown object>"
      ]
     },
     "metadata": {},
     "output_type": "display_data"
    },
    {
     "data": {
      "text/markdown": [
       "**Последний день наличия данных в логе -** 2019-08-07 00:00:00"
      ],
      "text/plain": [
       "<IPython.core.display.Markdown object>"
      ]
     },
     "metadata": {},
     "output_type": "display_data"
    }
   ],
   "source": [
    "display(Markdown(f\"**Первый день наличия данных в логе -** {logs['date'].min()}\"))\n",
    "display(Markdown(f\"**Последний день наличия данных в логе -** {logs['date'].max()}\"))"
   ]
  },
  {
   "cell_type": "markdown",
   "metadata": {},
   "source": [
    "Посмотрим на распределение данных по дням"
   ]
  },
  {
   "cell_type": "code",
   "execution_count": 23,
   "metadata": {},
   "outputs": [
    {
     "data": {
      "image/png": "[encoded data removed]"
     },
     "metadata": {},
     "output_type": "display_data"
    },
    {
     "data": {
      "text/html": [
       "<div>\n",
       "<style scoped>\n",
       "    .dataframe tbody tr th:only-of-type {\n",
       "        vertical-align: middle;\n",
       "    }\n",
       "\n",
       "    .dataframe tbody tr th {\n",
       "        vertical-align: top;\n",
       "    }\n",
       "\n",
       "    .dataframe thead th {\n",
       "        text-align: right;\n",
       "    }\n",
       "</style>\n",
       "<table border=\"1\" class=\"dataframe\">\n",
       "  <thead>\n",
       "    <tr style=\"text-align: right;\">\n",
       "      <th></th>\n",
       "      <th>Дата</th>\n",
       "      <th>Количество событий</th>\n",
       "    </tr>\n",
       "  </thead>\n",
       "  <tbody>\n",
       "    <tr>\n",
       "      <th>0</th>\n",
       "      <td>2019-07-25</td>\n",
       "      <td>9</td>\n",
       "    </tr>\n",
       "    <tr>\n",
       "      <th>1</th>\n",
       "      <td>2019-07-26</td>\n",
       "      <td>31</td>\n",
       "    </tr>\n",
       "    <tr>\n",
       "      <th>2</th>\n",
       "      <td>2019-07-27</td>\n",
       "      <td>55</td>\n",
       "    </tr>\n",
       "    <tr>\n",
       "      <th>3</th>\n",
       "      <td>2019-07-28</td>\n",
       "      <td>105</td>\n",
       "    </tr>\n",
       "    <tr>\n",
       "      <th>4</th>\n",
       "      <td>2019-07-29</td>\n",
       "      <td>184</td>\n",
       "    </tr>\n",
       "    <tr>\n",
       "      <th>5</th>\n",
       "      <td>2019-07-30</td>\n",
       "      <td>412</td>\n",
       "    </tr>\n",
       "    <tr>\n",
       "      <th>6</th>\n",
       "      <td>2019-07-31</td>\n",
       "      <td>2030</td>\n",
       "    </tr>\n",
       "    <tr>\n",
       "      <th>7</th>\n",
       "      <td>2019-08-01</td>\n",
       "      <td>36141</td>\n",
       "    </tr>\n",
       "    <tr>\n",
       "      <th>8</th>\n",
       "      <td>2019-08-02</td>\n",
       "      <td>35554</td>\n",
       "    </tr>\n",
       "    <tr>\n",
       "      <th>9</th>\n",
       "      <td>2019-08-03</td>\n",
       "      <td>33282</td>\n",
       "    </tr>\n",
       "    <tr>\n",
       "      <th>10</th>\n",
       "      <td>2019-08-04</td>\n",
       "      <td>32968</td>\n",
       "    </tr>\n",
       "    <tr>\n",
       "      <th>11</th>\n",
       "      <td>2019-08-05</td>\n",
       "      <td>36058</td>\n",
       "    </tr>\n",
       "    <tr>\n",
       "      <th>12</th>\n",
       "      <td>2019-08-06</td>\n",
       "      <td>35788</td>\n",
       "    </tr>\n",
       "    <tr>\n",
       "      <th>13</th>\n",
       "      <td>2019-08-07</td>\n",
       "      <td>31096</td>\n",
       "    </tr>\n",
       "  </tbody>\n",
       "</table>\n",
       "</div>"
      ],
      "text/plain": [
       "         Дата  Количество событий\n",
       "0  2019-07-25                   9\n",
       "1  2019-07-26                  31\n",
       "2  2019-07-27                  55\n",
       "3  2019-07-28                 105\n",
       "4  2019-07-29                 184\n",
       "5  2019-07-30                 412\n",
       "6  2019-07-31                2030\n",
       "7  2019-08-01               36141\n",
       "8  2019-08-02               35554\n",
       "9  2019-08-03               33282\n",
       "10 2019-08-04               32968\n",
       "11 2019-08-05               36058\n",
       "12 2019-08-06               35788\n",
       "13 2019-08-07               31096"
      ]
     },
     "execution_count": 23,
     "metadata": {},
     "output_type": "execute_result"
    }
   ],
   "source": [
    "#соберем таблицу, сгруппированную по дате и количеству событий в нее\n",
    "event_by_day = logs.groupby('date').agg(event_count = ('event', 'count')).reset_index()\n",
    "event_by_day.columns=['Дата','Количество событий']\n",
    "\n",
    "# по собранным данным отрисуем распределение\n",
    "fig = px.bar(event_by_day,\n",
    "    x='Дата',\n",
    "    y='Количество событий',\n",
    "    text='Количество событий',\n",
    ")\n",
    "fig.update_layout(\n",
    "    title_text='Распределение событий по дням',\n",
    ")\n",
    "\n",
    "fig.update_traces(\n",
    "    textfont_size=10, textangle=0, textposition='outside', cliponaxis=False\n",
    ")\n",
    "fig.show()\n",
    "\n",
    "# и посмотрим на таблицу\n",
    "event_by_day"
   ]
  },
  {
   "cell_type": "markdown",
   "metadata": {},
   "source": [
    "Посмотрим на более подробное распределение данных - по часам"
   ]
  },
  {
   "cell_type": "code",
   "execution_count": 24,
   "metadata": {},
   "outputs": [
    {
     "data": {
      "image/png": "[encoded data removed]"
     },
     "metadata": {},
     "output_type": "display_data"
    }
   ],
   "source": [
    "# создадим столбец с часом события\n",
    "logs['event_hour']=logs['event_time'].dt.floor('h')  \n",
    "\n",
    "# сгруппируем по нему количество событий \n",
    "event_by_hour = logs.groupby('event_hour')['event_time'].count().reset_index()\n",
    "event_by_hour.columns=['Время','Количество событий']\n",
    "\n",
    "# отрисуем график \n",
    "fig = px.bar(event_by_hour,\n",
    "    x='Время',\n",
    "    y='Количество событий',\n",
    "    text='Количество событий',\n",
    ")\n",
    "fig.update_layout(\n",
    "    title_text='Распределение количества событий по часам',\n",
    ")\n",
    "\n",
    "fig.update_xaxes(tickangle=45,\n",
    "                 tickmode = 'linear',\n",
    "                 dtick =  86400000.0,\n",
    "                )\n",
    "fig.show()"
   ]
  },
  {
   "cell_type": "markdown",
   "metadata": {},
   "source": [
    "Уже на первом графике видно, что данные за июль - неполные. Технически в логи новых дней по некоторым пользователям могут «доезжать» события из прошлого — это может «перекашивать данные». На графике по часам мы четко видим, что за 1 августа данные полноценные и по графику совпадают с активностью в следующие дни, основная активность пользователей - в дневное время по серверу (логам).    \n",
    "Поэтому, для исследования берем данные с **01-08-2019**.  "
   ]
  },
  {
   "cell_type": "code",
   "execution_count": 25,
   "metadata": {},
   "outputs": [],
   "source": [
    "# задаем дату для обрезки данных\n",
    "date_for_clean = pd.to_datetime('2019-08-01', format = '%Y-%m-%d')\n",
    "\n",
    "# сохраняем отфильтрованные данные\n",
    "logs_clear = logs[logs['date'] >= date_for_clean]"
   ]
  },
  {
   "cell_type": "markdown",
   "metadata": {},
   "source": [
    "###  Определение потерь данных при установке временного промежутка анализа\n",
    "\n",
    "Посчитаем сколько пользователей мы потеряли отфильтровав дни с неполными данными"
   ]
  },
  {
   "cell_type": "code",
   "execution_count": 26,
   "metadata": {},
   "outputs": [
    {
     "data": {
      "text/markdown": [
       "**Изменение количества событий**:-2826 (1.2%)"
      ],
      "text/plain": [
       "<IPython.core.display.Markdown object>"
      ]
     },
     "metadata": {},
     "output_type": "display_data"
    },
    {
     "data": {
      "text/markdown": [
       "**Изменение количества пользователей:** -17 (0.2%)"
      ],
      "text/plain": [
       "<IPython.core.display.Markdown object>"
      ]
     },
     "metadata": {},
     "output_type": "display_data"
    }
   ],
   "source": [
    "# данные по изначальному датафрейму\n",
    "events_old = logs.shape[0]\n",
    "users_old = logs[\"user_id\"].nunique()\n",
    "\n",
    "# данные по отфильтрованному датафрейму\n",
    "events_new = logs_clear.shape[0]\n",
    "users_new = logs_clear[\"user_id\"].nunique()\n",
    "\n",
    "display( \n",
    "    Markdown(\n",
    "        f\"**Изменение количества событий**:{events_new - events_old} {'({:.1%})'.format((events_old - events_new)/events_old)}\"\n",
    "    )\n",
    ")\n",
    "display(\n",
    "    Markdown(\n",
    "        f\"**Изменение количества пользователей:** {users_new - users_old} {'({:.1%})'.format((users_old - users_new)/users_old)}\"\n",
    "    )\n",
    ")"
   ]
  },
  {
   "cell_type": "markdown",
   "metadata": {},
   "source": [
    "Итого, мы потеряли всего 1.2% от количества событий и 0.2% от количества пользователей. Допустимые потери, зафиксируем изменения на данном этапе"
   ]
  },
  {
   "cell_type": "code",
   "execution_count": 27,
   "metadata": {},
   "outputs": [],
   "source": [
    "logs=logs_clear"
   ]
  },
  {
   "cell_type": "markdown",
   "metadata": {},
   "source": [
    "###  Количество пользователей в каждой группе тестирования\n",
    "\n",
    "Проверим, что у нас есть пользователи из всех трёх экспериментальных групп"
   ]
  },
  {
   "cell_type": "code",
   "execution_count": 28,
   "metadata": {},
   "outputs": [
    {
     "data": {
      "text/html": [
       "<div>\n",
       "<style scoped>\n",
       "    .dataframe tbody tr th:only-of-type {\n",
       "        vertical-align: middle;\n",
       "    }\n",
       "\n",
       "    .dataframe tbody tr th {\n",
       "        vertical-align: top;\n",
       "    }\n",
       "\n",
       "    .dataframe thead th {\n",
       "        text-align: right;\n",
       "    }\n",
       "</style>\n",
       "<table border=\"1\" class=\"dataframe\">\n",
       "  <thead>\n",
       "    <tr style=\"text-align: right;\">\n",
       "      <th></th>\n",
       "      <th>Группа</th>\n",
       "      <th>Количество пользователей</th>\n",
       "    </tr>\n",
       "  </thead>\n",
       "  <tbody>\n",
       "    <tr>\n",
       "      <th>0</th>\n",
       "      <td>A1</td>\n",
       "      <td>2484</td>\n",
       "    </tr>\n",
       "    <tr>\n",
       "      <th>1</th>\n",
       "      <td>A2</td>\n",
       "      <td>2513</td>\n",
       "    </tr>\n",
       "    <tr>\n",
       "      <th>2</th>\n",
       "      <td>B</td>\n",
       "      <td>2537</td>\n",
       "    </tr>\n",
       "  </tbody>\n",
       "</table>\n",
       "</div>"
      ],
      "text/plain": [
       "  Группа  Количество пользователей\n",
       "0     A1                      2484\n",
       "1     A2                      2513\n",
       "2      B                      2537"
      ]
     },
     "execution_count": 28,
     "metadata": {},
     "output_type": "execute_result"
    }
   ],
   "source": [
    "users_by_group = logs.groupby(\"group_name\")[\"user_id\"].nunique()\n",
    "users_by_group_table = users_by_group.to_frame().reset_index().rename(\n",
    "    columns={\"group_name\": \"Группа\", \"user_id\": \"Количество пользователей\"}\n",
    ")\n",
    "users_by_group_table"
   ]
  },
  {
   "cell_type": "markdown",
   "metadata": {},
   "source": [
    "Все отлично, в каждой экспериментально группе есть пользователи"
   ]
  },
  {
   "cell_type": "markdown",
   "metadata": {},
   "source": [
    "###  **Вывод**\n",
    "\n",
    "- Всего событий - 243713 Уникальных событий - 5 это ('Главный экран', 'Экран оплаты', 'Экран заказа','Экран офера','Обучение')\n",
    "- Всего пользователей в логе - 7551\n",
    "- В среднем событий  на пользователя - 32, с учетом выбросов лучше ориентироваться на медианное значение - 20 событий на пользователя\n",
    "- События в логах за период - 2019-07-25 по 2019-08-07. Но полные данные только с 1 августа\n",
    "- При удалении неполных данных мы потеряли 1.2% событий и 0.2% пользователей\n",
    "- Убедились что у нас есть пользователи из всех трех групп"
   ]
  },
  {
   "cell_type": "markdown",
   "metadata": {},
   "source": [
    "## Изучение воронки событий\n",
    "\n",
    "На данном этапе нам необходимо:\n",
    "- Посмотреть какие события есть в логах, как часто они встречаются. Отсортировать события по частоте.\n",
    "- Посчитать, сколько пользователей совершали каждое из этих событий. Отсортировать события по числу пользователей. Посчитать долю пользователей, которые хоть раз совершали событие.\n",
    "- Предположить, в каком порядке происходят события. Все ли они выстраиваются в последовательную цепочку? \n",
    "- По воронке событий посчитать, какая доля пользователей проходит на следующий шаг воронки (от числа пользователей на предыдущем). \n",
    "- Определить на каком шаге теряем больше всего пользователей?\n",
    "- Определить какая доля пользователей доходит от первого события до оплаты?"
   ]
  },
  {
   "cell_type": "markdown",
   "metadata": {},
   "source": [
    "###  Анализ всех событий и их частоты"
   ]
  },
  {
   "cell_type": "code",
   "execution_count": 29,
   "metadata": {},
   "outputs": [
    {
     "data": {
      "image/png": "[encoded data removed]"
     },
     "metadata": {},
     "output_type": "display_data"
    },
    {
     "data": {
      "text/html": [
       "<div>\n",
       "<style scoped>\n",
       "    .dataframe tbody tr th:only-of-type {\n",
       "        vertical-align: middle;\n",
       "    }\n",
       "\n",
       "    .dataframe tbody tr th {\n",
       "        vertical-align: top;\n",
       "    }\n",
       "\n",
       "    .dataframe thead th {\n",
       "        text-align: right;\n",
       "    }\n",
       "</style>\n",
       "<table border=\"1\" class=\"dataframe\">\n",
       "  <thead>\n",
       "    <tr style=\"text-align: right;\">\n",
       "      <th></th>\n",
       "      <th>Событие</th>\n",
       "      <th>Количество</th>\n",
       "    </tr>\n",
       "  </thead>\n",
       "  <tbody>\n",
       "    <tr>\n",
       "      <th>0</th>\n",
       "      <td>Главный экран</td>\n",
       "      <td>117328</td>\n",
       "    </tr>\n",
       "    <tr>\n",
       "      <th>4</th>\n",
       "      <td>Экран офера</td>\n",
       "      <td>46333</td>\n",
       "    </tr>\n",
       "    <tr>\n",
       "      <th>2</th>\n",
       "      <td>Экран заказа</td>\n",
       "      <td>42303</td>\n",
       "    </tr>\n",
       "    <tr>\n",
       "      <th>3</th>\n",
       "      <td>Экран оплаты</td>\n",
       "      <td>33918</td>\n",
       "    </tr>\n",
       "    <tr>\n",
       "      <th>1</th>\n",
       "      <td>Обучение</td>\n",
       "      <td>1005</td>\n",
       "    </tr>\n",
       "  </tbody>\n",
       "</table>\n",
       "</div>"
      ],
      "text/plain": [
       "         Событие  Количество\n",
       "0  Главный экран      117328\n",
       "4    Экран офера       46333\n",
       "2   Экран заказа       42303\n",
       "3   Экран оплаты       33918\n",
       "1       Обучение        1005"
      ]
     },
     "metadata": {},
     "output_type": "display_data"
    }
   ],
   "source": [
    "# посчитаем количество записей для каждого события\n",
    "\n",
    "event_count = (\n",
    "    logs.groupby(\"event_name\")\n",
    "    .agg({\"event_time\": \"count\"})\n",
    "    .reset_index()\n",
    "    .sort_values(by=\"event_time\", ascending=False)\n",
    ")\n",
    "event_count.columns = [\"Событие\", \"Количество\"]\n",
    "event_count\n",
    "\n",
    "# построим две диаграммы - столбчатую и линейную\n",
    "fig = make_subplots(\n",
    "    rows=1, cols=2, shared_yaxes=True, specs=[[{\"type\": \"bar\"}, {\"type\": \"pie\"}]]\n",
    ")\n",
    "\n",
    "fig.add_trace(\n",
    "    go.Pie(\n",
    "        values=event_count[\"Количество\"],\n",
    "        labels=event_count[\"Событие\"],\n",
    "        textinfo=\"label+percent\",\n",
    "        hole=0.3,\n",
    "    ),\n",
    "    row=1,\n",
    "    col=2,\n",
    ")\n",
    "fig.add_trace(\n",
    "    go.Bar(\n",
    "        x=event_count[\"Количество\"],\n",
    "        y=event_count[\"Событие\"],\n",
    "        marker=dict(color=event_count[\"Количество\"], coloraxis=\"coloraxis\"),\n",
    "        orientation=\"h\",\n",
    "        text=event_count[\"Количество\"],\n",
    "        textposition=\"auto\",\n",
    "    ),\n",
    "    row=1,\n",
    "    col=1,\n",
    ")\n",
    "fig.update_layout(\n",
    "    title_text=\"Количество и распределение событий в логе\",\n",
    "    coloraxis=dict(colorscale=\"Temps_r\"),\n",
    "    showlegend=False,\n",
    ")\n",
    "fig.show()\n",
    "\n",
    "display(event_count)"
   ]
  },
  {
   "cell_type": "markdown",
   "metadata": {},
   "source": [
    "* MainScreenAppear (Главный экран) увидели 117328 раз;    \n",
    "* OffersScreenAppear (Экран офера) увидели 46333 раза;      \n",
    "* CartScreenAppear (Экран заказа) увидели 42303 раза;     \n",
    "* PaymentScreenSuccessful (Экран с подтверждением успешной оплаты) увидели 33918 раз;     \n",
    "* Tutorial (Обучение) просмотрели 1005 раз."
   ]
  },
  {
   "cell_type": "markdown",
   "metadata": {},
   "source": [
    "###  Количество пользователей совершивших событие\n",
    "\n",
    "Отсортируем события по числу пользователей. Посчитаем долю пользователей, которые хоть раз совершали событие."
   ]
  },
  {
   "cell_type": "code",
   "execution_count": 30,
   "metadata": {},
   "outputs": [
    {
     "data": {
      "text/html": [
       "<div>\n",
       "<style scoped>\n",
       "    .dataframe tbody tr th:only-of-type {\n",
       "        vertical-align: middle;\n",
       "    }\n",
       "\n",
       "    .dataframe tbody tr th {\n",
       "        vertical-align: top;\n",
       "    }\n",
       "\n",
       "    .dataframe thead th {\n",
       "        text-align: right;\n",
       "    }\n",
       "</style>\n",
       "<table border=\"1\" class=\"dataframe\">\n",
       "  <thead>\n",
       "    <tr style=\"text-align: right;\">\n",
       "      <th></th>\n",
       "      <th>Событие</th>\n",
       "      <th>Количество пользователей</th>\n",
       "      <th>% пользователей от исходного</th>\n",
       "    </tr>\n",
       "  </thead>\n",
       "  <tbody>\n",
       "    <tr>\n",
       "      <th>0</th>\n",
       "      <td>Главный экран</td>\n",
       "      <td>7419</td>\n",
       "      <td>98.47</td>\n",
       "    </tr>\n",
       "    <tr>\n",
       "      <th>4</th>\n",
       "      <td>Экран офера</td>\n",
       "      <td>4593</td>\n",
       "      <td>60.96</td>\n",
       "    </tr>\n",
       "    <tr>\n",
       "      <th>2</th>\n",
       "      <td>Экран заказа</td>\n",
       "      <td>3734</td>\n",
       "      <td>49.56</td>\n",
       "    </tr>\n",
       "    <tr>\n",
       "      <th>3</th>\n",
       "      <td>Экран оплаты</td>\n",
       "      <td>3539</td>\n",
       "      <td>46.97</td>\n",
       "    </tr>\n",
       "    <tr>\n",
       "      <th>1</th>\n",
       "      <td>Обучение</td>\n",
       "      <td>840</td>\n",
       "      <td>11.15</td>\n",
       "    </tr>\n",
       "  </tbody>\n",
       "</table>\n",
       "</div>"
      ],
      "text/plain": [
       "         Событие  Количество пользователей  % пользователей от исходного\n",
       "0  Главный экран                      7419                         98.47\n",
       "4    Экран офера                      4593                         60.96\n",
       "2   Экран заказа                      3734                         49.56\n",
       "3   Экран оплаты                      3539                         46.97\n",
       "1       Обучение                       840                         11.15"
      ]
     },
     "execution_count": 30,
     "metadata": {},
     "output_type": "execute_result"
    }
   ],
   "source": [
    "# соберем в таблицу с группировкой по событию количество пользователей\n",
    "event_by_user = (logs.\n",
    "          groupby('event_name').\n",
    "          agg({'user_id': 'nunique'}).\n",
    "          reset_index().\n",
    "          sort_values(by='user_id', ascending=False))\n",
    "\n",
    "# добавим расчет доли пользователей хоть раз совершивших это событие\n",
    "event_by_user['share'] = (event_by_user['user_id'] / logs['user_id'].nunique() * 100)  \n",
    "event_by_user.columns = ['Событие', 'Количество пользователей', '% пользователей от исходного']\n",
    "\n",
    "event_by_user"
   ]
  },
  {
   "cell_type": "markdown",
   "metadata": {},
   "source": [
    "###  Определение последовательности событий "
   ]
  },
  {
   "cell_type": "markdown",
   "metadata": {},
   "source": [
    "Мы можем предположить, что все события выстраиваются в цепочку действий, кроме просмотра Обучения (Tutorial). Обучение само по себе дополнительная активность не влияющая на прямую последовательность действий при заказе: \n",
    "  *  Главный экран\n",
    "  *  Экран офера/предложения\n",
    "  *  Экран заказа\n",
    "  *  Экран подтверждения успешной оплаты\n",
    "  \n",
    " Здесь стоит отметить, что это только предполагаемая логичная последовательность событий, но, если программно нет ограничений, то она может нарушаться, какие-то из заказов будут совершены и по другой последовательности, например минуя главный экран если внутри приложения есть разные возможности по переходу к экрану заказа.\n",
    " Но в рамках исследования ограничимся изучением только прямой последовательности действий. "
   ]
  },
  {
   "cell_type": "markdown",
   "metadata": {},
   "source": [
    "### Расчет воронки событий. Определение шага с наибольшими потерями и доли пользователей дошедших до оплаты\n"
   ]
  },
  {
   "cell_type": "code",
   "execution_count": 31,
   "metadata": {},
   "outputs": [
    {
     "data": {
      "image/png": "[encoded data removed]"
     },
     "metadata": {},
     "output_type": "display_data"
    }
   ],
   "source": [
    "# отфильтруем из изучаемой последовательности событий Обучение\n",
    "funnel = event_by_user[event_by_user['Событие'] != 'Обучение']\n",
    "\n",
    "\n",
    "# посмотрим на визуализацию предполагаемой воронки событий\n",
    "fig = go.Figure(go.Funnel(y = funnel['Событие'],\n",
    "                          x = funnel['Количество пользователей'],\n",
    "                          opacity = 0.6,\n",
    "                          textposition = 'inside',\n",
    "                          textinfo = 'value + percent previous + percent initial'))\n",
    "fig.update_layout(title_text='Воронка событий')\n",
    "fig.show()"
   ]
  },
  {
   "cell_type": "markdown",
   "metadata": {},
   "source": [
    "Посчитаем сами, какая доля пользователей проходит на следующий шаг воронки (от числа пользователей на предыдущем). То есть для последовательности событий A → B → C → D посчитаем отношение числа пользователей с событием B к количеству пользователей с событием A, отношение числа пользователей с событием C к количеству пользователей с событием B и т.д."
   ]
  },
  {
   "cell_type": "code",
   "execution_count": 32,
   "metadata": {},
   "outputs": [
    {
     "data": {
      "text/html": [
       "<div>\n",
       "<style scoped>\n",
       "    .dataframe tbody tr th:only-of-type {\n",
       "        vertical-align: middle;\n",
       "    }\n",
       "\n",
       "    .dataframe tbody tr th {\n",
       "        vertical-align: top;\n",
       "    }\n",
       "\n",
       "    .dataframe thead th {\n",
       "        text-align: right;\n",
       "    }\n",
       "</style>\n",
       "<table border=\"1\" class=\"dataframe\">\n",
       "  <thead>\n",
       "    <tr style=\"text-align: right;\">\n",
       "      <th></th>\n",
       "      <th>Событие</th>\n",
       "      <th>Количество пользователей</th>\n",
       "      <th>% пользователей от исходного</th>\n",
       "      <th>% пользователей от предыдущего шага</th>\n",
       "      <th>Потери</th>\n",
       "    </tr>\n",
       "  </thead>\n",
       "  <tbody>\n",
       "    <tr>\n",
       "      <th>0</th>\n",
       "      <td>Главный экран</td>\n",
       "      <td>7419</td>\n",
       "      <td>98.47</td>\n",
       "      <td>100.00</td>\n",
       "      <td>0.00</td>\n",
       "    </tr>\n",
       "    <tr>\n",
       "      <th>4</th>\n",
       "      <td>Экран офера</td>\n",
       "      <td>4593</td>\n",
       "      <td>60.96</td>\n",
       "      <td>61.91</td>\n",
       "      <td>38.09</td>\n",
       "    </tr>\n",
       "    <tr>\n",
       "      <th>2</th>\n",
       "      <td>Экран заказа</td>\n",
       "      <td>3734</td>\n",
       "      <td>49.56</td>\n",
       "      <td>81.30</td>\n",
       "      <td>18.70</td>\n",
       "    </tr>\n",
       "    <tr>\n",
       "      <th>3</th>\n",
       "      <td>Экран оплаты</td>\n",
       "      <td>3539</td>\n",
       "      <td>46.97</td>\n",
       "      <td>94.78</td>\n",
       "      <td>5.22</td>\n",
       "    </tr>\n",
       "  </tbody>\n",
       "</table>\n",
       "</div>"
      ],
      "text/plain": [
       "         Событие  Количество пользователей  % пользователей от исходного  \\\n",
       "0  Главный экран                      7419                         98.47   \n",
       "4    Экран офера                      4593                         60.96   \n",
       "2   Экран заказа                      3734                         49.56   \n",
       "3   Экран оплаты                      3539                         46.97   \n",
       "\n",
       "   % пользователей от предыдущего шага  Потери  \n",
       "0                               100.00    0.00  \n",
       "4                                61.91   38.09  \n",
       "2                                81.30   18.70  \n",
       "3                                94.78    5.22  "
      ]
     },
     "execution_count": 32,
     "metadata": {},
     "output_type": "execute_result"
    }
   ],
   "source": [
    "funnel['% пользователей от предыдущего шага'] = (funnel.iloc[:,1] /  funnel.iloc[:,1].shift(1) * 100).fillna(100)\n",
    "funnel['Потери'] = (100 - funnel.iloc[:,3]).fillna(0)\n",
    "funnel"
   ]
  },
  {
   "cell_type": "markdown",
   "metadata": {},
   "source": [
    "Очевидно, что на шаге показа Экрана офера/предложения мы теряем больше всего пользователей - 38% от количества на предыдущем шаге, в то же время самые маленькие потери между заказом и оплатой - всего 5%\n",
    "\n",
    "Всего до оплаты в предположительно прямой последовательности действий доходит 47% пользователей от общего количества, это очень неплохой результат."
   ]
  },
  {
   "cell_type": "markdown",
   "metadata": {},
   "source": [
    "### **Вывод**\n",
    "\n",
    "События по частоте \n",
    " - MainScreenAppear (Главный экран) увидели 117328 раз;    \n",
    " - OffersScreenAppear (Экран офера) увидели 46333 раза;      \n",
    " - CartScreenAppear (Экран заказа) увидели 42303 раза;     \n",
    " - PaymentScreenSuccessful (Экран с подтверждением успешной оплаты) увидели 33918 раз;     \n",
    " - Tutorial (Обучение) просмотрели 1005 раз.\n",
    "\n",
    "Мы  предположили, что все события выстраиваются в цепочку действий, кроме просмотра Обучения (Tutorial). Обучение само по себе дополнительная активность не влияющая на прямую последовательность действий при заказе: \n",
    "  *  Главный экран\n",
    "  *  Экран офера/предложения\n",
    "  *  Экран заказа\n",
    "  *  Экран подтверждения успешной оплаты\n",
    "  \n",
    "Очевидно, что на шаге показа Экрана офера/предложения мы теряем больше всего пользователей - 38% от количества на предыдущем шаге, в то же время самые маленькие потери между заказом и оплатой - всего 5%\n",
    "\n",
    "Всего до оплаты в предположительно прямой последовательности действий доходит 47% пользователей от общего количества, это очень неплохой результат."
   ]
  },
  {
   "cell_type": "markdown",
   "metadata": {},
   "source": [
    "## Изучение результатов эксперимента\n",
    "\n",
    "На данном этапе нам необходимо определить:\n",
    "- Сколько пользователей в каждой экспериментальной группе?\n",
    "- Проверить, находят ли статистические критерии разницу между выборками 246 и 247 (А1 и А2).\n",
    "- Выбрать самое популярное событие. Посчитать число пользователей, совершивших это событие в каждой из контрольных групп. Посчитать долю пользователей, совершивших это событие. Проверить, будет ли отличие между группами статистически достоверным. Провести проверку для всех других событий. Сделать вывод о корректности разбиения на группы \n",
    "- Аналогично поступить с группой с изменённым шрифтом (248 - B). Сравнить результаты с каждой из контрольных групп в отдельности по каждому событию. Сравнить результаты с объединённой контрольной группой. Сделать выводы из эксперимента?\n",
    "- Какой уровень значимости вы выбрали при проверке статистических гипотез выше? Посчитайте, сколько проверок статистических гипотез вы сделали. При уровне значимости 0.1 каждый десятый раз можно получать ложный результат. Какой уровень значимости стоит применить? Если вы хотите изменить его, проделайте предыдущие пункты и проверьте свои выводы."
   ]
  },
  {
   "cell_type": "markdown",
   "metadata": {},
   "source": [
    "### Количество пользователей в каждой экспериментальной группе\n",
    "\n",
    "Проверим, что пользователи корректно разбиты на группы"
   ]
  },
  {
   "cell_type": "code",
   "execution_count": 33,
   "metadata": {},
   "outputs": [
    {
     "data": {
      "image/png": "[encoded data removed]"
     },
     "metadata": {},
     "output_type": "display_data"
    },
    {
     "data": {
      "text/html": [
       "<div>\n",
       "<style scoped>\n",
       "    .dataframe tbody tr th:only-of-type {\n",
       "        vertical-align: middle;\n",
       "    }\n",
       "\n",
       "    .dataframe tbody tr th {\n",
       "        vertical-align: top;\n",
       "    }\n",
       "\n",
       "    .dataframe thead th {\n",
       "        text-align: right;\n",
       "    }\n",
       "</style>\n",
       "<table border=\"1\" class=\"dataframe\">\n",
       "  <thead>\n",
       "    <tr style=\"text-align: right;\">\n",
       "      <th></th>\n",
       "      <th>Группа</th>\n",
       "      <th>Количество пользователей</th>\n",
       "    </tr>\n",
       "  </thead>\n",
       "  <tbody>\n",
       "    <tr>\n",
       "      <th>0</th>\n",
       "      <td>A1</td>\n",
       "      <td>2484</td>\n",
       "    </tr>\n",
       "    <tr>\n",
       "      <th>1</th>\n",
       "      <td>A2</td>\n",
       "      <td>2513</td>\n",
       "    </tr>\n",
       "    <tr>\n",
       "      <th>2</th>\n",
       "      <td>B</td>\n",
       "      <td>2537</td>\n",
       "    </tr>\n",
       "  </tbody>\n",
       "</table>\n",
       "</div>"
      ],
      "text/plain": [
       "  Группа  Количество пользователей\n",
       "0     A1                      2484\n",
       "1     A2                      2513\n",
       "2      B                      2537"
      ]
     },
     "execution_count": 33,
     "metadata": {},
     "output_type": "execute_result"
    }
   ],
   "source": [
    "# разбиение пользователей по группам мы проверяли в 3.6 - переменная users_by_group, построим график\n",
    "fig = px.bar(\n",
    "    users_by_group_table,\n",
    "    x='Группа',\n",
    "    y='Количество пользователей',\n",
    "    text='Количество пользователей',\n",
    "    color='Группа',\n",
    ")\n",
    "fig.update_layout(\n",
    "    title_text='Распределение пользователей по группам',\n",
    ")\n",
    "\n",
    "fig.update_traces(\n",
    "    textfont_size=10, textangle=0, textposition='outside', cliponaxis=False\n",
    ")\n",
    "fig.show()\n",
    "users_by_group_table"
   ]
  },
  {
   "cell_type": "code",
   "execution_count": 34,
   "metadata": {},
   "outputs": [
    {
     "data": {
      "image/png": "[encoded data removed]"
     },
     "metadata": {},
     "output_type": "display_data"
    },
    {
     "data": {
      "text/html": [
       "<div>\n",
       "<style scoped>\n",
       "    .dataframe tbody tr th:only-of-type {\n",
       "        vertical-align: middle;\n",
       "    }\n",
       "\n",
       "    .dataframe tbody tr th {\n",
       "        vertical-align: top;\n",
       "    }\n",
       "\n",
       "    .dataframe thead th {\n",
       "        text-align: right;\n",
       "    }\n",
       "</style>\n",
       "<table border=\"1\" class=\"dataframe\">\n",
       "  <thead>\n",
       "    <tr style=\"text-align: right;\">\n",
       "      <th></th>\n",
       "      <th>Группа</th>\n",
       "      <th>Количество событий</th>\n",
       "    </tr>\n",
       "  </thead>\n",
       "  <tbody>\n",
       "    <tr>\n",
       "      <th>0</th>\n",
       "      <td>A1</td>\n",
       "      <td>79302</td>\n",
       "    </tr>\n",
       "    <tr>\n",
       "      <th>1</th>\n",
       "      <td>A2</td>\n",
       "      <td>77022</td>\n",
       "    </tr>\n",
       "    <tr>\n",
       "      <th>2</th>\n",
       "      <td>B</td>\n",
       "      <td>84563</td>\n",
       "    </tr>\n",
       "  </tbody>\n",
       "</table>\n",
       "</div>"
      ],
      "text/plain": [
       "  Группа  Количество событий\n",
       "0     A1               79302\n",
       "1     A2               77022\n",
       "2      B               84563"
      ]
     },
     "execution_count": 34,
     "metadata": {},
     "output_type": "execute_result"
    }
   ],
   "source": [
    "events_by_group = (\n",
    "    logs.groupby('group_name')\n",
    "    .agg({'user_id': 'count'})\n",
    "    .reset_index()\n",
    "    .rename(columns={'group_name': 'Группа', 'user_id': 'Количество событий'})\n",
    ")\n",
    "\n",
    "fig = px.bar(\n",
    "    events_by_group,\n",
    "    x='Группа',\n",
    "    y='Количество событий',\n",
    "    text='Количество событий',\n",
    "    color='Группа',\n",
    ")\n",
    "fig.update_layout(\n",
    "    title_text='Распределение событий по группам',\n",
    ")\n",
    "\n",
    "fig.update_traces(\n",
    "    textfont_size=10, textangle=0, textposition='outside', cliponaxis=False\n",
    ")\n",
    "fig.show()\n",
    "\n",
    "\n",
    "events_by_group"
   ]
  },
  {
   "cell_type": "markdown",
   "metadata": {},
   "source": [
    "Проверили - пользователи и события есть во всех группах, \n",
    "\n",
    "Количество пользователей\n",
    "- A1\t- 2484\n",
    "- A2\t- 2513\n",
    "- B\t- 2537"
   ]
  },
  {
   "cell_type": "markdown",
   "metadata": {},
   "source": [
    "### Подготовка таблицы событие-пользователи для оценки результатов экспериментов\n",
    "\n",
    "Подготовим сводную таблицу для дальнейшего использования.\n",
    "\n",
    "В ней нам нужно собрать количество пользователей в разрезе событий по\n",
    "- каждой группе (А1, А2, В), \n",
    "- сводной группе (А1+А2) "
   ]
  },
  {
   "cell_type": "code",
   "execution_count": 35,
   "metadata": {},
   "outputs": [
    {
     "data": {
      "text/html": [
       "<div>\n",
       "<style scoped>\n",
       "    .dataframe tbody tr th:only-of-type {\n",
       "        vertical-align: middle;\n",
       "    }\n",
       "\n",
       "    .dataframe tbody tr th {\n",
       "        vertical-align: top;\n",
       "    }\n",
       "\n",
       "    .dataframe thead th {\n",
       "        text-align: right;\n",
       "    }\n",
       "</style>\n",
       "<table border=\"1\" class=\"dataframe\">\n",
       "  <thead>\n",
       "    <tr style=\"text-align: right;\">\n",
       "      <th>group_name</th>\n",
       "      <th>A1</th>\n",
       "      <th>A2</th>\n",
       "      <th>B</th>\n",
       "      <th>A1A2</th>\n",
       "    </tr>\n",
       "    <tr>\n",
       "      <th>event_name</th>\n",
       "      <th></th>\n",
       "      <th></th>\n",
       "      <th></th>\n",
       "      <th></th>\n",
       "    </tr>\n",
       "  </thead>\n",
       "  <tbody>\n",
       "    <tr>\n",
       "      <th>Главный экран</th>\n",
       "      <td>2,450.00</td>\n",
       "      <td>2,476.00</td>\n",
       "      <td>2,493.00</td>\n",
       "      <td>4,926.00</td>\n",
       "    </tr>\n",
       "    <tr>\n",
       "      <th>Экран офера</th>\n",
       "      <td>1,542.00</td>\n",
       "      <td>1,520.00</td>\n",
       "      <td>1,531.00</td>\n",
       "      <td>3,062.00</td>\n",
       "    </tr>\n",
       "    <tr>\n",
       "      <th>Экран заказа</th>\n",
       "      <td>1,266.00</td>\n",
       "      <td>1,238.00</td>\n",
       "      <td>1,230.00</td>\n",
       "      <td>2,504.00</td>\n",
       "    </tr>\n",
       "    <tr>\n",
       "      <th>Экран оплаты</th>\n",
       "      <td>1,200.00</td>\n",
       "      <td>1,158.00</td>\n",
       "      <td>1,181.00</td>\n",
       "      <td>2,358.00</td>\n",
       "    </tr>\n",
       "    <tr>\n",
       "      <th>Обучение</th>\n",
       "      <td>278.00</td>\n",
       "      <td>283.00</td>\n",
       "      <td>279.00</td>\n",
       "      <td>561.00</td>\n",
       "    </tr>\n",
       "    <tr>\n",
       "      <th>Всего уников</th>\n",
       "      <td>2,484.00</td>\n",
       "      <td>2,513.00</td>\n",
       "      <td>2,537.00</td>\n",
       "      <td>4,997.00</td>\n",
       "    </tr>\n",
       "  </tbody>\n",
       "</table>\n",
       "</div>"
      ],
      "text/plain": [
       "group_name          A1       A2        B     A1A2\n",
       "event_name                                       \n",
       "Главный экран 2,450.00 2,476.00 2,493.00 4,926.00\n",
       "Экран офера   1,542.00 1,520.00 1,531.00 3,062.00\n",
       "Экран заказа  1,266.00 1,238.00 1,230.00 2,504.00\n",
       "Экран оплаты  1,200.00 1,158.00 1,181.00 2,358.00\n",
       "Обучение        278.00   283.00   279.00   561.00\n",
       "Всего уников  2,484.00 2,513.00 2,537.00 4,997.00"
      ]
     },
     "execution_count": 35,
     "metadata": {},
     "output_type": "execute_result"
    }
   ],
   "source": [
    "# дополним users_by_group информацией о сводной группе (А1+А2) \n",
    "users_by_group[\"A1A2\"] = users_by_group['A1'] + users_by_group['A2']\n",
    "\n",
    "# соберем общую таблицу с количеством пользователей в разрезе событий\n",
    "all_events_test = (logs\n",
    "    .pivot_table(\n",
    "        index=\"event_name\", columns=\"group_name\", values=\"user_id\", aggfunc=\"nunique\"\n",
    "    )\n",
    "    .sort_values(by=\"A1\", ascending=False)\n",
    "    .reset_index()\n",
    ")\n",
    "\n",
    "# сразу дополним таблицу информацией по сводной группе (А1+А2) и общим количеством пользователей\n",
    "all_events_test[\"A1A2\"] = all_events_test[\"A1\"] + all_events_test[\"A2\"]\n",
    "\n",
    "#добавим информации об общем количестве уников в нашу таблицу из users_by_group\n",
    "all_events_test = (\n",
    "    all_events_test.append(users_by_group)\n",
    "    .fillna(\"Всего уников\")\n",
    "    .reset_index(drop=True)\n",
    ")\n",
    "\n",
    "# установим индексом События так как будем с ним обращаться дальше в функции\n",
    "all_events_test=all_events_test.set_index('event_name')\n",
    "\n",
    "# оценим результат\n",
    "all_events_test"
   ]
  },
  {
   "cell_type": "code",
   "execution_count": 36,
   "metadata": {},
   "outputs": [],
   "source": [
    "# уберем Обучение и из проверки гипотез, так как не рассматривали его в воронке\n",
    "# сделала отдельным шагом, чтобы была возможность поменять решение :)\n",
    "all_events_test = all_events_test.query('event_name != \"Обучение\"')"
   ]
  },
  {
   "cell_type": "markdown",
   "metadata": {},
   "source": [
    "### А/А тест. Проверка разницы между выборками 246 и 247\n",
    "\n",
    "Критерии успешного A/A-теста:\n",
    "\n",
    "   * Количество пользователей в различных группах различается не более, чем на 1%;\n",
    "   * Для всех групп фиксируют и отправляют в системы аналитики данные об одном и том же;\n",
    "   * Попавший в одну из групп посетитель остаётся в этой группе до конца теста. \n"
   ]
  },
  {
   "cell_type": "markdown",
   "metadata": {},
   "source": [
    "**Количество пользователей в различных группах различается не более, чем на 1%**\n",
    "\n",
    "Посчитаем не только для А1 и А2, но и сразу для B"
   ]
  },
  {
   "cell_type": "code",
   "execution_count": 37,
   "metadata": {},
   "outputs": [
    {
     "name": "stdout",
     "output_type": "stream",
     "text": [
      "Отношение количества пользователей группы A1         к группе A2         равно 0.99\n",
      "Отношение количества пользователей группы A1         к группе B         равно 0.98\n",
      "Отношение количества пользователей группы A2         к группе B         равно 0.99\n"
     ]
    }
   ],
   "source": [
    "# список групп для сравнения численности\n",
    "group_list = [\"A1\", \"A2\", \"B\"]\n",
    "\n",
    "# в цикле по списку и users_by_group проведем попарное сравнение\n",
    "for i in range(len(group_list)):\n",
    "    for j in range(i + 1, len(group_list)):\n",
    "        print(f\"Отношение количества пользователей группы {users_by_group.index[i]} \\\n",
    "        к группе {users_by_group.index[j]} \\\n",
    "        равно {round(users_by_group[i]/users_by_group[j],2)}\"\n",
    "        )"
   ]
  },
  {
   "cell_type": "markdown",
   "metadata": {},
   "source": [
    "Расчеты подтверждают что разница между количеством пользователей в группах А1 и А2 не превышает 1%"
   ]
  },
  {
   "cell_type": "markdown",
   "metadata": {},
   "source": [
    "**Для всех групп фиксируют и отправляют в системы аналитики данные об одном и том же**"
   ]
  },
  {
   "cell_type": "code",
   "execution_count": 38,
   "metadata": {},
   "outputs": [
    {
     "data": {
      "image/png": "[encoded data removed]"
     },
     "metadata": {},
     "output_type": "display_data"
    }
   ],
   "source": [
    "# Подсчёт количества записей для каждого события\n",
    "event_count = (\n",
    "    logs.groupby(['event_name', 'group_name'])\n",
    "    .agg({'event_time': 'count'})\n",
    "    .reset_index()\n",
    "    .sort_values(by='event_time', ascending=True)\n",
    ")\n",
    "event_count.columns = ['Событие', 'Группа', 'Количество']\n",
    "\n",
    "fig = px.bar(\n",
    "    event_count,\n",
    "    x='Группа',\n",
    "    y='Количество',\n",
    "    color='Событие',\n",
    "    title='Long-Form Input',\n",
    "    barmode='group',\n",
    "    text='Количество',\n",
    ")\n",
    "fig.update_traces(textfont_size=10, textangle=0, textposition='outside', cliponaxis=False)\n",
    "fig.update_layout(\n",
    "    title_text='Количество и распределение событий в логе',\n",
    "    coloraxis=dict(colorscale='Temps_r'),\n",
    "    showlegend=True,\n",
    ")\n",
    "fig.show()"
   ]
  },
  {
   "cell_type": "markdown",
   "metadata": {},
   "source": [
    "Как мы видим, в логах по группам содержится одинаковый список событий и их распределение/количество сопоставимы"
   ]
  },
  {
   "cell_type": "markdown",
   "metadata": {},
   "source": [
    "**Попавший в одну из групп посетитель остаётся в этой группе до конца теста**\n",
    "\n",
    "Мы проверяли данный пункт в Предобработке 2.2, можем повторить"
   ]
  },
  {
   "cell_type": "code",
   "execution_count": 39,
   "metadata": {},
   "outputs": [
    {
     "data": {
      "text/markdown": [
       "Пользователей, попавших в несколько групп одновременно -                 **0**"
      ],
      "text/plain": [
       "<IPython.core.display.Markdown object>"
      ]
     },
     "metadata": {},
     "output_type": "display_data"
    }
   ],
   "source": [
    "# выведем количество пользователей, у которых число групп больше 1\n",
    "display(\n",
    "    Markdown(\n",
    "        f'Пользователей, попавших в несколько групп одновременно - \\\n",
    "                **{user_dub[user_dub[\"group_id\"] != 1][\"user_id\"].count()}**'\n",
    "    )\n",
    ")"
   ]
  },
  {
   "cell_type": "markdown",
   "metadata": {},
   "source": [
    "#### Проверка стат.разницы для самого популярного события между А1 и А2\n",
    "\n",
    "Определим самое популярное событие, у нас есть табличка event_by_user уже отсортированная по количеству событий без разбивки на группы"
   ]
  },
  {
   "cell_type": "code",
   "execution_count": 40,
   "metadata": {},
   "outputs": [
    {
     "data": {
      "text/html": [
       "<div>\n",
       "<style scoped>\n",
       "    .dataframe tbody tr th:only-of-type {\n",
       "        vertical-align: middle;\n",
       "    }\n",
       "\n",
       "    .dataframe tbody tr th {\n",
       "        vertical-align: top;\n",
       "    }\n",
       "\n",
       "    .dataframe thead th {\n",
       "        text-align: right;\n",
       "    }\n",
       "</style>\n",
       "<table border=\"1\" class=\"dataframe\">\n",
       "  <thead>\n",
       "    <tr style=\"text-align: right;\">\n",
       "      <th></th>\n",
       "      <th>Событие</th>\n",
       "      <th>Количество пользователей</th>\n",
       "      <th>% пользователей от исходного</th>\n",
       "    </tr>\n",
       "  </thead>\n",
       "  <tbody>\n",
       "    <tr>\n",
       "      <th>0</th>\n",
       "      <td>Главный экран</td>\n",
       "      <td>7419</td>\n",
       "      <td>98.47</td>\n",
       "    </tr>\n",
       "  </tbody>\n",
       "</table>\n",
       "</div>"
      ],
      "text/plain": [
       "         Событие  Количество пользователей  % пользователей от исходного\n",
       "0  Главный экран                      7419                         98.47"
      ]
     },
     "execution_count": 40,
     "metadata": {},
     "output_type": "execute_result"
    }
   ],
   "source": [
    "event_by_user.head(1)"
   ]
  },
  {
   "cell_type": "markdown",
   "metadata": {},
   "source": [
    "Можем так же убедиться по подготовленной сводной таблице, что событие Главный экран является самы популярным и в разбивке по группам"
   ]
  },
  {
   "cell_type": "code",
   "execution_count": 41,
   "metadata": {},
   "outputs": [
    {
     "data": {
      "text/html": [
       "<div>\n",
       "<style scoped>\n",
       "    .dataframe tbody tr th:only-of-type {\n",
       "        vertical-align: middle;\n",
       "    }\n",
       "\n",
       "    .dataframe tbody tr th {\n",
       "        vertical-align: top;\n",
       "    }\n",
       "\n",
       "    .dataframe thead th {\n",
       "        text-align: right;\n",
       "    }\n",
       "</style>\n",
       "<table border=\"1\" class=\"dataframe\">\n",
       "  <thead>\n",
       "    <tr style=\"text-align: right;\">\n",
       "      <th>group_name</th>\n",
       "      <th>event_name</th>\n",
       "      <th>A1</th>\n",
       "      <th>A2</th>\n",
       "      <th>B</th>\n",
       "      <th>A1A2</th>\n",
       "    </tr>\n",
       "  </thead>\n",
       "  <tbody>\n",
       "    <tr>\n",
       "      <th>0</th>\n",
       "      <td>Главный экран</td>\n",
       "      <td>2,450.00</td>\n",
       "      <td>2,476.00</td>\n",
       "      <td>2,493.00</td>\n",
       "      <td>4,926.00</td>\n",
       "    </tr>\n",
       "    <tr>\n",
       "      <th>1</th>\n",
       "      <td>Экран офера</td>\n",
       "      <td>1,542.00</td>\n",
       "      <td>1,520.00</td>\n",
       "      <td>1,531.00</td>\n",
       "      <td>3,062.00</td>\n",
       "    </tr>\n",
       "    <tr>\n",
       "      <th>2</th>\n",
       "      <td>Экран заказа</td>\n",
       "      <td>1,266.00</td>\n",
       "      <td>1,238.00</td>\n",
       "      <td>1,230.00</td>\n",
       "      <td>2,504.00</td>\n",
       "    </tr>\n",
       "    <tr>\n",
       "      <th>3</th>\n",
       "      <td>Экран оплаты</td>\n",
       "      <td>1,200.00</td>\n",
       "      <td>1,158.00</td>\n",
       "      <td>1,181.00</td>\n",
       "      <td>2,358.00</td>\n",
       "    </tr>\n",
       "    <tr>\n",
       "      <th>4</th>\n",
       "      <td>Всего уников</td>\n",
       "      <td>2,484.00</td>\n",
       "      <td>2,513.00</td>\n",
       "      <td>2,537.00</td>\n",
       "      <td>4,997.00</td>\n",
       "    </tr>\n",
       "  </tbody>\n",
       "</table>\n",
       "</div>"
      ],
      "text/plain": [
       "group_name     event_name       A1       A2        B     A1A2\n",
       "0           Главный экран 2,450.00 2,476.00 2,493.00 4,926.00\n",
       "1             Экран офера 1,542.00 1,520.00 1,531.00 3,062.00\n",
       "2            Экран заказа 1,266.00 1,238.00 1,230.00 2,504.00\n",
       "3            Экран оплаты 1,200.00 1,158.00 1,181.00 2,358.00\n",
       "4            Всего уников 2,484.00 2,513.00 2,537.00 4,997.00"
      ]
     },
     "execution_count": 41,
     "metadata": {},
     "output_type": "execute_result"
    }
   ],
   "source": [
    "all_events_test.reset_index()"
   ]
  },
  {
   "cell_type": "markdown",
   "metadata": {},
   "source": [
    "Воспользуемся подготовленной функцией z_test для определения долей пользователей, совершивших событие и проверки будет ли отличие в этих долях между группами статистически значимым. Для А/А теста стандартное значение уровня статистической значимости - 1%, то есть установим alpha = 0.01\n",
    "\n",
    " \n",
    "<p>Сформулируем гипотезы:</p>\n",
    "<font color='forestgreen'>\n",
    "$\\begin{equation*}\n",
    " \\begin{cases}\n",
    "   H_0 :\\text{различий в долях пользователей по событию 'Главный экран'  между группами А1 и А2 нет}\\\\\n",
    "   H_1 :\\text{различия в долях пользователей по событию 'Главный экран' между группами А1 и А2 есть}\n",
    " \\end{cases}\n",
    "\\end{equation*}$\n",
    "</font>"
   ]
  },
  {
   "cell_type": "code",
   "execution_count": 42,
   "metadata": {
    "scrolled": true
   },
   "outputs": [
    {
     "data": {
      "text/markdown": [
       "**z-test между группами A1 и A2, значение alpha - 0.01**"
      ],
      "text/plain": [
       "<IPython.core.display.Markdown object>"
      ]
     },
     "metadata": {},
     "output_type": "display_data"
    },
    {
     "data": {
      "text/markdown": [
       "Для события **Главный экран** p-значение: **0.75706**"
      ],
      "text/plain": [
       "<IPython.core.display.Markdown object>"
      ]
     },
     "metadata": {},
     "output_type": "display_data"
    },
    {
     "name": "stdout",
     "output_type": "stream",
     "text": [
      "   Не получилось отвергнуть нулевую гипотезу, нет оснований считать доли разными\n"
     ]
    },
    {
     "data": {
      "text/html": [
       "<div>\n",
       "<style scoped>\n",
       "    .dataframe tbody tr th:only-of-type {\n",
       "        vertical-align: middle;\n",
       "    }\n",
       "\n",
       "    .dataframe tbody tr th {\n",
       "        vertical-align: top;\n",
       "    }\n",
       "\n",
       "    .dataframe thead th {\n",
       "        text-align: right;\n",
       "    }\n",
       "</style>\n",
       "<table border=\"1\" class=\"dataframe\">\n",
       "  <thead>\n",
       "    <tr style=\"text-align: right;\">\n",
       "      <th></th>\n",
       "      <th>event</th>\n",
       "      <th>group_1</th>\n",
       "      <th>group_2</th>\n",
       "      <th>p_value</th>\n",
       "    </tr>\n",
       "  </thead>\n",
       "  <tbody>\n",
       "    <tr>\n",
       "      <th>0</th>\n",
       "      <td>Главный экран</td>\n",
       "      <td>A1</td>\n",
       "      <td>A2</td>\n",
       "      <td>0.76</td>\n",
       "    </tr>\n",
       "  </tbody>\n",
       "</table>\n",
       "</div>"
      ],
      "text/plain": [
       "           event group_1 group_2  p_value\n",
       "0  Главный экран      A1      A2     0.76"
      ]
     },
     "execution_count": 42,
     "metadata": {},
     "output_type": "execute_result"
    }
   ],
   "source": [
    "# выбираем первое событие из отсортированной таблицы\n",
    "main_event = [event_by_user.head(1).iloc [0]['Событие']]\n",
    "\n",
    "# запускаем z_test для выбранного события между указанными группами с заданным уровнем стат.значимости\n",
    "z_test(all_events_test, 'A1', 'A2', 0.01, main_event )"
   ]
  },
  {
   "cell_type": "markdown",
   "metadata": {},
   "source": [
    "#### Для остальных событий"
   ]
  },
  {
   "cell_type": "code",
   "execution_count": 43,
   "metadata": {},
   "outputs": [
    {
     "data": {
      "text/plain": [
       "['Экран офера', 'Экран заказа', 'Экран оплаты']"
      ]
     },
     "execution_count": 43,
     "metadata": {},
     "output_type": "execute_result"
    }
   ],
   "source": [
    "# соберем список событий для дальнейшей проверки - все кроме первого (уже проверенного) \n",
    "event_list_other = list(event_by_user.iloc [1:-1]['Событие'])\n",
    "event_list_other"
   ]
  },
  {
   "cell_type": "markdown",
   "metadata": {},
   "source": [
    "<p>Сформулируем гипотезы:</p>\n",
    "<font color='forestgreen'>\n",
    "$\\begin{equation*}\n",
    " \\begin{cases}\n",
    "   H_0 :\\text{различий в долях пользователей по событиям  между группами А1 и А2 нет}\\\\\n",
    "   H_1 :\\text{различия в долях пользователей по событиям  между группами А1 и А2 есть}\n",
    " \\end{cases}\n",
    "\\end{equation*}$\n",
    "</font>"
   ]
  },
  {
   "cell_type": "code",
   "execution_count": 44,
   "metadata": {},
   "outputs": [
    {
     "data": {
      "text/markdown": [
       "**z-test между группами A1 и A2, значение alpha - 0.01**"
      ],
      "text/plain": [
       "<IPython.core.display.Markdown object>"
      ]
     },
     "metadata": {},
     "output_type": "display_data"
    },
    {
     "data": {
      "text/markdown": [
       "Для события **Экран офера** p-значение: **0.2481**"
      ],
      "text/plain": [
       "<IPython.core.display.Markdown object>"
      ]
     },
     "metadata": {},
     "output_type": "display_data"
    },
    {
     "name": "stdout",
     "output_type": "stream",
     "text": [
      "   Не получилось отвергнуть нулевую гипотезу, нет оснований считать доли разными\n"
     ]
    },
    {
     "data": {
      "text/markdown": [
       "Для события **Экран заказа** p-значение: **0.22883**"
      ],
      "text/plain": [
       "<IPython.core.display.Markdown object>"
      ]
     },
     "metadata": {},
     "output_type": "display_data"
    },
    {
     "name": "stdout",
     "output_type": "stream",
     "text": [
      "   Не получилось отвергнуть нулевую гипотезу, нет оснований считать доли разными\n"
     ]
    },
    {
     "data": {
      "text/markdown": [
       "Для события **Экран оплаты** p-значение: **0.11457**"
      ],
      "text/plain": [
       "<IPython.core.display.Markdown object>"
      ]
     },
     "metadata": {},
     "output_type": "display_data"
    },
    {
     "name": "stdout",
     "output_type": "stream",
     "text": [
      "   Не получилось отвергнуть нулевую гипотезу, нет оснований считать доли разными\n"
     ]
    },
    {
     "data": {
      "text/html": [
       "<div>\n",
       "<style scoped>\n",
       "    .dataframe tbody tr th:only-of-type {\n",
       "        vertical-align: middle;\n",
       "    }\n",
       "\n",
       "    .dataframe tbody tr th {\n",
       "        vertical-align: top;\n",
       "    }\n",
       "\n",
       "    .dataframe thead th {\n",
       "        text-align: right;\n",
       "    }\n",
       "</style>\n",
       "<table border=\"1\" class=\"dataframe\">\n",
       "  <thead>\n",
       "    <tr style=\"text-align: right;\">\n",
       "      <th></th>\n",
       "      <th>event</th>\n",
       "      <th>group_1</th>\n",
       "      <th>group_2</th>\n",
       "      <th>p_value</th>\n",
       "    </tr>\n",
       "  </thead>\n",
       "  <tbody>\n",
       "    <tr>\n",
       "      <th>0</th>\n",
       "      <td>Экран офера</td>\n",
       "      <td>A1</td>\n",
       "      <td>A2</td>\n",
       "      <td>0.25</td>\n",
       "    </tr>\n",
       "    <tr>\n",
       "      <th>1</th>\n",
       "      <td>Экран заказа</td>\n",
       "      <td>A1</td>\n",
       "      <td>A2</td>\n",
       "      <td>0.23</td>\n",
       "    </tr>\n",
       "    <tr>\n",
       "      <th>2</th>\n",
       "      <td>Экран оплаты</td>\n",
       "      <td>A1</td>\n",
       "      <td>A2</td>\n",
       "      <td>0.11</td>\n",
       "    </tr>\n",
       "  </tbody>\n",
       "</table>\n",
       "</div>"
      ],
      "text/plain": [
       "          event group_1 group_2  p_value\n",
       "0   Экран офера      A1      A2     0.25\n",
       "1  Экран заказа      A1      A2     0.23\n",
       "2  Экран оплаты      A1      A2     0.11"
      ]
     },
     "execution_count": 44,
     "metadata": {},
     "output_type": "execute_result"
    }
   ],
   "source": [
    "# запускаем z_test для выбранного списка событий между указанными группами с заданным уровнем стат.значимости\n",
    "z_test(all_events_test, 'A1', 'A2', 0.01, event_list_other )"
   ]
  },
  {
   "cell_type": "markdown",
   "metadata": {},
   "source": [
    "#### **Вывод о корректности разбиения на группы**"
   ]
  },
  {
   "cell_type": "markdown",
   "metadata": {},
   "source": [
    "Мы подтвердили, что : \n",
    "- Количество пользователей в различных группах различается не более, чем на 1%;\n",
    "- Для всех групп фиксируют и отправляют в системы аналитики данные об одном и том же;\n",
    "- Пользователей попавших одновременно в несколько групп нет \n",
    "- Проведение 4 z-тестов контрольных групп А1 и А2 не выявило статистически достоверных отличий между между группами\n",
    "\n",
    "**Вывод** \n",
    "\n",
    "Разбиение на группы и сам А/А тест проведены корректно."
   ]
  },
  {
   "cell_type": "markdown",
   "metadata": {},
   "source": [
    "### А/А/В тест.\n",
    "\n",
    "Для проверки стат.различий между контрольными группами и экспериментальной возьмем по умолчанию alpha уже 5%"
   ]
  },
  {
   "cell_type": "markdown",
   "metadata": {},
   "source": [
    "#### А1/В\n",
    "\n",
    " Проверим гипотезы об отсутствии/наличии стат.различий между долями пользователей, совершивших события в группах А1 и В \n",
    " \n",
    "<p>Сформулируем гипотезы:</p>\n",
    "<font color='forestgreen'>\n",
    "$\\begin{equation*}\n",
    " \\begin{cases}\n",
    "   H_0 :\\text{различий в долях пользователей по событиям  между группами А1 и B нет}\\\\\n",
    "   H_1 :\\text{различия в долях пользователей по событиям  между группами А1 и B есть}\n",
    " \\end{cases}\n",
    "\\end{equation*}$\n",
    "</font>"
   ]
  },
  {
   "cell_type": "code",
   "execution_count": 45,
   "metadata": {},
   "outputs": [
    {
     "data": {
      "text/markdown": [
       "**z-test между группами A1 и B, значение alpha - 0.05**"
      ],
      "text/plain": [
       "<IPython.core.display.Markdown object>"
      ]
     },
     "metadata": {},
     "output_type": "display_data"
    },
    {
     "data": {
      "text/markdown": [
       "Для события **Главный экран** p-значение: **0.29497**"
      ],
      "text/plain": [
       "<IPython.core.display.Markdown object>"
      ]
     },
     "metadata": {},
     "output_type": "display_data"
    },
    {
     "name": "stdout",
     "output_type": "stream",
     "text": [
      "   Не получилось отвергнуть нулевую гипотезу, нет оснований считать доли разными\n"
     ]
    },
    {
     "data": {
      "text/markdown": [
       "Для события **Экран офера** p-значение: **0.20836**"
      ],
      "text/plain": [
       "<IPython.core.display.Markdown object>"
      ]
     },
     "metadata": {},
     "output_type": "display_data"
    },
    {
     "name": "stdout",
     "output_type": "stream",
     "text": [
      "   Не получилось отвергнуть нулевую гипотезу, нет оснований считать доли разными\n"
     ]
    },
    {
     "data": {
      "text/markdown": [
       "Для события **Экран заказа** p-значение: **0.07843**"
      ],
      "text/plain": [
       "<IPython.core.display.Markdown object>"
      ]
     },
     "metadata": {},
     "output_type": "display_data"
    },
    {
     "name": "stdout",
     "output_type": "stream",
     "text": [
      "   Не получилось отвергнуть нулевую гипотезу, нет оснований считать доли разными\n"
     ]
    },
    {
     "data": {
      "text/markdown": [
       "Для события **Экран оплаты** p-значение: **0.21226**"
      ],
      "text/plain": [
       "<IPython.core.display.Markdown object>"
      ]
     },
     "metadata": {},
     "output_type": "display_data"
    },
    {
     "name": "stdout",
     "output_type": "stream",
     "text": [
      "   Не получилось отвергнуть нулевую гипотезу, нет оснований считать доли разными\n"
     ]
    },
    {
     "data": {
      "text/html": [
       "<div>\n",
       "<style scoped>\n",
       "    .dataframe tbody tr th:only-of-type {\n",
       "        vertical-align: middle;\n",
       "    }\n",
       "\n",
       "    .dataframe tbody tr th {\n",
       "        vertical-align: top;\n",
       "    }\n",
       "\n",
       "    .dataframe thead th {\n",
       "        text-align: right;\n",
       "    }\n",
       "</style>\n",
       "<table border=\"1\" class=\"dataframe\">\n",
       "  <thead>\n",
       "    <tr style=\"text-align: right;\">\n",
       "      <th></th>\n",
       "      <th>event</th>\n",
       "      <th>group_1</th>\n",
       "      <th>group_2</th>\n",
       "      <th>p_value</th>\n",
       "    </tr>\n",
       "  </thead>\n",
       "  <tbody>\n",
       "    <tr>\n",
       "      <th>0</th>\n",
       "      <td>Главный экран</td>\n",
       "      <td>A1</td>\n",
       "      <td>B</td>\n",
       "      <td>0.29</td>\n",
       "    </tr>\n",
       "    <tr>\n",
       "      <th>1</th>\n",
       "      <td>Экран офера</td>\n",
       "      <td>A1</td>\n",
       "      <td>B</td>\n",
       "      <td>0.21</td>\n",
       "    </tr>\n",
       "    <tr>\n",
       "      <th>2</th>\n",
       "      <td>Экран заказа</td>\n",
       "      <td>A1</td>\n",
       "      <td>B</td>\n",
       "      <td>0.08</td>\n",
       "    </tr>\n",
       "    <tr>\n",
       "      <th>3</th>\n",
       "      <td>Экран оплаты</td>\n",
       "      <td>A1</td>\n",
       "      <td>B</td>\n",
       "      <td>0.21</td>\n",
       "    </tr>\n",
       "  </tbody>\n",
       "</table>\n",
       "</div>"
      ],
      "text/plain": [
       "           event group_1 group_2  p_value\n",
       "0  Главный экран      A1       B     0.29\n",
       "1    Экран офера      A1       B     0.21\n",
       "2   Экран заказа      A1       B     0.08\n",
       "3   Экран оплаты      A1       B     0.21"
      ]
     },
     "execution_count": 45,
     "metadata": {},
     "output_type": "execute_result"
    }
   ],
   "source": [
    "# запускаем z_test для выбранного списка событий между указанными группами с заданным уровнем стат.значимости\n",
    "z_test(all_events_test, 'A1', 'B')"
   ]
  },
  {
   "cell_type": "markdown",
   "metadata": {},
   "source": [
    "#### А2/В\n",
    "\n",
    " Проверим гипотезы об отсутствии/наличии стат.различий между долями пользователей, совершивших события в группах А2 и В \n",
    " \n",
    "<p>Сформулируем гипотезы:</p>\n",
    "<font color='forestgreen'>\n",
    "$\\begin{equation*}\n",
    " \\begin{cases}\n",
    "   H_0 :\\text{различий в долях пользователей по событиям  между группами А2 и B нет}\\\\\n",
    "   H_1 :\\text{различия в долях пользователей по событиям  между группами А2 и B есть}\n",
    " \\end{cases}\n",
    "\\end{equation*}$\n",
    "</font>"
   ]
  },
  {
   "cell_type": "code",
   "execution_count": 46,
   "metadata": {},
   "outputs": [
    {
     "data": {
      "text/markdown": [
       "**z-test между группами A2 и B, значение alpha - 0.05**"
      ],
      "text/plain": [
       "<IPython.core.display.Markdown object>"
      ]
     },
     "metadata": {},
     "output_type": "display_data"
    },
    {
     "data": {
      "text/markdown": [
       "Для события **Главный экран** p-значение: **0.45871**"
      ],
      "text/plain": [
       "<IPython.core.display.Markdown object>"
      ]
     },
     "metadata": {},
     "output_type": "display_data"
    },
    {
     "name": "stdout",
     "output_type": "stream",
     "text": [
      "   Не получилось отвергнуть нулевую гипотезу, нет оснований считать доли разными\n"
     ]
    },
    {
     "data": {
      "text/markdown": [
       "Для события **Экран офера** p-значение: **0.91978**"
      ],
      "text/plain": [
       "<IPython.core.display.Markdown object>"
      ]
     },
     "metadata": {},
     "output_type": "display_data"
    },
    {
     "name": "stdout",
     "output_type": "stream",
     "text": [
      "   Не получилось отвергнуть нулевую гипотезу, нет оснований считать доли разными\n"
     ]
    },
    {
     "data": {
      "text/markdown": [
       "Для события **Экран заказа** p-значение: **0.57862**"
      ],
      "text/plain": [
       "<IPython.core.display.Markdown object>"
      ]
     },
     "metadata": {},
     "output_type": "display_data"
    },
    {
     "name": "stdout",
     "output_type": "stream",
     "text": [
      "   Не получилось отвергнуть нулевую гипотезу, нет оснований считать доли разными\n"
     ]
    },
    {
     "data": {
      "text/markdown": [
       "Для события **Экран оплаты** p-значение: **0.73734**"
      ],
      "text/plain": [
       "<IPython.core.display.Markdown object>"
      ]
     },
     "metadata": {},
     "output_type": "display_data"
    },
    {
     "name": "stdout",
     "output_type": "stream",
     "text": [
      "   Не получилось отвергнуть нулевую гипотезу, нет оснований считать доли разными\n"
     ]
    },
    {
     "data": {
      "text/html": [
       "<div>\n",
       "<style scoped>\n",
       "    .dataframe tbody tr th:only-of-type {\n",
       "        vertical-align: middle;\n",
       "    }\n",
       "\n",
       "    .dataframe tbody tr th {\n",
       "        vertical-align: top;\n",
       "    }\n",
       "\n",
       "    .dataframe thead th {\n",
       "        text-align: right;\n",
       "    }\n",
       "</style>\n",
       "<table border=\"1\" class=\"dataframe\">\n",
       "  <thead>\n",
       "    <tr style=\"text-align: right;\">\n",
       "      <th></th>\n",
       "      <th>event</th>\n",
       "      <th>group_1</th>\n",
       "      <th>group_2</th>\n",
       "      <th>p_value</th>\n",
       "    </tr>\n",
       "  </thead>\n",
       "  <tbody>\n",
       "    <tr>\n",
       "      <th>0</th>\n",
       "      <td>Главный экран</td>\n",
       "      <td>A2</td>\n",
       "      <td>B</td>\n",
       "      <td>0.46</td>\n",
       "    </tr>\n",
       "    <tr>\n",
       "      <th>1</th>\n",
       "      <td>Экран офера</td>\n",
       "      <td>A2</td>\n",
       "      <td>B</td>\n",
       "      <td>0.92</td>\n",
       "    </tr>\n",
       "    <tr>\n",
       "      <th>2</th>\n",
       "      <td>Экран заказа</td>\n",
       "      <td>A2</td>\n",
       "      <td>B</td>\n",
       "      <td>0.58</td>\n",
       "    </tr>\n",
       "    <tr>\n",
       "      <th>3</th>\n",
       "      <td>Экран оплаты</td>\n",
       "      <td>A2</td>\n",
       "      <td>B</td>\n",
       "      <td>0.74</td>\n",
       "    </tr>\n",
       "  </tbody>\n",
       "</table>\n",
       "</div>"
      ],
      "text/plain": [
       "           event group_1 group_2  p_value\n",
       "0  Главный экран      A2       B     0.46\n",
       "1    Экран офера      A2       B     0.92\n",
       "2   Экран заказа      A2       B     0.58\n",
       "3   Экран оплаты      A2       B     0.74"
      ]
     },
     "execution_count": 46,
     "metadata": {},
     "output_type": "execute_result"
    }
   ],
   "source": [
    "z_test(all_events_test, 'A2', 'B')"
   ]
  },
  {
   "cell_type": "markdown",
   "metadata": {},
   "source": [
    "#### А1+А2/В\n",
    "\n",
    " Проверим гипотезы об отсутствии/наличии стат.различий между долями пользователей, совершивших события в группах (А1+А2) и В \n",
    " \n",
    "<p>Сформулируем гипотезы:</p>\n",
    "<font color='forestgreen'>\n",
    "$\\begin{equation*}\n",
    " \\begin{cases}\n",
    "   H_0 :\\text{различий в долях пользователей по событиям  между группами (А1+А2) и B нет}\\\\\n",
    "   H_1 :\\text{различия в долях пользователей по событиям  между группами (А1+А2) и B есть}\n",
    " \\end{cases}\n",
    "\\end{equation*}$\n",
    "</font>"
   ]
  },
  {
   "cell_type": "code",
   "execution_count": 47,
   "metadata": {},
   "outputs": [
    {
     "data": {
      "text/markdown": [
       "**z-test между группами A1A2 и B, значение alpha - 0.05**"
      ],
      "text/plain": [
       "<IPython.core.display.Markdown object>"
      ]
     },
     "metadata": {},
     "output_type": "display_data"
    },
    {
     "data": {
      "text/markdown": [
       "Для события **Главный экран** p-значение: **0.29425**"
      ],
      "text/plain": [
       "<IPython.core.display.Markdown object>"
      ]
     },
     "metadata": {},
     "output_type": "display_data"
    },
    {
     "name": "stdout",
     "output_type": "stream",
     "text": [
      "   Не получилось отвергнуть нулевую гипотезу, нет оснований считать доли разными\n"
     ]
    },
    {
     "data": {
      "text/markdown": [
       "Для события **Экран офера** p-значение: **0.43426**"
      ],
      "text/plain": [
       "<IPython.core.display.Markdown object>"
      ]
     },
     "metadata": {},
     "output_type": "display_data"
    },
    {
     "name": "stdout",
     "output_type": "stream",
     "text": [
      "   Не получилось отвергнуть нулевую гипотезу, нет оснований считать доли разными\n"
     ]
    },
    {
     "data": {
      "text/markdown": [
       "Для события **Экран заказа** p-значение: **0.18176**"
      ],
      "text/plain": [
       "<IPython.core.display.Markdown object>"
      ]
     },
     "metadata": {},
     "output_type": "display_data"
    },
    {
     "name": "stdout",
     "output_type": "stream",
     "text": [
      "   Не получилось отвергнуть нулевую гипотезу, нет оснований считать доли разными\n"
     ]
    },
    {
     "data": {
      "text/markdown": [
       "Для события **Экран оплаты** p-значение: **0.60043**"
      ],
      "text/plain": [
       "<IPython.core.display.Markdown object>"
      ]
     },
     "metadata": {},
     "output_type": "display_data"
    },
    {
     "name": "stdout",
     "output_type": "stream",
     "text": [
      "   Не получилось отвергнуть нулевую гипотезу, нет оснований считать доли разными\n"
     ]
    },
    {
     "data": {
      "text/html": [
       "<div>\n",
       "<style scoped>\n",
       "    .dataframe tbody tr th:only-of-type {\n",
       "        vertical-align: middle;\n",
       "    }\n",
       "\n",
       "    .dataframe tbody tr th {\n",
       "        vertical-align: top;\n",
       "    }\n",
       "\n",
       "    .dataframe thead th {\n",
       "        text-align: right;\n",
       "    }\n",
       "</style>\n",
       "<table border=\"1\" class=\"dataframe\">\n",
       "  <thead>\n",
       "    <tr style=\"text-align: right;\">\n",
       "      <th></th>\n",
       "      <th>event</th>\n",
       "      <th>group_1</th>\n",
       "      <th>group_2</th>\n",
       "      <th>p_value</th>\n",
       "    </tr>\n",
       "  </thead>\n",
       "  <tbody>\n",
       "    <tr>\n",
       "      <th>0</th>\n",
       "      <td>Главный экран</td>\n",
       "      <td>A1A2</td>\n",
       "      <td>B</td>\n",
       "      <td>0.29</td>\n",
       "    </tr>\n",
       "    <tr>\n",
       "      <th>1</th>\n",
       "      <td>Экран офера</td>\n",
       "      <td>A1A2</td>\n",
       "      <td>B</td>\n",
       "      <td>0.43</td>\n",
       "    </tr>\n",
       "    <tr>\n",
       "      <th>2</th>\n",
       "      <td>Экран заказа</td>\n",
       "      <td>A1A2</td>\n",
       "      <td>B</td>\n",
       "      <td>0.18</td>\n",
       "    </tr>\n",
       "    <tr>\n",
       "      <th>3</th>\n",
       "      <td>Экран оплаты</td>\n",
       "      <td>A1A2</td>\n",
       "      <td>B</td>\n",
       "      <td>0.60</td>\n",
       "    </tr>\n",
       "  </tbody>\n",
       "</table>\n",
       "</div>"
      ],
      "text/plain": [
       "           event group_1 group_2  p_value\n",
       "0  Главный экран    A1A2       B     0.29\n",
       "1    Экран офера    A1A2       B     0.43\n",
       "2   Экран заказа    A1A2       B     0.18\n",
       "3   Экран оплаты    A1A2       B     0.60"
      ]
     },
     "execution_count": 47,
     "metadata": {},
     "output_type": "execute_result"
    }
   ],
   "source": [
    "z_test(all_events_test, 'A1A2', 'B')"
   ]
  },
  {
   "cell_type": "markdown",
   "metadata": {},
   "source": [
    "#### **Вывод**"
   ]
  },
  {
   "cell_type": "markdown",
   "metadata": {},
   "source": [
    "Гипотеза о равенстве долей пользователей совершивших событие в группах не была отвергнута ни на одном этапе воронки событий при всех сравнениях групп А1/А2, А1/В, А2/В, (А1+А2)/В. "
   ]
  },
  {
   "cell_type": "markdown",
   "metadata": {},
   "source": [
    "### Корректировка для множественных тестов\n",
    "\n",
    "\n",
    "Было проведено 16 тестов, и при таком количестве увеличивается вероятность ложноположительного результата, то есть растет групповая вероятность ошибки первого рода. В нашем случае воспользуемся поправкой Бонферрони (alpha/m, где m - количество тестов) к коэффициенту статистической значимости и посмотрим на результат"
   ]
  },
  {
   "cell_type": "code",
   "execution_count": 48,
   "metadata": {},
   "outputs": [
    {
     "data": {
      "text/markdown": [
       "**z-test между группами A1 и A2, значение alpha - 0.003125**"
      ],
      "text/plain": [
       "<IPython.core.display.Markdown object>"
      ]
     },
     "metadata": {},
     "output_type": "display_data"
    },
    {
     "data": {
      "text/markdown": [
       "Для события **Главный экран** p-значение: **0.75706**"
      ],
      "text/plain": [
       "<IPython.core.display.Markdown object>"
      ]
     },
     "metadata": {},
     "output_type": "display_data"
    },
    {
     "name": "stdout",
     "output_type": "stream",
     "text": [
      "   Не получилось отвергнуть нулевую гипотезу, нет оснований считать доли разными\n"
     ]
    },
    {
     "data": {
      "text/markdown": [
       "Для события **Экран офера** p-значение: **0.2481**"
      ],
      "text/plain": [
       "<IPython.core.display.Markdown object>"
      ]
     },
     "metadata": {},
     "output_type": "display_data"
    },
    {
     "name": "stdout",
     "output_type": "stream",
     "text": [
      "   Не получилось отвергнуть нулевую гипотезу, нет оснований считать доли разными\n"
     ]
    },
    {
     "data": {
      "text/markdown": [
       "Для события **Экран заказа** p-значение: **0.22883**"
      ],
      "text/plain": [
       "<IPython.core.display.Markdown object>"
      ]
     },
     "metadata": {},
     "output_type": "display_data"
    },
    {
     "name": "stdout",
     "output_type": "stream",
     "text": [
      "   Не получилось отвергнуть нулевую гипотезу, нет оснований считать доли разными\n"
     ]
    },
    {
     "data": {
      "text/markdown": [
       "Для события **Экран оплаты** p-значение: **0.11457**"
      ],
      "text/plain": [
       "<IPython.core.display.Markdown object>"
      ]
     },
     "metadata": {},
     "output_type": "display_data"
    },
    {
     "name": "stdout",
     "output_type": "stream",
     "text": [
      "   Не получилось отвергнуть нулевую гипотезу, нет оснований считать доли разными\n"
     ]
    },
    {
     "data": {
      "text/markdown": [
       "**z-test между группами A1 и B, значение alpha - 0.003125**"
      ],
      "text/plain": [
       "<IPython.core.display.Markdown object>"
      ]
     },
     "metadata": {},
     "output_type": "display_data"
    },
    {
     "data": {
      "text/markdown": [
       "Для события **Главный экран** p-значение: **0.29497**"
      ],
      "text/plain": [
       "<IPython.core.display.Markdown object>"
      ]
     },
     "metadata": {},
     "output_type": "display_data"
    },
    {
     "name": "stdout",
     "output_type": "stream",
     "text": [
      "   Не получилось отвергнуть нулевую гипотезу, нет оснований считать доли разными\n"
     ]
    },
    {
     "data": {
      "text/markdown": [
       "Для события **Экран офера** p-значение: **0.20836**"
      ],
      "text/plain": [
       "<IPython.core.display.Markdown object>"
      ]
     },
     "metadata": {},
     "output_type": "display_data"
    },
    {
     "name": "stdout",
     "output_type": "stream",
     "text": [
      "   Не получилось отвергнуть нулевую гипотезу, нет оснований считать доли разными\n"
     ]
    },
    {
     "data": {
      "text/markdown": [
       "Для события **Экран заказа** p-значение: **0.07843**"
      ],
      "text/plain": [
       "<IPython.core.display.Markdown object>"
      ]
     },
     "metadata": {},
     "output_type": "display_data"
    },
    {
     "name": "stdout",
     "output_type": "stream",
     "text": [
      "   Не получилось отвергнуть нулевую гипотезу, нет оснований считать доли разными\n"
     ]
    },
    {
     "data": {
      "text/markdown": [
       "Для события **Экран оплаты** p-значение: **0.21226**"
      ],
      "text/plain": [
       "<IPython.core.display.Markdown object>"
      ]
     },
     "metadata": {},
     "output_type": "display_data"
    },
    {
     "name": "stdout",
     "output_type": "stream",
     "text": [
      "   Не получилось отвергнуть нулевую гипотезу, нет оснований считать доли разными\n"
     ]
    },
    {
     "data": {
      "text/markdown": [
       "**z-test между группами A2 и B, значение alpha - 0.003125**"
      ],
      "text/plain": [
       "<IPython.core.display.Markdown object>"
      ]
     },
     "metadata": {},
     "output_type": "display_data"
    },
    {
     "data": {
      "text/markdown": [
       "Для события **Главный экран** p-значение: **0.45871**"
      ],
      "text/plain": [
       "<IPython.core.display.Markdown object>"
      ]
     },
     "metadata": {},
     "output_type": "display_data"
    },
    {
     "name": "stdout",
     "output_type": "stream",
     "text": [
      "   Не получилось отвергнуть нулевую гипотезу, нет оснований считать доли разными\n"
     ]
    },
    {
     "data": {
      "text/markdown": [
       "Для события **Экран офера** p-значение: **0.91978**"
      ],
      "text/plain": [
       "<IPython.core.display.Markdown object>"
      ]
     },
     "metadata": {},
     "output_type": "display_data"
    },
    {
     "name": "stdout",
     "output_type": "stream",
     "text": [
      "   Не получилось отвергнуть нулевую гипотезу, нет оснований считать доли разными\n"
     ]
    },
    {
     "data": {
      "text/markdown": [
       "Для события **Экран заказа** p-значение: **0.57862**"
      ],
      "text/plain": [
       "<IPython.core.display.Markdown object>"
      ]
     },
     "metadata": {},
     "output_type": "display_data"
    },
    {
     "name": "stdout",
     "output_type": "stream",
     "text": [
      "   Не получилось отвергнуть нулевую гипотезу, нет оснований считать доли разными\n"
     ]
    },
    {
     "data": {
      "text/markdown": [
       "Для события **Экран оплаты** p-значение: **0.73734**"
      ],
      "text/plain": [
       "<IPython.core.display.Markdown object>"
      ]
     },
     "metadata": {},
     "output_type": "display_data"
    },
    {
     "name": "stdout",
     "output_type": "stream",
     "text": [
      "   Не получилось отвергнуть нулевую гипотезу, нет оснований считать доли разными\n"
     ]
    },
    {
     "data": {
      "text/markdown": [
       "**z-test между группами A1A2 и B, значение alpha - 0.003125**"
      ],
      "text/plain": [
       "<IPython.core.display.Markdown object>"
      ]
     },
     "metadata": {},
     "output_type": "display_data"
    },
    {
     "data": {
      "text/markdown": [
       "Для события **Главный экран** p-значение: **0.29425**"
      ],
      "text/plain": [
       "<IPython.core.display.Markdown object>"
      ]
     },
     "metadata": {},
     "output_type": "display_data"
    },
    {
     "name": "stdout",
     "output_type": "stream",
     "text": [
      "   Не получилось отвергнуть нулевую гипотезу, нет оснований считать доли разными\n"
     ]
    },
    {
     "data": {
      "text/markdown": [
       "Для события **Экран офера** p-значение: **0.43426**"
      ],
      "text/plain": [
       "<IPython.core.display.Markdown object>"
      ]
     },
     "metadata": {},
     "output_type": "display_data"
    },
    {
     "name": "stdout",
     "output_type": "stream",
     "text": [
      "   Не получилось отвергнуть нулевую гипотезу, нет оснований считать доли разными\n"
     ]
    },
    {
     "data": {
      "text/markdown": [
       "Для события **Экран заказа** p-значение: **0.18176**"
      ],
      "text/plain": [
       "<IPython.core.display.Markdown object>"
      ]
     },
     "metadata": {},
     "output_type": "display_data"
    },
    {
     "name": "stdout",
     "output_type": "stream",
     "text": [
      "   Не получилось отвергнуть нулевую гипотезу, нет оснований считать доли разными\n"
     ]
    },
    {
     "data": {
      "text/markdown": [
       "Для события **Экран оплаты** p-значение: **0.60043**"
      ],
      "text/plain": [
       "<IPython.core.display.Markdown object>"
      ]
     },
     "metadata": {},
     "output_type": "display_data"
    },
    {
     "name": "stdout",
     "output_type": "stream",
     "text": [
      "   Не получилось отвергнуть нулевую гипотезу, нет оснований считать доли разными\n"
     ]
    }
   ],
   "source": [
    "alpha=0.05\n",
    "\n",
    "# alpha с поправкой Бонферонни\n",
    "alpha_b=alpha/16\n",
    "\n",
    "# список групп для z-test\n",
    "data = {'group_1' : ['A1', 'A1', 'A2', 'A1A2'],\n",
    "        'group_2' : ['A2', 'B', 'B', 'B']}\n",
    "test_table = pd.DataFrame(data)\n",
    "\n",
    "# в цикле test_table запустим z_test с указанными параметрами\n",
    "for i in range(len(test_table)):\n",
    "    \n",
    "    table = z_test(all_events_test, test_table.loc[i]['group_1'], test_table.loc[i]['group_2'], alpha_b)\n"
   ]
  },
  {
   "cell_type": "markdown",
   "metadata": {},
   "source": [
    "**Как мы видим, даже с поправкой нет оснований ни в одной из групп считать доли пользователей совершивших действия разными** Позитивных результатов у нас и без поправки не было"
   ]
  },
  {
   "cell_type": "markdown",
   "metadata": {},
   "source": [
    "Прогоню еще раз все тесты, чтобы собрать для statsmodels табличку с p_value (и там в функцию соотвественно вернула сбор значений в таблицу)"
   ]
  },
  {
   "cell_type": "code",
   "execution_count": 49,
   "metadata": {},
   "outputs": [
    {
     "data": {
      "text/markdown": [
       "**z-test между группами A1 и A2, значение alpha - 0.05**"
      ],
      "text/plain": [
       "<IPython.core.display.Markdown object>"
      ]
     },
     "metadata": {},
     "output_type": "display_data"
    },
    {
     "data": {
      "text/markdown": [
       "Для события **Главный экран** p-значение: **0.75706**"
      ],
      "text/plain": [
       "<IPython.core.display.Markdown object>"
      ]
     },
     "metadata": {},
     "output_type": "display_data"
    },
    {
     "name": "stdout",
     "output_type": "stream",
     "text": [
      "   Не получилось отвергнуть нулевую гипотезу, нет оснований считать доли разными\n"
     ]
    },
    {
     "data": {
      "text/markdown": [
       "Для события **Экран офера** p-значение: **0.2481**"
      ],
      "text/plain": [
       "<IPython.core.display.Markdown object>"
      ]
     },
     "metadata": {},
     "output_type": "display_data"
    },
    {
     "name": "stdout",
     "output_type": "stream",
     "text": [
      "   Не получилось отвергнуть нулевую гипотезу, нет оснований считать доли разными\n"
     ]
    },
    {
     "data": {
      "text/markdown": [
       "Для события **Экран заказа** p-значение: **0.22883**"
      ],
      "text/plain": [
       "<IPython.core.display.Markdown object>"
      ]
     },
     "metadata": {},
     "output_type": "display_data"
    },
    {
     "name": "stdout",
     "output_type": "stream",
     "text": [
      "   Не получилось отвергнуть нулевую гипотезу, нет оснований считать доли разными\n"
     ]
    },
    {
     "data": {
      "text/markdown": [
       "Для события **Экран оплаты** p-значение: **0.11457**"
      ],
      "text/plain": [
       "<IPython.core.display.Markdown object>"
      ]
     },
     "metadata": {},
     "output_type": "display_data"
    },
    {
     "name": "stdout",
     "output_type": "stream",
     "text": [
      "   Не получилось отвергнуть нулевую гипотезу, нет оснований считать доли разными\n"
     ]
    },
    {
     "data": {
      "text/markdown": [
       "**z-test между группами A1 и B, значение alpha - 0.05**"
      ],
      "text/plain": [
       "<IPython.core.display.Markdown object>"
      ]
     },
     "metadata": {},
     "output_type": "display_data"
    },
    {
     "data": {
      "text/markdown": [
       "Для события **Главный экран** p-значение: **0.29497**"
      ],
      "text/plain": [
       "<IPython.core.display.Markdown object>"
      ]
     },
     "metadata": {},
     "output_type": "display_data"
    },
    {
     "name": "stdout",
     "output_type": "stream",
     "text": [
      "   Не получилось отвергнуть нулевую гипотезу, нет оснований считать доли разными\n"
     ]
    },
    {
     "data": {
      "text/markdown": [
       "Для события **Экран офера** p-значение: **0.20836**"
      ],
      "text/plain": [
       "<IPython.core.display.Markdown object>"
      ]
     },
     "metadata": {},
     "output_type": "display_data"
    },
    {
     "name": "stdout",
     "output_type": "stream",
     "text": [
      "   Не получилось отвергнуть нулевую гипотезу, нет оснований считать доли разными\n"
     ]
    },
    {
     "data": {
      "text/markdown": [
       "Для события **Экран заказа** p-значение: **0.07843**"
      ],
      "text/plain": [
       "<IPython.core.display.Markdown object>"
      ]
     },
     "metadata": {},
     "output_type": "display_data"
    },
    {
     "name": "stdout",
     "output_type": "stream",
     "text": [
      "   Не получилось отвергнуть нулевую гипотезу, нет оснований считать доли разными\n"
     ]
    },
    {
     "data": {
      "text/markdown": [
       "Для события **Экран оплаты** p-значение: **0.21226**"
      ],
      "text/plain": [
       "<IPython.core.display.Markdown object>"
      ]
     },
     "metadata": {},
     "output_type": "display_data"
    },
    {
     "name": "stdout",
     "output_type": "stream",
     "text": [
      "   Не получилось отвергнуть нулевую гипотезу, нет оснований считать доли разными\n"
     ]
    },
    {
     "data": {
      "text/markdown": [
       "**z-test между группами A2 и B, значение alpha - 0.05**"
      ],
      "text/plain": [
       "<IPython.core.display.Markdown object>"
      ]
     },
     "metadata": {},
     "output_type": "display_data"
    },
    {
     "data": {
      "text/markdown": [
       "Для события **Главный экран** p-значение: **0.45871**"
      ],
      "text/plain": [
       "<IPython.core.display.Markdown object>"
      ]
     },
     "metadata": {},
     "output_type": "display_data"
    },
    {
     "name": "stdout",
     "output_type": "stream",
     "text": [
      "   Не получилось отвергнуть нулевую гипотезу, нет оснований считать доли разными\n"
     ]
    },
    {
     "data": {
      "text/markdown": [
       "Для события **Экран офера** p-значение: **0.91978**"
      ],
      "text/plain": [
       "<IPython.core.display.Markdown object>"
      ]
     },
     "metadata": {},
     "output_type": "display_data"
    },
    {
     "name": "stdout",
     "output_type": "stream",
     "text": [
      "   Не получилось отвергнуть нулевую гипотезу, нет оснований считать доли разными\n"
     ]
    },
    {
     "data": {
      "text/markdown": [
       "Для события **Экран заказа** p-значение: **0.57862**"
      ],
      "text/plain": [
       "<IPython.core.display.Markdown object>"
      ]
     },
     "metadata": {},
     "output_type": "display_data"
    },
    {
     "name": "stdout",
     "output_type": "stream",
     "text": [
      "   Не получилось отвергнуть нулевую гипотезу, нет оснований считать доли разными\n"
     ]
    },
    {
     "data": {
      "text/markdown": [
       "Для события **Экран оплаты** p-значение: **0.73734**"
      ],
      "text/plain": [
       "<IPython.core.display.Markdown object>"
      ]
     },
     "metadata": {},
     "output_type": "display_data"
    },
    {
     "name": "stdout",
     "output_type": "stream",
     "text": [
      "   Не получилось отвергнуть нулевую гипотезу, нет оснований считать доли разными\n"
     ]
    },
    {
     "data": {
      "text/markdown": [
       "**z-test между группами A1A2 и B, значение alpha - 0.05**"
      ],
      "text/plain": [
       "<IPython.core.display.Markdown object>"
      ]
     },
     "metadata": {},
     "output_type": "display_data"
    },
    {
     "data": {
      "text/markdown": [
       "Для события **Главный экран** p-значение: **0.29425**"
      ],
      "text/plain": [
       "<IPython.core.display.Markdown object>"
      ]
     },
     "metadata": {},
     "output_type": "display_data"
    },
    {
     "name": "stdout",
     "output_type": "stream",
     "text": [
      "   Не получилось отвергнуть нулевую гипотезу, нет оснований считать доли разными\n"
     ]
    },
    {
     "data": {
      "text/markdown": [
       "Для события **Экран офера** p-значение: **0.43426**"
      ],
      "text/plain": [
       "<IPython.core.display.Markdown object>"
      ]
     },
     "metadata": {},
     "output_type": "display_data"
    },
    {
     "name": "stdout",
     "output_type": "stream",
     "text": [
      "   Не получилось отвергнуть нулевую гипотезу, нет оснований считать доли разными\n"
     ]
    },
    {
     "data": {
      "text/markdown": [
       "Для события **Экран заказа** p-значение: **0.18176**"
      ],
      "text/plain": [
       "<IPython.core.display.Markdown object>"
      ]
     },
     "metadata": {},
     "output_type": "display_data"
    },
    {
     "name": "stdout",
     "output_type": "stream",
     "text": [
      "   Не получилось отвергнуть нулевую гипотезу, нет оснований считать доли разными\n"
     ]
    },
    {
     "data": {
      "text/markdown": [
       "Для события **Экран оплаты** p-значение: **0.60043**"
      ],
      "text/plain": [
       "<IPython.core.display.Markdown object>"
      ]
     },
     "metadata": {},
     "output_type": "display_data"
    },
    {
     "name": "stdout",
     "output_type": "stream",
     "text": [
      "   Не получилось отвергнуть нулевую гипотезу, нет оснований считать доли разными\n"
     ]
    },
    {
     "data": {
      "text/html": [
       "<div>\n",
       "<style scoped>\n",
       "    .dataframe tbody tr th:only-of-type {\n",
       "        vertical-align: middle;\n",
       "    }\n",
       "\n",
       "    .dataframe tbody tr th {\n",
       "        vertical-align: top;\n",
       "    }\n",
       "\n",
       "    .dataframe thead th {\n",
       "        text-align: right;\n",
       "    }\n",
       "</style>\n",
       "<table border=\"1\" class=\"dataframe\">\n",
       "  <thead>\n",
       "    <tr style=\"text-align: right;\">\n",
       "      <th></th>\n",
       "      <th>event</th>\n",
       "      <th>group_1</th>\n",
       "      <th>group_2</th>\n",
       "      <th>p_value</th>\n",
       "    </tr>\n",
       "  </thead>\n",
       "  <tbody>\n",
       "    <tr>\n",
       "      <th>0</th>\n",
       "      <td>Главный экран</td>\n",
       "      <td>A1</td>\n",
       "      <td>A2</td>\n",
       "      <td>0.76</td>\n",
       "    </tr>\n",
       "    <tr>\n",
       "      <th>1</th>\n",
       "      <td>Экран офера</td>\n",
       "      <td>A1</td>\n",
       "      <td>A2</td>\n",
       "      <td>0.25</td>\n",
       "    </tr>\n",
       "    <tr>\n",
       "      <th>2</th>\n",
       "      <td>Экран заказа</td>\n",
       "      <td>A1</td>\n",
       "      <td>A2</td>\n",
       "      <td>0.23</td>\n",
       "    </tr>\n",
       "    <tr>\n",
       "      <th>3</th>\n",
       "      <td>Экран оплаты</td>\n",
       "      <td>A1</td>\n",
       "      <td>A2</td>\n",
       "      <td>0.11</td>\n",
       "    </tr>\n",
       "    <tr>\n",
       "      <th>0</th>\n",
       "      <td>Главный экран</td>\n",
       "      <td>A1</td>\n",
       "      <td>B</td>\n",
       "      <td>0.29</td>\n",
       "    </tr>\n",
       "    <tr>\n",
       "      <th>1</th>\n",
       "      <td>Экран офера</td>\n",
       "      <td>A1</td>\n",
       "      <td>B</td>\n",
       "      <td>0.21</td>\n",
       "    </tr>\n",
       "    <tr>\n",
       "      <th>2</th>\n",
       "      <td>Экран заказа</td>\n",
       "      <td>A1</td>\n",
       "      <td>B</td>\n",
       "      <td>0.08</td>\n",
       "    </tr>\n",
       "    <tr>\n",
       "      <th>3</th>\n",
       "      <td>Экран оплаты</td>\n",
       "      <td>A1</td>\n",
       "      <td>B</td>\n",
       "      <td>0.21</td>\n",
       "    </tr>\n",
       "    <tr>\n",
       "      <th>0</th>\n",
       "      <td>Главный экран</td>\n",
       "      <td>A2</td>\n",
       "      <td>B</td>\n",
       "      <td>0.46</td>\n",
       "    </tr>\n",
       "    <tr>\n",
       "      <th>1</th>\n",
       "      <td>Экран офера</td>\n",
       "      <td>A2</td>\n",
       "      <td>B</td>\n",
       "      <td>0.92</td>\n",
       "    </tr>\n",
       "    <tr>\n",
       "      <th>2</th>\n",
       "      <td>Экран заказа</td>\n",
       "      <td>A2</td>\n",
       "      <td>B</td>\n",
       "      <td>0.58</td>\n",
       "    </tr>\n",
       "    <tr>\n",
       "      <th>3</th>\n",
       "      <td>Экран оплаты</td>\n",
       "      <td>A2</td>\n",
       "      <td>B</td>\n",
       "      <td>0.74</td>\n",
       "    </tr>\n",
       "    <tr>\n",
       "      <th>0</th>\n",
       "      <td>Главный экран</td>\n",
       "      <td>A1A2</td>\n",
       "      <td>B</td>\n",
       "      <td>0.29</td>\n",
       "    </tr>\n",
       "    <tr>\n",
       "      <th>1</th>\n",
       "      <td>Экран офера</td>\n",
       "      <td>A1A2</td>\n",
       "      <td>B</td>\n",
       "      <td>0.43</td>\n",
       "    </tr>\n",
       "    <tr>\n",
       "      <th>2</th>\n",
       "      <td>Экран заказа</td>\n",
       "      <td>A1A2</td>\n",
       "      <td>B</td>\n",
       "      <td>0.18</td>\n",
       "    </tr>\n",
       "    <tr>\n",
       "      <th>3</th>\n",
       "      <td>Экран оплаты</td>\n",
       "      <td>A1A2</td>\n",
       "      <td>B</td>\n",
       "      <td>0.60</td>\n",
       "    </tr>\n",
       "  </tbody>\n",
       "</table>\n",
       "</div>"
      ],
      "text/plain": [
       "           event group_1 group_2  p_value\n",
       "0  Главный экран      A1      A2     0.76\n",
       "1    Экран офера      A1      A2     0.25\n",
       "2   Экран заказа      A1      A2     0.23\n",
       "3   Экран оплаты      A1      A2     0.11\n",
       "0  Главный экран      A1       B     0.29\n",
       "1    Экран офера      A1       B     0.21\n",
       "2   Экран заказа      A1       B     0.08\n",
       "3   Экран оплаты      A1       B     0.21\n",
       "0  Главный экран      A2       B     0.46\n",
       "1    Экран офера      A2       B     0.92\n",
       "2   Экран заказа      A2       B     0.58\n",
       "3   Экран оплаты      A2       B     0.74\n",
       "0  Главный экран    A1A2       B     0.29\n",
       "1    Экран офера    A1A2       B     0.43\n",
       "2   Экран заказа    A1A2       B     0.18\n",
       "3   Экран оплаты    A1A2       B     0.60"
      ]
     },
     "execution_count": 49,
     "metadata": {},
     "output_type": "execute_result"
    }
   ],
   "source": [
    "alpha=0.05\n",
    "\n",
    "# список групп для z-test\n",
    "data = {'group_1' : ['A1', 'A1', 'A2', 'A1A2'],\n",
    "        'group_2' : ['A2', 'B', 'B', 'B']}\n",
    "test_table = pd.DataFrame(data)\n",
    "holm_table = pd.DataFrame()\n",
    "\n",
    "# в цикле test_table запустим z_test с указанными параметрами\n",
    "for i in range(len(test_table)):\n",
    "    \n",
    "    table = z_test(all_events_test, test_table.loc[i]['group_1'], test_table.loc[i]['group_2'], alpha)\n",
    "    \n",
    "    holm_table=pd.concat([holm_table, table])\n",
    "        \n",
    "holm_table"
   ]
  },
  {
   "cell_type": "code",
   "execution_count": 50,
   "metadata": {},
   "outputs": [
    {
     "data": {
      "text/html": [
       "<div>\n",
       "<style scoped>\n",
       "    .dataframe tbody tr th:only-of-type {\n",
       "        vertical-align: middle;\n",
       "    }\n",
       "\n",
       "    .dataframe tbody tr th {\n",
       "        vertical-align: top;\n",
       "    }\n",
       "\n",
       "    .dataframe thead th {\n",
       "        text-align: right;\n",
       "    }\n",
       "</style>\n",
       "<table border=\"1\" class=\"dataframe\">\n",
       "  <thead>\n",
       "    <tr style=\"text-align: right;\">\n",
       "      <th></th>\n",
       "      <th>event</th>\n",
       "      <th>group_1</th>\n",
       "      <th>group_2</th>\n",
       "      <th>p_value</th>\n",
       "      <th>p_value_corr</th>\n",
       "    </tr>\n",
       "  </thead>\n",
       "  <tbody>\n",
       "    <tr>\n",
       "      <th>0</th>\n",
       "      <td>Главный экран</td>\n",
       "      <td>A1</td>\n",
       "      <td>A2</td>\n",
       "      <td>0.76</td>\n",
       "      <td>0.99</td>\n",
       "    </tr>\n",
       "    <tr>\n",
       "      <th>1</th>\n",
       "      <td>Экран офера</td>\n",
       "      <td>A1</td>\n",
       "      <td>A2</td>\n",
       "      <td>0.25</td>\n",
       "      <td>0.95</td>\n",
       "    </tr>\n",
       "    <tr>\n",
       "      <th>2</th>\n",
       "      <td>Экран заказа</td>\n",
       "      <td>A1</td>\n",
       "      <td>A2</td>\n",
       "      <td>0.23</td>\n",
       "      <td>0.95</td>\n",
       "    </tr>\n",
       "    <tr>\n",
       "      <th>3</th>\n",
       "      <td>Экран оплаты</td>\n",
       "      <td>A1</td>\n",
       "      <td>A2</td>\n",
       "      <td>0.11</td>\n",
       "      <td>0.84</td>\n",
       "    </tr>\n",
       "    <tr>\n",
       "      <th>0</th>\n",
       "      <td>Главный экран</td>\n",
       "      <td>A1</td>\n",
       "      <td>B</td>\n",
       "      <td>0.29</td>\n",
       "      <td>0.96</td>\n",
       "    </tr>\n",
       "    <tr>\n",
       "      <th>1</th>\n",
       "      <td>Экран офера</td>\n",
       "      <td>A1</td>\n",
       "      <td>B</td>\n",
       "      <td>0.21</td>\n",
       "      <td>0.95</td>\n",
       "    </tr>\n",
       "    <tr>\n",
       "      <th>2</th>\n",
       "      <td>Экран заказа</td>\n",
       "      <td>A1</td>\n",
       "      <td>B</td>\n",
       "      <td>0.08</td>\n",
       "      <td>0.73</td>\n",
       "    </tr>\n",
       "    <tr>\n",
       "      <th>3</th>\n",
       "      <td>Экран оплаты</td>\n",
       "      <td>A1</td>\n",
       "      <td>B</td>\n",
       "      <td>0.21</td>\n",
       "      <td>0.95</td>\n",
       "    </tr>\n",
       "    <tr>\n",
       "      <th>0</th>\n",
       "      <td>Главный экран</td>\n",
       "      <td>A2</td>\n",
       "      <td>B</td>\n",
       "      <td>0.46</td>\n",
       "      <td>0.98</td>\n",
       "    </tr>\n",
       "    <tr>\n",
       "      <th>1</th>\n",
       "      <td>Экран офера</td>\n",
       "      <td>A2</td>\n",
       "      <td>B</td>\n",
       "      <td>0.92</td>\n",
       "      <td>0.99</td>\n",
       "    </tr>\n",
       "    <tr>\n",
       "      <th>2</th>\n",
       "      <td>Экран заказа</td>\n",
       "      <td>A2</td>\n",
       "      <td>B</td>\n",
       "      <td>0.58</td>\n",
       "      <td>0.99</td>\n",
       "    </tr>\n",
       "    <tr>\n",
       "      <th>3</th>\n",
       "      <td>Экран оплаты</td>\n",
       "      <td>A2</td>\n",
       "      <td>B</td>\n",
       "      <td>0.74</td>\n",
       "      <td>0.99</td>\n",
       "    </tr>\n",
       "    <tr>\n",
       "      <th>0</th>\n",
       "      <td>Главный экран</td>\n",
       "      <td>A1A2</td>\n",
       "      <td>B</td>\n",
       "      <td>0.29</td>\n",
       "      <td>0.96</td>\n",
       "    </tr>\n",
       "    <tr>\n",
       "      <th>1</th>\n",
       "      <td>Экран офера</td>\n",
       "      <td>A1A2</td>\n",
       "      <td>B</td>\n",
       "      <td>0.43</td>\n",
       "      <td>0.98</td>\n",
       "    </tr>\n",
       "    <tr>\n",
       "      <th>2</th>\n",
       "      <td>Экран заказа</td>\n",
       "      <td>A1A2</td>\n",
       "      <td>B</td>\n",
       "      <td>0.18</td>\n",
       "      <td>0.94</td>\n",
       "    </tr>\n",
       "    <tr>\n",
       "      <th>3</th>\n",
       "      <td>Экран оплаты</td>\n",
       "      <td>A1A2</td>\n",
       "      <td>B</td>\n",
       "      <td>0.60</td>\n",
       "      <td>0.99</td>\n",
       "    </tr>\n",
       "  </tbody>\n",
       "</table>\n",
       "</div>"
      ],
      "text/plain": [
       "           event group_1 group_2  p_value  p_value_corr\n",
       "0  Главный экран      A1      A2     0.76          0.99\n",
       "1    Экран офера      A1      A2     0.25          0.95\n",
       "2   Экран заказа      A1      A2     0.23          0.95\n",
       "3   Экран оплаты      A1      A2     0.11          0.84\n",
       "0  Главный экран      A1       B     0.29          0.96\n",
       "1    Экран офера      A1       B     0.21          0.95\n",
       "2   Экран заказа      A1       B     0.08          0.73\n",
       "3   Экран оплаты      A1       B     0.21          0.95\n",
       "0  Главный экран      A2       B     0.46          0.98\n",
       "1    Экран офера      A2       B     0.92          0.99\n",
       "2   Экран заказа      A2       B     0.58          0.99\n",
       "3   Экран оплаты      A2       B     0.74          0.99\n",
       "0  Главный экран    A1A2       B     0.29          0.96\n",
       "1    Экран офера    A1A2       B     0.43          0.98\n",
       "2   Экран заказа    A1A2       B     0.18          0.94\n",
       "3   Экран оплаты    A1A2       B     0.60          0.99"
      ]
     },
     "execution_count": 50,
     "metadata": {},
     "output_type": "execute_result"
    }
   ],
   "source": [
    "import statsmodels.stats.multitest as smt\n",
    "pvalues_list= holm_table['p_value'].to_list()\n",
    "results, p_value_corr,_,_ = smt.multipletests(pvalues_list, method='holm-sidak', is_sorted=False)\n",
    "\n",
    "holm_table['p_value_corr']=p_value_corr\n",
    "holm_table"
   ]
  },
  {
   "cell_type": "markdown",
   "metadata": {},
   "source": [
    "## Общий вывод\n",
    "\n",
    "Исследовательский анализ показал:\n",
    "   - Всего событий - 243713 Уникальных событий - 5 это ('Главный экран', 'Экран оплаты', 'Экран заказа','Экран офера','Обучение')\n",
    "   - Всего пользователей в логе - 7551\n",
    "   - В среднем событий  на пользователя - 32, с учетом выбросов лучше ориентироваться на медианное значение - 20 событий на пользователя\n",
    "   - События в логах за период - 2019-07-25 по 2019-08-07. Но полные данные только с 1 августа\n",
    "   - При удалении неполных данных мы потеряли 1.2% событий и 0.2% пользователей\n",
    "   - Мы убедились, что у нас есть пользователи из всех трех групп\n",
    "\n",
    "События по частоте \n",
    " - MainScreenAppear (Главный экран) увидели 117328 раз;    \n",
    " - OffersScreenAppear (Экран офера) увидели 46333 раза;      \n",
    " - CartScreenAppear (Экран заказа) увидели 42303 раза;     \n",
    " - PaymentScreenSuccessful (Экран с подтверждением успешной оплаты) увидели 33918 раз;     \n",
    " - Tutorial (Обучение) просмотрели 1005 раз.\n",
    "\n",
    "Мы  предположили, что все события выстраиваются в цепочку действий, кроме просмотра Обучения (Tutorial). Обучение само по себе дополнительная активность не влияющая на прямую последовательность действий при заказе: \n",
    "  *  Главный экран\n",
    "  *  Экран офера/предложения\n",
    "  *  Экран заказа\n",
    "  *  Экран подтверждения успешной оплаты\n",
    "  \n",
    "Очевидно, что на шаге показа Экрана офера/предложения мы теряем больше всего пользователей - 38% от количества на предыдущем шаге, в то же время самые маленькие потери между заказом и оплатой - всего 5%\n",
    "\n",
    "Всего до оплаты в предположительно прямой последовательности действий доходит 47% пользователей от общего количества, это очень неплохой результат.\n",
    "\n",
    "**Результаты А/Б - тестирования показали, что изменение шрифтов в приложении никак не  повлияло на поведение пользователей внутри приложения**"
   ]
  }
 ],
 "metadata": {
  "ExecuteTimeLog": [
   {
    "duration": 1476,
    "start_time": "2023-04-10T08:40:10.638Z"
   },
   {
    "duration": 292,
    "start_time": "2023-04-10T08:40:56.207Z"
   },
   {
    "duration": 77,
    "start_time": "2023-04-10T08:41:15.480Z"
   },
   {
    "duration": 11,
    "start_time": "2023-04-10T08:41:34.108Z"
   },
   {
    "duration": 6,
    "start_time": "2023-04-10T08:41:46.150Z"
   },
   {
    "duration": 4,
    "start_time": "2023-04-10T08:41:58.930Z"
   },
   {
    "duration": 4,
    "start_time": "2023-04-10T08:42:20.089Z"
   },
   {
    "duration": 3,
    "start_time": "2023-04-10T08:42:31.114Z"
   },
   {
    "duration": 220,
    "start_time": "2023-04-10T08:43:07.772Z"
   },
   {
    "duration": 467,
    "start_time": "2023-04-10T08:43:43.155Z"
   },
   {
    "duration": 286,
    "start_time": "2023-04-10T08:45:46.201Z"
   },
   {
    "duration": 125,
    "start_time": "2023-04-10T08:47:25.000Z"
   },
   {
    "duration": 61,
    "start_time": "2023-04-10T08:48:02.275Z"
   },
   {
    "duration": 21,
    "start_time": "2023-04-10T08:48:32.100Z"
   },
   {
    "duration": 303,
    "start_time": "2023-04-10T08:51:37.995Z"
   },
   {
    "duration": 172,
    "start_time": "2023-04-10T08:52:10.418Z"
   },
   {
    "duration": 1345,
    "start_time": "2023-04-10T08:53:19.862Z"
   },
   {
    "duration": 402,
    "start_time": "2023-04-10T08:53:21.209Z"
   },
   {
    "duration": 7,
    "start_time": "2023-04-10T08:53:21.613Z"
   },
   {
    "duration": 8,
    "start_time": "2023-04-10T08:53:21.622Z"
   },
   {
    "duration": 7,
    "start_time": "2023-04-10T08:53:21.632Z"
   },
   {
    "duration": 7,
    "start_time": "2023-04-10T08:53:21.640Z"
   },
   {
    "duration": 5,
    "start_time": "2023-04-10T08:53:21.648Z"
   },
   {
    "duration": 270,
    "start_time": "2023-04-10T08:53:21.654Z"
   },
   {
    "duration": 505,
    "start_time": "2023-04-10T08:53:21.925Z"
   },
   {
    "duration": 344,
    "start_time": "2023-04-10T08:53:22.432Z"
   },
   {
    "duration": 147,
    "start_time": "2023-04-10T08:53:22.778Z"
   },
   {
    "duration": 69,
    "start_time": "2023-04-10T08:53:22.926Z"
   },
   {
    "duration": 23,
    "start_time": "2023-04-10T08:53:22.996Z"
   },
   {
    "duration": 296,
    "start_time": "2023-04-10T08:53:23.021Z"
   },
   {
    "duration": 264,
    "start_time": "2023-04-10T08:53:23.319Z"
   },
   {
    "duration": 125,
    "start_time": "2023-04-10T08:53:35.766Z"
   },
   {
    "duration": 128,
    "start_time": "2023-04-10T08:53:58.413Z"
   },
   {
    "duration": 120,
    "start_time": "2023-04-10T08:54:35.963Z"
   },
   {
    "duration": 12,
    "start_time": "2023-04-10T09:22:43.033Z"
   },
   {
    "duration": 869,
    "start_time": "2023-04-10T09:22:53.689Z"
   },
   {
    "duration": 7,
    "start_time": "2023-04-10T09:23:00.239Z"
   },
   {
    "duration": 34,
    "start_time": "2023-04-10T09:26:01.893Z"
   },
   {
    "duration": 12,
    "start_time": "2023-04-10T09:27:05.009Z"
   },
   {
    "duration": 5,
    "start_time": "2023-04-10T09:27:14.646Z"
   },
   {
    "duration": 4,
    "start_time": "2023-04-10T09:27:31.468Z"
   },
   {
    "duration": 6,
    "start_time": "2023-04-10T09:27:37.778Z"
   },
   {
    "duration": 14,
    "start_time": "2023-04-10T09:28:49.104Z"
   },
   {
    "duration": 113,
    "start_time": "2023-04-10T09:29:03.741Z"
   },
   {
    "duration": 14,
    "start_time": "2023-04-10T09:29:26.267Z"
   },
   {
    "duration": 96,
    "start_time": "2023-04-10T09:29:35.511Z"
   },
   {
    "duration": 5,
    "start_time": "2023-04-10T09:30:37.018Z"
   },
   {
    "duration": 19,
    "start_time": "2023-04-10T09:34:47.987Z"
   },
   {
    "duration": 488,
    "start_time": "2023-04-10T09:35:18.549Z"
   },
   {
    "duration": 1395,
    "start_time": "2023-04-10T09:35:26.143Z"
   },
   {
    "duration": 421,
    "start_time": "2023-04-10T09:35:27.540Z"
   },
   {
    "duration": 13,
    "start_time": "2023-04-10T09:35:27.963Z"
   },
   {
    "duration": 22,
    "start_time": "2023-04-10T09:35:27.977Z"
   },
   {
    "duration": 18,
    "start_time": "2023-04-10T09:35:28.001Z"
   },
   {
    "duration": 9,
    "start_time": "2023-04-10T09:35:28.020Z"
   },
   {
    "duration": 10,
    "start_time": "2023-04-10T09:35:28.031Z"
   },
   {
    "duration": 228,
    "start_time": "2023-04-10T09:35:28.042Z"
   },
   {
    "duration": 440,
    "start_time": "2023-04-10T09:35:28.271Z"
   },
   {
    "duration": 1540,
    "start_time": "2023-04-10T09:35:28.713Z"
   },
   {
    "duration": 0,
    "start_time": "2023-04-10T09:35:30.255Z"
   },
   {
    "duration": 0,
    "start_time": "2023-04-10T09:35:30.257Z"
   },
   {
    "duration": 0,
    "start_time": "2023-04-10T09:35:30.258Z"
   },
   {
    "duration": 0,
    "start_time": "2023-04-10T09:35:30.259Z"
   },
   {
    "duration": 0,
    "start_time": "2023-04-10T09:35:30.274Z"
   },
   {
    "duration": 0,
    "start_time": "2023-04-10T09:35:30.275Z"
   },
   {
    "duration": 0,
    "start_time": "2023-04-10T09:35:30.276Z"
   },
   {
    "duration": 0,
    "start_time": "2023-04-10T09:35:30.277Z"
   },
   {
    "duration": 0,
    "start_time": "2023-04-10T09:35:30.278Z"
   },
   {
    "duration": 0,
    "start_time": "2023-04-10T09:35:30.280Z"
   },
   {
    "duration": 0,
    "start_time": "2023-04-10T09:35:30.281Z"
   },
   {
    "duration": 1276,
    "start_time": "2023-04-10T09:35:48.518Z"
   },
   {
    "duration": 358,
    "start_time": "2023-04-10T09:35:49.796Z"
   },
   {
    "duration": 7,
    "start_time": "2023-04-10T09:35:50.156Z"
   },
   {
    "duration": 18,
    "start_time": "2023-04-10T09:35:50.165Z"
   },
   {
    "duration": 21,
    "start_time": "2023-04-10T09:35:50.185Z"
   },
   {
    "duration": 16,
    "start_time": "2023-04-10T09:35:50.207Z"
   },
   {
    "duration": 21,
    "start_time": "2023-04-10T09:35:50.225Z"
   },
   {
    "duration": 251,
    "start_time": "2023-04-10T09:35:50.248Z"
   },
   {
    "duration": 422,
    "start_time": "2023-04-10T09:35:50.501Z"
   },
   {
    "duration": 298,
    "start_time": "2023-04-10T09:35:50.925Z"
   },
   {
    "duration": 138,
    "start_time": "2023-04-10T09:35:51.225Z"
   },
   {
    "duration": 59,
    "start_time": "2023-04-10T09:35:51.364Z"
   },
   {
    "duration": 37,
    "start_time": "2023-04-10T09:35:51.425Z"
   },
   {
    "duration": 160,
    "start_time": "2023-04-10T09:35:51.465Z"
   },
   {
    "duration": 0,
    "start_time": "2023-04-10T09:35:51.627Z"
   },
   {
    "duration": 0,
    "start_time": "2023-04-10T09:35:51.629Z"
   },
   {
    "duration": 0,
    "start_time": "2023-04-10T09:35:51.630Z"
   },
   {
    "duration": 0,
    "start_time": "2023-04-10T09:35:51.632Z"
   },
   {
    "duration": 0,
    "start_time": "2023-04-10T09:35:51.633Z"
   },
   {
    "duration": 0,
    "start_time": "2023-04-10T09:35:51.635Z"
   },
   {
    "duration": 0,
    "start_time": "2023-04-10T09:35:51.636Z"
   },
   {
    "duration": 352,
    "start_time": "2023-04-10T09:36:54.015Z"
   },
   {
    "duration": 117,
    "start_time": "2023-04-10T09:37:12.919Z"
   },
   {
    "duration": 7,
    "start_time": "2023-04-10T09:37:16.012Z"
   },
   {
    "duration": 7,
    "start_time": "2023-04-10T09:37:16.775Z"
   },
   {
    "duration": 35,
    "start_time": "2023-04-10T09:37:18.171Z"
   },
   {
    "duration": 101,
    "start_time": "2023-04-10T09:37:19.155Z"
   },
   {
    "duration": 6,
    "start_time": "2023-04-10T09:37:21.657Z"
   },
   {
    "duration": 32,
    "start_time": "2023-04-10T09:37:22.421Z"
   },
   {
    "duration": 46,
    "start_time": "2023-04-10T09:37:32.727Z"
   },
   {
    "duration": 1619,
    "start_time": "2023-04-10T11:54:14.010Z"
   },
   {
    "duration": 411,
    "start_time": "2023-04-10T11:54:15.631Z"
   },
   {
    "duration": 6,
    "start_time": "2023-04-10T11:54:16.044Z"
   },
   {
    "duration": 7,
    "start_time": "2023-04-10T11:54:16.052Z"
   },
   {
    "duration": 6,
    "start_time": "2023-04-10T11:54:16.061Z"
   },
   {
    "duration": 4,
    "start_time": "2023-04-10T11:54:16.068Z"
   },
   {
    "duration": 5,
    "start_time": "2023-04-10T11:54:16.073Z"
   },
   {
    "duration": 316,
    "start_time": "2023-04-10T11:54:16.094Z"
   },
   {
    "duration": 418,
    "start_time": "2023-04-10T11:54:16.412Z"
   },
   {
    "duration": 286,
    "start_time": "2023-04-10T11:54:16.832Z"
   },
   {
    "duration": 158,
    "start_time": "2023-04-10T11:54:17.119Z"
   },
   {
    "duration": 62,
    "start_time": "2023-04-10T11:54:17.279Z"
   },
   {
    "duration": 24,
    "start_time": "2023-04-10T11:54:17.343Z"
   },
   {
    "duration": 311,
    "start_time": "2023-04-10T11:54:17.369Z"
   },
   {
    "duration": 159,
    "start_time": "2023-04-10T11:54:17.681Z"
   },
   {
    "duration": 6,
    "start_time": "2023-04-10T11:54:17.842Z"
   },
   {
    "duration": 19,
    "start_time": "2023-04-10T11:54:17.849Z"
   },
   {
    "duration": 54,
    "start_time": "2023-04-10T11:54:17.869Z"
   },
   {
    "duration": 107,
    "start_time": "2023-04-10T11:54:17.924Z"
   },
   {
    "duration": 5,
    "start_time": "2023-04-10T11:54:18.032Z"
   },
   {
    "duration": 29,
    "start_time": "2023-04-10T11:54:18.039Z"
   },
   {
    "duration": 7,
    "start_time": "2023-04-10T11:55:19.446Z"
   },
   {
    "duration": 1360,
    "start_time": "2023-04-10T11:55:26.778Z"
   },
   {
    "duration": 344,
    "start_time": "2023-04-10T11:55:28.140Z"
   },
   {
    "duration": 12,
    "start_time": "2023-04-10T11:55:28.485Z"
   },
   {
    "duration": 18,
    "start_time": "2023-04-10T11:55:28.499Z"
   },
   {
    "duration": 17,
    "start_time": "2023-04-10T11:55:28.519Z"
   },
   {
    "duration": 4,
    "start_time": "2023-04-10T11:55:28.538Z"
   },
   {
    "duration": 5,
    "start_time": "2023-04-10T11:55:28.544Z"
   },
   {
    "duration": 371,
    "start_time": "2023-04-10T11:55:28.550Z"
   },
   {
    "duration": 481,
    "start_time": "2023-04-10T11:55:28.922Z"
   },
   {
    "duration": 338,
    "start_time": "2023-04-10T11:55:29.405Z"
   },
   {
    "duration": 162,
    "start_time": "2023-04-10T11:55:29.744Z"
   },
   {
    "duration": 63,
    "start_time": "2023-04-10T11:55:29.908Z"
   },
   {
    "duration": 27,
    "start_time": "2023-04-10T11:55:29.973Z"
   },
   {
    "duration": 322,
    "start_time": "2023-04-10T11:55:30.003Z"
   },
   {
    "duration": 243,
    "start_time": "2023-04-10T11:55:30.327Z"
   },
   {
    "duration": 23,
    "start_time": "2023-04-10T11:55:30.572Z"
   },
   {
    "duration": 35,
    "start_time": "2023-04-10T11:55:30.597Z"
   },
   {
    "duration": 67,
    "start_time": "2023-04-10T11:55:30.634Z"
   },
   {
    "duration": 121,
    "start_time": "2023-04-10T11:55:30.703Z"
   },
   {
    "duration": 5,
    "start_time": "2023-04-10T11:55:30.826Z"
   },
   {
    "duration": 76,
    "start_time": "2023-04-10T11:55:30.833Z"
   },
   {
    "duration": 366,
    "start_time": "2023-04-10T11:57:35.925Z"
   },
   {
    "duration": 1404,
    "start_time": "2023-04-10T11:57:42.863Z"
   },
   {
    "duration": 308,
    "start_time": "2023-04-10T11:57:44.270Z"
   },
   {
    "duration": 8,
    "start_time": "2023-04-10T11:57:44.580Z"
   },
   {
    "duration": 9,
    "start_time": "2023-04-10T11:57:44.593Z"
   },
   {
    "duration": 13,
    "start_time": "2023-04-10T11:57:44.604Z"
   },
   {
    "duration": 11,
    "start_time": "2023-04-10T11:57:44.618Z"
   },
   {
    "duration": 15,
    "start_time": "2023-04-10T11:57:44.630Z"
   },
   {
    "duration": 320,
    "start_time": "2023-04-10T11:57:44.647Z"
   },
   {
    "duration": 469,
    "start_time": "2023-04-10T11:57:44.968Z"
   },
   {
    "duration": 278,
    "start_time": "2023-04-10T11:57:45.440Z"
   },
   {
    "duration": 150,
    "start_time": "2023-04-10T11:57:45.719Z"
   },
   {
    "duration": 140,
    "start_time": "2023-04-10T11:57:45.872Z"
   },
   {
    "duration": 0,
    "start_time": "2023-04-10T11:57:46.015Z"
   },
   {
    "duration": 0,
    "start_time": "2023-04-10T11:57:46.016Z"
   },
   {
    "duration": 0,
    "start_time": "2023-04-10T11:57:46.018Z"
   },
   {
    "duration": 0,
    "start_time": "2023-04-10T11:57:46.019Z"
   },
   {
    "duration": 0,
    "start_time": "2023-04-10T11:57:46.021Z"
   },
   {
    "duration": 0,
    "start_time": "2023-04-10T11:57:46.022Z"
   },
   {
    "duration": 0,
    "start_time": "2023-04-10T11:57:46.024Z"
   },
   {
    "duration": 0,
    "start_time": "2023-04-10T11:57:46.025Z"
   },
   {
    "duration": 0,
    "start_time": "2023-04-10T11:57:46.027Z"
   },
   {
    "duration": 56,
    "start_time": "2023-04-10T11:58:08.167Z"
   },
   {
    "duration": 1467,
    "start_time": "2023-04-10T12:00:02.964Z"
   },
   {
    "duration": 10,
    "start_time": "2023-04-10T12:00:13.289Z"
   },
   {
    "duration": 31,
    "start_time": "2023-04-10T12:00:20.020Z"
   },
   {
    "duration": 1334,
    "start_time": "2023-04-10T12:00:25.375Z"
   },
   {
    "duration": 299,
    "start_time": "2023-04-10T12:00:26.711Z"
   },
   {
    "duration": 7,
    "start_time": "2023-04-10T12:00:27.012Z"
   },
   {
    "duration": 13,
    "start_time": "2023-04-10T12:00:27.021Z"
   },
   {
    "duration": 7,
    "start_time": "2023-04-10T12:00:27.035Z"
   },
   {
    "duration": 10,
    "start_time": "2023-04-10T12:00:27.043Z"
   },
   {
    "duration": 6,
    "start_time": "2023-04-10T12:00:27.055Z"
   },
   {
    "duration": 344,
    "start_time": "2023-04-10T12:00:27.062Z"
   },
   {
    "duration": 438,
    "start_time": "2023-04-10T12:00:27.407Z"
   },
   {
    "duration": 283,
    "start_time": "2023-04-10T12:00:27.848Z"
   },
   {
    "duration": 147,
    "start_time": "2023-04-10T12:00:28.132Z"
   },
   {
    "duration": 66,
    "start_time": "2023-04-10T12:00:28.281Z"
   },
   {
    "duration": 20,
    "start_time": "2023-04-10T12:00:28.348Z"
   },
   {
    "duration": 53,
    "start_time": "2023-04-10T12:00:28.370Z"
   },
   {
    "duration": 276,
    "start_time": "2023-04-10T12:00:28.424Z"
   },
   {
    "duration": 222,
    "start_time": "2023-04-10T12:00:28.701Z"
   },
   {
    "duration": 0,
    "start_time": "2023-04-10T12:00:28.925Z"
   },
   {
    "duration": 0,
    "start_time": "2023-04-10T12:00:28.926Z"
   },
   {
    "duration": 0,
    "start_time": "2023-04-10T12:00:28.927Z"
   },
   {
    "duration": 0,
    "start_time": "2023-04-10T12:00:28.928Z"
   },
   {
    "duration": 0,
    "start_time": "2023-04-10T12:00:28.929Z"
   },
   {
    "duration": 0,
    "start_time": "2023-04-10T12:00:28.930Z"
   },
   {
    "duration": 102,
    "start_time": "2023-04-10T12:02:03.424Z"
   },
   {
    "duration": 1307,
    "start_time": "2023-04-10T12:02:20.414Z"
   },
   {
    "duration": 318,
    "start_time": "2023-04-10T12:02:21.723Z"
   },
   {
    "duration": 8,
    "start_time": "2023-04-10T12:02:22.043Z"
   },
   {
    "duration": 12,
    "start_time": "2023-04-10T12:02:22.053Z"
   },
   {
    "duration": 11,
    "start_time": "2023-04-10T12:02:22.068Z"
   },
   {
    "duration": 9,
    "start_time": "2023-04-10T12:02:22.081Z"
   },
   {
    "duration": 21,
    "start_time": "2023-04-10T12:02:22.092Z"
   },
   {
    "duration": 366,
    "start_time": "2023-04-10T12:02:22.114Z"
   },
   {
    "duration": 437,
    "start_time": "2023-04-10T12:02:22.482Z"
   },
   {
    "duration": 298,
    "start_time": "2023-04-10T12:02:22.920Z"
   },
   {
    "duration": 153,
    "start_time": "2023-04-10T12:02:23.220Z"
   },
   {
    "duration": 79,
    "start_time": "2023-04-10T12:02:23.375Z"
   },
   {
    "duration": 24,
    "start_time": "2023-04-10T12:02:23.456Z"
   },
   {
    "duration": 35,
    "start_time": "2023-04-10T12:02:23.482Z"
   },
   {
    "duration": 285,
    "start_time": "2023-04-10T12:02:23.519Z"
   },
   {
    "duration": 324,
    "start_time": "2023-04-10T12:02:23.805Z"
   },
   {
    "duration": 0,
    "start_time": "2023-04-10T12:02:24.131Z"
   },
   {
    "duration": 0,
    "start_time": "2023-04-10T12:02:24.132Z"
   },
   {
    "duration": 0,
    "start_time": "2023-04-10T12:02:24.133Z"
   },
   {
    "duration": 0,
    "start_time": "2023-04-10T12:02:24.134Z"
   },
   {
    "duration": 0,
    "start_time": "2023-04-10T12:02:24.136Z"
   },
   {
    "duration": 0,
    "start_time": "2023-04-10T12:02:24.138Z"
   },
   {
    "duration": 98,
    "start_time": "2023-04-10T12:02:32.776Z"
   },
   {
    "duration": 1338,
    "start_time": "2023-04-10T12:02:39.275Z"
   },
   {
    "duration": 307,
    "start_time": "2023-04-10T12:02:40.614Z"
   },
   {
    "duration": 7,
    "start_time": "2023-04-10T12:02:40.923Z"
   },
   {
    "duration": 8,
    "start_time": "2023-04-10T12:02:40.931Z"
   },
   {
    "duration": 5,
    "start_time": "2023-04-10T12:02:40.941Z"
   },
   {
    "duration": 9,
    "start_time": "2023-04-10T12:02:40.948Z"
   },
   {
    "duration": 4,
    "start_time": "2023-04-10T12:02:40.958Z"
   },
   {
    "duration": 314,
    "start_time": "2023-04-10T12:02:40.963Z"
   },
   {
    "duration": 418,
    "start_time": "2023-04-10T12:02:41.279Z"
   },
   {
    "duration": 268,
    "start_time": "2023-04-10T12:02:41.699Z"
   },
   {
    "duration": 142,
    "start_time": "2023-04-10T12:02:41.968Z"
   },
   {
    "duration": 59,
    "start_time": "2023-04-10T12:02:42.111Z"
   },
   {
    "duration": 22,
    "start_time": "2023-04-10T12:02:42.172Z"
   },
   {
    "duration": 28,
    "start_time": "2023-04-10T12:02:42.197Z"
   },
   {
    "duration": 291,
    "start_time": "2023-04-10T12:02:42.227Z"
   },
   {
    "duration": 191,
    "start_time": "2023-04-10T12:02:42.520Z"
   },
   {
    "duration": 8,
    "start_time": "2023-04-10T12:02:42.712Z"
   },
   {
    "duration": 38,
    "start_time": "2023-04-10T12:02:42.722Z"
   },
   {
    "duration": 38,
    "start_time": "2023-04-10T12:02:42.762Z"
   },
   {
    "duration": 108,
    "start_time": "2023-04-10T12:02:42.802Z"
   },
   {
    "duration": 6,
    "start_time": "2023-04-10T12:02:42.912Z"
   },
   {
    "duration": 28,
    "start_time": "2023-04-10T12:02:42.920Z"
   },
   {
    "duration": 108,
    "start_time": "2023-04-10T12:03:08.573Z"
   },
   {
    "duration": 40,
    "start_time": "2023-04-10T12:03:34.384Z"
   },
   {
    "duration": 24,
    "start_time": "2023-04-10T12:04:00.895Z"
   },
   {
    "duration": 117,
    "start_time": "2023-04-10T12:04:12.874Z"
   },
   {
    "duration": 51,
    "start_time": "2023-04-10T12:53:59.917Z"
   },
   {
    "duration": 43,
    "start_time": "2023-04-10T12:54:09.645Z"
   },
   {
    "duration": 47,
    "start_time": "2023-04-10T12:54:45.924Z"
   },
   {
    "duration": 154,
    "start_time": "2023-04-10T12:57:40.080Z"
   },
   {
    "duration": 1774,
    "start_time": "2023-04-11T12:56:28.312Z"
   },
   {
    "duration": 373,
    "start_time": "2023-04-11T12:56:30.089Z"
   },
   {
    "duration": 11,
    "start_time": "2023-04-11T12:56:30.464Z"
   },
   {
    "duration": 66,
    "start_time": "2023-04-11T12:56:30.477Z"
   },
   {
    "duration": 86,
    "start_time": "2023-04-11T12:56:30.546Z"
   },
   {
    "duration": 54,
    "start_time": "2023-04-11T12:56:30.634Z"
   },
   {
    "duration": 44,
    "start_time": "2023-04-11T12:56:30.690Z"
   },
   {
    "duration": 450,
    "start_time": "2023-04-11T12:56:30.736Z"
   },
   {
    "duration": 529,
    "start_time": "2023-04-11T12:56:31.187Z"
   },
   {
    "duration": 320,
    "start_time": "2023-04-11T12:56:31.719Z"
   },
   {
    "duration": 195,
    "start_time": "2023-04-11T12:56:32.041Z"
   },
   {
    "duration": 73,
    "start_time": "2023-04-11T12:56:32.238Z"
   },
   {
    "duration": 26,
    "start_time": "2023-04-11T12:56:32.313Z"
   },
   {
    "duration": 32,
    "start_time": "2023-04-11T12:56:32.341Z"
   },
   {
    "duration": 58,
    "start_time": "2023-04-11T12:56:32.375Z"
   },
   {
    "duration": 172,
    "start_time": "2023-04-11T12:56:32.435Z"
   },
   {
    "duration": 0,
    "start_time": "2023-04-11T12:56:32.609Z"
   },
   {
    "duration": 0,
    "start_time": "2023-04-11T12:56:32.611Z"
   },
   {
    "duration": 0,
    "start_time": "2023-04-11T12:56:32.612Z"
   },
   {
    "duration": 0,
    "start_time": "2023-04-11T12:56:32.614Z"
   },
   {
    "duration": 0,
    "start_time": "2023-04-11T12:56:32.615Z"
   },
   {
    "duration": 0,
    "start_time": "2023-04-11T12:56:32.616Z"
   },
   {
    "duration": 0,
    "start_time": "2023-04-11T12:56:32.617Z"
   },
   {
    "duration": 40,
    "start_time": "2023-04-11T12:57:00.531Z"
   },
   {
    "duration": 1493,
    "start_time": "2023-04-11T12:57:11.472Z"
   },
   {
    "duration": 344,
    "start_time": "2023-04-11T12:57:12.967Z"
   },
   {
    "duration": 9,
    "start_time": "2023-04-11T12:57:13.313Z"
   },
   {
    "duration": 9,
    "start_time": "2023-04-11T12:57:13.325Z"
   },
   {
    "duration": 20,
    "start_time": "2023-04-11T12:57:13.335Z"
   },
   {
    "duration": 5,
    "start_time": "2023-04-11T12:57:13.358Z"
   },
   {
    "duration": 11,
    "start_time": "2023-04-11T12:57:13.365Z"
   },
   {
    "duration": 369,
    "start_time": "2023-04-11T12:57:13.378Z"
   },
   {
    "duration": 554,
    "start_time": "2023-04-11T12:57:13.749Z"
   },
   {
    "duration": 301,
    "start_time": "2023-04-11T12:57:14.305Z"
   },
   {
    "duration": 279,
    "start_time": "2023-04-11T12:57:14.608Z"
   },
   {
    "duration": 118,
    "start_time": "2023-04-11T12:57:14.889Z"
   },
   {
    "duration": 64,
    "start_time": "2023-04-11T12:57:15.009Z"
   },
   {
    "duration": 90,
    "start_time": "2023-04-11T12:57:15.075Z"
   },
   {
    "duration": 99,
    "start_time": "2023-04-11T12:57:15.167Z"
   },
   {
    "duration": 611,
    "start_time": "2023-04-11T12:57:15.268Z"
   },
   {
    "duration": 295,
    "start_time": "2023-04-11T12:57:15.881Z"
   },
   {
    "duration": 7,
    "start_time": "2023-04-11T12:57:16.178Z"
   },
   {
    "duration": 7,
    "start_time": "2023-04-11T12:57:16.187Z"
   },
   {
    "duration": 96,
    "start_time": "2023-04-11T12:57:16.195Z"
   },
   {
    "duration": 216,
    "start_time": "2023-04-11T12:57:16.293Z"
   },
   {
    "duration": 5,
    "start_time": "2023-04-11T12:57:16.511Z"
   },
   {
    "duration": 48,
    "start_time": "2023-04-11T12:57:16.517Z"
   },
   {
    "duration": 8,
    "start_time": "2023-04-11T12:57:51.870Z"
   },
   {
    "duration": 271,
    "start_time": "2023-04-11T12:58:49.523Z"
   },
   {
    "duration": 50,
    "start_time": "2023-04-11T12:59:14.653Z"
   },
   {
    "duration": 152,
    "start_time": "2023-04-11T13:00:26.811Z"
   },
   {
    "duration": 135,
    "start_time": "2023-04-11T13:00:36.041Z"
   },
   {
    "duration": 59,
    "start_time": "2023-04-11T13:01:39.818Z"
   },
   {
    "duration": 61,
    "start_time": "2023-04-11T13:02:02.823Z"
   },
   {
    "duration": 106,
    "start_time": "2023-04-11T13:02:27.632Z"
   },
   {
    "duration": 14,
    "start_time": "2023-04-11T13:03:17.211Z"
   },
   {
    "duration": 14,
    "start_time": "2023-04-11T13:05:47.170Z"
   },
   {
    "duration": 105,
    "start_time": "2023-04-11T13:05:54.265Z"
   },
   {
    "duration": 28,
    "start_time": "2023-04-11T13:06:41.110Z"
   },
   {
    "duration": 31,
    "start_time": "2023-04-11T13:06:50.257Z"
   },
   {
    "duration": 27,
    "start_time": "2023-04-11T13:07:02.673Z"
   },
   {
    "duration": 17,
    "start_time": "2023-04-11T13:07:54.543Z"
   },
   {
    "duration": 16,
    "start_time": "2023-04-11T13:08:16.113Z"
   },
   {
    "duration": 17,
    "start_time": "2023-04-11T13:08:22.599Z"
   },
   {
    "duration": 85,
    "start_time": "2023-04-11T13:08:28.846Z"
   },
   {
    "duration": 86,
    "start_time": "2023-04-11T13:09:40.037Z"
   },
   {
    "duration": 83,
    "start_time": "2023-04-11T13:10:12.078Z"
   },
   {
    "duration": 80,
    "start_time": "2023-04-11T13:10:43.077Z"
   },
   {
    "duration": 1417,
    "start_time": "2023-04-11T13:14:10.311Z"
   },
   {
    "duration": 368,
    "start_time": "2023-04-11T13:14:11.730Z"
   },
   {
    "duration": 9,
    "start_time": "2023-04-11T13:14:12.100Z"
   },
   {
    "duration": 19,
    "start_time": "2023-04-11T13:14:12.112Z"
   },
   {
    "duration": 7,
    "start_time": "2023-04-11T13:14:12.134Z"
   },
   {
    "duration": 17,
    "start_time": "2023-04-11T13:14:12.142Z"
   },
   {
    "duration": 9,
    "start_time": "2023-04-11T13:14:12.161Z"
   },
   {
    "duration": 400,
    "start_time": "2023-04-11T13:14:12.171Z"
   },
   {
    "duration": 475,
    "start_time": "2023-04-11T13:14:12.573Z"
   },
   {
    "duration": 289,
    "start_time": "2023-04-11T13:14:13.050Z"
   },
   {
    "duration": 154,
    "start_time": "2023-04-11T13:14:13.355Z"
   },
   {
    "duration": 61,
    "start_time": "2023-04-11T13:14:13.510Z"
   },
   {
    "duration": 22,
    "start_time": "2023-04-11T13:14:13.572Z"
   },
   {
    "duration": 27,
    "start_time": "2023-04-11T13:14:13.597Z"
   },
   {
    "duration": 54,
    "start_time": "2023-04-11T13:14:13.626Z"
   },
   {
    "duration": 291,
    "start_time": "2023-04-11T13:14:13.681Z"
   },
   {
    "duration": 248,
    "start_time": "2023-04-11T13:14:13.978Z"
   },
   {
    "duration": 30,
    "start_time": "2023-04-11T13:14:14.228Z"
   },
   {
    "duration": 41,
    "start_time": "2023-04-11T13:14:14.260Z"
   },
   {
    "duration": 138,
    "start_time": "2023-04-11T13:14:14.303Z"
   },
   {
    "duration": 5,
    "start_time": "2023-04-11T13:14:14.443Z"
   },
   {
    "duration": 83,
    "start_time": "2023-04-11T13:14:14.449Z"
   },
   {
    "duration": 94,
    "start_time": "2023-04-11T13:14:14.534Z"
   },
   {
    "duration": 4899,
    "start_time": "2023-04-11T13:14:50.615Z"
   },
   {
    "duration": 4755,
    "start_time": "2023-04-11T13:16:20.797Z"
   },
   {
    "duration": 1402,
    "start_time": "2023-04-11T13:17:39.463Z"
   },
   {
    "duration": 358,
    "start_time": "2023-04-11T13:17:40.867Z"
   },
   {
    "duration": 7,
    "start_time": "2023-04-11T13:17:41.227Z"
   },
   {
    "duration": 19,
    "start_time": "2023-04-11T13:17:41.237Z"
   },
   {
    "duration": 11,
    "start_time": "2023-04-11T13:17:41.258Z"
   },
   {
    "duration": 5,
    "start_time": "2023-04-11T13:17:41.271Z"
   },
   {
    "duration": 5,
    "start_time": "2023-04-11T13:17:41.278Z"
   },
   {
    "duration": 343,
    "start_time": "2023-04-11T13:17:41.284Z"
   },
   {
    "duration": 493,
    "start_time": "2023-04-11T13:17:41.629Z"
   },
   {
    "duration": 343,
    "start_time": "2023-04-11T13:17:42.126Z"
   },
   {
    "duration": 175,
    "start_time": "2023-04-11T13:17:42.471Z"
   },
   {
    "duration": 66,
    "start_time": "2023-04-11T13:17:42.648Z"
   },
   {
    "duration": 28,
    "start_time": "2023-04-11T13:17:42.716Z"
   },
   {
    "duration": 32,
    "start_time": "2023-04-11T13:17:42.746Z"
   },
   {
    "duration": 55,
    "start_time": "2023-04-11T13:17:42.780Z"
   },
   {
    "duration": 328,
    "start_time": "2023-04-11T13:17:42.837Z"
   },
   {
    "duration": 241,
    "start_time": "2023-04-11T13:17:43.167Z"
   },
   {
    "duration": 8,
    "start_time": "2023-04-11T13:17:43.410Z"
   },
   {
    "duration": 54,
    "start_time": "2023-04-11T13:17:43.419Z"
   },
   {
    "duration": 120,
    "start_time": "2023-04-11T13:17:43.475Z"
   },
   {
    "duration": 5,
    "start_time": "2023-04-11T13:17:43.597Z"
   },
   {
    "duration": 93,
    "start_time": "2023-04-11T13:17:43.604Z"
   },
   {
    "duration": 88,
    "start_time": "2023-04-11T13:17:43.698Z"
   },
   {
    "duration": 52,
    "start_time": "2023-04-11T13:20:57.523Z"
   },
   {
    "duration": 93,
    "start_time": "2023-04-11T13:21:03.039Z"
   },
   {
    "duration": 93,
    "start_time": "2023-04-11T13:21:57.126Z"
   },
   {
    "duration": 88,
    "start_time": "2023-04-11T13:22:15.058Z"
   },
   {
    "duration": 1202,
    "start_time": "2023-04-11T13:23:52.077Z"
   },
   {
    "duration": 1084,
    "start_time": "2023-04-11T13:24:13.000Z"
   },
   {
    "duration": 93,
    "start_time": "2023-04-11T13:24:23.777Z"
   },
   {
    "duration": 93,
    "start_time": "2023-04-11T13:25:16.691Z"
   },
   {
    "duration": 54,
    "start_time": "2023-04-11T13:28:00.098Z"
   },
   {
    "duration": 100,
    "start_time": "2023-04-11T13:28:06.886Z"
   },
   {
    "duration": 50,
    "start_time": "2023-04-11T13:30:01.198Z"
   },
   {
    "duration": 70,
    "start_time": "2023-04-11T22:27:33.267Z"
   },
   {
    "duration": 90,
    "start_time": "2023-04-11T22:28:26.786Z"
   },
   {
    "duration": 93,
    "start_time": "2023-04-11T22:29:28.566Z"
   },
   {
    "duration": 190,
    "start_time": "2023-04-11T22:30:01.691Z"
   },
   {
    "duration": 89,
    "start_time": "2023-04-11T22:30:27.743Z"
   },
   {
    "duration": 89,
    "start_time": "2023-04-11T22:30:35.879Z"
   },
   {
    "duration": 44,
    "start_time": "2023-04-12T06:31:30.229Z"
   },
   {
    "duration": 1541,
    "start_time": "2023-04-12T06:31:34.746Z"
   },
   {
    "duration": 273,
    "start_time": "2023-04-12T06:31:36.289Z"
   },
   {
    "duration": 6,
    "start_time": "2023-04-12T06:31:36.564Z"
   },
   {
    "duration": 30,
    "start_time": "2023-04-12T06:31:36.572Z"
   },
   {
    "duration": 25,
    "start_time": "2023-04-12T06:31:36.603Z"
   },
   {
    "duration": 5,
    "start_time": "2023-04-12T06:31:36.630Z"
   },
   {
    "duration": 23,
    "start_time": "2023-04-12T06:31:36.636Z"
   },
   {
    "duration": 322,
    "start_time": "2023-04-12T06:31:36.660Z"
   },
   {
    "duration": 410,
    "start_time": "2023-04-12T06:31:36.983Z"
   },
   {
    "duration": 286,
    "start_time": "2023-04-12T06:31:37.395Z"
   },
   {
    "duration": 132,
    "start_time": "2023-04-12T06:31:37.683Z"
   },
   {
    "duration": 71,
    "start_time": "2023-04-12T06:31:37.816Z"
   },
   {
    "duration": 20,
    "start_time": "2023-04-12T06:31:37.888Z"
   },
   {
    "duration": 22,
    "start_time": "2023-04-12T06:31:37.909Z"
   },
   {
    "duration": 45,
    "start_time": "2023-04-12T06:31:37.932Z"
   },
   {
    "duration": 28,
    "start_time": "2023-04-12T06:31:37.978Z"
   },
   {
    "duration": 267,
    "start_time": "2023-04-12T06:31:38.007Z"
   },
   {
    "duration": 198,
    "start_time": "2023-04-12T06:31:38.275Z"
   },
   {
    "duration": 6,
    "start_time": "2023-04-12T06:31:38.474Z"
   },
   {
    "duration": 42,
    "start_time": "2023-04-12T06:31:38.481Z"
   },
   {
    "duration": 117,
    "start_time": "2023-04-12T06:31:38.525Z"
   },
   {
    "duration": 5,
    "start_time": "2023-04-12T06:31:38.643Z"
   },
   {
    "duration": 87,
    "start_time": "2023-04-12T06:31:38.649Z"
   },
   {
    "duration": 89,
    "start_time": "2023-04-12T06:31:38.737Z"
   },
   {
    "duration": 8,
    "start_time": "2023-04-12T06:38:30.266Z"
   },
   {
    "duration": 223,
    "start_time": "2023-04-12T06:42:15.305Z"
   },
   {
    "duration": 86,
    "start_time": "2023-04-12T06:42:31.897Z"
   },
   {
    "duration": 85,
    "start_time": "2023-04-12T06:42:43.596Z"
   },
   {
    "duration": 238,
    "start_time": "2023-04-12T06:42:52.413Z"
   },
   {
    "duration": 119,
    "start_time": "2023-04-12T06:43:00.636Z"
   },
   {
    "duration": 87,
    "start_time": "2023-04-12T06:43:11.045Z"
   },
   {
    "duration": 74,
    "start_time": "2023-04-12T06:46:25.379Z"
   },
   {
    "duration": 84,
    "start_time": "2023-04-12T06:46:55.037Z"
   },
   {
    "duration": 75,
    "start_time": "2023-04-12T06:47:05.275Z"
   },
   {
    "duration": 73,
    "start_time": "2023-04-12T06:48:44.380Z"
   },
   {
    "duration": 75,
    "start_time": "2023-04-12T06:49:44.009Z"
   },
   {
    "duration": 1315,
    "start_time": "2023-04-12T06:50:22.558Z"
   },
   {
    "duration": 366,
    "start_time": "2023-04-12T06:50:23.875Z"
   },
   {
    "duration": 7,
    "start_time": "2023-04-12T06:50:24.245Z"
   },
   {
    "duration": 7,
    "start_time": "2023-04-12T06:50:24.254Z"
   },
   {
    "duration": 6,
    "start_time": "2023-04-12T06:50:24.263Z"
   },
   {
    "duration": 4,
    "start_time": "2023-04-12T06:50:24.271Z"
   },
   {
    "duration": 7,
    "start_time": "2023-04-12T06:50:24.277Z"
   },
   {
    "duration": 335,
    "start_time": "2023-04-12T06:50:24.285Z"
   },
   {
    "duration": 442,
    "start_time": "2023-04-12T06:50:24.623Z"
   },
   {
    "duration": 313,
    "start_time": "2023-04-12T06:50:25.067Z"
   },
   {
    "duration": 135,
    "start_time": "2023-04-12T06:50:25.382Z"
   },
   {
    "duration": 65,
    "start_time": "2023-04-12T06:50:25.519Z"
   },
   {
    "duration": 67,
    "start_time": "2023-04-12T06:50:25.585Z"
   },
   {
    "duration": 25,
    "start_time": "2023-04-12T06:50:25.653Z"
   },
   {
    "duration": 157,
    "start_time": "2023-04-12T06:50:25.680Z"
   },
   {
    "duration": 506,
    "start_time": "2023-04-12T06:50:25.839Z"
   },
   {
    "duration": 298,
    "start_time": "2023-04-12T06:50:26.346Z"
   },
   {
    "duration": 6,
    "start_time": "2023-04-12T06:50:26.646Z"
   },
   {
    "duration": 90,
    "start_time": "2023-04-12T06:50:26.654Z"
   },
   {
    "duration": 225,
    "start_time": "2023-04-12T06:50:26.746Z"
   },
   {
    "duration": 6,
    "start_time": "2023-04-12T06:50:26.972Z"
   },
   {
    "duration": 191,
    "start_time": "2023-04-12T06:50:26.980Z"
   },
   {
    "duration": 197,
    "start_time": "2023-04-12T06:50:27.172Z"
   },
   {
    "duration": 1291,
    "start_time": "2023-04-12T06:56:43.217Z"
   },
   {
    "duration": 337,
    "start_time": "2023-04-12T06:56:44.510Z"
   },
   {
    "duration": 7,
    "start_time": "2023-04-12T06:56:44.848Z"
   },
   {
    "duration": 7,
    "start_time": "2023-04-12T06:56:44.857Z"
   },
   {
    "duration": 6,
    "start_time": "2023-04-12T06:56:44.865Z"
   },
   {
    "duration": 4,
    "start_time": "2023-04-12T06:56:44.873Z"
   },
   {
    "duration": 8,
    "start_time": "2023-04-12T06:56:44.878Z"
   },
   {
    "duration": 332,
    "start_time": "2023-04-12T06:56:44.887Z"
   },
   {
    "duration": 396,
    "start_time": "2023-04-12T06:56:45.221Z"
   },
   {
    "duration": 285,
    "start_time": "2023-04-12T06:56:45.620Z"
   },
   {
    "duration": 139,
    "start_time": "2023-04-12T06:56:45.906Z"
   },
   {
    "duration": 61,
    "start_time": "2023-04-12T06:56:46.047Z"
   },
   {
    "duration": 22,
    "start_time": "2023-04-12T06:56:46.110Z"
   },
   {
    "duration": 20,
    "start_time": "2023-04-12T06:56:46.134Z"
   },
   {
    "duration": 46,
    "start_time": "2023-04-12T06:56:46.155Z"
   },
   {
    "duration": 273,
    "start_time": "2023-04-12T06:56:46.203Z"
   },
   {
    "duration": 181,
    "start_time": "2023-04-12T06:56:46.478Z"
   },
   {
    "duration": 6,
    "start_time": "2023-04-12T06:56:46.660Z"
   },
   {
    "duration": 38,
    "start_time": "2023-04-12T06:56:46.668Z"
   },
   {
    "duration": 159,
    "start_time": "2023-04-12T06:56:46.707Z"
   },
   {
    "duration": 5,
    "start_time": "2023-04-12T06:56:46.867Z"
   },
   {
    "duration": 176,
    "start_time": "2023-04-12T06:56:46.874Z"
   },
   {
    "duration": 189,
    "start_time": "2023-04-12T06:56:47.051Z"
   },
   {
    "duration": 139,
    "start_time": "2023-04-12T06:57:25.230Z"
   },
   {
    "duration": 76,
    "start_time": "2023-04-12T06:57:50.609Z"
   },
   {
    "duration": 71,
    "start_time": "2023-04-12T06:59:59.580Z"
   },
   {
    "duration": 25,
    "start_time": "2023-04-12T07:03:50.152Z"
   },
   {
    "duration": 244,
    "start_time": "2023-04-12T07:04:02.588Z"
   },
   {
    "duration": 48,
    "start_time": "2023-04-12T07:04:15.121Z"
   },
   {
    "duration": 26,
    "start_time": "2023-04-12T07:04:58.757Z"
   },
   {
    "duration": 24,
    "start_time": "2023-04-12T07:05:05.247Z"
   },
   {
    "duration": 199,
    "start_time": "2023-04-12T07:05:13.050Z"
   },
   {
    "duration": 21,
    "start_time": "2023-04-12T07:05:53.511Z"
   },
   {
    "duration": 25,
    "start_time": "2023-04-12T07:06:22.361Z"
   },
   {
    "duration": 788,
    "start_time": "2023-04-12T07:07:13.326Z"
   },
   {
    "duration": 91,
    "start_time": "2023-04-12T07:07:52.261Z"
   },
   {
    "duration": 91,
    "start_time": "2023-04-12T07:09:10.158Z"
   },
   {
    "duration": 107,
    "start_time": "2023-04-12T07:09:22.552Z"
   },
   {
    "duration": 164,
    "start_time": "2023-04-12T07:09:52.086Z"
   },
   {
    "duration": 26,
    "start_time": "2023-04-12T07:11:40.667Z"
   },
   {
    "duration": 84,
    "start_time": "2023-04-12T07:11:48.644Z"
   },
   {
    "duration": 82,
    "start_time": "2023-04-12T07:12:09.290Z"
   },
   {
    "duration": 126,
    "start_time": "2023-04-12T07:12:33.722Z"
   },
   {
    "duration": 30,
    "start_time": "2023-04-12T07:17:42.650Z"
   },
   {
    "duration": 14,
    "start_time": "2023-04-12T07:18:44.595Z"
   },
   {
    "duration": 13,
    "start_time": "2023-04-12T07:18:53.492Z"
   },
   {
    "duration": 1259,
    "start_time": "2023-04-12T07:20:58.666Z"
   },
   {
    "duration": 895,
    "start_time": "2023-04-12T07:20:59.927Z"
   },
   {
    "duration": 8,
    "start_time": "2023-04-12T07:21:00.823Z"
   },
   {
    "duration": 43,
    "start_time": "2023-04-12T07:21:00.835Z"
   },
   {
    "duration": 55,
    "start_time": "2023-04-12T07:21:00.879Z"
   },
   {
    "duration": 41,
    "start_time": "2023-04-12T07:21:00.936Z"
   },
   {
    "duration": 54,
    "start_time": "2023-04-12T07:21:00.979Z"
   },
   {
    "duration": 362,
    "start_time": "2023-04-12T07:21:01.034Z"
   },
   {
    "duration": 437,
    "start_time": "2023-04-12T07:21:01.398Z"
   },
   {
    "duration": 331,
    "start_time": "2023-04-12T07:21:01.837Z"
   },
   {
    "duration": 303,
    "start_time": "2023-04-12T07:21:02.170Z"
   },
   {
    "duration": 316,
    "start_time": "2023-04-12T07:21:02.475Z"
   },
   {
    "duration": 22,
    "start_time": "2023-04-12T07:21:02.792Z"
   },
   {
    "duration": 21,
    "start_time": "2023-04-12T07:21:02.839Z"
   },
   {
    "duration": 111,
    "start_time": "2023-04-12T07:21:02.862Z"
   },
   {
    "duration": 569,
    "start_time": "2023-04-12T07:21:02.975Z"
   },
   {
    "duration": 231,
    "start_time": "2023-04-12T07:21:03.545Z"
   },
   {
    "duration": 7,
    "start_time": "2023-04-12T07:21:03.777Z"
   },
   {
    "duration": 81,
    "start_time": "2023-04-12T07:21:03.785Z"
   },
   {
    "duration": 113,
    "start_time": "2023-04-12T07:21:03.867Z"
   },
   {
    "duration": 6,
    "start_time": "2023-04-12T07:21:03.982Z"
   },
   {
    "duration": 115,
    "start_time": "2023-04-12T07:21:03.990Z"
   },
   {
    "duration": 99,
    "start_time": "2023-04-12T07:21:04.107Z"
   },
   {
    "duration": 40,
    "start_time": "2023-04-12T07:21:04.208Z"
   },
   {
    "duration": 8,
    "start_time": "2023-04-12T07:21:04.250Z"
   },
   {
    "duration": 31,
    "start_time": "2023-04-12T07:22:08.039Z"
   },
   {
    "duration": 39,
    "start_time": "2023-04-12T07:22:15.191Z"
   },
   {
    "duration": 142,
    "start_time": "2023-04-12T07:22:43.848Z"
   },
   {
    "duration": 19,
    "start_time": "2023-04-12T07:22:49.503Z"
   },
   {
    "duration": 52,
    "start_time": "2023-04-12T07:26:59.093Z"
   },
   {
    "duration": 52,
    "start_time": "2023-04-12T07:27:08.243Z"
   },
   {
    "duration": 28,
    "start_time": "2023-04-12T07:30:25.513Z"
   },
   {
    "duration": 1285,
    "start_time": "2023-04-12T07:30:38.347Z"
   },
   {
    "duration": 52,
    "start_time": "2023-04-12T07:30:49.408Z"
   },
   {
    "duration": 839,
    "start_time": "2023-04-12T07:30:54.139Z"
   },
   {
    "duration": 25,
    "start_time": "2023-04-12T07:31:14.488Z"
   },
   {
    "duration": 2012,
    "start_time": "2023-04-12T09:01:29.948Z"
   },
   {
    "duration": 460,
    "start_time": "2023-04-12T09:01:31.963Z"
   },
   {
    "duration": 9,
    "start_time": "2023-04-12T09:01:32.425Z"
   },
   {
    "duration": 18,
    "start_time": "2023-04-12T09:01:32.436Z"
   },
   {
    "duration": 25,
    "start_time": "2023-04-12T09:01:32.456Z"
   },
   {
    "duration": 6,
    "start_time": "2023-04-12T09:01:32.483Z"
   },
   {
    "duration": 4,
    "start_time": "2023-04-12T09:01:32.491Z"
   },
   {
    "duration": 384,
    "start_time": "2023-04-12T09:01:32.497Z"
   },
   {
    "duration": 505,
    "start_time": "2023-04-12T09:01:32.884Z"
   },
   {
    "duration": 335,
    "start_time": "2023-04-12T09:01:33.391Z"
   },
   {
    "duration": 163,
    "start_time": "2023-04-12T09:01:33.728Z"
   },
   {
    "duration": 66,
    "start_time": "2023-04-12T09:01:33.893Z"
   },
   {
    "duration": 25,
    "start_time": "2023-04-12T09:01:33.961Z"
   },
   {
    "duration": 49,
    "start_time": "2023-04-12T09:01:33.988Z"
   },
   {
    "duration": 60,
    "start_time": "2023-04-12T09:01:34.039Z"
   },
   {
    "duration": 8,
    "start_time": "2023-04-12T09:01:34.101Z"
   },
   {
    "duration": 48,
    "start_time": "2023-04-12T09:01:34.110Z"
   },
   {
    "duration": 388,
    "start_time": "2023-04-12T09:01:34.160Z"
   },
   {
    "duration": 6,
    "start_time": "2023-04-12T09:01:34.549Z"
   },
   {
    "duration": 192,
    "start_time": "2023-04-12T09:01:34.556Z"
   },
   {
    "duration": 129,
    "start_time": "2023-04-12T09:01:34.751Z"
   },
   {
    "duration": 36,
    "start_time": "2023-04-12T09:01:34.882Z"
   },
   {
    "duration": 10,
    "start_time": "2023-04-12T09:01:34.921Z"
   },
   {
    "duration": 75,
    "start_time": "2023-04-12T09:01:34.932Z"
   },
   {
    "duration": 24,
    "start_time": "2023-04-12T09:01:35.009Z"
   },
   {
    "duration": 167,
    "start_time": "2023-04-12T09:01:35.035Z"
   },
   {
    "duration": 84,
    "start_time": "2023-04-12T09:01:35.205Z"
   },
   {
    "duration": 65,
    "start_time": "2023-04-12T09:01:35.291Z"
   },
   {
    "duration": 53,
    "start_time": "2023-04-12T09:01:35.357Z"
   },
   {
    "duration": 65,
    "start_time": "2023-04-12T09:10:09.145Z"
   },
   {
    "duration": 80,
    "start_time": "2023-04-12T09:11:33.790Z"
   },
   {
    "duration": 67,
    "start_time": "2023-04-12T09:11:44.585Z"
   },
   {
    "duration": 66,
    "start_time": "2023-04-12T09:13:33.296Z"
   },
   {
    "duration": 64,
    "start_time": "2023-04-12T09:13:48.585Z"
   },
   {
    "duration": 23,
    "start_time": "2023-04-12T09:15:30.807Z"
   },
   {
    "duration": 1456,
    "start_time": "2023-04-12T09:15:37.442Z"
   },
   {
    "duration": 418,
    "start_time": "2023-04-12T09:15:38.900Z"
   },
   {
    "duration": 8,
    "start_time": "2023-04-12T09:15:39.320Z"
   },
   {
    "duration": 13,
    "start_time": "2023-04-12T09:15:39.331Z"
   },
   {
    "duration": 19,
    "start_time": "2023-04-12T09:15:39.345Z"
   },
   {
    "duration": 5,
    "start_time": "2023-04-12T09:15:39.366Z"
   },
   {
    "duration": 6,
    "start_time": "2023-04-12T09:15:39.372Z"
   },
   {
    "duration": 391,
    "start_time": "2023-04-12T09:15:39.380Z"
   },
   {
    "duration": 622,
    "start_time": "2023-04-12T09:15:39.773Z"
   },
   {
    "duration": 718,
    "start_time": "2023-04-12T09:15:40.399Z"
   },
   {
    "duration": 305,
    "start_time": "2023-04-12T09:15:41.119Z"
   },
   {
    "duration": 164,
    "start_time": "2023-04-12T09:15:41.426Z"
   },
   {
    "duration": 32,
    "start_time": "2023-04-12T09:15:41.592Z"
   },
   {
    "duration": 84,
    "start_time": "2023-04-12T09:15:41.626Z"
   },
   {
    "duration": 114,
    "start_time": "2023-04-12T09:15:41.711Z"
   },
   {
    "duration": 62,
    "start_time": "2023-04-12T09:15:41.827Z"
   },
   {
    "duration": 42,
    "start_time": "2023-04-12T09:15:41.891Z"
   },
   {
    "duration": 536,
    "start_time": "2023-04-12T09:15:41.990Z"
   },
   {
    "duration": 7,
    "start_time": "2023-04-12T09:15:42.528Z"
   },
   {
    "duration": 176,
    "start_time": "2023-04-12T09:15:42.536Z"
   },
   {
    "duration": 120,
    "start_time": "2023-04-12T09:15:42.714Z"
   },
   {
    "duration": 30,
    "start_time": "2023-04-12T09:15:42.835Z"
   },
   {
    "duration": 25,
    "start_time": "2023-04-12T09:15:42.867Z"
   },
   {
    "duration": 49,
    "start_time": "2023-04-12T09:15:42.895Z"
   },
   {
    "duration": 44,
    "start_time": "2023-04-12T09:15:42.945Z"
   },
   {
    "duration": 149,
    "start_time": "2023-04-12T09:15:42.991Z"
   },
   {
    "duration": 103,
    "start_time": "2023-04-12T09:15:43.142Z"
   },
   {
    "duration": 78,
    "start_time": "2023-04-12T09:15:43.249Z"
   },
   {
    "duration": 31,
    "start_time": "2023-04-12T09:15:43.329Z"
   },
   {
    "duration": 38,
    "start_time": "2023-04-12T09:15:43.362Z"
   },
   {
    "duration": 195,
    "start_time": "2023-04-12T09:18:14.265Z"
   },
   {
    "duration": 43,
    "start_time": "2023-04-12T09:19:01.160Z"
   },
   {
    "duration": 51,
    "start_time": "2023-04-12T09:19:46.303Z"
   },
   {
    "duration": 121,
    "start_time": "2023-04-12T09:19:55.253Z"
   },
   {
    "duration": 107,
    "start_time": "2023-04-12T09:20:03.386Z"
   },
   {
    "duration": 15,
    "start_time": "2023-04-12T09:21:21.358Z"
   },
   {
    "duration": 1507,
    "start_time": "2023-04-12T09:24:15.657Z"
   },
   {
    "duration": 562,
    "start_time": "2023-04-12T09:24:17.166Z"
   },
   {
    "duration": 7,
    "start_time": "2023-04-12T09:24:17.730Z"
   },
   {
    "duration": 24,
    "start_time": "2023-04-12T09:24:17.739Z"
   },
   {
    "duration": 19,
    "start_time": "2023-04-12T09:24:17.765Z"
   },
   {
    "duration": 21,
    "start_time": "2023-04-12T09:24:17.786Z"
   },
   {
    "duration": 25,
    "start_time": "2023-04-12T09:24:17.809Z"
   },
   {
    "duration": 432,
    "start_time": "2023-04-12T09:24:17.836Z"
   },
   {
    "duration": 518,
    "start_time": "2023-04-12T09:24:18.269Z"
   },
   {
    "duration": 359,
    "start_time": "2023-04-12T09:24:18.789Z"
   },
   {
    "duration": 165,
    "start_time": "2023-04-12T09:24:19.149Z"
   },
   {
    "duration": 68,
    "start_time": "2023-04-12T09:24:19.316Z"
   },
   {
    "duration": 24,
    "start_time": "2023-04-12T09:24:19.386Z"
   },
   {
    "duration": 29,
    "start_time": "2023-04-12T09:24:19.413Z"
   },
   {
    "duration": 62,
    "start_time": "2023-04-12T09:24:19.444Z"
   },
   {
    "duration": 7,
    "start_time": "2023-04-12T09:24:19.508Z"
   },
   {
    "duration": 43,
    "start_time": "2023-04-12T09:24:19.517Z"
   },
   {
    "duration": 392,
    "start_time": "2023-04-12T09:24:19.562Z"
   },
   {
    "duration": 6,
    "start_time": "2023-04-12T09:24:19.956Z"
   },
   {
    "duration": 168,
    "start_time": "2023-04-12T09:24:19.964Z"
   },
   {
    "duration": 122,
    "start_time": "2023-04-12T09:24:20.134Z"
   },
   {
    "duration": 49,
    "start_time": "2023-04-12T09:24:20.258Z"
   },
   {
    "duration": 11,
    "start_time": "2023-04-12T09:24:20.309Z"
   },
   {
    "duration": 15,
    "start_time": "2023-04-12T09:24:20.322Z"
   },
   {
    "duration": 76,
    "start_time": "2023-04-12T09:24:20.340Z"
   },
   {
    "duration": 29,
    "start_time": "2023-04-12T09:24:20.419Z"
   },
   {
    "duration": 169,
    "start_time": "2023-04-12T09:24:20.450Z"
   },
   {
    "duration": 84,
    "start_time": "2023-04-12T09:24:20.621Z"
   },
   {
    "duration": 60,
    "start_time": "2023-04-12T09:24:20.707Z"
   },
   {
    "duration": 47,
    "start_time": "2023-04-12T09:24:20.769Z"
   },
   {
    "duration": 16,
    "start_time": "2023-04-12T09:24:20.818Z"
   },
   {
    "duration": 216,
    "start_time": "2023-04-12T09:24:20.889Z"
   },
   {
    "duration": 13,
    "start_time": "2023-04-12T09:24:21.107Z"
   },
   {
    "duration": 1526,
    "start_time": "2023-04-12T09:29:59.427Z"
   },
   {
    "duration": 400,
    "start_time": "2023-04-12T09:30:00.955Z"
   },
   {
    "duration": 9,
    "start_time": "2023-04-12T09:30:01.357Z"
   },
   {
    "duration": 161,
    "start_time": "2023-04-12T09:30:01.368Z"
   },
   {
    "duration": 133,
    "start_time": "2023-04-12T09:30:01.532Z"
   },
   {
    "duration": 74,
    "start_time": "2023-04-12T09:30:01.667Z"
   },
   {
    "duration": 27,
    "start_time": "2023-04-12T09:30:01.744Z"
   },
   {
    "duration": 1734,
    "start_time": "2023-04-12T09:30:01.773Z"
   },
   {
    "duration": 665,
    "start_time": "2023-04-12T09:30:03.509Z"
   },
   {
    "duration": 372,
    "start_time": "2023-04-12T09:30:04.176Z"
   },
   {
    "duration": 168,
    "start_time": "2023-04-12T09:30:04.550Z"
   },
   {
    "duration": 74,
    "start_time": "2023-04-12T09:30:04.720Z"
   },
   {
    "duration": 48,
    "start_time": "2023-04-12T09:30:04.797Z"
   },
   {
    "duration": 43,
    "start_time": "2023-04-12T09:30:04.849Z"
   },
   {
    "duration": 54,
    "start_time": "2023-04-12T09:30:04.894Z"
   },
   {
    "duration": 8,
    "start_time": "2023-04-12T09:30:04.950Z"
   },
   {
    "duration": 65,
    "start_time": "2023-04-12T09:30:04.960Z"
   },
   {
    "duration": 544,
    "start_time": "2023-04-12T09:30:05.027Z"
   },
   {
    "duration": 6,
    "start_time": "2023-04-12T09:30:05.573Z"
   },
   {
    "duration": 210,
    "start_time": "2023-04-12T09:30:05.580Z"
   },
   {
    "duration": 120,
    "start_time": "2023-04-12T09:30:05.792Z"
   },
   {
    "duration": 43,
    "start_time": "2023-04-12T09:30:05.914Z"
   },
   {
    "duration": 31,
    "start_time": "2023-04-12T09:30:05.960Z"
   },
   {
    "duration": 5,
    "start_time": "2023-04-12T09:30:05.993Z"
   },
   {
    "duration": 56,
    "start_time": "2023-04-12T09:30:06.000Z"
   },
   {
    "duration": 46,
    "start_time": "2023-04-12T09:30:06.058Z"
   },
   {
    "duration": 168,
    "start_time": "2023-04-12T09:30:06.106Z"
   },
   {
    "duration": 84,
    "start_time": "2023-04-12T09:30:06.277Z"
   },
   {
    "duration": 88,
    "start_time": "2023-04-12T09:30:06.363Z"
   },
   {
    "duration": 44,
    "start_time": "2023-04-12T09:30:06.453Z"
   },
   {
    "duration": 16,
    "start_time": "2023-04-12T09:30:06.500Z"
   },
   {
    "duration": 163,
    "start_time": "2023-04-12T09:30:06.518Z"
   },
   {
    "duration": 16,
    "start_time": "2023-04-12T09:30:06.684Z"
   },
   {
    "duration": 58,
    "start_time": "2023-04-12T09:36:45.223Z"
   },
   {
    "duration": 56,
    "start_time": "2023-04-12T09:37:45.621Z"
   },
   {
    "duration": 1506,
    "start_time": "2023-04-12T09:37:52.186Z"
   },
   {
    "duration": 4274,
    "start_time": "2023-04-12T09:40:11.705Z"
   },
   {
    "duration": 12,
    "start_time": "2023-04-12T09:40:47.162Z"
   },
   {
    "duration": 29,
    "start_time": "2023-04-12T09:40:54.927Z"
   },
   {
    "duration": 1542,
    "start_time": "2023-04-12T09:42:21.840Z"
   },
   {
    "duration": 33,
    "start_time": "2023-04-12T09:42:25.252Z"
   },
   {
    "duration": 202,
    "start_time": "2023-04-12T09:42:27.943Z"
   },
   {
    "duration": 168,
    "start_time": "2023-04-12T09:42:36.186Z"
   },
   {
    "duration": 18,
    "start_time": "2023-04-12T09:44:45.207Z"
   },
   {
    "duration": 56,
    "start_time": "2023-04-12T09:45:17.938Z"
   },
   {
    "duration": 54,
    "start_time": "2023-04-12T09:49:10.121Z"
   },
   {
    "duration": 43,
    "start_time": "2023-04-12T09:49:17.831Z"
   },
   {
    "duration": 60,
    "start_time": "2023-04-12T09:49:24.525Z"
   },
   {
    "duration": 56,
    "start_time": "2023-04-12T09:52:39.317Z"
   },
   {
    "duration": 15,
    "start_time": "2023-04-12T09:52:48.249Z"
   },
   {
    "duration": 146,
    "start_time": "2023-04-12T09:52:59.285Z"
   },
   {
    "duration": 937,
    "start_time": "2023-04-12T09:54:32.014Z"
   },
   {
    "duration": 132,
    "start_time": "2023-04-12T09:54:51.743Z"
   },
   {
    "duration": 120,
    "start_time": "2023-04-12T09:55:58.117Z"
   },
   {
    "duration": 1623,
    "start_time": "2023-04-12T09:57:12.588Z"
   },
   {
    "duration": 356,
    "start_time": "2023-04-12T09:57:14.213Z"
   },
   {
    "duration": 8,
    "start_time": "2023-04-12T09:57:14.571Z"
   },
   {
    "duration": 34,
    "start_time": "2023-04-12T09:57:14.581Z"
   },
   {
    "duration": 23,
    "start_time": "2023-04-12T09:57:14.618Z"
   },
   {
    "duration": 7,
    "start_time": "2023-04-12T09:57:14.643Z"
   },
   {
    "duration": 7,
    "start_time": "2023-04-12T09:57:14.652Z"
   },
   {
    "duration": 466,
    "start_time": "2023-04-12T09:57:14.660Z"
   },
   {
    "duration": 1064,
    "start_time": "2023-04-12T09:57:15.128Z"
   },
   {
    "duration": 579,
    "start_time": "2023-04-12T09:57:16.194Z"
   },
   {
    "duration": 170,
    "start_time": "2023-04-12T09:57:16.776Z"
   },
   {
    "duration": 82,
    "start_time": "2023-04-12T09:57:16.948Z"
   },
   {
    "duration": 27,
    "start_time": "2023-04-12T09:57:17.032Z"
   },
   {
    "duration": 35,
    "start_time": "2023-04-12T09:57:17.062Z"
   },
   {
    "duration": 53,
    "start_time": "2023-04-12T09:57:17.099Z"
   },
   {
    "duration": 6,
    "start_time": "2023-04-12T09:57:17.154Z"
   },
   {
    "duration": 62,
    "start_time": "2023-04-12T09:57:17.162Z"
   },
   {
    "duration": 380,
    "start_time": "2023-04-12T09:57:17.226Z"
   },
   {
    "duration": 8,
    "start_time": "2023-04-12T09:57:17.608Z"
   },
   {
    "duration": 249,
    "start_time": "2023-04-12T09:57:17.618Z"
   },
   {
    "duration": 121,
    "start_time": "2023-04-12T09:57:17.868Z"
   },
   {
    "duration": 32,
    "start_time": "2023-04-12T09:57:17.991Z"
   },
   {
    "duration": 10,
    "start_time": "2023-04-12T09:57:18.025Z"
   },
   {
    "duration": 4,
    "start_time": "2023-04-12T09:57:18.037Z"
   },
   {
    "duration": 80,
    "start_time": "2023-04-12T09:57:18.043Z"
   },
   {
    "duration": 23,
    "start_time": "2023-04-12T09:57:18.125Z"
   },
   {
    "duration": 160,
    "start_time": "2023-04-12T09:57:18.150Z"
   },
   {
    "duration": 91,
    "start_time": "2023-04-12T09:57:18.313Z"
   },
   {
    "duration": 61,
    "start_time": "2023-04-12T09:57:18.407Z"
   },
   {
    "duration": 48,
    "start_time": "2023-04-12T09:57:18.470Z"
   },
   {
    "duration": 16,
    "start_time": "2023-04-12T09:57:18.519Z"
   },
   {
    "duration": 139,
    "start_time": "2023-04-12T09:57:18.536Z"
   },
   {
    "duration": 23,
    "start_time": "2023-04-12T09:57:18.677Z"
   },
   {
    "duration": 49,
    "start_time": "2023-04-12T09:57:39.026Z"
   },
   {
    "duration": 1625,
    "start_time": "2023-04-12T09:57:45.284Z"
   },
   {
    "duration": 324,
    "start_time": "2023-04-12T09:57:46.911Z"
   },
   {
    "duration": 8,
    "start_time": "2023-04-12T09:57:47.237Z"
   },
   {
    "duration": 35,
    "start_time": "2023-04-12T09:57:47.247Z"
   },
   {
    "duration": 13,
    "start_time": "2023-04-12T09:57:47.285Z"
   },
   {
    "duration": 7,
    "start_time": "2023-04-12T09:57:47.299Z"
   },
   {
    "duration": 14,
    "start_time": "2023-04-12T09:57:47.307Z"
   },
   {
    "duration": 423,
    "start_time": "2023-04-12T09:57:47.323Z"
   },
   {
    "duration": 1057,
    "start_time": "2023-04-12T09:57:47.747Z"
   },
   {
    "duration": 657,
    "start_time": "2023-04-12T09:57:48.806Z"
   },
   {
    "duration": 163,
    "start_time": "2023-04-12T09:57:49.490Z"
   },
   {
    "duration": 70,
    "start_time": "2023-04-12T09:57:49.654Z"
   },
   {
    "duration": 31,
    "start_time": "2023-04-12T09:57:49.725Z"
   },
   {
    "duration": 32,
    "start_time": "2023-04-12T09:57:49.759Z"
   },
   {
    "duration": 53,
    "start_time": "2023-04-12T09:57:49.793Z"
   },
   {
    "duration": 8,
    "start_time": "2023-04-12T09:57:49.848Z"
   },
   {
    "duration": 64,
    "start_time": "2023-04-12T09:57:49.858Z"
   },
   {
    "duration": 392,
    "start_time": "2023-04-12T09:57:49.923Z"
   },
   {
    "duration": 6,
    "start_time": "2023-04-12T09:57:50.317Z"
   },
   {
    "duration": 204,
    "start_time": "2023-04-12T09:57:50.325Z"
   },
   {
    "duration": 150,
    "start_time": "2023-04-12T09:57:50.530Z"
   },
   {
    "duration": 47,
    "start_time": "2023-04-12T09:57:50.682Z"
   },
   {
    "duration": 10,
    "start_time": "2023-04-12T09:57:50.731Z"
   },
   {
    "duration": 15,
    "start_time": "2023-04-12T09:57:50.744Z"
   },
   {
    "duration": 71,
    "start_time": "2023-04-12T09:57:50.762Z"
   },
   {
    "duration": 24,
    "start_time": "2023-04-12T09:57:50.835Z"
   },
   {
    "duration": 176,
    "start_time": "2023-04-12T09:57:50.861Z"
   },
   {
    "duration": 88,
    "start_time": "2023-04-12T09:57:51.039Z"
   },
   {
    "duration": 71,
    "start_time": "2023-04-12T09:57:51.129Z"
   },
   {
    "duration": 29,
    "start_time": "2023-04-12T09:57:51.202Z"
   },
   {
    "duration": 15,
    "start_time": "2023-04-12T09:57:51.233Z"
   },
   {
    "duration": 148,
    "start_time": "2023-04-12T09:57:51.249Z"
   },
   {
    "duration": 14,
    "start_time": "2023-04-12T09:57:51.399Z"
   },
   {
    "duration": 181,
    "start_time": "2023-04-12T09:57:51.414Z"
   },
   {
    "duration": 108,
    "start_time": "2023-04-12T09:59:10.613Z"
   },
   {
    "duration": 142,
    "start_time": "2023-04-12T09:59:30.594Z"
   },
   {
    "duration": 122,
    "start_time": "2023-04-12T10:04:57.507Z"
   },
   {
    "duration": 139,
    "start_time": "2023-04-12T10:05:09.428Z"
   },
   {
    "duration": 115,
    "start_time": "2023-04-12T10:05:33.116Z"
   },
   {
    "duration": 132,
    "start_time": "2023-04-12T10:05:39.754Z"
   },
   {
    "duration": 247,
    "start_time": "2023-04-12T10:12:19.897Z"
   },
   {
    "duration": 91,
    "start_time": "2023-04-12T10:13:40.818Z"
   },
   {
    "duration": 108,
    "start_time": "2023-04-12T10:14:10.918Z"
   },
   {
    "duration": 862,
    "start_time": "2023-04-12T10:14:22.619Z"
   },
   {
    "duration": 829,
    "start_time": "2023-04-12T10:14:42.274Z"
   },
   {
    "duration": 96,
    "start_time": "2023-04-12T10:14:51.638Z"
   },
   {
    "duration": 886,
    "start_time": "2023-04-12T10:15:23.301Z"
   },
   {
    "duration": 88,
    "start_time": "2023-04-12T10:15:39.886Z"
   },
   {
    "duration": 953,
    "start_time": "2023-04-12T10:16:13.813Z"
   },
   {
    "duration": 80,
    "start_time": "2023-04-12T10:16:25.272Z"
   },
   {
    "duration": 894,
    "start_time": "2023-04-12T10:16:40.115Z"
   },
   {
    "duration": 134,
    "start_time": "2023-04-12T10:16:53.114Z"
   },
   {
    "duration": 139,
    "start_time": "2023-04-12T10:32:23.739Z"
   },
   {
    "duration": 153,
    "start_time": "2023-04-12T10:33:58.100Z"
   },
   {
    "duration": 347,
    "start_time": "2023-04-12T10:40:14.731Z"
   },
   {
    "duration": 76,
    "start_time": "2023-04-12T10:40:20.824Z"
   },
   {
    "duration": 168,
    "start_time": "2023-04-12T10:40:30.966Z"
   },
   {
    "duration": 47,
    "start_time": "2023-04-12T10:40:42.715Z"
   },
   {
    "duration": 103,
    "start_time": "2023-04-12T10:40:54.215Z"
   },
   {
    "duration": 43,
    "start_time": "2023-04-12T10:44:54.644Z"
   },
   {
    "duration": 220,
    "start_time": "2023-04-12T10:45:00.983Z"
   },
   {
    "duration": 1038,
    "start_time": "2023-04-12T10:45:51.075Z"
   },
   {
    "duration": 166,
    "start_time": "2023-04-12T10:46:02.515Z"
   },
   {
    "duration": 187,
    "start_time": "2023-04-12T10:46:21.447Z"
   },
   {
    "duration": 186,
    "start_time": "2023-04-12T10:46:38.760Z"
   },
   {
    "duration": 175,
    "start_time": "2023-04-12T10:47:02.052Z"
   },
   {
    "duration": 160,
    "start_time": "2023-04-12T10:51:58.058Z"
   },
   {
    "duration": 5,
    "start_time": "2023-04-12T10:56:37.324Z"
   },
   {
    "duration": 20,
    "start_time": "2023-04-12T10:56:56.211Z"
   },
   {
    "duration": 1504,
    "start_time": "2023-04-12T10:57:37.425Z"
   },
   {
    "duration": 394,
    "start_time": "2023-04-12T10:57:38.932Z"
   },
   {
    "duration": 9,
    "start_time": "2023-04-12T10:57:39.328Z"
   },
   {
    "duration": 15,
    "start_time": "2023-04-12T10:57:39.339Z"
   },
   {
    "duration": 6,
    "start_time": "2023-04-12T10:57:39.357Z"
   },
   {
    "duration": 5,
    "start_time": "2023-04-12T10:57:39.365Z"
   },
   {
    "duration": 5,
    "start_time": "2023-04-12T10:57:39.388Z"
   },
   {
    "duration": 443,
    "start_time": "2023-04-12T10:57:39.395Z"
   },
   {
    "duration": 564,
    "start_time": "2023-04-12T10:57:39.840Z"
   },
   {
    "duration": 383,
    "start_time": "2023-04-12T10:57:40.406Z"
   },
   {
    "duration": 164,
    "start_time": "2023-04-12T10:57:40.791Z"
   },
   {
    "duration": 93,
    "start_time": "2023-04-12T10:57:40.957Z"
   },
   {
    "duration": 28,
    "start_time": "2023-04-12T10:57:41.051Z"
   },
   {
    "duration": 29,
    "start_time": "2023-04-12T10:57:41.083Z"
   },
   {
    "duration": 57,
    "start_time": "2023-04-12T10:57:41.114Z"
   },
   {
    "duration": 8,
    "start_time": "2023-04-12T10:57:41.190Z"
   },
   {
    "duration": 40,
    "start_time": "2023-04-12T10:57:41.200Z"
   },
   {
    "duration": 411,
    "start_time": "2023-04-12T10:57:41.242Z"
   },
   {
    "duration": 7,
    "start_time": "2023-04-12T10:57:41.655Z"
   },
   {
    "duration": 193,
    "start_time": "2023-04-12T10:57:41.665Z"
   },
   {
    "duration": 145,
    "start_time": "2023-04-12T10:57:41.860Z"
   },
   {
    "duration": 31,
    "start_time": "2023-04-12T10:57:42.006Z"
   },
   {
    "duration": 8,
    "start_time": "2023-04-12T10:57:42.039Z"
   },
   {
    "duration": 9,
    "start_time": "2023-04-12T10:57:42.049Z"
   },
   {
    "duration": 73,
    "start_time": "2023-04-12T10:57:42.060Z"
   },
   {
    "duration": 23,
    "start_time": "2023-04-12T10:57:42.135Z"
   },
   {
    "duration": 169,
    "start_time": "2023-04-12T10:57:42.160Z"
   },
   {
    "duration": 91,
    "start_time": "2023-04-12T10:57:42.331Z"
   },
   {
    "duration": 73,
    "start_time": "2023-04-12T10:57:42.423Z"
   },
   {
    "duration": 31,
    "start_time": "2023-04-12T10:57:42.497Z"
   },
   {
    "duration": 16,
    "start_time": "2023-04-12T10:57:42.530Z"
   },
   {
    "duration": 181,
    "start_time": "2023-04-12T10:57:42.548Z"
   },
   {
    "duration": 138,
    "start_time": "2023-04-12T10:57:42.730Z"
   },
   {
    "duration": 177,
    "start_time": "2023-04-12T10:57:42.870Z"
   },
   {
    "duration": 4,
    "start_time": "2023-04-12T10:57:43.049Z"
   },
   {
    "duration": 7,
    "start_time": "2023-04-12T10:57:43.054Z"
   },
   {
    "duration": 190,
    "start_time": "2023-04-12T10:57:43.063Z"
   },
   {
    "duration": 1582,
    "start_time": "2023-04-12T10:58:08.813Z"
   },
   {
    "duration": 295,
    "start_time": "2023-04-12T10:58:10.398Z"
   },
   {
    "duration": 9,
    "start_time": "2023-04-12T10:58:10.695Z"
   },
   {
    "duration": 13,
    "start_time": "2023-04-12T10:58:10.706Z"
   },
   {
    "duration": 21,
    "start_time": "2023-04-12T10:58:10.721Z"
   },
   {
    "duration": 19,
    "start_time": "2023-04-12T10:58:10.744Z"
   },
   {
    "duration": 7,
    "start_time": "2023-04-12T10:58:10.765Z"
   },
   {
    "duration": 427,
    "start_time": "2023-04-12T10:58:10.774Z"
   },
   {
    "duration": 564,
    "start_time": "2023-04-12T10:58:11.203Z"
   },
   {
    "duration": 383,
    "start_time": "2023-04-12T10:58:11.769Z"
   },
   {
    "duration": 204,
    "start_time": "2023-04-12T10:58:12.154Z"
   },
   {
    "duration": 86,
    "start_time": "2023-04-12T10:58:12.360Z"
   },
   {
    "duration": 28,
    "start_time": "2023-04-12T10:58:12.448Z"
   },
   {
    "duration": 46,
    "start_time": "2023-04-12T10:58:12.480Z"
   },
   {
    "duration": 74,
    "start_time": "2023-04-12T10:58:12.528Z"
   },
   {
    "duration": 11,
    "start_time": "2023-04-12T10:58:12.604Z"
   },
   {
    "duration": 44,
    "start_time": "2023-04-12T10:58:12.617Z"
   },
   {
    "duration": 505,
    "start_time": "2023-04-12T10:58:12.663Z"
   },
   {
    "duration": 20,
    "start_time": "2023-04-12T10:58:13.170Z"
   },
   {
    "duration": 175,
    "start_time": "2023-04-12T10:58:13.192Z"
   },
   {
    "duration": 139,
    "start_time": "2023-04-12T10:58:13.370Z"
   },
   {
    "duration": 31,
    "start_time": "2023-04-12T10:58:13.511Z"
   },
   {
    "duration": 10,
    "start_time": "2023-04-12T10:58:13.544Z"
   },
   {
    "duration": 3,
    "start_time": "2023-04-12T10:58:13.555Z"
   },
   {
    "duration": 71,
    "start_time": "2023-04-12T10:58:13.590Z"
   },
   {
    "duration": 36,
    "start_time": "2023-04-12T10:58:13.663Z"
   },
   {
    "duration": 163,
    "start_time": "2023-04-12T10:58:13.701Z"
   },
   {
    "duration": 80,
    "start_time": "2023-04-12T10:58:13.866Z"
   },
   {
    "duration": 72,
    "start_time": "2023-04-12T10:58:13.947Z"
   },
   {
    "duration": 32,
    "start_time": "2023-04-12T10:58:14.021Z"
   },
   {
    "duration": 38,
    "start_time": "2023-04-12T10:58:14.055Z"
   },
   {
    "duration": 162,
    "start_time": "2023-04-12T10:58:14.094Z"
   },
   {
    "duration": 131,
    "start_time": "2023-04-12T10:58:14.258Z"
   },
   {
    "duration": 179,
    "start_time": "2023-04-12T10:58:14.391Z"
   },
   {
    "duration": 4,
    "start_time": "2023-04-12T10:58:14.572Z"
   },
   {
    "duration": 16,
    "start_time": "2023-04-12T10:58:14.577Z"
   },
   {
    "duration": 1103,
    "start_time": "2023-04-12T10:58:14.595Z"
   },
   {
    "duration": 6,
    "start_time": "2023-04-12T10:58:45.412Z"
   },
   {
    "duration": 10,
    "start_time": "2023-04-12T10:58:46.430Z"
   },
   {
    "duration": 178,
    "start_time": "2023-04-12T11:01:17.709Z"
   },
   {
    "duration": 186,
    "start_time": "2023-04-12T11:01:22.821Z"
   },
   {
    "duration": 6,
    "start_time": "2023-04-12T11:01:31.129Z"
   },
   {
    "duration": 189,
    "start_time": "2023-04-12T11:01:40.675Z"
   },
   {
    "duration": 170,
    "start_time": "2023-04-12T11:02:49.106Z"
   },
   {
    "duration": 177,
    "start_time": "2023-04-12T11:04:12.308Z"
   },
   {
    "duration": 169,
    "start_time": "2023-04-12T11:06:53.407Z"
   },
   {
    "duration": 57,
    "start_time": "2023-04-12T11:08:12.054Z"
   },
   {
    "duration": 7,
    "start_time": "2023-04-12T11:08:20.657Z"
   },
   {
    "duration": 11,
    "start_time": "2023-04-12T11:08:23.611Z"
   },
   {
    "duration": 5,
    "start_time": "2023-04-12T11:09:52.737Z"
   },
   {
    "duration": 896,
    "start_time": "2023-04-12T11:09:53.715Z"
   },
   {
    "duration": 6,
    "start_time": "2023-04-12T11:11:04.762Z"
   },
   {
    "duration": 782,
    "start_time": "2023-04-12T11:11:07.346Z"
   },
   {
    "duration": 6,
    "start_time": "2023-04-12T11:11:42.117Z"
   },
   {
    "duration": 767,
    "start_time": "2023-04-12T11:11:42.771Z"
   },
   {
    "duration": 7,
    "start_time": "2023-04-12T11:12:39.207Z"
   },
   {
    "duration": 805,
    "start_time": "2023-04-12T11:12:40.258Z"
   },
   {
    "duration": 10,
    "start_time": "2023-04-12T11:13:02.747Z"
   },
   {
    "duration": 764,
    "start_time": "2023-04-12T11:13:11.354Z"
   },
   {
    "duration": 3,
    "start_time": "2023-04-12T11:13:19.442Z"
   },
   {
    "duration": 4,
    "start_time": "2023-04-12T11:13:37.603Z"
   },
   {
    "duration": 167,
    "start_time": "2023-04-12T11:14:12.321Z"
   },
   {
    "duration": 4,
    "start_time": "2023-04-12T11:14:14.535Z"
   },
   {
    "duration": 5,
    "start_time": "2023-04-12T11:14:28.671Z"
   },
   {
    "duration": 170,
    "start_time": "2023-04-12T11:14:58.458Z"
   },
   {
    "duration": 176,
    "start_time": "2023-04-12T11:15:40.705Z"
   },
   {
    "duration": 4,
    "start_time": "2023-04-12T11:15:56.995Z"
   },
   {
    "duration": 6,
    "start_time": "2023-04-12T11:15:58.595Z"
   },
   {
    "duration": 10,
    "start_time": "2023-04-12T11:15:59.349Z"
   },
   {
    "duration": 8,
    "start_time": "2023-04-12T11:17:13.132Z"
   },
   {
    "duration": 8,
    "start_time": "2023-04-12T11:17:13.859Z"
   },
   {
    "duration": 10,
    "start_time": "2023-04-12T11:17:19.995Z"
   },
   {
    "duration": 10,
    "start_time": "2023-04-12T11:17:20.337Z"
   },
   {
    "duration": 131,
    "start_time": "2023-04-12T11:22:02.755Z"
   },
   {
    "duration": 136,
    "start_time": "2023-04-12T11:22:30.017Z"
   },
   {
    "duration": 169,
    "start_time": "2023-04-12T11:25:42.064Z"
   },
   {
    "duration": 195,
    "start_time": "2023-04-12T11:25:57.888Z"
   },
   {
    "duration": 6,
    "start_time": "2023-04-12T11:26:16.238Z"
   },
   {
    "duration": 10,
    "start_time": "2023-04-12T11:26:17.081Z"
   },
   {
    "duration": 172,
    "start_time": "2023-04-12T11:27:02.935Z"
   },
   {
    "duration": 197,
    "start_time": "2023-04-12T11:28:15.193Z"
   },
   {
    "duration": 186,
    "start_time": "2023-04-12T11:28:44.799Z"
   },
   {
    "duration": 174,
    "start_time": "2023-04-12T11:29:08.221Z"
   },
   {
    "duration": 200,
    "start_time": "2023-04-12T11:29:22.461Z"
   },
   {
    "duration": 222,
    "start_time": "2023-04-12T11:30:11.621Z"
   },
   {
    "duration": 170,
    "start_time": "2023-04-12T11:30:22.410Z"
   },
   {
    "duration": 1473,
    "start_time": "2023-04-12T11:30:55.835Z"
   },
   {
    "duration": 444,
    "start_time": "2023-04-12T11:30:57.310Z"
   },
   {
    "duration": 8,
    "start_time": "2023-04-12T11:30:57.759Z"
   },
   {
    "duration": 24,
    "start_time": "2023-04-12T11:30:57.769Z"
   },
   {
    "duration": 25,
    "start_time": "2023-04-12T11:30:57.795Z"
   },
   {
    "duration": 10,
    "start_time": "2023-04-12T11:30:57.822Z"
   },
   {
    "duration": 5,
    "start_time": "2023-04-12T11:30:57.834Z"
   },
   {
    "duration": 349,
    "start_time": "2023-04-12T11:30:57.841Z"
   },
   {
    "duration": 508,
    "start_time": "2023-04-12T11:30:58.192Z"
   },
   {
    "duration": 354,
    "start_time": "2023-04-12T11:30:58.701Z"
   },
   {
    "duration": 182,
    "start_time": "2023-04-12T11:30:59.057Z"
   },
   {
    "duration": 72,
    "start_time": "2023-04-12T11:30:59.241Z"
   },
   {
    "duration": 28,
    "start_time": "2023-04-12T11:30:59.314Z"
   },
   {
    "duration": 30,
    "start_time": "2023-04-12T11:30:59.344Z"
   },
   {
    "duration": 55,
    "start_time": "2023-04-12T11:30:59.376Z"
   },
   {
    "duration": 8,
    "start_time": "2023-04-12T11:30:59.433Z"
   },
   {
    "duration": 52,
    "start_time": "2023-04-12T11:30:59.443Z"
   },
   {
    "duration": 381,
    "start_time": "2023-04-12T11:30:59.497Z"
   },
   {
    "duration": 6,
    "start_time": "2023-04-12T11:30:59.880Z"
   },
   {
    "duration": 201,
    "start_time": "2023-04-12T11:30:59.888Z"
   },
   {
    "duration": 113,
    "start_time": "2023-04-12T11:31:00.091Z"
   },
   {
    "duration": 34,
    "start_time": "2023-04-12T11:31:00.205Z"
   },
   {
    "duration": 42,
    "start_time": "2023-04-12T11:31:00.240Z"
   },
   {
    "duration": 49,
    "start_time": "2023-04-12T11:31:00.284Z"
   },
   {
    "duration": 98,
    "start_time": "2023-04-12T11:31:00.335Z"
   },
   {
    "duration": 38,
    "start_time": "2023-04-12T11:31:00.435Z"
   },
   {
    "duration": 168,
    "start_time": "2023-04-12T11:31:00.477Z"
   },
   {
    "duration": 100,
    "start_time": "2023-04-12T11:31:00.646Z"
   },
   {
    "duration": 77,
    "start_time": "2023-04-12T11:31:00.748Z"
   },
   {
    "duration": 34,
    "start_time": "2023-04-12T11:31:00.828Z"
   },
   {
    "duration": 40,
    "start_time": "2023-04-12T11:31:00.864Z"
   },
   {
    "duration": 163,
    "start_time": "2023-04-12T11:31:00.906Z"
   },
   {
    "duration": 183,
    "start_time": "2023-04-12T11:31:01.070Z"
   },
   {
    "duration": 6,
    "start_time": "2023-04-12T11:31:01.255Z"
   },
   {
    "duration": 95,
    "start_time": "2023-04-12T11:31:01.263Z"
   },
   {
    "duration": 179,
    "start_time": "2023-04-12T13:30:05.907Z"
   },
   {
    "duration": 1451,
    "start_time": "2023-04-12T13:34:12.847Z"
   },
   {
    "duration": 481,
    "start_time": "2023-04-12T13:34:14.300Z"
   },
   {
    "duration": 9,
    "start_time": "2023-04-12T13:34:14.783Z"
   },
   {
    "duration": 17,
    "start_time": "2023-04-12T13:34:14.795Z"
   },
   {
    "duration": 20,
    "start_time": "2023-04-12T13:34:14.814Z"
   },
   {
    "duration": 6,
    "start_time": "2023-04-12T13:34:14.835Z"
   },
   {
    "duration": 5,
    "start_time": "2023-04-12T13:34:14.842Z"
   },
   {
    "duration": 370,
    "start_time": "2023-04-12T13:34:14.848Z"
   },
   {
    "duration": 523,
    "start_time": "2023-04-12T13:34:15.220Z"
   },
   {
    "duration": 347,
    "start_time": "2023-04-12T13:34:15.746Z"
   },
   {
    "duration": 164,
    "start_time": "2023-04-12T13:34:16.094Z"
   },
   {
    "duration": 80,
    "start_time": "2023-04-12T13:34:16.259Z"
   },
   {
    "duration": 25,
    "start_time": "2023-04-12T13:34:16.341Z"
   },
   {
    "duration": 25,
    "start_time": "2023-04-12T13:34:16.368Z"
   },
   {
    "duration": 55,
    "start_time": "2023-04-12T13:34:16.395Z"
   },
   {
    "duration": 8,
    "start_time": "2023-04-12T13:34:16.452Z"
   },
   {
    "duration": 54,
    "start_time": "2023-04-12T13:34:16.462Z"
   },
   {
    "duration": 672,
    "start_time": "2023-04-12T13:34:16.518Z"
   },
   {
    "duration": 7,
    "start_time": "2023-04-12T13:34:17.192Z"
   },
   {
    "duration": 308,
    "start_time": "2023-04-12T13:34:17.201Z"
   },
   {
    "duration": 210,
    "start_time": "2023-04-12T13:34:17.511Z"
   },
   {
    "duration": 85,
    "start_time": "2023-04-12T13:34:17.723Z"
   },
   {
    "duration": 8,
    "start_time": "2023-04-12T13:34:17.810Z"
   },
   {
    "duration": 7,
    "start_time": "2023-04-12T13:34:17.820Z"
   },
   {
    "duration": 161,
    "start_time": "2023-04-12T13:34:17.829Z"
   },
   {
    "duration": 23,
    "start_time": "2023-04-12T13:34:17.992Z"
   },
   {
    "duration": 388,
    "start_time": "2023-04-12T13:34:18.017Z"
   },
   {
    "duration": 123,
    "start_time": "2023-04-12T13:34:18.409Z"
   },
   {
    "duration": 187,
    "start_time": "2023-04-12T13:34:18.534Z"
   },
   {
    "duration": 88,
    "start_time": "2023-04-12T13:34:18.723Z"
   },
   {
    "duration": 76,
    "start_time": "2023-04-12T13:34:18.813Z"
   },
   {
    "duration": 196,
    "start_time": "2023-04-12T13:34:18.891Z"
   },
   {
    "duration": 175,
    "start_time": "2023-04-12T13:34:19.089Z"
   },
   {
    "duration": 6,
    "start_time": "2023-04-12T13:34:19.266Z"
   },
   {
    "duration": 22,
    "start_time": "2023-04-12T13:34:19.273Z"
   },
   {
    "duration": 1548,
    "start_time": "2023-04-12T13:34:58.085Z"
   },
   {
    "duration": 466,
    "start_time": "2023-04-12T13:34:59.635Z"
   },
   {
    "duration": 9,
    "start_time": "2023-04-12T13:35:00.103Z"
   },
   {
    "duration": 97,
    "start_time": "2023-04-12T13:35:00.114Z"
   },
   {
    "duration": 99,
    "start_time": "2023-04-12T13:35:00.215Z"
   },
   {
    "duration": 62,
    "start_time": "2023-04-12T13:35:00.316Z"
   },
   {
    "duration": 41,
    "start_time": "2023-04-12T13:35:00.380Z"
   },
   {
    "duration": 479,
    "start_time": "2023-04-12T13:35:00.424Z"
   },
   {
    "duration": 537,
    "start_time": "2023-04-12T13:35:00.905Z"
   },
   {
    "duration": 556,
    "start_time": "2023-04-12T13:35:01.444Z"
   },
   {
    "duration": 322,
    "start_time": "2023-04-12T13:35:02.003Z"
   },
   {
    "duration": 162,
    "start_time": "2023-04-12T13:35:02.327Z"
   },
   {
    "duration": 29,
    "start_time": "2023-04-12T13:35:02.491Z"
   },
   {
    "duration": 81,
    "start_time": "2023-04-12T13:35:02.523Z"
   },
   {
    "duration": 108,
    "start_time": "2023-04-12T13:35:02.605Z"
   },
   {
    "duration": 8,
    "start_time": "2023-04-12T13:35:02.714Z"
   },
   {
    "duration": 94,
    "start_time": "2023-04-12T13:35:02.724Z"
   },
   {
    "duration": 769,
    "start_time": "2023-04-12T13:35:02.820Z"
   },
   {
    "duration": 7,
    "start_time": "2023-04-12T13:35:03.592Z"
   },
   {
    "duration": 227,
    "start_time": "2023-04-12T13:35:03.601Z"
   },
   {
    "duration": 198,
    "start_time": "2023-04-12T13:35:03.830Z"
   },
   {
    "duration": 32,
    "start_time": "2023-04-12T13:35:04.030Z"
   },
   {
    "duration": 29,
    "start_time": "2023-04-12T13:35:04.064Z"
   },
   {
    "duration": 3,
    "start_time": "2023-04-12T13:35:04.095Z"
   },
   {
    "duration": 57,
    "start_time": "2023-04-12T13:35:04.100Z"
   },
   {
    "duration": 44,
    "start_time": "2023-04-12T13:35:04.159Z"
   },
   {
    "duration": 174,
    "start_time": "2023-04-12T13:35:04.204Z"
   },
   {
    "duration": 75,
    "start_time": "2023-04-12T13:35:04.380Z"
   },
   {
    "duration": 64,
    "start_time": "2023-04-12T13:35:04.457Z"
   },
   {
    "duration": 31,
    "start_time": "2023-04-12T13:35:04.523Z"
   },
   {
    "duration": 15,
    "start_time": "2023-04-12T13:35:04.556Z"
   },
   {
    "duration": 155,
    "start_time": "2023-04-12T13:35:04.573Z"
   },
   {
    "duration": 175,
    "start_time": "2023-04-12T13:35:04.730Z"
   },
   {
    "duration": 6,
    "start_time": "2023-04-12T13:35:04.907Z"
   },
   {
    "duration": 15,
    "start_time": "2023-04-12T13:35:04.915Z"
   },
   {
    "duration": 1736,
    "start_time": "2023-04-12T13:35:49.323Z"
   },
   {
    "duration": 455,
    "start_time": "2023-04-12T13:35:51.061Z"
   },
   {
    "duration": 11,
    "start_time": "2023-04-12T13:35:51.518Z"
   },
   {
    "duration": 62,
    "start_time": "2023-04-12T13:35:51.532Z"
   },
   {
    "duration": 38,
    "start_time": "2023-04-12T13:35:51.597Z"
   },
   {
    "duration": 53,
    "start_time": "2023-04-12T13:35:51.637Z"
   },
   {
    "duration": 20,
    "start_time": "2023-04-12T13:35:51.692Z"
   },
   {
    "duration": 824,
    "start_time": "2023-04-12T13:35:51.715Z"
   },
   {
    "duration": 1581,
    "start_time": "2023-04-12T13:35:52.543Z"
   },
   {
    "duration": 607,
    "start_time": "2023-04-12T13:35:54.127Z"
   },
   {
    "duration": 194,
    "start_time": "2023-04-12T13:35:54.745Z"
   },
   {
    "duration": 81,
    "start_time": "2023-04-12T13:35:54.942Z"
   },
   {
    "duration": 34,
    "start_time": "2023-04-12T13:35:55.026Z"
   },
   {
    "duration": 60,
    "start_time": "2023-04-12T13:35:55.065Z"
   },
   {
    "duration": 73,
    "start_time": "2023-04-12T13:35:55.128Z"
   },
   {
    "duration": 11,
    "start_time": "2023-04-12T13:35:55.204Z"
   },
   {
    "duration": 75,
    "start_time": "2023-04-12T13:35:55.218Z"
   },
   {
    "duration": 493,
    "start_time": "2023-04-12T13:35:55.297Z"
   },
   {
    "duration": 8,
    "start_time": "2023-04-12T13:35:55.792Z"
   },
   {
    "duration": 274,
    "start_time": "2023-04-12T13:35:55.802Z"
   },
   {
    "duration": 141,
    "start_time": "2023-04-12T13:35:56.079Z"
   },
   {
    "duration": 44,
    "start_time": "2023-04-12T13:35:56.222Z"
   },
   {
    "duration": 30,
    "start_time": "2023-04-12T13:35:56.268Z"
   },
   {
    "duration": 6,
    "start_time": "2023-04-12T13:35:56.299Z"
   },
   {
    "duration": 82,
    "start_time": "2023-04-12T13:35:56.309Z"
   },
   {
    "duration": 34,
    "start_time": "2023-04-12T13:35:56.393Z"
   },
   {
    "duration": 220,
    "start_time": "2023-04-12T13:35:56.429Z"
   },
   {
    "duration": 99,
    "start_time": "2023-04-12T13:35:56.651Z"
   },
   {
    "duration": 98,
    "start_time": "2023-04-12T13:35:56.752Z"
   },
   {
    "duration": 55,
    "start_time": "2023-04-12T13:35:56.852Z"
   },
   {
    "duration": 23,
    "start_time": "2023-04-12T13:35:56.910Z"
   },
   {
    "duration": 238,
    "start_time": "2023-04-12T13:35:56.935Z"
   },
   {
    "duration": 181,
    "start_time": "2023-04-12T13:35:57.175Z"
   },
   {
    "duration": 9,
    "start_time": "2023-04-12T13:35:57.358Z"
   },
   {
    "duration": 35,
    "start_time": "2023-04-12T13:35:57.369Z"
   },
   {
    "duration": 1506,
    "start_time": "2023-04-12T13:36:25.298Z"
   },
   {
    "duration": 375,
    "start_time": "2023-04-12T13:36:26.807Z"
   },
   {
    "duration": 9,
    "start_time": "2023-04-12T13:36:27.185Z"
   },
   {
    "duration": 13,
    "start_time": "2023-04-12T13:36:27.196Z"
   },
   {
    "duration": 8,
    "start_time": "2023-04-12T13:36:27.212Z"
   },
   {
    "duration": 12,
    "start_time": "2023-04-12T13:36:27.222Z"
   },
   {
    "duration": 11,
    "start_time": "2023-04-12T13:36:27.236Z"
   },
   {
    "duration": 742,
    "start_time": "2023-04-12T13:36:27.249Z"
   },
   {
    "duration": 1107,
    "start_time": "2023-04-12T13:36:27.993Z"
   },
   {
    "duration": 553,
    "start_time": "2023-04-12T13:36:29.102Z"
   },
   {
    "duration": 202,
    "start_time": "2023-04-12T13:36:29.657Z"
   },
   {
    "duration": 74,
    "start_time": "2023-04-12T13:36:29.862Z"
   },
   {
    "duration": 31,
    "start_time": "2023-04-12T13:36:29.938Z"
   },
   {
    "duration": 38,
    "start_time": "2023-04-12T13:36:29.974Z"
   },
   {
    "duration": 56,
    "start_time": "2023-04-12T13:36:30.014Z"
   },
   {
    "duration": 24,
    "start_time": "2023-04-12T13:36:30.071Z"
   },
   {
    "duration": 83,
    "start_time": "2023-04-12T13:36:30.096Z"
   },
   {
    "duration": 426,
    "start_time": "2023-04-12T13:36:30.183Z"
   },
   {
    "duration": 12,
    "start_time": "2023-04-12T13:36:30.612Z"
   },
   {
    "duration": 314,
    "start_time": "2023-04-12T13:36:30.627Z"
   },
   {
    "duration": 122,
    "start_time": "2023-04-12T13:36:30.944Z"
   },
   {
    "duration": 74,
    "start_time": "2023-04-12T13:36:31.069Z"
   },
   {
    "duration": 25,
    "start_time": "2023-04-12T13:36:31.145Z"
   },
   {
    "duration": 62,
    "start_time": "2023-04-12T13:36:31.172Z"
   },
   {
    "duration": 122,
    "start_time": "2023-04-12T13:36:31.236Z"
   },
   {
    "duration": 60,
    "start_time": "2023-04-12T13:36:31.360Z"
   },
   {
    "duration": 223,
    "start_time": "2023-04-12T13:36:31.423Z"
   },
   {
    "duration": 124,
    "start_time": "2023-04-12T13:36:31.649Z"
   },
   {
    "duration": 89,
    "start_time": "2023-04-12T13:36:31.775Z"
   },
   {
    "duration": 69,
    "start_time": "2023-04-12T13:36:31.868Z"
   },
   {
    "duration": 22,
    "start_time": "2023-04-12T13:36:31.940Z"
   },
   {
    "duration": 237,
    "start_time": "2023-04-12T13:36:31.964Z"
   },
   {
    "duration": 187,
    "start_time": "2023-04-12T13:36:32.203Z"
   },
   {
    "duration": 7,
    "start_time": "2023-04-12T13:36:32.392Z"
   },
   {
    "duration": 55,
    "start_time": "2023-04-12T13:36:32.401Z"
   },
   {
    "duration": 43,
    "start_time": "2023-04-12T13:44:13.495Z"
   },
   {
    "duration": 21,
    "start_time": "2023-04-12T13:45:19.226Z"
   },
   {
    "duration": 1519,
    "start_time": "2023-04-12T13:45:31.883Z"
   },
   {
    "duration": 434,
    "start_time": "2023-04-12T13:45:33.404Z"
   },
   {
    "duration": 8,
    "start_time": "2023-04-12T13:45:33.840Z"
   },
   {
    "duration": 9,
    "start_time": "2023-04-12T13:45:33.850Z"
   },
   {
    "duration": 11,
    "start_time": "2023-04-12T13:45:33.861Z"
   },
   {
    "duration": 24,
    "start_time": "2023-04-12T13:45:33.874Z"
   },
   {
    "duration": 19,
    "start_time": "2023-04-12T13:45:33.900Z"
   },
   {
    "duration": 333,
    "start_time": "2023-04-12T13:45:33.921Z"
   },
   {
    "duration": 500,
    "start_time": "2023-04-12T13:45:34.256Z"
   },
   {
    "duration": 120,
    "start_time": "2023-04-12T13:45:34.758Z"
   },
   {
    "duration": 327,
    "start_time": "2023-04-12T13:45:34.879Z"
   },
   {
    "duration": 64,
    "start_time": "2023-04-12T13:45:35.207Z"
   },
   {
    "duration": 25,
    "start_time": "2023-04-12T13:45:35.273Z"
   },
   {
    "duration": 13,
    "start_time": "2023-04-12T13:45:35.301Z"
   },
   {
    "duration": 18,
    "start_time": "2023-04-12T13:45:35.316Z"
   },
   {
    "duration": 79,
    "start_time": "2023-04-12T13:45:35.335Z"
   },
   {
    "duration": 7,
    "start_time": "2023-04-12T13:45:35.416Z"
   },
   {
    "duration": 65,
    "start_time": "2023-04-12T13:45:35.425Z"
   },
   {
    "duration": 382,
    "start_time": "2023-04-12T13:45:35.492Z"
   },
   {
    "duration": 13,
    "start_time": "2023-04-12T13:45:35.876Z"
   },
   {
    "duration": 299,
    "start_time": "2023-04-12T13:45:35.891Z"
   },
   {
    "duration": 207,
    "start_time": "2023-04-12T13:45:36.193Z"
   },
   {
    "duration": 89,
    "start_time": "2023-04-12T13:45:36.402Z"
   },
   {
    "duration": 9,
    "start_time": "2023-04-12T13:45:36.493Z"
   },
   {
    "duration": 24,
    "start_time": "2023-04-12T13:45:36.504Z"
   },
   {
    "duration": 97,
    "start_time": "2023-04-12T13:45:36.530Z"
   },
   {
    "duration": 80,
    "start_time": "2023-04-12T13:45:36.630Z"
   },
   {
    "duration": 296,
    "start_time": "2023-04-12T13:45:36.712Z"
   },
   {
    "duration": 119,
    "start_time": "2023-04-12T13:45:37.010Z"
   },
   {
    "duration": 164,
    "start_time": "2023-04-12T13:45:37.131Z"
   },
   {
    "duration": 31,
    "start_time": "2023-04-12T13:45:37.297Z"
   },
   {
    "duration": 65,
    "start_time": "2023-04-12T13:45:37.330Z"
   },
   {
    "duration": 306,
    "start_time": "2023-04-12T13:45:37.397Z"
   },
   {
    "duration": 326,
    "start_time": "2023-04-12T13:45:37.705Z"
   },
   {
    "duration": 60,
    "start_time": "2023-04-12T13:45:38.033Z"
   },
   {
    "duration": 17,
    "start_time": "2023-04-12T13:45:38.095Z"
   },
   {
    "duration": 15,
    "start_time": "2023-04-12T13:46:29.379Z"
   },
   {
    "duration": 48,
    "start_time": "2023-04-12T13:54:21.711Z"
   },
   {
    "duration": 50,
    "start_time": "2023-04-12T13:58:20.569Z"
   },
   {
    "duration": 80,
    "start_time": "2023-04-12T13:58:27.806Z"
   },
   {
    "duration": 49,
    "start_time": "2023-04-12T13:59:19.023Z"
   },
   {
    "duration": 40,
    "start_time": "2023-04-12T13:59:42.377Z"
   },
   {
    "duration": 227,
    "start_time": "2023-04-12T14:00:08.743Z"
   },
   {
    "duration": 69,
    "start_time": "2023-04-12T14:00:27.785Z"
   },
   {
    "duration": 125,
    "start_time": "2023-04-12T14:00:37.982Z"
   },
   {
    "duration": 114,
    "start_time": "2023-04-12T14:00:51.742Z"
   },
   {
    "duration": 260,
    "start_time": "2023-04-12T14:01:02.503Z"
   },
   {
    "duration": 119,
    "start_time": "2023-04-12T14:01:24.683Z"
   },
   {
    "duration": 115,
    "start_time": "2023-04-12T14:01:35.148Z"
   },
   {
    "duration": 126,
    "start_time": "2023-04-12T14:02:56.171Z"
   },
   {
    "duration": 99,
    "start_time": "2023-04-12T14:03:08.281Z"
   },
   {
    "duration": 97,
    "start_time": "2023-04-12T14:03:47.940Z"
   },
   {
    "duration": 51,
    "start_time": "2023-04-12T14:04:30.341Z"
   },
   {
    "duration": 64,
    "start_time": "2023-04-12T14:04:47.830Z"
   },
   {
    "duration": 29,
    "start_time": "2023-04-12T14:04:56.818Z"
   },
   {
    "duration": 111,
    "start_time": "2023-04-12T14:05:38.734Z"
   },
   {
    "duration": 35,
    "start_time": "2023-04-12T14:05:40.414Z"
   },
   {
    "duration": 96,
    "start_time": "2023-04-12T14:06:21.037Z"
   },
   {
    "duration": 93,
    "start_time": "2023-04-12T14:06:37.038Z"
   },
   {
    "duration": 27,
    "start_time": "2023-04-12T14:06:43.524Z"
   },
   {
    "duration": 49,
    "start_time": "2023-04-12T14:07:03.454Z"
   },
   {
    "duration": 38,
    "start_time": "2023-04-12T14:07:33.427Z"
   },
   {
    "duration": 109,
    "start_time": "2023-04-12T14:08:46.274Z"
   },
   {
    "duration": 120,
    "start_time": "2023-04-12T14:11:22.532Z"
   },
   {
    "duration": 1503,
    "start_time": "2023-04-12T14:11:52.815Z"
   },
   {
    "duration": 477,
    "start_time": "2023-04-12T14:11:54.320Z"
   },
   {
    "duration": 7,
    "start_time": "2023-04-12T14:11:54.799Z"
   },
   {
    "duration": 11,
    "start_time": "2023-04-12T14:11:54.808Z"
   },
   {
    "duration": 8,
    "start_time": "2023-04-12T14:11:54.821Z"
   },
   {
    "duration": 7,
    "start_time": "2023-04-12T14:11:54.831Z"
   },
   {
    "duration": 4,
    "start_time": "2023-04-12T14:11:54.840Z"
   },
   {
    "duration": 358,
    "start_time": "2023-04-12T14:11:54.846Z"
   },
   {
    "duration": 523,
    "start_time": "2023-04-12T14:11:55.207Z"
   },
   {
    "duration": 128,
    "start_time": "2023-04-12T14:11:55.732Z"
   },
   {
    "duration": 332,
    "start_time": "2023-04-12T14:11:55.863Z"
   },
   {
    "duration": 62,
    "start_time": "2023-04-12T14:11:56.197Z"
   },
   {
    "duration": 28,
    "start_time": "2023-04-12T14:11:56.261Z"
   },
   {
    "duration": 25,
    "start_time": "2023-04-12T14:11:56.293Z"
   },
   {
    "duration": 44,
    "start_time": "2023-04-12T14:11:56.320Z"
   },
   {
    "duration": 97,
    "start_time": "2023-04-12T14:11:56.366Z"
   },
   {
    "duration": 37,
    "start_time": "2023-04-12T14:11:56.465Z"
   },
   {
    "duration": 53,
    "start_time": "2023-04-12T14:11:56.505Z"
   },
   {
    "duration": 154,
    "start_time": "2023-04-12T14:11:56.559Z"
   },
   {
    "duration": 0,
    "start_time": "2023-04-12T14:11:56.715Z"
   },
   {
    "duration": 0,
    "start_time": "2023-04-12T14:11:56.716Z"
   },
   {
    "duration": 0,
    "start_time": "2023-04-12T14:11:56.717Z"
   },
   {
    "duration": 0,
    "start_time": "2023-04-12T14:11:56.718Z"
   },
   {
    "duration": 0,
    "start_time": "2023-04-12T14:11:56.719Z"
   },
   {
    "duration": 0,
    "start_time": "2023-04-12T14:11:56.720Z"
   },
   {
    "duration": 0,
    "start_time": "2023-04-12T14:11:56.721Z"
   },
   {
    "duration": 0,
    "start_time": "2023-04-12T14:11:56.723Z"
   },
   {
    "duration": 0,
    "start_time": "2023-04-12T14:11:56.724Z"
   },
   {
    "duration": 0,
    "start_time": "2023-04-12T14:11:56.725Z"
   },
   {
    "duration": 0,
    "start_time": "2023-04-12T14:11:56.726Z"
   },
   {
    "duration": 0,
    "start_time": "2023-04-12T14:11:56.727Z"
   },
   {
    "duration": 0,
    "start_time": "2023-04-12T14:11:56.729Z"
   },
   {
    "duration": 0,
    "start_time": "2023-04-12T14:11:56.730Z"
   },
   {
    "duration": 0,
    "start_time": "2023-04-12T14:11:56.731Z"
   },
   {
    "duration": 0,
    "start_time": "2023-04-12T14:11:56.732Z"
   },
   {
    "duration": 0,
    "start_time": "2023-04-12T14:11:56.733Z"
   },
   {
    "duration": 379,
    "start_time": "2023-04-12T14:12:09.899Z"
   },
   {
    "duration": 118,
    "start_time": "2023-04-12T14:14:20.281Z"
   },
   {
    "duration": 113,
    "start_time": "2023-04-12T14:14:30.052Z"
   },
   {
    "duration": 110,
    "start_time": "2023-04-12T14:17:06.358Z"
   },
   {
    "duration": 114,
    "start_time": "2023-04-12T14:17:32.063Z"
   },
   {
    "duration": 109,
    "start_time": "2023-04-12T14:17:40.549Z"
   },
   {
    "duration": 106,
    "start_time": "2023-04-12T14:17:45.971Z"
   },
   {
    "duration": 122,
    "start_time": "2023-04-12T14:18:13.303Z"
   },
   {
    "duration": 196,
    "start_time": "2023-04-12T14:19:16.793Z"
   },
   {
    "duration": 116,
    "start_time": "2023-04-12T14:24:23.932Z"
   },
   {
    "duration": 120,
    "start_time": "2023-04-12T14:24:29.561Z"
   },
   {
    "duration": 137,
    "start_time": "2023-04-12T14:24:36.974Z"
   },
   {
    "duration": 107,
    "start_time": "2023-04-12T14:27:21.018Z"
   },
   {
    "duration": 101,
    "start_time": "2023-04-12T14:27:28.298Z"
   },
   {
    "duration": 113,
    "start_time": "2023-04-12T14:27:44.750Z"
   },
   {
    "duration": 33,
    "start_time": "2023-04-12T14:28:02.048Z"
   },
   {
    "duration": 46,
    "start_time": "2023-04-12T14:28:07.007Z"
   },
   {
    "duration": 50,
    "start_time": "2023-04-12T14:29:15.122Z"
   },
   {
    "duration": 27,
    "start_time": "2023-04-12T14:29:20.733Z"
   },
   {
    "duration": 52,
    "start_time": "2023-04-12T14:30:00.534Z"
   },
   {
    "duration": 70,
    "start_time": "2023-04-12T14:30:43.904Z"
   },
   {
    "duration": 50,
    "start_time": "2023-04-12T14:30:49.591Z"
   },
   {
    "duration": 116,
    "start_time": "2023-04-12T14:31:16.442Z"
   },
   {
    "duration": 105,
    "start_time": "2023-04-12T14:32:47.193Z"
   },
   {
    "duration": 109,
    "start_time": "2023-04-12T14:33:25.567Z"
   },
   {
    "duration": 111,
    "start_time": "2023-04-12T14:34:10.166Z"
   },
   {
    "duration": 53,
    "start_time": "2023-04-12T14:34:21.925Z"
   },
   {
    "duration": 90,
    "start_time": "2023-04-12T14:34:46.422Z"
   },
   {
    "duration": 116,
    "start_time": "2023-04-12T14:35:54.628Z"
   },
   {
    "duration": 94,
    "start_time": "2023-04-12T14:36:17.759Z"
   },
   {
    "duration": 93,
    "start_time": "2023-04-12T14:36:38.786Z"
   },
   {
    "duration": 128,
    "start_time": "2023-04-12T14:39:21.584Z"
   },
   {
    "duration": 109,
    "start_time": "2023-04-12T14:39:56.427Z"
   },
   {
    "duration": 119,
    "start_time": "2023-04-12T14:40:20.547Z"
   },
   {
    "duration": 96,
    "start_time": "2023-04-12T14:41:20.163Z"
   },
   {
    "duration": 45,
    "start_time": "2023-04-12T14:41:32.714Z"
   },
   {
    "duration": 203,
    "start_time": "2023-04-12T14:42:04.383Z"
   },
   {
    "duration": 33,
    "start_time": "2023-04-12T14:45:48.888Z"
   },
   {
    "duration": 21,
    "start_time": "2023-04-12T14:46:29.986Z"
   },
   {
    "duration": 102,
    "start_time": "2023-04-12T14:47:29.073Z"
   },
   {
    "duration": 5,
    "start_time": "2023-04-12T14:51:07.957Z"
   },
   {
    "duration": 6,
    "start_time": "2023-04-12T14:51:18.062Z"
   },
   {
    "duration": 12,
    "start_time": "2023-04-12T14:51:30.146Z"
   },
   {
    "duration": 14,
    "start_time": "2023-04-12T14:52:02.270Z"
   },
   {
    "duration": 47,
    "start_time": "2023-04-12T14:53:54.974Z"
   },
   {
    "duration": 36,
    "start_time": "2023-04-12T14:54:02.232Z"
   },
   {
    "duration": 48,
    "start_time": "2023-04-12T14:54:12.245Z"
   },
   {
    "duration": 59,
    "start_time": "2023-04-12T14:54:55.434Z"
   },
   {
    "duration": 70,
    "start_time": "2023-04-12T14:55:42.341Z"
   },
   {
    "duration": 4,
    "start_time": "2023-04-12T14:57:17.078Z"
   },
   {
    "duration": 62,
    "start_time": "2023-04-12T14:57:55.163Z"
   },
   {
    "duration": 1477,
    "start_time": "2023-04-12T14:58:01.529Z"
   },
   {
    "duration": 434,
    "start_time": "2023-04-12T14:58:03.008Z"
   },
   {
    "duration": 9,
    "start_time": "2023-04-12T14:58:03.444Z"
   },
   {
    "duration": 37,
    "start_time": "2023-04-12T14:58:03.456Z"
   },
   {
    "duration": 31,
    "start_time": "2023-04-12T14:58:03.494Z"
   },
   {
    "duration": 20,
    "start_time": "2023-04-12T14:58:03.526Z"
   },
   {
    "duration": 27,
    "start_time": "2023-04-12T14:58:03.547Z"
   },
   {
    "duration": 347,
    "start_time": "2023-04-12T14:58:03.576Z"
   },
   {
    "duration": 510,
    "start_time": "2023-04-12T14:58:03.924Z"
   },
   {
    "duration": 135,
    "start_time": "2023-04-12T14:58:04.437Z"
   },
   {
    "duration": 353,
    "start_time": "2023-04-12T14:58:04.574Z"
   },
   {
    "duration": 69,
    "start_time": "2023-04-12T14:58:04.928Z"
   },
   {
    "duration": 26,
    "start_time": "2023-04-12T14:58:04.998Z"
   },
   {
    "duration": 35,
    "start_time": "2023-04-12T14:58:05.026Z"
   },
   {
    "duration": 46,
    "start_time": "2023-04-12T14:58:05.062Z"
   },
   {
    "duration": 105,
    "start_time": "2023-04-12T14:58:05.110Z"
   },
   {
    "duration": 31,
    "start_time": "2023-04-12T14:58:05.216Z"
   },
   {
    "duration": 53,
    "start_time": "2023-04-12T14:58:05.249Z"
   },
   {
    "duration": 355,
    "start_time": "2023-04-12T14:58:05.304Z"
   },
   {
    "duration": 186,
    "start_time": "2023-04-12T14:58:05.660Z"
   },
   {
    "duration": 52,
    "start_time": "2023-04-12T14:58:05.847Z"
   },
   {
    "duration": 281,
    "start_time": "2023-04-12T14:58:05.901Z"
   },
   {
    "duration": 0,
    "start_time": "2023-04-12T14:58:06.183Z"
   },
   {
    "duration": 0,
    "start_time": "2023-04-12T14:58:06.189Z"
   },
   {
    "duration": 0,
    "start_time": "2023-04-12T14:58:06.190Z"
   },
   {
    "duration": 0,
    "start_time": "2023-04-12T14:58:06.191Z"
   },
   {
    "duration": 0,
    "start_time": "2023-04-12T14:58:06.192Z"
   },
   {
    "duration": 0,
    "start_time": "2023-04-12T14:58:06.193Z"
   },
   {
    "duration": 0,
    "start_time": "2023-04-12T14:58:06.194Z"
   },
   {
    "duration": 0,
    "start_time": "2023-04-12T14:58:06.196Z"
   },
   {
    "duration": 0,
    "start_time": "2023-04-12T14:58:06.197Z"
   },
   {
    "duration": 0,
    "start_time": "2023-04-12T14:58:06.198Z"
   },
   {
    "duration": 0,
    "start_time": "2023-04-12T14:58:06.199Z"
   },
   {
    "duration": 0,
    "start_time": "2023-04-12T14:58:06.201Z"
   },
   {
    "duration": 0,
    "start_time": "2023-04-12T14:58:06.202Z"
   },
   {
    "duration": 0,
    "start_time": "2023-04-12T14:58:06.203Z"
   },
   {
    "duration": 0,
    "start_time": "2023-04-12T14:58:06.204Z"
   },
   {
    "duration": 1604,
    "start_time": "2023-04-12T14:58:59.717Z"
   },
   {
    "duration": 396,
    "start_time": "2023-04-12T14:59:01.324Z"
   },
   {
    "duration": 10,
    "start_time": "2023-04-12T14:59:01.722Z"
   },
   {
    "duration": 39,
    "start_time": "2023-04-12T14:59:01.734Z"
   },
   {
    "duration": 37,
    "start_time": "2023-04-12T14:59:01.776Z"
   },
   {
    "duration": 24,
    "start_time": "2023-04-12T14:59:01.815Z"
   },
   {
    "duration": 32,
    "start_time": "2023-04-12T14:59:01.840Z"
   },
   {
    "duration": 437,
    "start_time": "2023-04-12T14:59:01.874Z"
   },
   {
    "duration": 542,
    "start_time": "2023-04-12T14:59:02.313Z"
   },
   {
    "duration": 124,
    "start_time": "2023-04-12T14:59:02.857Z"
   },
   {
    "duration": 348,
    "start_time": "2023-04-12T14:59:02.989Z"
   },
   {
    "duration": 80,
    "start_time": "2023-04-12T14:59:03.339Z"
   },
   {
    "duration": 27,
    "start_time": "2023-04-12T14:59:03.421Z"
   },
   {
    "duration": 22,
    "start_time": "2023-04-12T14:59:03.451Z"
   },
   {
    "duration": 57,
    "start_time": "2023-04-12T14:59:03.475Z"
   },
   {
    "duration": 111,
    "start_time": "2023-04-12T14:59:03.534Z"
   },
   {
    "duration": 29,
    "start_time": "2023-04-12T14:59:03.647Z"
   },
   {
    "duration": 53,
    "start_time": "2023-04-12T14:59:03.678Z"
   },
   {
    "duration": 384,
    "start_time": "2023-04-12T14:59:03.732Z"
   },
   {
    "duration": 181,
    "start_time": "2023-04-12T14:59:04.118Z"
   },
   {
    "duration": 53,
    "start_time": "2023-04-12T14:59:04.302Z"
   },
   {
    "duration": 114,
    "start_time": "2023-04-12T14:59:04.357Z"
   },
   {
    "duration": 113,
    "start_time": "2023-04-12T14:59:04.473Z"
   },
   {
    "duration": 23,
    "start_time": "2023-04-12T14:59:04.588Z"
   },
   {
    "duration": 63,
    "start_time": "2023-04-12T14:59:04.612Z"
   },
   {
    "duration": 4,
    "start_time": "2023-04-12T14:59:04.677Z"
   },
   {
    "duration": 52,
    "start_time": "2023-04-12T14:59:04.683Z"
   },
   {
    "duration": 23,
    "start_time": "2023-04-12T14:59:04.737Z"
   },
   {
    "duration": 243,
    "start_time": "2023-04-12T14:59:04.762Z"
   },
   {
    "duration": 98,
    "start_time": "2023-04-12T14:59:05.007Z"
   },
   {
    "duration": 60,
    "start_time": "2023-04-12T14:59:05.107Z"
   },
   {
    "duration": 49,
    "start_time": "2023-04-12T14:59:05.169Z"
   },
   {
    "duration": 16,
    "start_time": "2023-04-12T14:59:05.219Z"
   },
   {
    "duration": 165,
    "start_time": "2023-04-12T14:59:05.236Z"
   },
   {
    "duration": 187,
    "start_time": "2023-04-12T14:59:05.403Z"
   },
   {
    "duration": 7,
    "start_time": "2023-04-12T14:59:05.591Z"
   },
   {
    "duration": 23,
    "start_time": "2023-04-12T14:59:05.599Z"
   },
   {
    "duration": 32,
    "start_time": "2023-04-12T14:59:43.057Z"
   },
   {
    "duration": 201,
    "start_time": "2023-04-12T15:01:21.293Z"
   },
   {
    "duration": 27,
    "start_time": "2023-04-12T15:01:38.180Z"
   },
   {
    "duration": 26,
    "start_time": "2023-04-12T15:01:45.033Z"
   },
   {
    "duration": 31,
    "start_time": "2023-04-12T15:02:41.925Z"
   },
   {
    "duration": 31,
    "start_time": "2023-04-12T15:04:14.942Z"
   },
   {
    "duration": 32,
    "start_time": "2023-04-12T15:04:56.723Z"
   },
   {
    "duration": 27,
    "start_time": "2023-04-12T15:05:24.964Z"
   },
   {
    "duration": 150,
    "start_time": "2023-04-12T15:07:34.660Z"
   },
   {
    "duration": 32,
    "start_time": "2023-04-12T15:10:28.867Z"
   },
   {
    "duration": 55,
    "start_time": "2023-04-12T15:11:24.290Z"
   },
   {
    "duration": 5,
    "start_time": "2023-04-12T15:11:40.342Z"
   },
   {
    "duration": 4,
    "start_time": "2023-04-12T15:11:59.120Z"
   },
   {
    "duration": 4,
    "start_time": "2023-04-12T15:12:11.985Z"
   },
   {
    "duration": 112,
    "start_time": "2023-04-12T15:12:20.768Z"
   },
   {
    "duration": 120,
    "start_time": "2023-04-12T15:13:01.282Z"
   },
   {
    "duration": 124,
    "start_time": "2023-04-12T15:13:37.593Z"
   },
   {
    "duration": 114,
    "start_time": "2023-04-12T15:14:19.454Z"
   },
   {
    "duration": 129,
    "start_time": "2023-04-12T15:14:32.554Z"
   },
   {
    "duration": 114,
    "start_time": "2023-04-12T15:17:59.184Z"
   },
   {
    "duration": 123,
    "start_time": "2023-04-12T15:18:20.418Z"
   },
   {
    "duration": 113,
    "start_time": "2023-04-12T15:18:23.409Z"
   },
   {
    "duration": 65,
    "start_time": "2023-04-12T17:26:13.322Z"
   },
   {
    "duration": 164,
    "start_time": "2023-04-12T17:26:48.003Z"
   },
   {
    "duration": 42,
    "start_time": "2023-04-12T17:27:27.158Z"
   },
   {
    "duration": 45,
    "start_time": "2023-04-12T17:28:36.921Z"
   },
   {
    "duration": 45,
    "start_time": "2023-04-12T17:32:05.033Z"
   },
   {
    "duration": 46,
    "start_time": "2023-04-12T17:33:31.408Z"
   },
   {
    "duration": 819,
    "start_time": "2023-04-12T17:41:09.478Z"
   },
   {
    "duration": 28,
    "start_time": "2023-04-12T17:41:20.460Z"
   },
   {
    "duration": 10,
    "start_time": "2023-04-12T17:43:20.570Z"
   },
   {
    "duration": 685,
    "start_time": "2023-04-12T17:46:49.014Z"
   },
   {
    "duration": 23,
    "start_time": "2023-04-12T17:48:06.810Z"
   },
   {
    "duration": 18,
    "start_time": "2023-04-12T17:48:37.198Z"
   },
   {
    "duration": 23,
    "start_time": "2023-04-12T17:48:47.695Z"
   },
   {
    "duration": 47,
    "start_time": "2023-04-12T17:49:18.736Z"
   },
   {
    "duration": 51,
    "start_time": "2023-04-12T17:49:28.614Z"
   },
   {
    "duration": 26,
    "start_time": "2023-04-12T17:49:39.050Z"
   },
   {
    "duration": 13,
    "start_time": "2023-04-12T17:50:20.543Z"
   },
   {
    "duration": 23,
    "start_time": "2023-04-12T17:51:00.961Z"
   },
   {
    "duration": 12,
    "start_time": "2023-04-12T17:52:07.839Z"
   },
   {
    "duration": 364,
    "start_time": "2023-04-12T17:53:05.961Z"
   },
   {
    "duration": 13,
    "start_time": "2023-04-12T17:53:30.169Z"
   },
   {
    "duration": 12,
    "start_time": "2023-04-12T17:54:26.168Z"
   },
   {
    "duration": 31,
    "start_time": "2023-04-12T18:02:56.096Z"
   },
   {
    "duration": 1407,
    "start_time": "2023-04-13T07:06:36.903Z"
   },
   {
    "duration": 723,
    "start_time": "2023-04-13T07:06:38.312Z"
   },
   {
    "duration": 8,
    "start_time": "2023-04-13T07:06:39.037Z"
   },
   {
    "duration": 33,
    "start_time": "2023-04-13T07:06:39.047Z"
   },
   {
    "duration": 10,
    "start_time": "2023-04-13T07:06:39.082Z"
   },
   {
    "duration": 12,
    "start_time": "2023-04-13T07:06:39.094Z"
   },
   {
    "duration": 5,
    "start_time": "2023-04-13T07:06:39.108Z"
   },
   {
    "duration": 308,
    "start_time": "2023-04-13T07:06:39.114Z"
   },
   {
    "duration": 481,
    "start_time": "2023-04-13T07:06:39.424Z"
   },
   {
    "duration": 118,
    "start_time": "2023-04-13T07:06:39.907Z"
   },
   {
    "duration": 344,
    "start_time": "2023-04-13T07:06:40.027Z"
   },
   {
    "duration": 67,
    "start_time": "2023-04-13T07:06:40.372Z"
   },
   {
    "duration": 24,
    "start_time": "2023-04-13T07:06:40.440Z"
   },
   {
    "duration": 38,
    "start_time": "2023-04-13T07:06:40.465Z"
   },
   {
    "duration": 84,
    "start_time": "2023-04-13T07:06:40.504Z"
   },
   {
    "duration": 101,
    "start_time": "2023-04-13T07:06:40.590Z"
   },
   {
    "duration": 30,
    "start_time": "2023-04-13T07:06:40.693Z"
   },
   {
    "duration": 51,
    "start_time": "2023-04-13T07:06:40.725Z"
   },
   {
    "duration": 359,
    "start_time": "2023-04-13T07:06:40.778Z"
   },
   {
    "duration": 178,
    "start_time": "2023-04-13T07:06:41.139Z"
   },
   {
    "duration": 55,
    "start_time": "2023-04-13T07:06:41.319Z"
   },
   {
    "duration": 105,
    "start_time": "2023-04-13T07:06:41.377Z"
   },
   {
    "duration": 106,
    "start_time": "2023-04-13T07:06:41.484Z"
   },
   {
    "duration": 23,
    "start_time": "2023-04-13T07:06:41.593Z"
   },
   {
    "duration": 84,
    "start_time": "2023-04-13T07:06:41.617Z"
   },
   {
    "duration": 4,
    "start_time": "2023-04-13T07:06:41.702Z"
   },
   {
    "duration": 53,
    "start_time": "2023-04-13T07:06:41.708Z"
   },
   {
    "duration": 72,
    "start_time": "2023-04-13T07:06:41.764Z"
   },
   {
    "duration": 77,
    "start_time": "2023-04-13T07:06:41.838Z"
   },
   {
    "duration": 28,
    "start_time": "2023-04-13T07:06:41.917Z"
   },
   {
    "duration": 26,
    "start_time": "2023-04-13T07:06:41.946Z"
   },
   {
    "duration": 100,
    "start_time": "2023-04-13T07:06:41.974Z"
   },
   {
    "duration": 121,
    "start_time": "2023-04-13T07:06:42.076Z"
   },
   {
    "duration": 139,
    "start_time": "2023-04-13T07:06:42.198Z"
   },
   {
    "duration": 173,
    "start_time": "2023-04-13T07:06:42.339Z"
   },
   {
    "duration": 6,
    "start_time": "2023-04-13T07:06:42.514Z"
   },
   {
    "duration": 25,
    "start_time": "2023-04-13T07:06:42.522Z"
   },
   {
    "duration": 185,
    "start_time": "2023-04-13T07:22:11.883Z"
   },
   {
    "duration": 40,
    "start_time": "2023-04-13T07:22:38.695Z"
   },
   {
    "duration": 32,
    "start_time": "2023-04-13T07:24:23.264Z"
   },
   {
    "duration": 71,
    "start_time": "2023-04-13T07:25:16.900Z"
   },
   {
    "duration": 29,
    "start_time": "2023-04-13T07:25:20.957Z"
   },
   {
    "duration": 1547,
    "start_time": "2023-04-13T07:41:44.024Z"
   },
   {
    "duration": 388,
    "start_time": "2023-04-13T07:41:45.574Z"
   },
   {
    "duration": 9,
    "start_time": "2023-04-13T07:41:45.964Z"
   },
   {
    "duration": 18,
    "start_time": "2023-04-13T07:41:45.975Z"
   },
   {
    "duration": 7,
    "start_time": "2023-04-13T07:41:45.996Z"
   },
   {
    "duration": 6,
    "start_time": "2023-04-13T07:41:46.005Z"
   },
   {
    "duration": 5,
    "start_time": "2023-04-13T07:41:46.012Z"
   },
   {
    "duration": 347,
    "start_time": "2023-04-13T07:41:46.019Z"
   },
   {
    "duration": 548,
    "start_time": "2023-04-13T07:41:46.368Z"
   },
   {
    "duration": 127,
    "start_time": "2023-04-13T07:41:46.919Z"
   },
   {
    "duration": 367,
    "start_time": "2023-04-13T07:41:47.048Z"
   },
   {
    "duration": 63,
    "start_time": "2023-04-13T07:41:47.417Z"
   },
   {
    "duration": 33,
    "start_time": "2023-04-13T07:41:47.482Z"
   },
   {
    "duration": 16,
    "start_time": "2023-04-13T07:41:47.517Z"
   },
   {
    "duration": 71,
    "start_time": "2023-04-13T07:41:47.536Z"
   },
   {
    "duration": 114,
    "start_time": "2023-04-13T07:41:47.609Z"
   },
   {
    "duration": 29,
    "start_time": "2023-04-13T07:41:47.725Z"
   },
   {
    "duration": 63,
    "start_time": "2023-04-13T07:41:47.757Z"
   },
   {
    "duration": 406,
    "start_time": "2023-04-13T07:41:47.821Z"
   },
   {
    "duration": 219,
    "start_time": "2023-04-13T07:41:48.229Z"
   },
   {
    "duration": 55,
    "start_time": "2023-04-13T07:41:48.449Z"
   },
   {
    "duration": 121,
    "start_time": "2023-04-13T07:41:48.506Z"
   },
   {
    "duration": 121,
    "start_time": "2023-04-13T07:41:48.628Z"
   },
   {
    "duration": 22,
    "start_time": "2023-04-13T07:41:48.751Z"
   },
   {
    "duration": 72,
    "start_time": "2023-04-13T07:41:48.774Z"
   },
   {
    "duration": 3,
    "start_time": "2023-04-13T07:41:48.848Z"
   },
   {
    "duration": 59,
    "start_time": "2023-04-13T07:41:48.853Z"
   },
   {
    "duration": 83,
    "start_time": "2023-04-13T07:41:48.916Z"
   },
   {
    "duration": 68,
    "start_time": "2023-04-13T07:41:49.002Z"
   },
   {
    "duration": 174,
    "start_time": "2023-04-13T07:41:49.090Z"
   },
   {
    "duration": 51,
    "start_time": "2023-04-13T07:41:49.266Z"
   },
   {
    "duration": 13,
    "start_time": "2023-04-13T07:41:49.319Z"
   },
   {
    "duration": 119,
    "start_time": "2023-04-13T07:41:49.333Z"
   },
   {
    "duration": 121,
    "start_time": "2023-04-13T07:41:49.454Z"
   },
   {
    "duration": 229,
    "start_time": "2023-04-13T07:41:49.577Z"
   },
   {
    "duration": 0,
    "start_time": "2023-04-13T07:41:49.809Z"
   },
   {
    "duration": 0,
    "start_time": "2023-04-13T07:41:49.810Z"
   },
   {
    "duration": 60,
    "start_time": "2023-04-13T07:43:19.694Z"
   },
   {
    "duration": 20,
    "start_time": "2023-04-13T07:44:28.297Z"
   },
   {
    "duration": 136,
    "start_time": "2023-04-13T07:44:43.160Z"
   },
   {
    "duration": 130,
    "start_time": "2023-04-13T07:44:53.927Z"
   },
   {
    "duration": 1567,
    "start_time": "2023-04-13T07:50:25.213Z"
   },
   {
    "duration": 394,
    "start_time": "2023-04-13T07:50:26.782Z"
   },
   {
    "duration": 9,
    "start_time": "2023-04-13T07:50:27.178Z"
   },
   {
    "duration": 8,
    "start_time": "2023-04-13T07:50:27.190Z"
   },
   {
    "duration": 32,
    "start_time": "2023-04-13T07:50:27.199Z"
   },
   {
    "duration": 9,
    "start_time": "2023-04-13T07:50:27.233Z"
   },
   {
    "duration": 5,
    "start_time": "2023-04-13T07:50:27.243Z"
   },
   {
    "duration": 358,
    "start_time": "2023-04-13T07:50:27.250Z"
   },
   {
    "duration": 607,
    "start_time": "2023-04-13T07:50:27.610Z"
   },
   {
    "duration": 141,
    "start_time": "2023-04-13T07:50:28.221Z"
   },
   {
    "duration": 412,
    "start_time": "2023-04-13T07:50:28.364Z"
   },
   {
    "duration": 89,
    "start_time": "2023-04-13T07:50:28.778Z"
   },
   {
    "duration": 37,
    "start_time": "2023-04-13T07:50:28.870Z"
   },
   {
    "duration": 24,
    "start_time": "2023-04-13T07:50:28.911Z"
   },
   {
    "duration": 51,
    "start_time": "2023-04-13T07:50:28.937Z"
   },
   {
    "duration": 144,
    "start_time": "2023-04-13T07:50:28.993Z"
   },
   {
    "duration": 32,
    "start_time": "2023-04-13T07:50:29.139Z"
   },
   {
    "duration": 67,
    "start_time": "2023-04-13T07:50:29.174Z"
   },
   {
    "duration": 444,
    "start_time": "2023-04-13T07:50:29.243Z"
   },
   {
    "duration": 231,
    "start_time": "2023-04-13T07:50:29.689Z"
   },
   {
    "duration": 62,
    "start_time": "2023-04-13T07:50:29.922Z"
   },
   {
    "duration": 149,
    "start_time": "2023-04-13T07:50:29.986Z"
   },
   {
    "duration": 138,
    "start_time": "2023-04-13T07:50:30.137Z"
   },
   {
    "duration": 39,
    "start_time": "2023-04-13T07:50:30.278Z"
   },
   {
    "duration": 103,
    "start_time": "2023-04-13T07:50:30.320Z"
   },
   {
    "duration": 4,
    "start_time": "2023-04-13T07:50:30.426Z"
   },
   {
    "duration": 117,
    "start_time": "2023-04-13T07:50:30.432Z"
   },
   {
    "duration": 103,
    "start_time": "2023-04-13T07:50:30.553Z"
   },
   {
    "duration": 98,
    "start_time": "2023-04-13T07:50:30.659Z"
   },
   {
    "duration": 197,
    "start_time": "2023-04-13T07:50:30.759Z"
   },
   {
    "duration": 60,
    "start_time": "2023-04-13T07:50:30.959Z"
   },
   {
    "duration": 19,
    "start_time": "2023-04-13T07:50:31.021Z"
   },
   {
    "duration": 227,
    "start_time": "2023-04-13T07:50:31.042Z"
   },
   {
    "duration": 148,
    "start_time": "2023-04-13T07:50:31.274Z"
   },
   {
    "duration": 1178,
    "start_time": "2023-04-13T07:50:31.424Z"
   },
   {
    "duration": 0,
    "start_time": "2023-04-13T07:50:32.606Z"
   },
   {
    "duration": 0,
    "start_time": "2023-04-13T07:50:32.607Z"
   },
   {
    "duration": 788,
    "start_time": "2023-04-13T07:55:49.631Z"
   },
   {
    "duration": 724,
    "start_time": "2023-04-13T07:58:17.423Z"
   },
   {
    "duration": 775,
    "start_time": "2023-04-13T07:58:33.936Z"
   },
   {
    "duration": 868,
    "start_time": "2023-04-13T07:58:46.182Z"
   },
   {
    "duration": 130,
    "start_time": "2023-04-13T07:59:12.732Z"
   },
   {
    "duration": 121,
    "start_time": "2023-04-13T08:00:08.185Z"
   },
   {
    "duration": 123,
    "start_time": "2023-04-13T08:00:19.731Z"
   },
   {
    "duration": 26,
    "start_time": "2023-04-13T08:02:34.148Z"
   },
   {
    "duration": 1474,
    "start_time": "2023-04-13T08:02:46.416Z"
   },
   {
    "duration": 452,
    "start_time": "2023-04-13T08:02:47.893Z"
   },
   {
    "duration": 9,
    "start_time": "2023-04-13T08:02:48.346Z"
   },
   {
    "duration": 8,
    "start_time": "2023-04-13T08:02:48.357Z"
   },
   {
    "duration": 21,
    "start_time": "2023-04-13T08:02:48.368Z"
   },
   {
    "duration": 10,
    "start_time": "2023-04-13T08:02:48.391Z"
   },
   {
    "duration": 26,
    "start_time": "2023-04-13T08:02:48.403Z"
   },
   {
    "duration": 326,
    "start_time": "2023-04-13T08:02:48.432Z"
   },
   {
    "duration": 516,
    "start_time": "2023-04-13T08:02:48.759Z"
   },
   {
    "duration": 130,
    "start_time": "2023-04-13T08:02:49.277Z"
   },
   {
    "duration": 695,
    "start_time": "2023-04-13T08:02:49.409Z"
   },
   {
    "duration": 121,
    "start_time": "2023-04-13T08:02:50.105Z"
   },
   {
    "duration": 72,
    "start_time": "2023-04-13T08:02:50.228Z"
   },
   {
    "duration": 25,
    "start_time": "2023-04-13T08:02:50.304Z"
   },
   {
    "duration": 165,
    "start_time": "2023-04-13T08:02:50.332Z"
   },
   {
    "duration": 144,
    "start_time": "2023-04-13T08:02:50.499Z"
   },
   {
    "duration": 70,
    "start_time": "2023-04-13T08:02:50.645Z"
   },
   {
    "duration": 98,
    "start_time": "2023-04-13T08:02:50.717Z"
   },
   {
    "duration": 718,
    "start_time": "2023-04-13T08:02:50.817Z"
   },
   {
    "duration": 212,
    "start_time": "2023-04-13T08:02:51.537Z"
   },
   {
    "duration": 50,
    "start_time": "2023-04-13T08:02:51.752Z"
   },
   {
    "duration": 124,
    "start_time": "2023-04-13T08:02:51.803Z"
   },
   {
    "duration": 130,
    "start_time": "2023-04-13T08:02:51.929Z"
   },
   {
    "duration": 39,
    "start_time": "2023-04-13T08:02:52.061Z"
   },
   {
    "duration": 63,
    "start_time": "2023-04-13T08:02:52.102Z"
   },
   {
    "duration": 6,
    "start_time": "2023-04-13T08:02:52.168Z"
   },
   {
    "duration": 66,
    "start_time": "2023-04-13T08:02:52.176Z"
   },
   {
    "duration": 91,
    "start_time": "2023-04-13T08:02:52.245Z"
   },
   {
    "duration": 79,
    "start_time": "2023-04-13T08:02:52.339Z"
   },
   {
    "duration": 155,
    "start_time": "2023-04-13T08:02:52.420Z"
   },
   {
    "duration": 40,
    "start_time": "2023-04-13T08:02:52.577Z"
   },
   {
    "duration": 13,
    "start_time": "2023-04-13T08:02:52.619Z"
   },
   {
    "duration": 149,
    "start_time": "2023-04-13T08:02:52.634Z"
   },
   {
    "duration": 122,
    "start_time": "2023-04-13T08:02:52.784Z"
   },
   {
    "duration": 190,
    "start_time": "2023-04-13T08:02:52.908Z"
   },
   {
    "duration": 0,
    "start_time": "2023-04-13T08:02:53.100Z"
   },
   {
    "duration": 0,
    "start_time": "2023-04-13T08:02:53.101Z"
   },
   {
    "duration": 176,
    "start_time": "2023-04-13T08:03:10.574Z"
   },
   {
    "duration": 173,
    "start_time": "2023-04-13T08:03:22.772Z"
   },
   {
    "duration": 86,
    "start_time": "2023-04-13T08:04:06.768Z"
   },
   {
    "duration": 52,
    "start_time": "2023-04-13T08:04:56.314Z"
   },
   {
    "duration": 91,
    "start_time": "2023-04-13T08:05:02.420Z"
   },
   {
    "duration": 123,
    "start_time": "2023-04-13T08:05:24.440Z"
   },
   {
    "duration": 130,
    "start_time": "2023-04-13T08:05:50.669Z"
   },
   {
    "duration": 128,
    "start_time": "2023-04-13T08:06:07.173Z"
   },
   {
    "duration": 86,
    "start_time": "2023-04-13T08:07:05.457Z"
   },
   {
    "duration": 94,
    "start_time": "2023-04-13T08:08:02.323Z"
   },
   {
    "duration": 1510,
    "start_time": "2023-04-13T08:08:18.384Z"
   },
   {
    "duration": 291,
    "start_time": "2023-04-13T08:08:19.897Z"
   },
   {
    "duration": 11,
    "start_time": "2023-04-13T08:08:20.190Z"
   },
   {
    "duration": 20,
    "start_time": "2023-04-13T08:08:20.203Z"
   },
   {
    "duration": 12,
    "start_time": "2023-04-13T08:08:20.225Z"
   },
   {
    "duration": 6,
    "start_time": "2023-04-13T08:08:20.239Z"
   },
   {
    "duration": 18,
    "start_time": "2023-04-13T08:08:20.247Z"
   },
   {
    "duration": 365,
    "start_time": "2023-04-13T08:08:20.267Z"
   },
   {
    "duration": 500,
    "start_time": "2023-04-13T08:08:20.634Z"
   },
   {
    "duration": 131,
    "start_time": "2023-04-13T08:08:21.137Z"
   },
   {
    "duration": 369,
    "start_time": "2023-04-13T08:08:21.271Z"
   },
   {
    "duration": 90,
    "start_time": "2023-04-13T08:08:21.642Z"
   },
   {
    "duration": 27,
    "start_time": "2023-04-13T08:08:21.734Z"
   },
   {
    "duration": 43,
    "start_time": "2023-04-13T08:08:21.763Z"
   },
   {
    "duration": 53,
    "start_time": "2023-04-13T08:08:21.808Z"
   },
   {
    "duration": 133,
    "start_time": "2023-04-13T08:08:21.869Z"
   },
   {
    "duration": 33,
    "start_time": "2023-04-13T08:08:22.003Z"
   },
   {
    "duration": 84,
    "start_time": "2023-04-13T08:08:22.038Z"
   },
   {
    "duration": 773,
    "start_time": "2023-04-13T08:08:22.124Z"
   },
   {
    "duration": 216,
    "start_time": "2023-04-13T08:08:22.899Z"
   },
   {
    "duration": 73,
    "start_time": "2023-04-13T08:08:23.116Z"
   },
   {
    "duration": 214,
    "start_time": "2023-04-13T08:08:23.191Z"
   },
   {
    "duration": 203,
    "start_time": "2023-04-13T08:08:23.407Z"
   },
   {
    "duration": 77,
    "start_time": "2023-04-13T08:08:23.612Z"
   },
   {
    "duration": 59,
    "start_time": "2023-04-13T08:08:23.691Z"
   },
   {
    "duration": 4,
    "start_time": "2023-04-13T08:08:23.751Z"
   },
   {
    "duration": 372,
    "start_time": "2023-04-13T08:08:23.789Z"
   },
   {
    "duration": 0,
    "start_time": "2023-04-13T08:08:24.163Z"
   },
   {
    "duration": 0,
    "start_time": "2023-04-13T08:08:24.165Z"
   },
   {
    "duration": 0,
    "start_time": "2023-04-13T08:08:24.166Z"
   },
   {
    "duration": 0,
    "start_time": "2023-04-13T08:08:24.167Z"
   },
   {
    "duration": 0,
    "start_time": "2023-04-13T08:08:24.168Z"
   },
   {
    "duration": 0,
    "start_time": "2023-04-13T08:08:24.168Z"
   },
   {
    "duration": 0,
    "start_time": "2023-04-13T08:08:24.190Z"
   },
   {
    "duration": 0,
    "start_time": "2023-04-13T08:08:24.191Z"
   },
   {
    "duration": 0,
    "start_time": "2023-04-13T08:08:24.193Z"
   },
   {
    "duration": 0,
    "start_time": "2023-04-13T08:08:24.195Z"
   },
   {
    "duration": 89,
    "start_time": "2023-04-13T08:08:38.531Z"
   },
   {
    "duration": 48,
    "start_time": "2023-04-13T08:09:48.025Z"
   },
   {
    "duration": 1455,
    "start_time": "2023-04-13T08:09:58.847Z"
   },
   {
    "duration": 504,
    "start_time": "2023-04-13T08:10:00.304Z"
   },
   {
    "duration": 9,
    "start_time": "2023-04-13T08:10:00.810Z"
   },
   {
    "duration": 44,
    "start_time": "2023-04-13T08:10:00.821Z"
   },
   {
    "duration": 53,
    "start_time": "2023-04-13T08:10:00.867Z"
   },
   {
    "duration": 32,
    "start_time": "2023-04-13T08:10:00.923Z"
   },
   {
    "duration": 68,
    "start_time": "2023-04-13T08:10:00.958Z"
   },
   {
    "duration": 352,
    "start_time": "2023-04-13T08:10:01.028Z"
   },
   {
    "duration": 510,
    "start_time": "2023-04-13T08:10:01.382Z"
   },
   {
    "duration": 124,
    "start_time": "2023-04-13T08:10:01.895Z"
   },
   {
    "duration": 353,
    "start_time": "2023-04-13T08:10:02.021Z"
   },
   {
    "duration": 100,
    "start_time": "2023-04-13T08:10:02.375Z"
   },
   {
    "duration": 27,
    "start_time": "2023-04-13T08:10:02.477Z"
   },
   {
    "duration": 20,
    "start_time": "2023-04-13T08:10:02.506Z"
   },
   {
    "duration": 67,
    "start_time": "2023-04-13T08:10:02.528Z"
   },
   {
    "duration": 154,
    "start_time": "2023-04-13T08:10:02.598Z"
   },
   {
    "duration": 54,
    "start_time": "2023-04-13T08:10:02.754Z"
   },
   {
    "duration": 55,
    "start_time": "2023-04-13T08:10:02.810Z"
   },
   {
    "duration": 379,
    "start_time": "2023-04-13T08:10:02.867Z"
   },
   {
    "duration": 160,
    "start_time": "2023-04-13T08:10:03.247Z"
   },
   {
    "duration": 386,
    "start_time": "2023-04-13T08:10:03.409Z"
   },
   {
    "duration": 113,
    "start_time": "2023-04-13T08:10:03.796Z"
   },
   {
    "duration": 117,
    "start_time": "2023-04-13T08:10:03.911Z"
   },
   {
    "duration": 22,
    "start_time": "2023-04-13T08:10:04.030Z"
   },
   {
    "duration": 81,
    "start_time": "2023-04-13T08:10:04.054Z"
   },
   {
    "duration": 4,
    "start_time": "2023-04-13T08:10:04.136Z"
   },
   {
    "duration": 63,
    "start_time": "2023-04-13T08:10:04.142Z"
   },
   {
    "duration": 70,
    "start_time": "2023-04-13T08:10:04.208Z"
   },
   {
    "duration": 77,
    "start_time": "2023-04-13T08:10:04.279Z"
   },
   {
    "duration": 156,
    "start_time": "2023-04-13T08:10:04.358Z"
   },
   {
    "duration": 29,
    "start_time": "2023-04-13T08:10:04.516Z"
   },
   {
    "duration": 11,
    "start_time": "2023-04-13T08:10:04.547Z"
   },
   {
    "duration": 215,
    "start_time": "2023-04-13T08:10:04.560Z"
   },
   {
    "duration": 0,
    "start_time": "2023-04-13T08:10:04.777Z"
   },
   {
    "duration": 0,
    "start_time": "2023-04-13T08:10:04.779Z"
   },
   {
    "duration": 0,
    "start_time": "2023-04-13T08:10:04.780Z"
   },
   {
    "duration": 0,
    "start_time": "2023-04-13T08:10:04.781Z"
   },
   {
    "duration": 49,
    "start_time": "2023-04-13T08:11:22.429Z"
   },
   {
    "duration": 101,
    "start_time": "2023-04-13T08:11:32.831Z"
   },
   {
    "duration": 96,
    "start_time": "2023-04-13T08:11:44.038Z"
   },
   {
    "duration": 114,
    "start_time": "2023-04-13T08:11:44.843Z"
   },
   {
    "duration": 16,
    "start_time": "2023-04-13T08:11:53.843Z"
   },
   {
    "duration": 125,
    "start_time": "2023-04-13T08:12:08.369Z"
   },
   {
    "duration": 17,
    "start_time": "2023-04-13T08:12:39.934Z"
   },
   {
    "duration": 122,
    "start_time": "2023-04-13T08:12:56.982Z"
   },
   {
    "duration": 95,
    "start_time": "2023-04-13T08:16:36.757Z"
   },
   {
    "duration": 7,
    "start_time": "2023-04-13T08:17:31.544Z"
   },
   {
    "duration": 20,
    "start_time": "2023-04-13T08:17:31.611Z"
   },
   {
    "duration": 6,
    "start_time": "2023-04-13T08:18:59.271Z"
   },
   {
    "duration": 21,
    "start_time": "2023-04-13T08:19:00.819Z"
   },
   {
    "duration": 95,
    "start_time": "2023-04-13T08:19:07.179Z"
   },
   {
    "duration": 6,
    "start_time": "2023-04-13T08:19:08.014Z"
   },
   {
    "duration": 21,
    "start_time": "2023-04-13T08:19:08.723Z"
   },
   {
    "duration": 60,
    "start_time": "2023-04-13T08:26:06.627Z"
   },
   {
    "duration": 8,
    "start_time": "2023-04-13T08:26:13.505Z"
   },
   {
    "duration": 11,
    "start_time": "2023-04-13T08:26:16.131Z"
   },
   {
    "duration": 6,
    "start_time": "2023-04-13T08:26:37.109Z"
   },
   {
    "duration": 10,
    "start_time": "2023-04-13T08:26:37.776Z"
   },
   {
    "duration": 7,
    "start_time": "2023-04-13T08:28:13.213Z"
   },
   {
    "duration": 11,
    "start_time": "2023-04-13T08:28:13.975Z"
   },
   {
    "duration": 31,
    "start_time": "2023-04-13T08:28:37.269Z"
   },
   {
    "duration": 28,
    "start_time": "2023-04-13T08:28:52.716Z"
   },
   {
    "duration": 7,
    "start_time": "2023-04-13T08:29:12.942Z"
   },
   {
    "duration": 24,
    "start_time": "2023-04-13T08:29:13.613Z"
   },
   {
    "duration": 107,
    "start_time": "2023-04-13T08:31:50.254Z"
   },
   {
    "duration": 7,
    "start_time": "2023-04-13T08:31:54.968Z"
   },
   {
    "duration": 21,
    "start_time": "2023-04-13T08:31:55.769Z"
   },
   {
    "duration": 4,
    "start_time": "2023-04-13T08:32:12.142Z"
   },
   {
    "duration": 96,
    "start_time": "2023-04-13T08:32:22.637Z"
   },
   {
    "duration": 97,
    "start_time": "2023-04-13T08:32:37.177Z"
   },
   {
    "duration": 95,
    "start_time": "2023-04-13T08:32:51.781Z"
   },
   {
    "duration": 4,
    "start_time": "2023-04-13T08:32:59.252Z"
   },
   {
    "duration": 6,
    "start_time": "2023-04-13T08:33:02.347Z"
   },
   {
    "duration": 754,
    "start_time": "2023-04-13T08:33:03.176Z"
   },
   {
    "duration": 7,
    "start_time": "2023-04-13T08:33:23.374Z"
   },
   {
    "duration": 806,
    "start_time": "2023-04-13T08:33:23.926Z"
   },
   {
    "duration": 9,
    "start_time": "2023-04-13T08:34:04.142Z"
   },
   {
    "duration": 760,
    "start_time": "2023-04-13T08:34:04.870Z"
   },
   {
    "duration": 728,
    "start_time": "2023-04-13T08:34:17.099Z"
   },
   {
    "duration": 6,
    "start_time": "2023-04-13T08:34:37.155Z"
   },
   {
    "duration": 705,
    "start_time": "2023-04-13T08:34:38.150Z"
   },
   {
    "duration": 740,
    "start_time": "2023-04-13T08:34:53.136Z"
   },
   {
    "duration": 2890,
    "start_time": "2023-04-13T08:35:06.898Z"
   },
   {
    "duration": 6,
    "start_time": "2023-04-13T08:35:41.164Z"
   },
   {
    "duration": 5,
    "start_time": "2023-04-13T08:35:41.814Z"
   },
   {
    "duration": 6,
    "start_time": "2023-04-13T08:35:56.186Z"
   },
   {
    "duration": 5,
    "start_time": "2023-04-13T08:35:56.854Z"
   },
   {
    "duration": 11,
    "start_time": "2023-04-13T08:37:29.255Z"
   },
   {
    "duration": 6,
    "start_time": "2023-04-13T08:38:09.155Z"
   },
   {
    "duration": 752,
    "start_time": "2023-04-13T08:38:09.841Z"
   },
   {
    "duration": 7,
    "start_time": "2023-04-13T08:38:26.754Z"
   },
   {
    "duration": 11,
    "start_time": "2023-04-13T08:38:27.471Z"
   },
   {
    "duration": 6,
    "start_time": "2023-04-13T08:38:43.027Z"
   },
   {
    "duration": 11,
    "start_time": "2023-04-13T08:38:43.869Z"
   },
   {
    "duration": 6,
    "start_time": "2023-04-13T08:41:59.482Z"
   },
   {
    "duration": 12,
    "start_time": "2023-04-13T08:42:01.174Z"
   },
   {
    "duration": 6,
    "start_time": "2023-04-13T08:42:29.952Z"
   },
   {
    "duration": 785,
    "start_time": "2023-04-13T08:42:30.776Z"
   },
   {
    "duration": 7,
    "start_time": "2023-04-13T08:43:00.120Z"
   },
   {
    "duration": 26,
    "start_time": "2023-04-13T08:43:00.745Z"
   },
   {
    "duration": 7,
    "start_time": "2023-04-13T08:43:51.132Z"
   },
   {
    "duration": 21,
    "start_time": "2023-04-13T08:43:51.885Z"
   },
   {
    "duration": 14,
    "start_time": "2023-04-13T08:46:43.816Z"
   },
   {
    "duration": 23,
    "start_time": "2023-04-13T08:46:44.459Z"
   },
   {
    "duration": 63,
    "start_time": "2023-04-13T08:47:42.873Z"
   },
   {
    "duration": 22,
    "start_time": "2023-04-13T08:47:43.540Z"
   },
   {
    "duration": 6,
    "start_time": "2023-04-13T08:47:50.855Z"
   },
   {
    "duration": 11,
    "start_time": "2023-04-13T08:47:51.445Z"
   },
   {
    "duration": 6,
    "start_time": "2023-04-13T08:48:06.575Z"
   },
   {
    "duration": 21,
    "start_time": "2023-04-13T08:48:07.214Z"
   },
   {
    "duration": 6,
    "start_time": "2023-04-13T08:49:24.683Z"
   },
   {
    "duration": 22,
    "start_time": "2023-04-13T08:49:25.245Z"
   },
   {
    "duration": 6,
    "start_time": "2023-04-13T08:49:40.619Z"
   },
   {
    "duration": 22,
    "start_time": "2023-04-13T08:49:41.323Z"
   },
   {
    "duration": 7,
    "start_time": "2023-04-13T08:49:59.475Z"
   },
   {
    "duration": 11,
    "start_time": "2023-04-13T08:50:00.075Z"
   },
   {
    "duration": 4,
    "start_time": "2023-04-13T08:52:02.191Z"
   },
   {
    "duration": 6,
    "start_time": "2023-04-13T08:52:02.954Z"
   },
   {
    "duration": 22,
    "start_time": "2023-04-13T08:52:03.676Z"
   },
   {
    "duration": 4,
    "start_time": "2023-04-13T08:52:26.722Z"
   },
   {
    "duration": 5,
    "start_time": "2023-04-13T08:52:27.419Z"
   },
   {
    "duration": 16,
    "start_time": "2023-04-13T08:52:28.122Z"
   },
   {
    "duration": 4,
    "start_time": "2023-04-13T08:53:07.324Z"
   },
   {
    "duration": 6,
    "start_time": "2023-04-13T08:53:08.037Z"
   },
   {
    "duration": 11,
    "start_time": "2023-04-13T08:53:08.822Z"
   },
   {
    "duration": 693,
    "start_time": "2023-04-13T08:53:29.086Z"
   },
   {
    "duration": 764,
    "start_time": "2023-04-13T08:53:41.715Z"
   },
   {
    "duration": 5,
    "start_time": "2023-04-13T08:53:58.215Z"
   },
   {
    "duration": 4,
    "start_time": "2023-04-13T08:55:01.803Z"
   },
   {
    "duration": 6,
    "start_time": "2023-04-13T08:55:02.723Z"
   },
   {
    "duration": 5,
    "start_time": "2023-04-13T08:55:04.620Z"
   },
   {
    "duration": 6,
    "start_time": "2023-04-13T09:24:20.907Z"
   },
   {
    "duration": 24,
    "start_time": "2023-04-13T09:24:21.695Z"
   },
   {
    "duration": 1632,
    "start_time": "2023-04-13T09:24:29.174Z"
   },
   {
    "duration": 376,
    "start_time": "2023-04-13T09:24:30.809Z"
   },
   {
    "duration": 9,
    "start_time": "2023-04-13T09:24:31.187Z"
   },
   {
    "duration": 55,
    "start_time": "2023-04-13T09:24:31.198Z"
   },
   {
    "duration": 49,
    "start_time": "2023-04-13T09:24:31.256Z"
   },
   {
    "duration": 62,
    "start_time": "2023-04-13T09:24:31.307Z"
   },
   {
    "duration": 38,
    "start_time": "2023-04-13T09:24:31.371Z"
   },
   {
    "duration": 435,
    "start_time": "2023-04-13T09:24:31.410Z"
   },
   {
    "duration": 559,
    "start_time": "2023-04-13T09:24:31.847Z"
   },
   {
    "duration": 125,
    "start_time": "2023-04-13T09:24:32.409Z"
   },
   {
    "duration": 332,
    "start_time": "2023-04-13T09:24:32.536Z"
   },
   {
    "duration": 81,
    "start_time": "2023-04-13T09:24:32.869Z"
   },
   {
    "duration": 27,
    "start_time": "2023-04-13T09:24:32.952Z"
   },
   {
    "duration": 57,
    "start_time": "2023-04-13T09:24:32.982Z"
   },
   {
    "duration": 53,
    "start_time": "2023-04-13T09:24:33.042Z"
   },
   {
    "duration": 116,
    "start_time": "2023-04-13T09:24:33.098Z"
   },
   {
    "duration": 38,
    "start_time": "2023-04-13T09:24:33.216Z"
   },
   {
    "duration": 50,
    "start_time": "2023-04-13T09:24:33.256Z"
   },
   {
    "duration": 397,
    "start_time": "2023-04-13T09:24:33.308Z"
   },
   {
    "duration": 235,
    "start_time": "2023-04-13T09:24:33.706Z"
   },
   {
    "duration": 58,
    "start_time": "2023-04-13T09:24:33.943Z"
   },
   {
    "duration": 115,
    "start_time": "2023-04-13T09:24:34.003Z"
   },
   {
    "duration": 117,
    "start_time": "2023-04-13T09:24:34.120Z"
   },
   {
    "duration": 22,
    "start_time": "2023-04-13T09:24:34.240Z"
   },
   {
    "duration": 100,
    "start_time": "2023-04-13T09:24:34.264Z"
   },
   {
    "duration": 3,
    "start_time": "2023-04-13T09:24:34.366Z"
   },
   {
    "duration": 52,
    "start_time": "2023-04-13T09:24:34.371Z"
   },
   {
    "duration": 82,
    "start_time": "2023-04-13T09:24:34.426Z"
   },
   {
    "duration": 66,
    "start_time": "2023-04-13T09:24:34.509Z"
   },
   {
    "duration": 156,
    "start_time": "2023-04-13T09:24:34.590Z"
   },
   {
    "duration": 44,
    "start_time": "2023-04-13T09:24:34.748Z"
   },
   {
    "duration": 13,
    "start_time": "2023-04-13T09:24:34.794Z"
   },
   {
    "duration": 112,
    "start_time": "2023-04-13T09:24:34.809Z"
   },
   {
    "duration": 127,
    "start_time": "2023-04-13T09:24:34.923Z"
   },
   {
    "duration": 113,
    "start_time": "2023-04-13T09:24:35.052Z"
   },
   {
    "duration": 4,
    "start_time": "2023-04-13T09:24:35.167Z"
   },
   {
    "duration": 19,
    "start_time": "2023-04-13T09:24:35.173Z"
   },
   {
    "duration": 36,
    "start_time": "2023-04-13T09:24:35.193Z"
   },
   {
    "duration": 13,
    "start_time": "2023-04-13T09:24:35.231Z"
   },
   {
    "duration": 107,
    "start_time": "2023-04-13T09:25:28.652Z"
   },
   {
    "duration": 6,
    "start_time": "2023-04-13T09:26:25.378Z"
   },
   {
    "duration": 8,
    "start_time": "2023-04-13T09:26:30.298Z"
   },
   {
    "duration": 34,
    "start_time": "2023-04-13T09:26:30.939Z"
   },
   {
    "duration": 5,
    "start_time": "2023-04-13T09:26:44.538Z"
   },
   {
    "duration": 41,
    "start_time": "2023-04-13T09:26:45.052Z"
   },
   {
    "duration": 8,
    "start_time": "2023-04-13T09:26:51.010Z"
   },
   {
    "duration": 28,
    "start_time": "2023-04-13T09:26:51.546Z"
   },
   {
    "duration": 6,
    "start_time": "2023-04-13T09:27:03.645Z"
   },
   {
    "duration": 26,
    "start_time": "2023-04-13T09:27:04.652Z"
   },
   {
    "duration": 139,
    "start_time": "2023-04-13T09:27:22.111Z"
   },
   {
    "duration": 6,
    "start_time": "2023-04-13T09:30:13.364Z"
   },
   {
    "duration": 182,
    "start_time": "2023-04-13T09:30:14.352Z"
   },
   {
    "duration": 7,
    "start_time": "2023-04-13T09:34:55.704Z"
   },
   {
    "duration": 158,
    "start_time": "2023-04-13T09:34:56.251Z"
   },
   {
    "duration": 7,
    "start_time": "2023-04-13T09:35:06.152Z"
   },
   {
    "duration": 469,
    "start_time": "2023-04-13T09:35:06.706Z"
   },
   {
    "duration": 6,
    "start_time": "2023-04-13T09:38:07.905Z"
   },
   {
    "duration": 153,
    "start_time": "2023-04-13T09:38:08.427Z"
   },
   {
    "duration": 1479,
    "start_time": "2023-04-13T09:44:16.613Z"
   },
   {
    "duration": 399,
    "start_time": "2023-04-13T09:44:18.094Z"
   },
   {
    "duration": 9,
    "start_time": "2023-04-13T09:44:18.495Z"
   },
   {
    "duration": 21,
    "start_time": "2023-04-13T09:44:18.506Z"
   },
   {
    "duration": 33,
    "start_time": "2023-04-13T09:44:18.530Z"
   },
   {
    "duration": 24,
    "start_time": "2023-04-13T09:44:18.564Z"
   },
   {
    "duration": 10,
    "start_time": "2023-04-13T09:44:18.590Z"
   },
   {
    "duration": 326,
    "start_time": "2023-04-13T09:44:18.602Z"
   },
   {
    "duration": 504,
    "start_time": "2023-04-13T09:44:18.930Z"
   },
   {
    "duration": 120,
    "start_time": "2023-04-13T09:44:19.436Z"
   },
   {
    "duration": 378,
    "start_time": "2023-04-13T09:44:19.559Z"
   },
   {
    "duration": 82,
    "start_time": "2023-04-13T09:44:19.939Z"
   },
   {
    "duration": 27,
    "start_time": "2023-04-13T09:44:20.023Z"
   },
   {
    "duration": 19,
    "start_time": "2023-04-13T09:44:20.054Z"
   },
   {
    "duration": 43,
    "start_time": "2023-04-13T09:44:20.075Z"
   },
   {
    "duration": 96,
    "start_time": "2023-04-13T09:44:20.120Z"
   },
   {
    "duration": 38,
    "start_time": "2023-04-13T09:44:20.218Z"
   },
   {
    "duration": 61,
    "start_time": "2023-04-13T09:44:20.258Z"
   },
   {
    "duration": 400,
    "start_time": "2023-04-13T09:44:20.323Z"
   },
   {
    "duration": 180,
    "start_time": "2023-04-13T09:44:20.725Z"
   },
   {
    "duration": 54,
    "start_time": "2023-04-13T09:44:20.906Z"
   },
   {
    "duration": 117,
    "start_time": "2023-04-13T09:44:20.962Z"
   },
   {
    "duration": 113,
    "start_time": "2023-04-13T09:44:21.081Z"
   },
   {
    "duration": 22,
    "start_time": "2023-04-13T09:44:21.196Z"
   },
   {
    "duration": 56,
    "start_time": "2023-04-13T09:44:21.220Z"
   },
   {
    "duration": 4,
    "start_time": "2023-04-13T09:44:21.278Z"
   },
   {
    "duration": 52,
    "start_time": "2023-04-13T09:44:21.283Z"
   },
   {
    "duration": 83,
    "start_time": "2023-04-13T09:44:21.337Z"
   },
   {
    "duration": 77,
    "start_time": "2023-04-13T09:44:21.422Z"
   },
   {
    "duration": 175,
    "start_time": "2023-04-13T09:44:21.501Z"
   },
   {
    "duration": 40,
    "start_time": "2023-04-13T09:44:21.678Z"
   },
   {
    "duration": 15,
    "start_time": "2023-04-13T09:44:21.720Z"
   },
   {
    "duration": 120,
    "start_time": "2023-04-13T09:44:21.737Z"
   },
   {
    "duration": 152,
    "start_time": "2023-04-13T09:44:21.859Z"
   },
   {
    "duration": 119,
    "start_time": "2023-04-13T09:44:22.013Z"
   },
   {
    "duration": 199,
    "start_time": "2023-04-13T09:44:22.134Z"
   },
   {
    "duration": 1504,
    "start_time": "2023-04-13T09:45:10.746Z"
   },
   {
    "duration": 389,
    "start_time": "2023-04-13T09:45:12.252Z"
   },
   {
    "duration": 7,
    "start_time": "2023-04-13T09:45:12.642Z"
   },
   {
    "duration": 8,
    "start_time": "2023-04-13T09:45:12.651Z"
   },
   {
    "duration": 9,
    "start_time": "2023-04-13T09:45:12.662Z"
   },
   {
    "duration": 22,
    "start_time": "2023-04-13T09:45:12.672Z"
   },
   {
    "duration": 17,
    "start_time": "2023-04-13T09:45:12.696Z"
   },
   {
    "duration": 366,
    "start_time": "2023-04-13T09:45:12.715Z"
   },
   {
    "duration": 496,
    "start_time": "2023-04-13T09:45:13.083Z"
   },
   {
    "duration": 131,
    "start_time": "2023-04-13T09:45:13.581Z"
   },
   {
    "duration": 347,
    "start_time": "2023-04-13T09:45:13.714Z"
   },
   {
    "duration": 93,
    "start_time": "2023-04-13T09:45:14.063Z"
   },
   {
    "duration": 24,
    "start_time": "2023-04-13T09:45:14.158Z"
   },
   {
    "duration": 21,
    "start_time": "2023-04-13T09:45:14.185Z"
   },
   {
    "duration": 42,
    "start_time": "2023-04-13T09:45:14.208Z"
   },
   {
    "duration": 136,
    "start_time": "2023-04-13T09:45:14.252Z"
   },
   {
    "duration": 37,
    "start_time": "2023-04-13T09:45:14.390Z"
   },
   {
    "duration": 56,
    "start_time": "2023-04-13T09:45:14.429Z"
   },
   {
    "duration": 363,
    "start_time": "2023-04-13T09:45:14.487Z"
   },
   {
    "duration": 181,
    "start_time": "2023-04-13T09:45:14.852Z"
   },
   {
    "duration": 254,
    "start_time": "2023-04-13T09:45:15.035Z"
   },
   {
    "duration": 216,
    "start_time": "2023-04-13T09:45:15.291Z"
   },
   {
    "duration": 205,
    "start_time": "2023-04-13T09:45:15.509Z"
   },
   {
    "duration": 73,
    "start_time": "2023-04-13T09:45:15.716Z"
   },
   {
    "duration": 100,
    "start_time": "2023-04-13T09:45:15.791Z"
   },
   {
    "duration": 3,
    "start_time": "2023-04-13T09:45:15.893Z"
   },
   {
    "duration": 128,
    "start_time": "2023-04-13T09:45:15.898Z"
   },
   {
    "duration": 167,
    "start_time": "2023-04-13T09:45:16.038Z"
   },
   {
    "duration": 114,
    "start_time": "2023-04-13T09:45:16.206Z"
   },
   {
    "duration": 297,
    "start_time": "2023-04-13T09:45:16.321Z"
   },
   {
    "duration": 85,
    "start_time": "2023-04-13T09:45:16.619Z"
   },
   {
    "duration": 13,
    "start_time": "2023-04-13T09:45:16.705Z"
   },
   {
    "duration": 134,
    "start_time": "2023-04-13T09:45:16.720Z"
   },
   {
    "duration": 129,
    "start_time": "2023-04-13T09:45:16.856Z"
   },
   {
    "duration": 106,
    "start_time": "2023-04-13T09:45:16.990Z"
   },
   {
    "duration": 854,
    "start_time": "2023-04-13T09:45:17.098Z"
   },
   {
    "duration": 1501,
    "start_time": "2023-04-13T09:46:23.510Z"
   },
   {
    "duration": 389,
    "start_time": "2023-04-13T09:46:25.013Z"
   },
   {
    "duration": 7,
    "start_time": "2023-04-13T09:46:25.403Z"
   },
   {
    "duration": 20,
    "start_time": "2023-04-13T09:46:25.411Z"
   },
   {
    "duration": 8,
    "start_time": "2023-04-13T09:46:25.435Z"
   },
   {
    "duration": 12,
    "start_time": "2023-04-13T09:46:25.445Z"
   },
   {
    "duration": 7,
    "start_time": "2023-04-13T09:46:25.459Z"
   },
   {
    "duration": 340,
    "start_time": "2023-04-13T09:46:25.467Z"
   },
   {
    "duration": 535,
    "start_time": "2023-04-13T09:46:25.809Z"
   },
   {
    "duration": 124,
    "start_time": "2023-04-13T09:46:26.347Z"
   },
   {
    "duration": 354,
    "start_time": "2023-04-13T09:46:26.474Z"
   },
   {
    "duration": 65,
    "start_time": "2023-04-13T09:46:26.830Z"
   },
   {
    "duration": 26,
    "start_time": "2023-04-13T09:46:26.897Z"
   },
   {
    "duration": 27,
    "start_time": "2023-04-13T09:46:26.926Z"
   },
   {
    "duration": 64,
    "start_time": "2023-04-13T09:46:26.955Z"
   },
   {
    "duration": 110,
    "start_time": "2023-04-13T09:46:27.021Z"
   },
   {
    "duration": 76,
    "start_time": "2023-04-13T09:46:27.133Z"
   },
   {
    "duration": 50,
    "start_time": "2023-04-13T09:46:27.210Z"
   },
   {
    "duration": 378,
    "start_time": "2023-04-13T09:46:27.261Z"
   },
   {
    "duration": 192,
    "start_time": "2023-04-13T09:46:27.641Z"
   },
   {
    "duration": 71,
    "start_time": "2023-04-13T09:46:27.835Z"
   },
   {
    "duration": 123,
    "start_time": "2023-04-13T09:46:27.908Z"
   },
   {
    "duration": 111,
    "start_time": "2023-04-13T09:46:28.033Z"
   },
   {
    "duration": 22,
    "start_time": "2023-04-13T09:46:28.146Z"
   },
   {
    "duration": 77,
    "start_time": "2023-04-13T09:46:28.170Z"
   },
   {
    "duration": 4,
    "start_time": "2023-04-13T09:46:28.249Z"
   },
   {
    "duration": 71,
    "start_time": "2023-04-13T09:46:28.255Z"
   },
   {
    "duration": 79,
    "start_time": "2023-04-13T09:46:28.327Z"
   },
   {
    "duration": 64,
    "start_time": "2023-04-13T09:46:28.407Z"
   },
   {
    "duration": 146,
    "start_time": "2023-04-13T09:46:28.488Z"
   },
   {
    "duration": 30,
    "start_time": "2023-04-13T09:46:28.635Z"
   },
   {
    "duration": 30,
    "start_time": "2023-04-13T09:46:28.668Z"
   },
   {
    "duration": 107,
    "start_time": "2023-04-13T09:46:28.700Z"
   },
   {
    "duration": 117,
    "start_time": "2023-04-13T09:46:28.809Z"
   },
   {
    "duration": 110,
    "start_time": "2023-04-13T09:46:28.928Z"
   },
   {
    "duration": 154,
    "start_time": "2023-04-13T09:46:29.039Z"
   },
   {
    "duration": 98,
    "start_time": "2023-04-13T09:49:45.335Z"
   },
   {
    "duration": 117,
    "start_time": "2023-04-13T09:53:52.287Z"
   },
   {
    "duration": 7,
    "start_time": "2023-04-13T09:59:25.676Z"
   },
   {
    "duration": 6,
    "start_time": "2023-04-13T10:00:01.657Z"
   },
   {
    "duration": 9,
    "start_time": "2023-04-13T10:03:59.742Z"
   },
   {
    "duration": 5,
    "start_time": "2023-04-13T10:04:22.834Z"
   },
   {
    "duration": 5,
    "start_time": "2023-04-13T10:05:38.280Z"
   },
   {
    "duration": 5,
    "start_time": "2023-04-13T10:06:49.425Z"
   },
   {
    "duration": 5,
    "start_time": "2023-04-13T10:07:04.634Z"
   },
   {
    "duration": 6,
    "start_time": "2023-04-13T10:07:50.200Z"
   },
   {
    "duration": 7,
    "start_time": "2023-04-13T10:08:02.982Z"
   },
   {
    "duration": 6,
    "start_time": "2023-04-13T10:09:50.172Z"
   },
   {
    "duration": 7,
    "start_time": "2023-04-13T10:10:04.315Z"
   },
   {
    "duration": 5,
    "start_time": "2023-04-13T10:10:19.406Z"
   },
   {
    "duration": 47,
    "start_time": "2023-04-13T10:19:56.630Z"
   },
   {
    "duration": 7,
    "start_time": "2023-04-13T10:20:06.142Z"
   },
   {
    "duration": 9,
    "start_time": "2023-04-13T10:29:48.946Z"
   },
   {
    "duration": 1202,
    "start_time": "2023-04-13T10:31:17.019Z"
   },
   {
    "duration": 742,
    "start_time": "2023-04-13T10:31:40.719Z"
   },
   {
    "duration": 768,
    "start_time": "2023-04-13T10:31:46.599Z"
   },
   {
    "duration": 9,
    "start_time": "2023-04-13T10:31:53.807Z"
   },
   {
    "duration": 5,
    "start_time": "2023-04-13T10:32:01.951Z"
   },
   {
    "duration": 7,
    "start_time": "2023-04-13T10:32:21.008Z"
   },
   {
    "duration": 48,
    "start_time": "2023-04-13T10:32:21.842Z"
   },
   {
    "duration": 61,
    "start_time": "2023-04-13T10:32:36.803Z"
   },
   {
    "duration": 71,
    "start_time": "2023-04-13T10:33:01.103Z"
   },
   {
    "duration": 903,
    "start_time": "2023-04-13T10:33:11.554Z"
   },
   {
    "duration": 5,
    "start_time": "2023-04-13T10:33:53.611Z"
   },
   {
    "duration": 50,
    "start_time": "2023-04-13T10:34:06.131Z"
   },
   {
    "duration": 6,
    "start_time": "2023-04-13T10:34:13.200Z"
   },
   {
    "duration": 6,
    "start_time": "2023-04-13T10:34:22.951Z"
   },
   {
    "duration": 57,
    "start_time": "2023-04-13T10:34:36.701Z"
   },
   {
    "duration": 5,
    "start_time": "2023-04-13T10:34:58.353Z"
   },
   {
    "duration": 6,
    "start_time": "2023-04-13T10:35:09.654Z"
   },
   {
    "duration": 224,
    "start_time": "2023-04-13T10:35:15.417Z"
   },
   {
    "duration": 5,
    "start_time": "2023-04-13T10:35:21.143Z"
   },
   {
    "duration": 621,
    "start_time": "2023-04-13T10:35:39.107Z"
   },
   {
    "duration": 8,
    "start_time": "2023-04-13T10:35:51.830Z"
   },
   {
    "duration": 5,
    "start_time": "2023-04-13T10:36:58.535Z"
   },
   {
    "duration": 50,
    "start_time": "2023-04-13T10:37:14.140Z"
   },
   {
    "duration": 8,
    "start_time": "2023-04-13T10:37:29.504Z"
   },
   {
    "duration": 55,
    "start_time": "2023-04-13T10:37:30.520Z"
   },
   {
    "duration": 55,
    "start_time": "2023-04-13T10:38:02.603Z"
   },
   {
    "duration": 63,
    "start_time": "2023-04-13T10:40:02.809Z"
   },
   {
    "duration": 7,
    "start_time": "2023-04-13T10:40:21.631Z"
   },
   {
    "duration": 6,
    "start_time": "2023-04-13T10:40:44.981Z"
   },
   {
    "duration": 50,
    "start_time": "2023-04-13T10:41:06.334Z"
   },
   {
    "duration": 6,
    "start_time": "2023-04-13T10:41:24.112Z"
   },
   {
    "duration": 46,
    "start_time": "2023-04-13T10:41:33.829Z"
   },
   {
    "duration": 3,
    "start_time": "2023-04-13T10:42:06.913Z"
   },
   {
    "duration": 144,
    "start_time": "2023-04-13T10:42:09.052Z"
   },
   {
    "duration": 4,
    "start_time": "2023-04-13T10:43:20.314Z"
   },
   {
    "duration": 782,
    "start_time": "2023-04-13T10:43:22.212Z"
   },
   {
    "duration": 4,
    "start_time": "2023-04-13T10:43:36.381Z"
   },
   {
    "duration": 811,
    "start_time": "2023-04-13T10:43:36.928Z"
   },
   {
    "duration": 4,
    "start_time": "2023-04-13T10:43:50.342Z"
   },
   {
    "duration": 57,
    "start_time": "2023-04-13T10:43:51.154Z"
   },
   {
    "duration": 9,
    "start_time": "2023-04-13T10:44:03.696Z"
   },
   {
    "duration": 54,
    "start_time": "2023-04-13T10:44:09.111Z"
   },
   {
    "duration": 3,
    "start_time": "2023-04-13T10:44:11.426Z"
   },
   {
    "duration": 5,
    "start_time": "2023-04-13T10:44:27.795Z"
   },
   {
    "duration": 4,
    "start_time": "2023-04-13T10:44:42.798Z"
   },
   {
    "duration": 127,
    "start_time": "2023-04-13T10:44:43.859Z"
   },
   {
    "duration": 166,
    "start_time": "2023-04-13T10:45:33.167Z"
   },
   {
    "duration": 149,
    "start_time": "2023-04-13T10:45:54.230Z"
   },
   {
    "duration": 179,
    "start_time": "2023-04-13T10:46:13.807Z"
   },
   {
    "duration": 95,
    "start_time": "2023-04-13T10:46:43.176Z"
   },
   {
    "duration": 100,
    "start_time": "2023-04-13T10:47:10.866Z"
   },
   {
    "duration": 1500,
    "start_time": "2023-04-13T10:47:23.040Z"
   },
   {
    "duration": 397,
    "start_time": "2023-04-13T10:47:24.542Z"
   },
   {
    "duration": 7,
    "start_time": "2023-04-13T10:47:24.941Z"
   },
   {
    "duration": 9,
    "start_time": "2023-04-13T10:47:24.950Z"
   },
   {
    "duration": 8,
    "start_time": "2023-04-13T10:47:24.961Z"
   },
   {
    "duration": 14,
    "start_time": "2023-04-13T10:47:24.971Z"
   },
   {
    "duration": 7,
    "start_time": "2023-04-13T10:47:24.987Z"
   },
   {
    "duration": 372,
    "start_time": "2023-04-13T10:47:24.997Z"
   },
   {
    "duration": 501,
    "start_time": "2023-04-13T10:47:25.371Z"
   },
   {
    "duration": 123,
    "start_time": "2023-04-13T10:47:25.876Z"
   },
   {
    "duration": 326,
    "start_time": "2023-04-13T10:47:26.001Z"
   },
   {
    "duration": 64,
    "start_time": "2023-04-13T10:47:26.329Z"
   },
   {
    "duration": 25,
    "start_time": "2023-04-13T10:47:26.395Z"
   },
   {
    "duration": 20,
    "start_time": "2023-04-13T10:47:26.422Z"
   },
   {
    "duration": 55,
    "start_time": "2023-04-13T10:47:26.444Z"
   },
   {
    "duration": 105,
    "start_time": "2023-04-13T10:47:26.500Z"
   },
   {
    "duration": 33,
    "start_time": "2023-04-13T10:47:26.607Z"
   },
   {
    "duration": 53,
    "start_time": "2023-04-13T10:47:26.642Z"
   },
   {
    "duration": 381,
    "start_time": "2023-04-13T10:47:26.697Z"
   },
   {
    "duration": 168,
    "start_time": "2023-04-13T10:47:27.080Z"
   },
   {
    "duration": 51,
    "start_time": "2023-04-13T10:47:27.249Z"
   },
   {
    "duration": 119,
    "start_time": "2023-04-13T10:47:27.302Z"
   },
   {
    "duration": 118,
    "start_time": "2023-04-13T10:47:27.423Z"
   },
   {
    "duration": 23,
    "start_time": "2023-04-13T10:47:27.543Z"
   },
   {
    "duration": 70,
    "start_time": "2023-04-13T10:47:27.568Z"
   },
   {
    "duration": 4,
    "start_time": "2023-04-13T10:47:27.639Z"
   },
   {
    "duration": 53,
    "start_time": "2023-04-13T10:47:27.645Z"
   },
   {
    "duration": 74,
    "start_time": "2023-04-13T10:47:27.701Z"
   },
   {
    "duration": 67,
    "start_time": "2023-04-13T10:47:27.788Z"
   },
   {
    "duration": 164,
    "start_time": "2023-04-13T10:47:27.856Z"
   },
   {
    "duration": 32,
    "start_time": "2023-04-13T10:47:28.021Z"
   },
   {
    "duration": 13,
    "start_time": "2023-04-13T10:47:28.055Z"
   },
   {
    "duration": 136,
    "start_time": "2023-04-13T10:47:28.090Z"
   },
   {
    "duration": 121,
    "start_time": "2023-04-13T10:47:28.227Z"
   },
   {
    "duration": 108,
    "start_time": "2023-04-13T10:47:28.350Z"
   },
   {
    "duration": 6,
    "start_time": "2023-04-13T10:47:28.460Z"
   },
   {
    "duration": 24,
    "start_time": "2023-04-13T10:47:28.468Z"
   },
   {
    "duration": 55,
    "start_time": "2023-04-13T10:47:28.494Z"
   },
   {
    "duration": 5,
    "start_time": "2023-04-13T10:47:28.551Z"
   },
   {
    "duration": 131,
    "start_time": "2023-04-13T10:47:28.558Z"
   },
   {
    "duration": 146,
    "start_time": "2023-04-13T10:47:28.691Z"
   },
   {
    "duration": 142,
    "start_time": "2023-04-13T10:47:28.839Z"
   },
   {
    "duration": 156,
    "start_time": "2023-04-13T10:47:28.983Z"
   },
   {
    "duration": 5,
    "start_time": "2023-04-13T10:48:44.807Z"
   },
   {
    "duration": 8,
    "start_time": "2023-04-13T10:48:46.095Z"
   },
   {
    "duration": 54,
    "start_time": "2023-04-13T10:48:46.919Z"
   },
   {
    "duration": 6,
    "start_time": "2023-04-13T10:48:48.003Z"
   },
   {
    "duration": 125,
    "start_time": "2023-04-13T10:48:48.547Z"
   },
   {
    "duration": 136,
    "start_time": "2023-04-13T10:48:50.502Z"
   },
   {
    "duration": 9,
    "start_time": "2023-04-13T10:51:24.409Z"
   },
   {
    "duration": 2061,
    "start_time": "2023-04-13T13:23:21.022Z"
   },
   {
    "duration": 11663,
    "start_time": "2023-04-13T13:23:23.085Z"
   },
   {
    "duration": 6,
    "start_time": "2023-04-13T13:23:34.750Z"
   },
   {
    "duration": 40,
    "start_time": "2023-04-13T13:23:34.759Z"
   },
   {
    "duration": 22,
    "start_time": "2023-04-13T13:23:34.802Z"
   },
   {
    "duration": 24,
    "start_time": "2023-04-13T13:23:34.826Z"
   },
   {
    "duration": 35,
    "start_time": "2023-04-13T13:23:34.852Z"
   },
   {
    "duration": 2035,
    "start_time": "2023-04-13T13:23:34.889Z"
   },
   {
    "duration": 1754,
    "start_time": "2023-04-13T13:23:36.926Z"
   },
   {
    "duration": 110,
    "start_time": "2023-04-13T13:23:38.682Z"
   },
   {
    "duration": 329,
    "start_time": "2023-04-13T13:23:38.793Z"
   },
   {
    "duration": 1003,
    "start_time": "2023-04-13T13:23:39.123Z"
   },
   {
    "duration": 39,
    "start_time": "2023-04-13T13:23:40.129Z"
   },
   {
    "duration": 35,
    "start_time": "2023-04-13T13:23:40.172Z"
   },
   {
    "duration": 66,
    "start_time": "2023-04-13T13:23:40.208Z"
   },
   {
    "duration": 488,
    "start_time": "2023-04-13T13:23:40.275Z"
   },
   {
    "duration": 237,
    "start_time": "2023-04-13T13:23:40.765Z"
   },
   {
    "duration": 51,
    "start_time": "2023-04-13T13:23:41.003Z"
   },
   {
    "duration": 400,
    "start_time": "2023-04-13T13:23:41.055Z"
   },
   {
    "duration": 193,
    "start_time": "2023-04-13T13:23:41.457Z"
   },
   {
    "duration": 724,
    "start_time": "2023-04-13T13:23:41.651Z"
   },
   {
    "duration": 135,
    "start_time": "2023-04-13T13:23:42.377Z"
   },
   {
    "duration": 147,
    "start_time": "2023-04-13T13:23:42.518Z"
   },
   {
    "duration": 21,
    "start_time": "2023-04-13T13:23:42.668Z"
   },
   {
    "duration": 1015,
    "start_time": "2023-04-13T13:23:42.692Z"
   },
   {
    "duration": 3,
    "start_time": "2023-04-13T13:23:43.709Z"
   },
   {
    "duration": 55,
    "start_time": "2023-04-13T13:23:43.714Z"
   },
   {
    "duration": 68,
    "start_time": "2023-04-13T13:23:43.771Z"
   },
   {
    "duration": 61,
    "start_time": "2023-04-13T13:23:43.840Z"
   },
   {
    "duration": 143,
    "start_time": "2023-04-13T13:23:43.918Z"
   },
   {
    "duration": 28,
    "start_time": "2023-04-13T13:23:44.062Z"
   },
   {
    "duration": 28,
    "start_time": "2023-04-13T13:23:44.092Z"
   },
   {
    "duration": 107,
    "start_time": "2023-04-13T13:23:44.122Z"
   },
   {
    "duration": 127,
    "start_time": "2023-04-13T13:23:44.231Z"
   },
   {
    "duration": 102,
    "start_time": "2023-04-13T13:23:44.360Z"
   },
   {
    "duration": 5,
    "start_time": "2023-04-13T13:23:44.464Z"
   },
   {
    "duration": 17,
    "start_time": "2023-04-13T13:23:44.471Z"
   },
   {
    "duration": 12,
    "start_time": "2023-04-13T13:23:44.490Z"
   },
   {
    "duration": 404,
    "start_time": "2023-04-13T13:23:44.504Z"
   },
   {
    "duration": 4,
    "start_time": "2023-04-13T13:23:44.910Z"
   },
   {
    "duration": 1964,
    "start_time": "2023-04-13T13:23:44.918Z"
   },
   {
    "duration": 2726,
    "start_time": "2023-04-13T13:23:46.884Z"
   },
   {
    "duration": 1623,
    "start_time": "2023-04-13T13:23:49.612Z"
   },
   {
    "duration": 1788,
    "start_time": "2023-04-13T13:23:51.237Z"
   },
   {
    "duration": 6,
    "start_time": "2023-04-13T13:24:00.513Z"
   },
   {
    "duration": 1354,
    "start_time": "2023-04-13T13:24:02.709Z"
   },
   {
    "duration": 5,
    "start_time": "2023-04-13T13:29:33.651Z"
   },
   {
    "duration": 676,
    "start_time": "2023-04-13T13:30:30.085Z"
   },
   {
    "duration": 4,
    "start_time": "2023-04-13T13:30:38.495Z"
   },
   {
    "duration": 4,
    "start_time": "2023-04-13T13:31:09.852Z"
   },
   {
    "duration": 5,
    "start_time": "2023-04-13T13:31:28.081Z"
   },
   {
    "duration": 4,
    "start_time": "2023-04-13T13:31:40.474Z"
   },
   {
    "duration": 4,
    "start_time": "2023-04-13T13:32:08.203Z"
   },
   {
    "duration": 4,
    "start_time": "2023-04-13T13:32:18.620Z"
   },
   {
    "duration": 5,
    "start_time": "2023-04-13T13:32:52.058Z"
   },
   {
    "duration": 4,
    "start_time": "2023-04-13T13:34:01.773Z"
   },
   {
    "duration": 8,
    "start_time": "2023-04-13T13:38:09.765Z"
   },
   {
    "duration": 196,
    "start_time": "2023-04-13T13:38:56.887Z"
   },
   {
    "duration": 11,
    "start_time": "2023-04-13T13:39:09.142Z"
   },
   {
    "duration": 23,
    "start_time": "2023-04-13T13:41:24.420Z"
   },
   {
    "duration": 7,
    "start_time": "2023-04-13T13:41:41.267Z"
   },
   {
    "duration": 12,
    "start_time": "2023-04-13T13:41:46.421Z"
   },
   {
    "duration": 13,
    "start_time": "2023-04-13T13:42:19.147Z"
   },
   {
    "duration": 619,
    "start_time": "2023-04-13T13:50:45.779Z"
   },
   {
    "duration": 1707,
    "start_time": "2023-04-13T13:50:56.110Z"
   },
   {
    "duration": 1219,
    "start_time": "2023-04-13T13:50:57.819Z"
   },
   {
    "duration": 6,
    "start_time": "2023-04-13T13:50:59.040Z"
   },
   {
    "duration": 24,
    "start_time": "2023-04-13T13:50:59.048Z"
   },
   {
    "duration": 27,
    "start_time": "2023-04-13T13:50:59.074Z"
   },
   {
    "duration": 27,
    "start_time": "2023-04-13T13:50:59.103Z"
   },
   {
    "duration": 21,
    "start_time": "2023-04-13T13:50:59.131Z"
   },
   {
    "duration": 1851,
    "start_time": "2023-04-13T13:50:59.154Z"
   },
   {
    "duration": 761,
    "start_time": "2023-04-13T13:51:01.007Z"
   },
   {
    "duration": 127,
    "start_time": "2023-04-13T13:51:01.772Z"
   },
   {
    "duration": 358,
    "start_time": "2023-04-13T13:51:01.901Z"
   },
   {
    "duration": 239,
    "start_time": "2023-04-13T13:51:02.260Z"
   },
   {
    "duration": 24,
    "start_time": "2023-04-13T13:51:02.501Z"
   },
   {
    "duration": 51,
    "start_time": "2023-04-13T13:51:02.527Z"
   },
   {
    "duration": 86,
    "start_time": "2023-04-13T13:51:02.580Z"
   },
   {
    "duration": 311,
    "start_time": "2023-04-13T13:51:02.667Z"
   },
   {
    "duration": 259,
    "start_time": "2023-04-13T13:51:02.980Z"
   },
   {
    "duration": 61,
    "start_time": "2023-04-13T13:51:03.241Z"
   },
   {
    "duration": 526,
    "start_time": "2023-04-13T13:51:03.305Z"
   },
   {
    "duration": 196,
    "start_time": "2023-04-13T13:51:03.833Z"
   },
   {
    "duration": 599,
    "start_time": "2023-04-13T13:51:04.032Z"
   },
   {
    "duration": 109,
    "start_time": "2023-04-13T13:51:04.633Z"
   },
   {
    "duration": 113,
    "start_time": "2023-04-13T13:51:04.743Z"
   },
   {
    "duration": 24,
    "start_time": "2023-04-13T13:51:04.858Z"
   },
   {
    "duration": 497,
    "start_time": "2023-04-13T13:51:04.884Z"
   },
   {
    "duration": 5,
    "start_time": "2023-04-13T13:51:05.382Z"
   },
   {
    "duration": 71,
    "start_time": "2023-04-13T13:51:05.388Z"
   },
   {
    "duration": 78,
    "start_time": "2023-04-13T13:51:05.463Z"
   },
   {
    "duration": 76,
    "start_time": "2023-04-13T13:51:05.543Z"
   },
   {
    "duration": 33,
    "start_time": "2023-04-13T13:51:05.620Z"
   },
   {
    "duration": 23,
    "start_time": "2023-04-13T13:51:05.654Z"
   },
   {
    "duration": 107,
    "start_time": "2023-04-13T13:51:05.679Z"
   },
   {
    "duration": 125,
    "start_time": "2023-04-13T13:51:05.788Z"
   },
   {
    "duration": 112,
    "start_time": "2023-04-13T13:51:05.918Z"
   },
   {
    "duration": 5,
    "start_time": "2023-04-13T13:51:06.032Z"
   },
   {
    "duration": 182,
    "start_time": "2023-04-13T13:51:06.039Z"
   },
   {
    "duration": 180,
    "start_time": "2023-04-13T13:51:06.223Z"
   },
   {
    "duration": 7,
    "start_time": "2023-04-13T13:51:06.405Z"
   },
   {
    "duration": 37,
    "start_time": "2023-04-13T13:51:06.414Z"
   },
   {
    "duration": 347,
    "start_time": "2023-04-13T13:51:06.452Z"
   },
   {
    "duration": 4,
    "start_time": "2023-04-13T13:51:06.801Z"
   },
   {
    "duration": 885,
    "start_time": "2023-04-13T13:51:06.807Z"
   },
   {
    "duration": 1971,
    "start_time": "2023-04-13T13:51:07.694Z"
   },
   {
    "duration": 1774,
    "start_time": "2023-04-13T13:51:09.666Z"
   },
   {
    "duration": 2261,
    "start_time": "2023-04-13T13:51:11.442Z"
   },
   {
    "duration": 9,
    "start_time": "2023-04-13T13:53:15.678Z"
   },
   {
    "duration": 8,
    "start_time": "2023-04-13T13:53:40.128Z"
   },
   {
    "duration": 9,
    "start_time": "2023-04-13T13:54:08.843Z"
   },
   {
    "duration": 12,
    "start_time": "2023-04-13T13:56:00.070Z"
   },
   {
    "duration": 330,
    "start_time": "2023-04-13T14:03:50.696Z"
   },
   {
    "duration": 5,
    "start_time": "2023-04-13T14:05:03.205Z"
   },
   {
    "duration": 1008,
    "start_time": "2023-04-13T14:11:07.563Z"
   },
   {
    "duration": 955,
    "start_time": "2023-04-13T14:12:50.026Z"
   },
   {
    "duration": 5,
    "start_time": "2023-04-13T14:12:57.070Z"
   },
   {
    "duration": 11,
    "start_time": "2023-04-13T14:13:03.312Z"
   },
   {
    "duration": 11,
    "start_time": "2023-04-13T14:13:35.665Z"
   },
   {
    "duration": 5,
    "start_time": "2023-04-13T14:13:41.468Z"
   },
   {
    "duration": 131,
    "start_time": "2023-04-13T14:13:43.384Z"
   },
   {
    "duration": 102,
    "start_time": "2023-04-13T14:13:49.180Z"
   },
   {
    "duration": 9,
    "start_time": "2023-04-13T14:13:51.854Z"
   },
   {
    "duration": 10,
    "start_time": "2023-04-13T14:13:53.300Z"
   },
   {
    "duration": 4,
    "start_time": "2023-04-13T14:14:08.350Z"
   },
   {
    "duration": 6,
    "start_time": "2023-04-13T14:14:26.615Z"
   },
   {
    "duration": 4427,
    "start_time": "2023-04-13T14:14:28.019Z"
   },
   {
    "duration": 5,
    "start_time": "2023-04-13T14:14:38.078Z"
   },
   {
    "duration": 366,
    "start_time": "2023-04-13T14:14:39.484Z"
   },
   {
    "duration": 855,
    "start_time": "2023-04-13T14:14:45.469Z"
   },
   {
    "duration": 474,
    "start_time": "2023-04-13T14:14:49.606Z"
   },
   {
    "duration": 611,
    "start_time": "2023-04-13T14:14:58.321Z"
   },
   {
    "duration": 592,
    "start_time": "2023-04-13T14:15:04.596Z"
   },
   {
    "duration": 675,
    "start_time": "2023-04-13T14:15:11.105Z"
   },
   {
    "duration": 728,
    "start_time": "2023-04-13T14:15:19.166Z"
   },
   {
    "duration": 3,
    "start_time": "2023-04-13T14:33:17.006Z"
   },
   {
    "duration": 1598,
    "start_time": "2023-04-13T14:36:34.879Z"
   },
   {
    "duration": 6,
    "start_time": "2023-04-13T14:36:54.769Z"
   },
   {
    "duration": 6,
    "start_time": "2023-04-13T14:37:56.181Z"
   },
   {
    "duration": 10,
    "start_time": "2023-04-13T14:41:09.965Z"
   },
   {
    "duration": 23,
    "start_time": "2023-04-13T14:42:00.849Z"
   },
   {
    "duration": 10,
    "start_time": "2023-04-13T14:42:15.163Z"
   },
   {
    "duration": 12,
    "start_time": "2023-04-13T14:43:28.873Z"
   },
   {
    "duration": 8,
    "start_time": "2023-04-13T14:43:35.984Z"
   },
   {
    "duration": 10,
    "start_time": "2023-04-13T14:44:07.578Z"
   },
   {
    "duration": 3226,
    "start_time": "2023-04-13T14:44:36.169Z"
   },
   {
    "duration": 8,
    "start_time": "2023-04-13T14:45:28.587Z"
   },
   {
    "duration": 3218,
    "start_time": "2023-04-13T14:46:17.069Z"
   },
   {
    "duration": 1738,
    "start_time": "2023-04-13T14:48:16.385Z"
   },
   {
    "duration": 552,
    "start_time": "2023-04-13T14:48:18.125Z"
   },
   {
    "duration": 7,
    "start_time": "2023-04-13T14:48:18.679Z"
   },
   {
    "duration": 12,
    "start_time": "2023-04-13T14:48:18.688Z"
   },
   {
    "duration": 11,
    "start_time": "2023-04-13T14:48:18.702Z"
   },
   {
    "duration": 11,
    "start_time": "2023-04-13T14:48:18.719Z"
   },
   {
    "duration": 22,
    "start_time": "2023-04-13T14:48:18.732Z"
   },
   {
    "duration": 1489,
    "start_time": "2023-04-13T14:48:18.756Z"
   },
   {
    "duration": 660,
    "start_time": "2023-04-13T14:48:20.247Z"
   },
   {
    "duration": 121,
    "start_time": "2023-04-13T14:48:20.909Z"
   },
   {
    "duration": 340,
    "start_time": "2023-04-13T14:48:21.031Z"
   },
   {
    "duration": 205,
    "start_time": "2023-04-13T14:48:21.373Z"
   },
   {
    "duration": 27,
    "start_time": "2023-04-13T14:48:21.580Z"
   },
   {
    "duration": 22,
    "start_time": "2023-04-13T14:48:21.610Z"
   },
   {
    "duration": 60,
    "start_time": "2023-04-13T14:48:21.635Z"
   },
   {
    "duration": 858,
    "start_time": "2023-04-13T14:48:21.696Z"
   },
   {
    "duration": 585,
    "start_time": "2023-04-13T14:48:22.556Z"
   },
   {
    "duration": 59,
    "start_time": "2023-04-13T14:48:23.144Z"
   },
   {
    "duration": 810,
    "start_time": "2023-04-13T14:48:23.205Z"
   },
   {
    "duration": 165,
    "start_time": "2023-04-13T14:48:24.017Z"
   },
   {
    "duration": 356,
    "start_time": "2023-04-13T14:48:24.184Z"
   },
   {
    "duration": 113,
    "start_time": "2023-04-13T14:48:24.542Z"
   },
   {
    "duration": 102,
    "start_time": "2023-04-13T14:48:24.657Z"
   },
   {
    "duration": 24,
    "start_time": "2023-04-13T14:48:24.761Z"
   },
   {
    "duration": 234,
    "start_time": "2023-04-13T14:48:24.787Z"
   },
   {
    "duration": 5,
    "start_time": "2023-04-13T14:48:25.023Z"
   },
   {
    "duration": 59,
    "start_time": "2023-04-13T14:48:25.030Z"
   },
   {
    "duration": 79,
    "start_time": "2023-04-13T14:48:25.091Z"
   },
   {
    "duration": 94,
    "start_time": "2023-04-13T14:48:25.172Z"
   },
   {
    "duration": 32,
    "start_time": "2023-04-13T14:48:25.268Z"
   },
   {
    "duration": 19,
    "start_time": "2023-04-13T14:48:25.302Z"
   },
   {
    "duration": 112,
    "start_time": "2023-04-13T14:48:25.323Z"
   },
   {
    "duration": 128,
    "start_time": "2023-04-13T14:48:25.436Z"
   },
   {
    "duration": 114,
    "start_time": "2023-04-13T14:48:25.566Z"
   },
   {
    "duration": 12,
    "start_time": "2023-04-13T14:48:25.682Z"
   },
   {
    "duration": 39,
    "start_time": "2023-04-13T14:48:25.696Z"
   },
   {
    "duration": 156,
    "start_time": "2023-04-13T14:48:25.737Z"
   },
   {
    "duration": 297,
    "start_time": "2023-04-13T14:48:25.895Z"
   },
   {
    "duration": 8,
    "start_time": "2023-04-13T14:48:26.194Z"
   },
   {
    "duration": 21,
    "start_time": "2023-04-13T14:48:26.203Z"
   },
   {
    "duration": 974,
    "start_time": "2023-04-13T14:48:26.227Z"
   },
   {
    "duration": 7,
    "start_time": "2023-04-13T14:48:27.203Z"
   },
   {
    "duration": 765,
    "start_time": "2023-04-13T14:48:27.211Z"
   },
   {
    "duration": 804,
    "start_time": "2023-04-13T14:48:27.977Z"
   },
   {
    "duration": 709,
    "start_time": "2023-04-13T14:48:28.782Z"
   },
   {
    "duration": 645,
    "start_time": "2023-04-13T14:48:29.492Z"
   },
   {
    "duration": 2620,
    "start_time": "2023-04-13T14:48:30.139Z"
   },
   {
    "duration": 1946,
    "start_time": "2023-04-13T15:14:56.730Z"
   },
   {
    "duration": 2292,
    "start_time": "2023-04-13T15:14:58.679Z"
   },
   {
    "duration": 7,
    "start_time": "2023-04-13T15:15:00.973Z"
   },
   {
    "duration": 49,
    "start_time": "2023-04-13T15:15:00.982Z"
   },
   {
    "duration": 35,
    "start_time": "2023-04-13T15:15:01.034Z"
   },
   {
    "duration": 37,
    "start_time": "2023-04-13T15:15:01.071Z"
   },
   {
    "duration": 57,
    "start_time": "2023-04-13T15:15:01.110Z"
   },
   {
    "duration": 3256,
    "start_time": "2023-04-13T15:15:01.169Z"
   },
   {
    "duration": 2176,
    "start_time": "2023-04-13T15:15:04.428Z"
   },
   {
    "duration": 128,
    "start_time": "2023-04-13T15:15:06.606Z"
   },
   {
    "duration": 347,
    "start_time": "2023-04-13T15:15:06.737Z"
   },
   {
    "duration": 685,
    "start_time": "2023-04-13T15:15:07.087Z"
   },
   {
    "duration": 39,
    "start_time": "2023-04-13T15:15:07.774Z"
   },
   {
    "duration": 38,
    "start_time": "2023-04-13T15:15:07.817Z"
   },
   {
    "duration": 52,
    "start_time": "2023-04-13T15:15:07.857Z"
   },
   {
    "duration": 701,
    "start_time": "2023-04-13T15:15:07.911Z"
   },
   {
    "duration": 973,
    "start_time": "2023-04-13T15:15:08.613Z"
   },
   {
    "duration": 51,
    "start_time": "2023-04-13T15:15:09.587Z"
   },
   {
    "duration": 852,
    "start_time": "2023-04-13T15:15:09.640Z"
   },
   {
    "duration": 174,
    "start_time": "2023-04-13T15:15:10.493Z"
   },
   {
    "duration": 571,
    "start_time": "2023-04-13T15:15:10.670Z"
   },
   {
    "duration": 110,
    "start_time": "2023-04-13T15:15:11.243Z"
   },
   {
    "duration": 113,
    "start_time": "2023-04-13T15:15:11.356Z"
   },
   {
    "duration": 23,
    "start_time": "2023-04-13T15:15:11.471Z"
   },
   {
    "duration": 942,
    "start_time": "2023-04-13T15:15:11.496Z"
   },
   {
    "duration": 5,
    "start_time": "2023-04-13T15:15:12.440Z"
   },
   {
    "duration": 92,
    "start_time": "2023-04-13T15:15:12.447Z"
   },
   {
    "duration": 109,
    "start_time": "2023-04-13T15:15:12.542Z"
   },
   {
    "duration": 107,
    "start_time": "2023-04-13T15:15:12.653Z"
   },
   {
    "duration": 30,
    "start_time": "2023-04-13T15:15:12.763Z"
   },
   {
    "duration": 28,
    "start_time": "2023-04-13T15:15:12.794Z"
   },
   {
    "duration": 114,
    "start_time": "2023-04-13T15:15:12.824Z"
   },
   {
    "duration": 131,
    "start_time": "2023-04-13T15:15:12.940Z"
   },
   {
    "duration": 108,
    "start_time": "2023-04-13T15:15:13.073Z"
   },
   {
    "duration": 16,
    "start_time": "2023-04-13T15:15:13.184Z"
   },
   {
    "duration": 35,
    "start_time": "2023-04-13T15:15:13.202Z"
   },
   {
    "duration": 180,
    "start_time": "2023-04-13T15:15:13.240Z"
   },
   {
    "duration": 294,
    "start_time": "2023-04-13T15:15:13.422Z"
   },
   {
    "duration": 8,
    "start_time": "2023-04-13T15:15:13.718Z"
   },
   {
    "duration": 57,
    "start_time": "2023-04-13T15:15:13.728Z"
   },
   {
    "duration": 1144,
    "start_time": "2023-04-13T15:15:13.790Z"
   },
   {
    "duration": 5,
    "start_time": "2023-04-13T15:15:14.937Z"
   },
   {
    "duration": 2232,
    "start_time": "2023-04-13T15:15:14.944Z"
   },
   {
    "duration": 4232,
    "start_time": "2023-04-13T15:15:17.178Z"
   },
   {
    "duration": 5423,
    "start_time": "2023-04-13T15:15:21.412Z"
   },
   {
    "duration": 2170,
    "start_time": "2023-04-13T15:15:26.836Z"
   },
   {
    "duration": 8296,
    "start_time": "2023-04-13T15:15:29.008Z"
   },
   {
    "duration": 1971,
    "start_time": "2023-04-13T16:24:31.780Z"
   },
   {
    "duration": 540,
    "start_time": "2023-04-13T16:24:33.753Z"
   },
   {
    "duration": 6,
    "start_time": "2023-04-13T16:24:34.296Z"
   },
   {
    "duration": 7,
    "start_time": "2023-04-13T16:24:34.304Z"
   },
   {
    "duration": 15,
    "start_time": "2023-04-13T16:24:34.317Z"
   },
   {
    "duration": 14,
    "start_time": "2023-04-13T16:24:34.335Z"
   },
   {
    "duration": 19,
    "start_time": "2023-04-13T16:24:34.350Z"
   },
   {
    "duration": 610,
    "start_time": "2023-04-13T16:24:34.372Z"
   },
   {
    "duration": 964,
    "start_time": "2023-04-13T16:24:34.984Z"
   },
   {
    "duration": 146,
    "start_time": "2023-04-13T16:24:35.951Z"
   },
   {
    "duration": 379,
    "start_time": "2023-04-13T16:24:36.099Z"
   },
   {
    "duration": 125,
    "start_time": "2023-04-13T16:24:36.480Z"
   },
   {
    "duration": 50,
    "start_time": "2023-04-13T16:24:36.606Z"
   },
   {
    "duration": 13,
    "start_time": "2023-04-13T16:24:36.658Z"
   },
   {
    "duration": 93,
    "start_time": "2023-04-13T16:24:36.672Z"
   },
   {
    "duration": 195,
    "start_time": "2023-04-13T16:24:36.767Z"
   },
   {
    "duration": 77,
    "start_time": "2023-04-13T16:24:36.964Z"
   },
   {
    "duration": 92,
    "start_time": "2023-04-13T16:24:37.044Z"
   },
   {
    "duration": 637,
    "start_time": "2023-04-13T16:24:37.143Z"
   },
   {
    "duration": 250,
    "start_time": "2023-04-13T16:24:37.782Z"
   },
   {
    "duration": 149,
    "start_time": "2023-04-13T16:24:38.034Z"
   },
   {
    "duration": 135,
    "start_time": "2023-04-13T16:24:38.185Z"
   },
   {
    "duration": 216,
    "start_time": "2023-04-13T16:24:38.322Z"
   },
   {
    "duration": 75,
    "start_time": "2023-04-13T16:24:38.541Z"
   },
   {
    "duration": 157,
    "start_time": "2023-04-13T16:24:38.618Z"
   },
   {
    "duration": 5,
    "start_time": "2023-04-13T16:24:38.777Z"
   },
   {
    "duration": 165,
    "start_time": "2023-04-13T16:24:38.783Z"
   },
   {
    "duration": 276,
    "start_time": "2023-04-13T16:24:38.952Z"
   },
   {
    "duration": 142,
    "start_time": "2023-04-13T16:24:39.230Z"
   },
   {
    "duration": 40,
    "start_time": "2023-04-13T16:24:39.374Z"
   },
   {
    "duration": 17,
    "start_time": "2023-04-13T16:24:39.418Z"
   },
   {
    "duration": 136,
    "start_time": "2023-04-13T16:24:39.437Z"
   },
   {
    "duration": 210,
    "start_time": "2023-04-13T16:24:39.575Z"
   },
   {
    "duration": 135,
    "start_time": "2023-04-13T16:24:39.813Z"
   },
   {
    "duration": 10,
    "start_time": "2023-04-13T16:24:39.950Z"
   },
   {
    "duration": 17,
    "start_time": "2023-04-13T16:24:39.961Z"
   },
   {
    "duration": 181,
    "start_time": "2023-04-13T16:24:39.980Z"
   },
   {
    "duration": 80,
    "start_time": "2023-04-13T16:24:40.163Z"
   },
   {
    "duration": 10,
    "start_time": "2023-04-13T16:24:40.245Z"
   },
   {
    "duration": 12,
    "start_time": "2023-04-13T16:24:40.256Z"
   },
   {
    "duration": 122,
    "start_time": "2023-04-13T16:24:40.270Z"
   },
   {
    "duration": 6,
    "start_time": "2023-04-13T16:24:40.394Z"
   },
   {
    "duration": 254,
    "start_time": "2023-04-13T16:24:40.402Z"
   },
   {
    "duration": 313,
    "start_time": "2023-04-13T16:24:40.660Z"
   },
   {
    "duration": 316,
    "start_time": "2023-04-13T16:24:40.975Z"
   },
   {
    "duration": 346,
    "start_time": "2023-04-13T16:24:41.293Z"
   },
   {
    "duration": 1448,
    "start_time": "2023-04-13T16:24:41.642Z"
   },
   {
    "duration": 1537,
    "start_time": "2023-04-13T17:09:18.685Z"
   },
   {
    "duration": 423,
    "start_time": "2023-04-13T17:09:20.224Z"
   },
   {
    "duration": 8,
    "start_time": "2023-04-13T17:09:20.648Z"
   },
   {
    "duration": 16,
    "start_time": "2023-04-13T17:09:20.659Z"
   },
   {
    "duration": 16,
    "start_time": "2023-04-13T17:09:20.676Z"
   },
   {
    "duration": 10,
    "start_time": "2023-04-13T17:09:20.693Z"
   },
   {
    "duration": 7,
    "start_time": "2023-04-13T17:09:20.704Z"
   },
   {
    "duration": 349,
    "start_time": "2023-04-13T17:09:20.712Z"
   },
   {
    "duration": 456,
    "start_time": "2023-04-13T17:09:21.063Z"
   },
   {
    "duration": 103,
    "start_time": "2023-04-13T17:09:21.522Z"
   },
   {
    "duration": 340,
    "start_time": "2023-04-13T17:09:21.626Z"
   },
   {
    "duration": 65,
    "start_time": "2023-04-13T17:09:21.967Z"
   },
   {
    "duration": 33,
    "start_time": "2023-04-13T17:09:22.034Z"
   },
   {
    "duration": 9,
    "start_time": "2023-04-13T17:09:22.068Z"
   },
   {
    "duration": 36,
    "start_time": "2023-04-13T17:09:22.078Z"
   },
   {
    "duration": 137,
    "start_time": "2023-04-13T17:09:22.116Z"
   },
   {
    "duration": 46,
    "start_time": "2023-04-13T17:09:22.254Z"
   },
   {
    "duration": 53,
    "start_time": "2023-04-13T17:09:22.302Z"
   },
   {
    "duration": 372,
    "start_time": "2023-04-13T17:09:22.357Z"
   },
   {
    "duration": 165,
    "start_time": "2023-04-13T17:09:22.730Z"
   },
   {
    "duration": 78,
    "start_time": "2023-04-13T17:09:22.897Z"
   },
   {
    "duration": 125,
    "start_time": "2023-04-13T17:09:22.976Z"
   },
   {
    "duration": 93,
    "start_time": "2023-04-13T17:09:23.102Z"
   },
   {
    "duration": 19,
    "start_time": "2023-04-13T17:09:23.196Z"
   },
   {
    "duration": 85,
    "start_time": "2023-04-13T17:09:23.217Z"
   },
   {
    "duration": 3,
    "start_time": "2023-04-13T17:09:23.303Z"
   },
   {
    "duration": 57,
    "start_time": "2023-04-13T17:09:23.307Z"
   },
   {
    "duration": 63,
    "start_time": "2023-04-13T17:09:23.367Z"
   },
   {
    "duration": 63,
    "start_time": "2023-04-13T17:09:23.431Z"
   },
   {
    "duration": 27,
    "start_time": "2023-04-13T17:09:23.496Z"
   },
   {
    "duration": 32,
    "start_time": "2023-04-13T17:09:23.525Z"
   },
   {
    "duration": 94,
    "start_time": "2023-04-13T17:09:23.558Z"
   },
   {
    "duration": 102,
    "start_time": "2023-04-13T17:09:23.653Z"
   },
   {
    "duration": 85,
    "start_time": "2023-04-13T17:09:23.756Z"
   },
   {
    "duration": 10,
    "start_time": "2023-04-13T17:09:23.843Z"
   },
   {
    "duration": 11,
    "start_time": "2023-04-13T17:09:23.854Z"
   },
   {
    "duration": 129,
    "start_time": "2023-04-13T17:09:23.867Z"
   },
   {
    "duration": 21,
    "start_time": "2023-04-13T17:09:23.998Z"
   },
   {
    "duration": 7,
    "start_time": "2023-04-13T17:09:24.020Z"
   },
   {
    "duration": 11,
    "start_time": "2023-04-13T17:09:24.029Z"
   },
   {
    "duration": 57,
    "start_time": "2023-04-13T17:09:24.042Z"
   },
   {
    "duration": 5,
    "start_time": "2023-04-13T17:09:24.100Z"
   },
   {
    "duration": 127,
    "start_time": "2023-04-13T17:09:24.106Z"
   },
   {
    "duration": 149,
    "start_time": "2023-04-13T17:09:24.234Z"
   },
   {
    "duration": 131,
    "start_time": "2023-04-13T17:09:24.385Z"
   },
   {
    "duration": 144,
    "start_time": "2023-04-13T17:09:24.518Z"
   },
   {
    "duration": 617,
    "start_time": "2023-04-13T17:09:24.664Z"
   },
   {
    "duration": 63,
    "start_time": "2023-04-13T17:14:30.104Z"
   },
   {
    "duration": 41,
    "start_time": "2023-04-13T17:16:15.756Z"
   },
   {
    "duration": 9,
    "start_time": "2023-04-13T17:20:06.176Z"
   },
   {
    "duration": 1367,
    "start_time": "2023-04-13T17:26:04.326Z"
   },
   {
    "duration": 556,
    "start_time": "2023-04-13T17:26:05.695Z"
   },
   {
    "duration": 10,
    "start_time": "2023-04-13T17:26:06.254Z"
   },
   {
    "duration": 21,
    "start_time": "2023-04-13T17:26:06.266Z"
   },
   {
    "duration": 7,
    "start_time": "2023-04-13T17:26:06.289Z"
   },
   {
    "duration": 14,
    "start_time": "2023-04-13T17:26:06.298Z"
   },
   {
    "duration": 6,
    "start_time": "2023-04-13T17:26:06.314Z"
   },
   {
    "duration": 371,
    "start_time": "2023-04-13T17:26:06.322Z"
   },
   {
    "duration": 505,
    "start_time": "2023-04-13T17:26:06.694Z"
   },
   {
    "duration": 107,
    "start_time": "2023-04-13T17:26:07.201Z"
   },
   {
    "duration": 340,
    "start_time": "2023-04-13T17:26:07.309Z"
   },
   {
    "duration": 57,
    "start_time": "2023-04-13T17:26:07.651Z"
   },
   {
    "duration": 22,
    "start_time": "2023-04-13T17:26:07.709Z"
   },
   {
    "duration": 34,
    "start_time": "2023-04-13T17:26:07.732Z"
   },
   {
    "duration": 43,
    "start_time": "2023-04-13T17:26:07.771Z"
   },
   {
    "duration": 104,
    "start_time": "2023-04-13T17:26:07.816Z"
   },
   {
    "duration": 45,
    "start_time": "2023-04-13T17:26:07.922Z"
   },
   {
    "duration": 46,
    "start_time": "2023-04-13T17:26:07.968Z"
   },
   {
    "duration": 351,
    "start_time": "2023-04-13T17:26:08.016Z"
   },
   {
    "duration": 174,
    "start_time": "2023-04-13T17:26:08.370Z"
   },
   {
    "duration": 63,
    "start_time": "2023-04-13T17:26:08.546Z"
   },
   {
    "duration": 104,
    "start_time": "2023-04-13T17:26:08.610Z"
   },
   {
    "duration": 118,
    "start_time": "2023-04-13T17:26:08.715Z"
   },
   {
    "duration": 30,
    "start_time": "2023-04-13T17:26:08.835Z"
   },
   {
    "duration": 62,
    "start_time": "2023-04-13T17:26:08.867Z"
   },
   {
    "duration": 3,
    "start_time": "2023-04-13T17:26:08.931Z"
   },
   {
    "duration": 73,
    "start_time": "2023-04-13T17:26:08.935Z"
   },
   {
    "duration": 78,
    "start_time": "2023-04-13T17:26:09.012Z"
   },
   {
    "duration": 64,
    "start_time": "2023-04-13T17:26:09.092Z"
   },
   {
    "duration": 26,
    "start_time": "2023-04-13T17:26:09.164Z"
   },
   {
    "duration": 11,
    "start_time": "2023-04-13T17:26:09.191Z"
   },
   {
    "duration": 99,
    "start_time": "2023-04-13T17:26:09.203Z"
   },
   {
    "duration": 106,
    "start_time": "2023-04-13T17:26:09.303Z"
   },
   {
    "duration": 109,
    "start_time": "2023-04-13T17:26:09.410Z"
   },
   {
    "duration": 9,
    "start_time": "2023-04-13T17:26:09.521Z"
   },
   {
    "duration": 28,
    "start_time": "2023-04-13T17:26:09.539Z"
   },
   {
    "duration": 158,
    "start_time": "2023-04-13T17:26:09.569Z"
   },
   {
    "duration": 47,
    "start_time": "2023-04-13T17:26:09.729Z"
   },
   {
    "duration": 7,
    "start_time": "2023-04-13T17:26:09.777Z"
   },
   {
    "duration": 16,
    "start_time": "2023-04-13T17:26:09.785Z"
   },
   {
    "duration": 70,
    "start_time": "2023-04-13T17:26:09.802Z"
   },
   {
    "duration": 5,
    "start_time": "2023-04-13T17:26:09.877Z"
   },
   {
    "duration": 49,
    "start_time": "2023-04-13T17:26:09.885Z"
   },
   {
    "duration": 65,
    "start_time": "2023-04-13T17:26:09.935Z"
   },
   {
    "duration": 61,
    "start_time": "2023-04-13T17:26:10.001Z"
   },
   {
    "duration": 43,
    "start_time": "2023-04-13T17:26:10.064Z"
   },
   {
    "duration": 211,
    "start_time": "2023-04-13T17:26:10.110Z"
   },
   {
    "duration": 182,
    "start_time": "2023-04-13T17:26:10.322Z"
   },
   {
    "duration": 1388,
    "start_time": "2023-04-13T17:29:58.505Z"
   },
   {
    "duration": 438,
    "start_time": "2023-04-13T17:29:59.896Z"
   },
   {
    "duration": 8,
    "start_time": "2023-04-13T17:30:00.336Z"
   },
   {
    "duration": 85,
    "start_time": "2023-04-13T17:30:00.346Z"
   },
   {
    "duration": 61,
    "start_time": "2023-04-13T17:30:00.433Z"
   },
   {
    "duration": 72,
    "start_time": "2023-04-13T17:30:00.496Z"
   },
   {
    "duration": 74,
    "start_time": "2023-04-13T17:30:00.570Z"
   },
   {
    "duration": 375,
    "start_time": "2023-04-13T17:30:00.648Z"
   },
   {
    "duration": 458,
    "start_time": "2023-04-13T17:30:01.025Z"
   },
   {
    "duration": 114,
    "start_time": "2023-04-13T17:30:01.485Z"
   },
   {
    "duration": 348,
    "start_time": "2023-04-13T17:30:01.601Z"
   },
   {
    "duration": 72,
    "start_time": "2023-04-13T17:30:01.952Z"
   },
   {
    "duration": 32,
    "start_time": "2023-04-13T17:30:02.026Z"
   },
   {
    "duration": 58,
    "start_time": "2023-04-13T17:30:02.061Z"
   },
   {
    "duration": 76,
    "start_time": "2023-04-13T17:30:02.121Z"
   },
   {
    "duration": 325,
    "start_time": "2023-04-13T17:30:02.199Z"
   },
   {
    "duration": 152,
    "start_time": "2023-04-13T17:30:02.526Z"
   },
   {
    "duration": 82,
    "start_time": "2023-04-13T17:30:02.679Z"
   },
   {
    "duration": 782,
    "start_time": "2023-04-13T17:30:02.766Z"
   },
   {
    "duration": 210,
    "start_time": "2023-04-13T17:30:03.553Z"
   },
   {
    "duration": 75,
    "start_time": "2023-04-13T17:30:03.764Z"
   },
   {
    "duration": 222,
    "start_time": "2023-04-13T17:30:03.841Z"
   },
   {
    "duration": 211,
    "start_time": "2023-04-13T17:30:04.064Z"
   },
   {
    "duration": 78,
    "start_time": "2023-04-13T17:30:04.276Z"
   },
   {
    "duration": 57,
    "start_time": "2023-04-13T17:30:04.359Z"
   },
   {
    "duration": 3,
    "start_time": "2023-04-13T17:30:04.417Z"
   },
   {
    "duration": 49,
    "start_time": "2023-04-13T17:30:04.422Z"
   },
   {
    "duration": 80,
    "start_time": "2023-04-13T17:30:04.474Z"
   },
   {
    "duration": 54,
    "start_time": "2023-04-13T17:30:04.559Z"
   },
   {
    "duration": 29,
    "start_time": "2023-04-13T17:30:04.614Z"
   },
   {
    "duration": 18,
    "start_time": "2023-04-13T17:30:04.646Z"
   },
   {
    "duration": 103,
    "start_time": "2023-04-13T17:30:04.666Z"
   },
   {
    "duration": 122,
    "start_time": "2023-04-13T17:30:04.772Z"
   },
   {
    "duration": 110,
    "start_time": "2023-04-13T17:30:04.896Z"
   },
   {
    "duration": 9,
    "start_time": "2023-04-13T17:30:05.007Z"
   },
   {
    "duration": 31,
    "start_time": "2023-04-13T17:30:05.018Z"
   },
   {
    "duration": 141,
    "start_time": "2023-04-13T17:30:05.052Z"
   },
   {
    "duration": 29,
    "start_time": "2023-04-13T17:30:05.195Z"
   },
   {
    "duration": 6,
    "start_time": "2023-04-13T17:30:05.226Z"
   },
   {
    "duration": 22,
    "start_time": "2023-04-13T17:30:05.234Z"
   },
   {
    "duration": 60,
    "start_time": "2023-04-13T17:30:05.258Z"
   },
   {
    "duration": 5,
    "start_time": "2023-04-13T17:30:05.319Z"
   },
   {
    "duration": 150,
    "start_time": "2023-04-13T17:30:05.326Z"
   },
   {
    "duration": 150,
    "start_time": "2023-04-13T17:30:05.477Z"
   },
   {
    "duration": 138,
    "start_time": "2023-04-13T17:30:05.628Z"
   },
   {
    "duration": 179,
    "start_time": "2023-04-13T17:30:05.768Z"
   },
   {
    "duration": 632,
    "start_time": "2023-04-13T17:30:05.951Z"
   },
   {
    "duration": 187,
    "start_time": "2023-04-13T17:30:06.584Z"
   },
   {
    "duration": 1313,
    "start_time": "2023-04-13T17:31:06.859Z"
   },
   {
    "duration": 547,
    "start_time": "2023-04-13T17:31:08.174Z"
   },
   {
    "duration": 6,
    "start_time": "2023-04-13T17:31:08.723Z"
   },
   {
    "duration": 33,
    "start_time": "2023-04-13T17:31:08.732Z"
   },
   {
    "duration": 8,
    "start_time": "2023-04-13T17:31:08.767Z"
   },
   {
    "duration": 11,
    "start_time": "2023-04-13T17:31:08.777Z"
   },
   {
    "duration": 6,
    "start_time": "2023-04-13T17:31:08.790Z"
   },
   {
    "duration": 327,
    "start_time": "2023-04-13T17:31:08.798Z"
   },
   {
    "duration": 454,
    "start_time": "2023-04-13T17:31:09.127Z"
   },
   {
    "duration": 108,
    "start_time": "2023-04-13T17:31:09.583Z"
   },
   {
    "duration": 386,
    "start_time": "2023-04-13T17:31:09.693Z"
   },
   {
    "duration": 110,
    "start_time": "2023-04-13T17:31:10.081Z"
   },
   {
    "duration": 25,
    "start_time": "2023-04-13T17:31:10.193Z"
   },
   {
    "duration": 11,
    "start_time": "2023-04-13T17:31:10.219Z"
   },
   {
    "duration": 58,
    "start_time": "2023-04-13T17:31:10.231Z"
   },
   {
    "duration": 121,
    "start_time": "2023-04-13T17:31:10.290Z"
   },
   {
    "duration": 42,
    "start_time": "2023-04-13T17:31:10.412Z"
   },
   {
    "duration": 50,
    "start_time": "2023-04-13T17:31:10.458Z"
   },
   {
    "duration": 362,
    "start_time": "2023-04-13T17:31:10.510Z"
   },
   {
    "duration": 196,
    "start_time": "2023-04-13T17:31:10.874Z"
   },
   {
    "duration": 51,
    "start_time": "2023-04-13T17:31:11.072Z"
   },
   {
    "duration": 110,
    "start_time": "2023-04-13T17:31:11.125Z"
   },
   {
    "duration": 103,
    "start_time": "2023-04-13T17:31:11.245Z"
   },
   {
    "duration": 26,
    "start_time": "2023-04-13T17:31:11.350Z"
   },
   {
    "duration": 62,
    "start_time": "2023-04-13T17:31:11.377Z"
   },
   {
    "duration": 3,
    "start_time": "2023-04-13T17:31:11.441Z"
   },
   {
    "duration": 59,
    "start_time": "2023-04-13T17:31:11.446Z"
   },
   {
    "duration": 79,
    "start_time": "2023-04-13T17:31:11.509Z"
   },
   {
    "duration": 76,
    "start_time": "2023-04-13T17:31:11.590Z"
   },
   {
    "duration": 29,
    "start_time": "2023-04-13T17:31:11.668Z"
   },
   {
    "duration": 11,
    "start_time": "2023-04-13T17:31:11.699Z"
   },
   {
    "duration": 152,
    "start_time": "2023-04-13T17:31:11.712Z"
   },
   {
    "duration": 128,
    "start_time": "2023-04-13T17:31:11.866Z"
   },
   {
    "duration": 112,
    "start_time": "2023-04-13T17:31:11.996Z"
   },
   {
    "duration": 10,
    "start_time": "2023-04-13T17:31:12.110Z"
   },
   {
    "duration": 15,
    "start_time": "2023-04-13T17:31:12.122Z"
   },
   {
    "duration": 157,
    "start_time": "2023-04-13T17:31:12.142Z"
   },
   {
    "duration": 27,
    "start_time": "2023-04-13T17:31:12.301Z"
   },
   {
    "duration": 11,
    "start_time": "2023-04-13T17:31:12.329Z"
   },
   {
    "duration": 16,
    "start_time": "2023-04-13T17:31:12.347Z"
   },
   {
    "duration": 220,
    "start_time": "2023-04-13T17:31:12.364Z"
   },
   {
    "duration": 0,
    "start_time": "2023-04-13T17:31:12.586Z"
   },
   {
    "duration": 0,
    "start_time": "2023-04-13T17:31:12.587Z"
   },
   {
    "duration": 1,
    "start_time": "2023-04-13T17:31:12.588Z"
   },
   {
    "duration": 0,
    "start_time": "2023-04-13T17:31:12.590Z"
   },
   {
    "duration": 0,
    "start_time": "2023-04-13T17:31:12.591Z"
   },
   {
    "duration": 0,
    "start_time": "2023-04-13T17:31:12.593Z"
   },
   {
    "duration": 0,
    "start_time": "2023-04-13T17:31:12.594Z"
   },
   {
    "duration": 6,
    "start_time": "2023-04-13T17:34:42.717Z"
   },
   {
    "duration": 1322,
    "start_time": "2023-04-13T17:34:47.361Z"
   },
   {
    "duration": 444,
    "start_time": "2023-04-13T17:34:48.685Z"
   },
   {
    "duration": 13,
    "start_time": "2023-04-13T17:34:49.130Z"
   },
   {
    "duration": 10,
    "start_time": "2023-04-13T17:34:49.151Z"
   },
   {
    "duration": 8,
    "start_time": "2023-04-13T17:34:49.162Z"
   },
   {
    "duration": 24,
    "start_time": "2023-04-13T17:34:49.171Z"
   },
   {
    "duration": 10,
    "start_time": "2023-04-13T17:34:49.197Z"
   },
   {
    "duration": 530,
    "start_time": "2023-04-13T17:34:49.209Z"
   },
   {
    "duration": 1029,
    "start_time": "2023-04-13T17:34:49.742Z"
   },
   {
    "duration": 210,
    "start_time": "2023-04-13T17:34:50.774Z"
   },
   {
    "duration": 364,
    "start_time": "2023-04-13T17:34:51.039Z"
   },
   {
    "duration": 86,
    "start_time": "2023-04-13T17:34:51.404Z"
   },
   {
    "duration": 22,
    "start_time": "2023-04-13T17:34:51.492Z"
   },
   {
    "duration": 18,
    "start_time": "2023-04-13T17:34:51.515Z"
   },
   {
    "duration": 63,
    "start_time": "2023-04-13T17:34:51.535Z"
   },
   {
    "duration": 103,
    "start_time": "2023-04-13T17:34:51.600Z"
   },
   {
    "duration": 31,
    "start_time": "2023-04-13T17:34:51.704Z"
   },
   {
    "duration": 62,
    "start_time": "2023-04-13T17:34:51.736Z"
   },
   {
    "duration": 353,
    "start_time": "2023-04-13T17:34:51.799Z"
   },
   {
    "duration": 219,
    "start_time": "2023-04-13T17:34:52.153Z"
   },
   {
    "duration": 54,
    "start_time": "2023-04-13T17:34:52.373Z"
   },
   {
    "duration": 105,
    "start_time": "2023-04-13T17:34:52.428Z"
   },
   {
    "duration": 130,
    "start_time": "2023-04-13T17:34:52.542Z"
   },
   {
    "duration": 23,
    "start_time": "2023-04-13T17:34:52.679Z"
   },
   {
    "duration": 76,
    "start_time": "2023-04-13T17:34:52.705Z"
   },
   {
    "duration": 3,
    "start_time": "2023-04-13T17:34:52.783Z"
   },
   {
    "duration": 77,
    "start_time": "2023-04-13T17:34:52.788Z"
   },
   {
    "duration": 90,
    "start_time": "2023-04-13T17:34:52.876Z"
   },
   {
    "duration": 72,
    "start_time": "2023-04-13T17:34:52.967Z"
   },
   {
    "duration": 39,
    "start_time": "2023-04-13T17:34:53.042Z"
   },
   {
    "duration": 16,
    "start_time": "2023-04-13T17:34:53.086Z"
   },
   {
    "duration": 113,
    "start_time": "2023-04-13T17:34:53.103Z"
   },
   {
    "duration": 108,
    "start_time": "2023-04-13T17:34:53.217Z"
   },
   {
    "duration": 95,
    "start_time": "2023-04-13T17:34:53.326Z"
   },
   {
    "duration": 17,
    "start_time": "2023-04-13T17:34:53.422Z"
   },
   {
    "duration": 8,
    "start_time": "2023-04-13T17:34:53.444Z"
   },
   {
    "duration": 133,
    "start_time": "2023-04-13T17:34:53.454Z"
   },
   {
    "duration": 29,
    "start_time": "2023-04-13T17:34:53.588Z"
   },
   {
    "duration": 7,
    "start_time": "2023-04-13T17:34:53.619Z"
   },
   {
    "duration": 20,
    "start_time": "2023-04-13T17:34:53.628Z"
   },
   {
    "duration": 187,
    "start_time": "2023-04-13T17:34:53.654Z"
   },
   {
    "duration": 0,
    "start_time": "2023-04-13T17:34:53.848Z"
   },
   {
    "duration": 0,
    "start_time": "2023-04-13T17:34:53.849Z"
   },
   {
    "duration": 0,
    "start_time": "2023-04-13T17:34:53.850Z"
   },
   {
    "duration": 0,
    "start_time": "2023-04-13T17:34:53.850Z"
   },
   {
    "duration": 0,
    "start_time": "2023-04-13T17:34:53.851Z"
   },
   {
    "duration": 0,
    "start_time": "2023-04-13T17:34:53.852Z"
   },
   {
    "duration": 0,
    "start_time": "2023-04-13T17:34:53.859Z"
   },
   {
    "duration": 1319,
    "start_time": "2023-04-13T17:35:49.877Z"
   },
   {
    "duration": 397,
    "start_time": "2023-04-13T17:35:51.198Z"
   },
   {
    "duration": 7,
    "start_time": "2023-04-13T17:35:51.596Z"
   },
   {
    "duration": 8,
    "start_time": "2023-04-13T17:35:51.604Z"
   },
   {
    "duration": 7,
    "start_time": "2023-04-13T17:35:51.614Z"
   },
   {
    "duration": 17,
    "start_time": "2023-04-13T17:35:51.622Z"
   },
   {
    "duration": 16,
    "start_time": "2023-04-13T17:35:51.640Z"
   },
   {
    "duration": 349,
    "start_time": "2023-04-13T17:35:51.660Z"
   },
   {
    "duration": 485,
    "start_time": "2023-04-13T17:35:52.011Z"
   },
   {
    "duration": 126,
    "start_time": "2023-04-13T17:35:52.498Z"
   },
   {
    "duration": 390,
    "start_time": "2023-04-13T17:35:52.626Z"
   },
   {
    "duration": 73,
    "start_time": "2023-04-13T17:35:53.018Z"
   },
   {
    "duration": 22,
    "start_time": "2023-04-13T17:35:53.093Z"
   },
   {
    "duration": 13,
    "start_time": "2023-04-13T17:35:53.118Z"
   },
   {
    "duration": 51,
    "start_time": "2023-04-13T17:35:53.133Z"
   },
   {
    "duration": 102,
    "start_time": "2023-04-13T17:35:53.186Z"
   },
   {
    "duration": 28,
    "start_time": "2023-04-13T17:35:53.289Z"
   },
   {
    "duration": 52,
    "start_time": "2023-04-13T17:35:53.318Z"
   },
   {
    "duration": 326,
    "start_time": "2023-04-13T17:35:53.372Z"
   },
   {
    "duration": 162,
    "start_time": "2023-04-13T17:35:53.699Z"
   },
   {
    "duration": 60,
    "start_time": "2023-04-13T17:35:53.863Z"
   },
   {
    "duration": 103,
    "start_time": "2023-04-13T17:35:53.924Z"
   },
   {
    "duration": 90,
    "start_time": "2023-04-13T17:35:54.029Z"
   },
   {
    "duration": 36,
    "start_time": "2023-04-13T17:35:54.120Z"
   },
   {
    "duration": 64,
    "start_time": "2023-04-13T17:35:54.158Z"
   },
   {
    "duration": 4,
    "start_time": "2023-04-13T17:35:54.223Z"
   },
   {
    "duration": 47,
    "start_time": "2023-04-13T17:35:54.228Z"
   },
   {
    "duration": 71,
    "start_time": "2023-04-13T17:35:54.277Z"
   },
   {
    "duration": 53,
    "start_time": "2023-04-13T17:35:54.355Z"
   },
   {
    "duration": 25,
    "start_time": "2023-04-13T17:35:54.409Z"
   },
   {
    "duration": 21,
    "start_time": "2023-04-13T17:35:54.444Z"
   },
   {
    "duration": 83,
    "start_time": "2023-04-13T17:35:54.467Z"
   },
   {
    "duration": 106,
    "start_time": "2023-04-13T17:35:54.552Z"
   },
   {
    "duration": 92,
    "start_time": "2023-04-13T17:35:54.664Z"
   },
   {
    "duration": 11,
    "start_time": "2023-04-13T17:35:54.758Z"
   },
   {
    "duration": 16,
    "start_time": "2023-04-13T17:35:54.770Z"
   },
   {
    "duration": 130,
    "start_time": "2023-04-13T17:35:54.787Z"
   },
   {
    "duration": 53,
    "start_time": "2023-04-13T17:35:54.919Z"
   },
   {
    "duration": 7,
    "start_time": "2023-04-13T17:35:54.974Z"
   },
   {
    "duration": 18,
    "start_time": "2023-04-13T17:35:54.983Z"
   },
   {
    "duration": 80,
    "start_time": "2023-04-13T17:35:55.004Z"
   },
   {
    "duration": 4,
    "start_time": "2023-04-13T17:35:55.085Z"
   },
   {
    "duration": 138,
    "start_time": "2023-04-13T17:35:55.090Z"
   },
   {
    "duration": 157,
    "start_time": "2023-04-13T17:35:55.229Z"
   },
   {
    "duration": 182,
    "start_time": "2023-04-13T17:35:55.388Z"
   },
   {
    "duration": 175,
    "start_time": "2023-04-13T17:35:55.572Z"
   },
   {
    "duration": 645,
    "start_time": "2023-04-13T17:35:55.756Z"
   },
   {
    "duration": 162,
    "start_time": "2023-04-13T17:35:56.402Z"
   },
   {
    "duration": 15,
    "start_time": "2023-04-13T17:37:38.649Z"
   },
   {
    "duration": 165,
    "start_time": "2023-04-13T17:38:12.858Z"
   },
   {
    "duration": 681,
    "start_time": "2023-04-13T17:38:25.572Z"
   },
   {
    "duration": 671,
    "start_time": "2023-04-13T17:38:36.011Z"
   },
   {
    "duration": 618,
    "start_time": "2023-04-13T17:39:31.425Z"
   },
   {
    "duration": 649,
    "start_time": "2023-04-13T17:39:41.115Z"
   },
   {
    "duration": 237,
    "start_time": "2023-04-13T17:41:43.076Z"
   },
   {
    "duration": 621,
    "start_time": "2023-04-13T17:42:18.076Z"
   },
   {
    "duration": 631,
    "start_time": "2023-04-13T17:42:31.658Z"
   },
   {
    "duration": 680,
    "start_time": "2023-04-13T17:42:51.463Z"
   },
   {
    "duration": 76,
    "start_time": "2023-04-13T17:43:30.619Z"
   },
   {
    "duration": 652,
    "start_time": "2023-04-13T17:43:43.806Z"
   },
   {
    "duration": 764,
    "start_time": "2023-04-13T17:44:24.832Z"
   },
   {
    "duration": 635,
    "start_time": "2023-04-13T17:44:40.541Z"
   },
   {
    "duration": 597,
    "start_time": "2023-04-13T17:44:55.966Z"
   },
   {
    "duration": 687,
    "start_time": "2023-04-13T17:45:19.528Z"
   },
   {
    "duration": 702,
    "start_time": "2023-04-13T17:45:28.910Z"
   },
   {
    "duration": 599,
    "start_time": "2023-04-13T17:45:48.312Z"
   },
   {
    "duration": 665,
    "start_time": "2023-04-13T17:46:06.431Z"
   },
   {
    "duration": 693,
    "start_time": "2023-04-13T17:47:41.142Z"
   },
   {
    "duration": 648,
    "start_time": "2023-04-13T17:47:59.522Z"
   },
   {
    "duration": 215,
    "start_time": "2023-04-13T17:48:20.735Z"
   },
   {
    "duration": 164,
    "start_time": "2023-04-13T17:48:51.154Z"
   },
   {
    "duration": 732,
    "start_time": "2023-04-13T17:49:02.193Z"
   },
   {
    "duration": 731,
    "start_time": "2023-04-13T17:49:27.067Z"
   },
   {
    "duration": 678,
    "start_time": "2023-04-13T17:49:44.902Z"
   },
   {
    "duration": 4,
    "start_time": "2023-04-13T17:53:29.593Z"
   },
   {
    "duration": 4,
    "start_time": "2023-04-13T17:53:39.112Z"
   },
   {
    "duration": 6,
    "start_time": "2023-04-13T17:53:47.200Z"
   },
   {
    "duration": 659,
    "start_time": "2023-04-13T17:54:21.053Z"
   },
   {
    "duration": 5,
    "start_time": "2023-04-13T17:54:27.808Z"
   },
   {
    "duration": 7,
    "start_time": "2023-04-13T17:56:36.135Z"
   },
   {
    "duration": 16,
    "start_time": "2023-04-13T17:57:05.268Z"
   },
   {
    "duration": 3,
    "start_time": "2023-04-13T17:57:24.506Z"
   },
   {
    "duration": 5,
    "start_time": "2023-04-13T17:57:25.064Z"
   },
   {
    "duration": 12,
    "start_time": "2023-04-13T17:57:45.203Z"
   },
   {
    "duration": 10,
    "start_time": "2023-04-13T17:58:05.911Z"
   },
   {
    "duration": 10,
    "start_time": "2023-04-13T17:58:19.967Z"
   },
   {
    "duration": 6,
    "start_time": "2023-04-13T17:58:41.496Z"
   },
   {
    "duration": 20,
    "start_time": "2023-04-13T17:59:27.532Z"
   },
   {
    "duration": 66,
    "start_time": "2023-04-13T17:59:33.520Z"
   },
   {
    "duration": 6,
    "start_time": "2023-04-13T18:00:54.819Z"
   },
   {
    "duration": 631,
    "start_time": "2023-04-13T18:02:36.271Z"
   },
   {
    "duration": 693,
    "start_time": "2023-04-13T18:02:41.098Z"
   },
   {
    "duration": 10,
    "start_time": "2023-04-13T18:04:31.499Z"
   },
   {
    "duration": 17,
    "start_time": "2023-04-13T18:07:23.134Z"
   },
   {
    "duration": 13,
    "start_time": "2023-04-13T18:07:36.662Z"
   },
   {
    "duration": 1826,
    "start_time": "2023-04-14T21:54:17.543Z"
   },
   {
    "duration": 371,
    "start_time": "2023-04-14T21:54:19.371Z"
   },
   {
    "duration": 9,
    "start_time": "2023-04-14T21:54:19.744Z"
   },
   {
    "duration": 14,
    "start_time": "2023-04-14T21:54:19.755Z"
   },
   {
    "duration": 18,
    "start_time": "2023-04-14T21:54:19.771Z"
   },
   {
    "duration": 25,
    "start_time": "2023-04-14T21:54:19.791Z"
   },
   {
    "duration": 17,
    "start_time": "2023-04-14T21:54:19.818Z"
   },
   {
    "duration": 656,
    "start_time": "2023-04-14T21:54:19.837Z"
   },
   {
    "duration": 536,
    "start_time": "2023-04-14T21:54:20.495Z"
   },
   {
    "duration": 125,
    "start_time": "2023-04-14T21:54:21.034Z"
   },
   {
    "duration": 331,
    "start_time": "2023-04-14T21:54:21.161Z"
   },
   {
    "duration": 85,
    "start_time": "2023-04-14T21:54:21.494Z"
   },
   {
    "duration": 24,
    "start_time": "2023-04-14T21:54:21.581Z"
   },
   {
    "duration": 17,
    "start_time": "2023-04-14T21:54:21.607Z"
   },
   {
    "duration": 48,
    "start_time": "2023-04-14T21:54:21.626Z"
   },
   {
    "duration": 137,
    "start_time": "2023-04-14T21:54:21.676Z"
   },
   {
    "duration": 41,
    "start_time": "2023-04-14T21:54:21.814Z"
   },
   {
    "duration": 51,
    "start_time": "2023-04-14T21:54:21.858Z"
   },
   {
    "duration": 367,
    "start_time": "2023-04-14T21:54:21.911Z"
   },
   {
    "duration": 150,
    "start_time": "2023-04-14T21:54:22.280Z"
   },
   {
    "duration": 86,
    "start_time": "2023-04-14T21:54:22.431Z"
   },
   {
    "duration": 118,
    "start_time": "2023-04-14T21:54:22.519Z"
   },
   {
    "duration": 101,
    "start_time": "2023-04-14T21:54:22.639Z"
   },
   {
    "duration": 23,
    "start_time": "2023-04-14T21:54:22.742Z"
   },
   {
    "duration": 89,
    "start_time": "2023-04-14T21:54:22.767Z"
   },
   {
    "duration": 3,
    "start_time": "2023-04-14T21:54:22.858Z"
   },
   {
    "duration": 55,
    "start_time": "2023-04-14T21:54:22.864Z"
   },
   {
    "duration": 71,
    "start_time": "2023-04-14T21:54:22.923Z"
   },
   {
    "duration": 63,
    "start_time": "2023-04-14T21:54:22.996Z"
   },
   {
    "duration": 45,
    "start_time": "2023-04-14T21:54:23.061Z"
   },
   {
    "duration": 13,
    "start_time": "2023-04-14T21:54:23.107Z"
   },
   {
    "duration": 105,
    "start_time": "2023-04-14T21:54:23.121Z"
   },
   {
    "duration": 113,
    "start_time": "2023-04-14T21:54:23.228Z"
   },
   {
    "duration": 103,
    "start_time": "2023-04-14T21:54:23.343Z"
   },
   {
    "duration": 9,
    "start_time": "2023-04-14T21:54:23.448Z"
   },
   {
    "duration": 14,
    "start_time": "2023-04-14T21:54:23.458Z"
   },
   {
    "duration": 139,
    "start_time": "2023-04-14T21:54:23.473Z"
   },
   {
    "duration": 35,
    "start_time": "2023-04-14T21:54:23.613Z"
   },
   {
    "duration": 7,
    "start_time": "2023-04-14T21:54:23.650Z"
   },
   {
    "duration": 16,
    "start_time": "2023-04-14T21:54:23.659Z"
   },
   {
    "duration": 92,
    "start_time": "2023-04-14T21:54:23.676Z"
   },
   {
    "duration": 4,
    "start_time": "2023-04-14T21:54:23.770Z"
   },
   {
    "duration": 172,
    "start_time": "2023-04-14T21:54:23.776Z"
   },
   {
    "duration": 197,
    "start_time": "2023-04-14T21:54:23.950Z"
   },
   {
    "duration": 239,
    "start_time": "2023-04-14T21:54:24.149Z"
   },
   {
    "duration": 203,
    "start_time": "2023-04-14T21:54:24.390Z"
   },
   {
    "duration": 805,
    "start_time": "2023-04-14T21:54:24.595Z"
   },
   {
    "duration": 844,
    "start_time": "2023-04-14T21:54:25.401Z"
   },
   {
    "duration": 17,
    "start_time": "2023-04-14T21:54:26.247Z"
   },
   {
    "duration": 102,
    "start_time": "2023-04-14T22:28:27.569Z"
   },
   {
    "duration": 123,
    "start_time": "2023-04-14T22:28:38.442Z"
   },
   {
    "duration": 95,
    "start_time": "2023-04-14T22:28:54.305Z"
   },
   {
    "duration": 93,
    "start_time": "2023-04-14T22:29:27.378Z"
   },
   {
    "duration": 147,
    "start_time": "2023-04-14T22:29:45.401Z"
   },
   {
    "duration": 229,
    "start_time": "2023-04-14T22:30:11.319Z"
   },
   {
    "duration": 89,
    "start_time": "2023-04-14T22:30:15.431Z"
   },
   {
    "duration": 146,
    "start_time": "2023-04-14T22:30:21.497Z"
   },
   {
    "duration": 141,
    "start_time": "2023-04-14T22:30:28.371Z"
   },
   {
    "duration": 83,
    "start_time": "2023-04-14T22:30:37.999Z"
   },
   {
    "duration": 91,
    "start_time": "2023-04-14T22:30:46.222Z"
   },
   {
    "duration": 79,
    "start_time": "2023-04-14T22:32:02.533Z"
   },
   {
    "duration": 93,
    "start_time": "2023-04-14T22:32:08.651Z"
   },
   {
    "duration": 103,
    "start_time": "2023-04-14T22:32:18.088Z"
   },
   {
    "duration": 75,
    "start_time": "2023-04-14T22:33:33.504Z"
   },
   {
    "duration": 83,
    "start_time": "2023-04-14T22:33:48.765Z"
   },
   {
    "duration": 81,
    "start_time": "2023-04-14T22:33:53.630Z"
   },
   {
    "duration": 89,
    "start_time": "2023-04-14T22:34:14.207Z"
   },
   {
    "duration": 87,
    "start_time": "2023-04-14T22:34:19.276Z"
   },
   {
    "duration": 77,
    "start_time": "2023-04-14T22:34:29.086Z"
   },
   {
    "duration": 100,
    "start_time": "2023-04-14T22:34:39.941Z"
   },
   {
    "duration": 112,
    "start_time": "2023-04-14T22:34:44.610Z"
   },
   {
    "duration": 90,
    "start_time": "2023-04-14T22:34:50.741Z"
   },
   {
    "duration": 71,
    "start_time": "2023-04-14T22:34:59.677Z"
   },
   {
    "duration": 114,
    "start_time": "2023-04-14T22:35:25.746Z"
   },
   {
    "duration": 100,
    "start_time": "2023-04-14T22:36:33.708Z"
   },
   {
    "duration": 5,
    "start_time": "2023-04-14T22:36:47.844Z"
   },
   {
    "duration": 94,
    "start_time": "2023-04-14T22:36:52.855Z"
   },
   {
    "duration": 100,
    "start_time": "2023-04-14T22:37:25.287Z"
   },
   {
    "duration": 1432,
    "start_time": "2023-04-14T22:37:35.534Z"
   },
   {
    "duration": 424,
    "start_time": "2023-04-14T22:37:36.967Z"
   },
   {
    "duration": 7,
    "start_time": "2023-04-14T22:37:37.393Z"
   },
   {
    "duration": 20,
    "start_time": "2023-04-14T22:37:37.402Z"
   },
   {
    "duration": 11,
    "start_time": "2023-04-14T22:37:37.425Z"
   },
   {
    "duration": 31,
    "start_time": "2023-04-14T22:37:37.438Z"
   },
   {
    "duration": 10,
    "start_time": "2023-04-14T22:37:37.471Z"
   },
   {
    "duration": 399,
    "start_time": "2023-04-14T22:37:37.483Z"
   },
   {
    "duration": 502,
    "start_time": "2023-04-14T22:37:37.884Z"
   },
   {
    "duration": 117,
    "start_time": "2023-04-14T22:37:38.387Z"
   },
   {
    "duration": 296,
    "start_time": "2023-04-14T22:37:38.505Z"
   },
   {
    "duration": 75,
    "start_time": "2023-04-14T22:37:38.803Z"
   },
   {
    "duration": 26,
    "start_time": "2023-04-14T22:37:38.880Z"
   },
   {
    "duration": 13,
    "start_time": "2023-04-14T22:37:38.909Z"
   },
   {
    "duration": 64,
    "start_time": "2023-04-14T22:37:38.923Z"
   },
   {
    "duration": 151,
    "start_time": "2023-04-14T22:37:38.989Z"
   },
   {
    "duration": 53,
    "start_time": "2023-04-14T22:37:39.141Z"
   },
   {
    "duration": 55,
    "start_time": "2023-04-14T22:37:39.196Z"
   },
   {
    "duration": 392,
    "start_time": "2023-04-14T22:37:39.252Z"
   },
   {
    "duration": 178,
    "start_time": "2023-04-14T22:37:39.646Z"
   },
   {
    "duration": 156,
    "start_time": "2023-04-14T22:37:39.825Z"
   },
   {
    "duration": 119,
    "start_time": "2023-04-14T22:37:39.984Z"
   },
   {
    "duration": 118,
    "start_time": "2023-04-14T22:37:40.105Z"
   },
   {
    "duration": 24,
    "start_time": "2023-04-14T22:37:40.226Z"
   },
   {
    "duration": 101,
    "start_time": "2023-04-14T22:37:40.253Z"
   },
   {
    "duration": 4,
    "start_time": "2023-04-14T22:37:40.355Z"
   },
   {
    "duration": 50,
    "start_time": "2023-04-14T22:37:40.361Z"
   },
   {
    "duration": 98,
    "start_time": "2023-04-14T22:37:40.412Z"
   },
   {
    "duration": 103,
    "start_time": "2023-04-14T22:37:40.512Z"
   },
   {
    "duration": 87,
    "start_time": "2023-04-14T22:37:40.617Z"
   },
   {
    "duration": 13,
    "start_time": "2023-04-14T22:37:40.706Z"
   },
   {
    "duration": 205,
    "start_time": "2023-04-14T22:37:40.720Z"
   },
   {
    "duration": 262,
    "start_time": "2023-04-14T22:37:40.927Z"
   },
   {
    "duration": 197,
    "start_time": "2023-04-14T22:37:41.191Z"
   },
   {
    "duration": 10,
    "start_time": "2023-04-14T22:37:41.390Z"
   },
   {
    "duration": 9,
    "start_time": "2023-04-14T22:37:41.401Z"
   },
   {
    "duration": 291,
    "start_time": "2023-04-14T22:37:41.411Z"
   },
   {
    "duration": 40,
    "start_time": "2023-04-14T22:37:41.703Z"
   },
   {
    "duration": 43,
    "start_time": "2023-04-14T22:37:41.745Z"
   },
   {
    "duration": 9,
    "start_time": "2023-04-14T22:37:41.790Z"
   },
   {
    "duration": 106,
    "start_time": "2023-04-14T22:37:41.802Z"
   },
   {
    "duration": 5,
    "start_time": "2023-04-14T22:37:41.909Z"
   },
   {
    "duration": 276,
    "start_time": "2023-04-14T22:37:41.915Z"
   },
   {
    "duration": 289,
    "start_time": "2023-04-14T22:37:42.193Z"
   },
   {
    "duration": 286,
    "start_time": "2023-04-14T22:37:42.484Z"
   },
   {
    "duration": 245,
    "start_time": "2023-04-14T22:37:42.771Z"
   },
   {
    "duration": 1118,
    "start_time": "2023-04-14T22:37:43.018Z"
   },
   {
    "duration": 947,
    "start_time": "2023-04-14T22:37:44.137Z"
   },
   {
    "duration": 18,
    "start_time": "2023-04-14T22:37:45.085Z"
   },
   {
    "duration": 5,
    "start_time": "2023-04-14T22:38:25.825Z"
   },
   {
    "duration": 82,
    "start_time": "2023-04-14T22:38:32.326Z"
   },
   {
    "duration": 5,
    "start_time": "2023-04-14T22:38:38.167Z"
   },
   {
    "duration": 4,
    "start_time": "2023-04-14T22:39:01.214Z"
   },
   {
    "duration": 82,
    "start_time": "2023-04-14T22:43:49.276Z"
   },
   {
    "duration": 162,
    "start_time": "2023-04-14T22:44:17.251Z"
   },
   {
    "duration": 26,
    "start_time": "2023-04-14T22:44:44.518Z"
   },
   {
    "duration": 59,
    "start_time": "2023-04-14T22:46:46.803Z"
   },
   {
    "duration": 120,
    "start_time": "2023-04-14T22:49:22.610Z"
   },
   {
    "duration": 19,
    "start_time": "2023-04-14T22:50:09.703Z"
   },
   {
    "duration": 82,
    "start_time": "2023-04-14T22:50:27.405Z"
   },
   {
    "duration": 18,
    "start_time": "2023-04-14T22:50:32.442Z"
   },
   {
    "duration": 100,
    "start_time": "2023-04-14T22:51:15.894Z"
   },
   {
    "duration": 89,
    "start_time": "2023-04-14T22:51:22.731Z"
   },
   {
    "duration": 72,
    "start_time": "2023-04-14T22:54:01.748Z"
   },
   {
    "duration": 73,
    "start_time": "2023-04-14T22:54:07.152Z"
   },
   {
    "duration": 74,
    "start_time": "2023-04-14T22:55:51.356Z"
   },
   {
    "duration": 78,
    "start_time": "2023-04-14T22:56:04.958Z"
   },
   {
    "duration": 125,
    "start_time": "2023-04-14T22:56:13.853Z"
   },
   {
    "duration": 68,
    "start_time": "2023-04-14T22:56:19.005Z"
   },
   {
    "duration": 84,
    "start_time": "2023-04-14T22:56:25.317Z"
   },
   {
    "duration": 74,
    "start_time": "2023-04-14T22:56:34.900Z"
   },
   {
    "duration": 78,
    "start_time": "2023-04-14T22:56:43.994Z"
   },
   {
    "duration": 1718,
    "start_time": "2023-04-18T08:31:13.465Z"
   },
   {
    "duration": 391,
    "start_time": "2023-04-18T08:31:15.185Z"
   },
   {
    "duration": 6,
    "start_time": "2023-04-18T08:31:15.578Z"
   },
   {
    "duration": 15,
    "start_time": "2023-04-18T08:31:15.585Z"
   },
   {
    "duration": 9,
    "start_time": "2023-04-18T08:31:15.603Z"
   },
   {
    "duration": 9,
    "start_time": "2023-04-18T08:31:15.613Z"
   },
   {
    "duration": 5,
    "start_time": "2023-04-18T08:31:15.624Z"
   },
   {
    "duration": 408,
    "start_time": "2023-04-18T08:31:15.631Z"
   },
   {
    "duration": 497,
    "start_time": "2023-04-18T08:31:16.040Z"
   },
   {
    "duration": 102,
    "start_time": "2023-04-18T08:31:16.539Z"
   },
   {
    "duration": 348,
    "start_time": "2023-04-18T08:31:16.642Z"
   },
   {
    "duration": 114,
    "start_time": "2023-04-18T08:31:16.992Z"
   },
   {
    "duration": 26,
    "start_time": "2023-04-18T08:31:17.108Z"
   },
   {
    "duration": 30,
    "start_time": "2023-04-18T08:31:17.137Z"
   },
   {
    "duration": 48,
    "start_time": "2023-04-18T08:31:17.169Z"
   },
   {
    "duration": 159,
    "start_time": "2023-04-18T08:31:17.219Z"
   },
   {
    "duration": 53,
    "start_time": "2023-04-18T08:31:17.380Z"
   },
   {
    "duration": 45,
    "start_time": "2023-04-18T08:31:17.435Z"
   },
   {
    "duration": 474,
    "start_time": "2023-04-18T08:31:17.482Z"
   },
   {
    "duration": 160,
    "start_time": "2023-04-18T08:31:17.958Z"
   },
   {
    "duration": 132,
    "start_time": "2023-04-18T08:31:18.119Z"
   },
   {
    "duration": 108,
    "start_time": "2023-04-18T08:31:18.252Z"
   },
   {
    "duration": 95,
    "start_time": "2023-04-18T08:31:18.361Z"
   },
   {
    "duration": 29,
    "start_time": "2023-04-18T08:31:18.457Z"
   },
   {
    "duration": 149,
    "start_time": "2023-04-18T08:31:18.487Z"
   },
   {
    "duration": 0,
    "start_time": "2023-04-18T08:31:18.638Z"
   },
   {
    "duration": 0,
    "start_time": "2023-04-18T08:31:18.639Z"
   },
   {
    "duration": 0,
    "start_time": "2023-04-18T08:31:18.641Z"
   },
   {
    "duration": 0,
    "start_time": "2023-04-18T08:31:18.642Z"
   },
   {
    "duration": 0,
    "start_time": "2023-04-18T08:31:18.643Z"
   },
   {
    "duration": 0,
    "start_time": "2023-04-18T08:31:18.644Z"
   },
   {
    "duration": 0,
    "start_time": "2023-04-18T08:31:18.645Z"
   },
   {
    "duration": 0,
    "start_time": "2023-04-18T08:31:18.646Z"
   },
   {
    "duration": 0,
    "start_time": "2023-04-18T08:31:18.647Z"
   },
   {
    "duration": 0,
    "start_time": "2023-04-18T08:31:18.648Z"
   },
   {
    "duration": 0,
    "start_time": "2023-04-18T08:31:18.649Z"
   },
   {
    "duration": 0,
    "start_time": "2023-04-18T08:31:18.650Z"
   },
   {
    "duration": 0,
    "start_time": "2023-04-18T08:31:18.651Z"
   },
   {
    "duration": 0,
    "start_time": "2023-04-18T08:31:18.652Z"
   },
   {
    "duration": 0,
    "start_time": "2023-04-18T08:31:18.653Z"
   },
   {
    "duration": 0,
    "start_time": "2023-04-18T08:31:18.654Z"
   },
   {
    "duration": 0,
    "start_time": "2023-04-18T08:31:18.654Z"
   },
   {
    "duration": 0,
    "start_time": "2023-04-18T08:31:18.655Z"
   },
   {
    "duration": 0,
    "start_time": "2023-04-18T08:31:18.657Z"
   },
   {
    "duration": 0,
    "start_time": "2023-04-18T08:31:18.658Z"
   },
   {
    "duration": 0,
    "start_time": "2023-04-18T08:31:18.659Z"
   },
   {
    "duration": 0,
    "start_time": "2023-04-18T08:31:18.660Z"
   },
   {
    "duration": 0,
    "start_time": "2023-04-18T08:31:18.661Z"
   },
   {
    "duration": 0,
    "start_time": "2023-04-18T08:31:18.662Z"
   },
   {
    "duration": 187,
    "start_time": "2023-04-18T08:31:55.980Z"
   },
   {
    "duration": 1333,
    "start_time": "2023-04-18T08:32:03.350Z"
   },
   {
    "duration": 276,
    "start_time": "2023-04-18T08:32:04.684Z"
   },
   {
    "duration": 6,
    "start_time": "2023-04-18T08:32:04.962Z"
   },
   {
    "duration": 16,
    "start_time": "2023-04-18T08:32:04.970Z"
   },
   {
    "duration": 7,
    "start_time": "2023-04-18T08:32:04.988Z"
   },
   {
    "duration": 31,
    "start_time": "2023-04-18T08:32:04.997Z"
   },
   {
    "duration": 8,
    "start_time": "2023-04-18T08:32:05.029Z"
   },
   {
    "duration": 652,
    "start_time": "2023-04-18T08:32:05.038Z"
   },
   {
    "duration": 485,
    "start_time": "2023-04-18T08:32:05.692Z"
   },
   {
    "duration": 106,
    "start_time": "2023-04-18T08:32:06.179Z"
   },
   {
    "duration": 341,
    "start_time": "2023-04-18T08:32:06.287Z"
   },
   {
    "duration": 87,
    "start_time": "2023-04-18T08:32:06.630Z"
   },
   {
    "duration": 24,
    "start_time": "2023-04-18T08:32:06.719Z"
   },
   {
    "duration": 10,
    "start_time": "2023-04-18T08:32:06.748Z"
   },
   {
    "duration": 39,
    "start_time": "2023-04-18T08:32:06.760Z"
   },
   {
    "duration": 183,
    "start_time": "2023-04-18T08:32:06.801Z"
   },
   {
    "duration": 58,
    "start_time": "2023-04-18T08:32:06.986Z"
   },
   {
    "duration": 52,
    "start_time": "2023-04-18T08:32:07.046Z"
   },
   {
    "duration": 385,
    "start_time": "2023-04-18T08:32:07.100Z"
   },
   {
    "duration": 185,
    "start_time": "2023-04-18T08:32:07.487Z"
   },
   {
    "duration": 86,
    "start_time": "2023-04-18T08:32:07.673Z"
   },
   {
    "duration": 99,
    "start_time": "2023-04-18T08:32:07.761Z"
   },
   {
    "duration": 91,
    "start_time": "2023-04-18T08:32:07.861Z"
   },
   {
    "duration": 32,
    "start_time": "2023-04-18T08:32:07.954Z"
   },
   {
    "duration": 87,
    "start_time": "2023-04-18T08:32:07.988Z"
   },
   {
    "duration": 0,
    "start_time": "2023-04-18T08:32:08.077Z"
   },
   {
    "duration": 0,
    "start_time": "2023-04-18T08:32:08.078Z"
   },
   {
    "duration": 0,
    "start_time": "2023-04-18T08:32:08.079Z"
   },
   {
    "duration": 0,
    "start_time": "2023-04-18T08:32:08.080Z"
   },
   {
    "duration": 0,
    "start_time": "2023-04-18T08:32:08.080Z"
   },
   {
    "duration": 0,
    "start_time": "2023-04-18T08:32:08.081Z"
   },
   {
    "duration": 0,
    "start_time": "2023-04-18T08:32:08.082Z"
   },
   {
    "duration": 0,
    "start_time": "2023-04-18T08:32:08.082Z"
   },
   {
    "duration": 0,
    "start_time": "2023-04-18T08:32:08.083Z"
   },
   {
    "duration": 0,
    "start_time": "2023-04-18T08:32:08.084Z"
   },
   {
    "duration": 0,
    "start_time": "2023-04-18T08:32:08.084Z"
   },
   {
    "duration": 0,
    "start_time": "2023-04-18T08:32:08.085Z"
   },
   {
    "duration": 0,
    "start_time": "2023-04-18T08:32:08.086Z"
   },
   {
    "duration": 0,
    "start_time": "2023-04-18T08:32:08.087Z"
   },
   {
    "duration": 0,
    "start_time": "2023-04-18T08:32:08.089Z"
   },
   {
    "duration": 0,
    "start_time": "2023-04-18T08:32:08.089Z"
   },
   {
    "duration": 0,
    "start_time": "2023-04-18T08:32:08.090Z"
   },
   {
    "duration": 0,
    "start_time": "2023-04-18T08:32:08.091Z"
   },
   {
    "duration": 0,
    "start_time": "2023-04-18T08:32:08.092Z"
   },
   {
    "duration": 0,
    "start_time": "2023-04-18T08:32:08.093Z"
   },
   {
    "duration": 0,
    "start_time": "2023-04-18T08:32:08.093Z"
   },
   {
    "duration": 0,
    "start_time": "2023-04-18T08:32:08.094Z"
   },
   {
    "duration": 0,
    "start_time": "2023-04-18T08:32:08.095Z"
   },
   {
    "duration": 0,
    "start_time": "2023-04-18T08:32:08.096Z"
   },
   {
    "duration": 0,
    "start_time": "2023-04-18T08:32:08.097Z"
   },
   {
    "duration": 1347,
    "start_time": "2023-04-18T08:32:36.359Z"
   },
   {
    "duration": 338,
    "start_time": "2023-04-18T08:32:37.708Z"
   },
   {
    "duration": 7,
    "start_time": "2023-04-18T08:32:38.048Z"
   },
   {
    "duration": 14,
    "start_time": "2023-04-18T08:32:38.056Z"
   },
   {
    "duration": 15,
    "start_time": "2023-04-18T08:32:38.072Z"
   },
   {
    "duration": 16,
    "start_time": "2023-04-18T08:32:38.089Z"
   },
   {
    "duration": 6,
    "start_time": "2023-04-18T08:32:38.107Z"
   },
   {
    "duration": 405,
    "start_time": "2023-04-18T08:32:38.114Z"
   },
   {
    "duration": 506,
    "start_time": "2023-04-18T08:32:38.521Z"
   },
   {
    "duration": 105,
    "start_time": "2023-04-18T08:32:39.029Z"
   },
   {
    "duration": 327,
    "start_time": "2023-04-18T08:32:39.136Z"
   },
   {
    "duration": 162,
    "start_time": "2023-04-18T08:32:39.464Z"
   },
   {
    "duration": 22,
    "start_time": "2023-04-18T08:32:39.628Z"
   },
   {
    "duration": 10,
    "start_time": "2023-04-18T08:32:39.653Z"
   },
   {
    "duration": 39,
    "start_time": "2023-04-18T08:32:39.664Z"
   },
   {
    "duration": 187,
    "start_time": "2023-04-18T08:32:39.705Z"
   },
   {
    "duration": 40,
    "start_time": "2023-04-18T08:32:39.894Z"
   },
   {
    "duration": 44,
    "start_time": "2023-04-18T08:32:39.935Z"
   },
   {
    "duration": 311,
    "start_time": "2023-04-18T08:32:39.980Z"
   },
   {
    "duration": 183,
    "start_time": "2023-04-18T08:32:40.293Z"
   },
   {
    "duration": 413,
    "start_time": "2023-04-18T08:32:40.478Z"
   },
   {
    "duration": 102,
    "start_time": "2023-04-18T08:32:40.893Z"
   },
   {
    "duration": 107,
    "start_time": "2023-04-18T08:32:40.996Z"
   },
   {
    "duration": 18,
    "start_time": "2023-04-18T08:32:41.105Z"
   },
   {
    "duration": 11,
    "start_time": "2023-04-18T08:32:41.124Z"
   },
   {
    "duration": 3,
    "start_time": "2023-04-18T08:32:41.136Z"
   },
   {
    "duration": 65,
    "start_time": "2023-04-18T08:32:41.141Z"
   },
   {
    "duration": 74,
    "start_time": "2023-04-18T08:32:41.208Z"
   },
   {
    "duration": 58,
    "start_time": "2023-04-18T08:32:41.284Z"
   },
   {
    "duration": 41,
    "start_time": "2023-04-18T08:32:41.343Z"
   },
   {
    "duration": 10,
    "start_time": "2023-04-18T08:32:41.386Z"
   },
   {
    "duration": 102,
    "start_time": "2023-04-18T08:32:41.397Z"
   },
   {
    "duration": 117,
    "start_time": "2023-04-18T08:32:41.500Z"
   },
   {
    "duration": 113,
    "start_time": "2023-04-18T08:32:41.618Z"
   },
   {
    "duration": 9,
    "start_time": "2023-04-18T08:32:41.733Z"
   },
   {
    "duration": 18,
    "start_time": "2023-04-18T08:32:41.744Z"
   },
   {
    "duration": 170,
    "start_time": "2023-04-18T08:32:41.764Z"
   },
   {
    "duration": 42,
    "start_time": "2023-04-18T08:32:41.935Z"
   },
   {
    "duration": 7,
    "start_time": "2023-04-18T08:32:41.979Z"
   },
   {
    "duration": 36,
    "start_time": "2023-04-18T08:32:41.988Z"
   },
   {
    "duration": 17,
    "start_time": "2023-04-18T08:32:42.028Z"
   },
   {
    "duration": 111,
    "start_time": "2023-04-18T08:32:42.046Z"
   },
   {
    "duration": 4,
    "start_time": "2023-04-18T08:32:42.158Z"
   },
   {
    "duration": 221,
    "start_time": "2023-04-18T08:32:42.164Z"
   },
   {
    "duration": 249,
    "start_time": "2023-04-18T08:32:42.387Z"
   },
   {
    "duration": 328,
    "start_time": "2023-04-18T08:32:42.638Z"
   },
   {
    "duration": 268,
    "start_time": "2023-04-18T08:32:42.967Z"
   },
   {
    "duration": 1253,
    "start_time": "2023-04-18T08:32:43.237Z"
   },
   {
    "duration": 966,
    "start_time": "2023-04-18T08:32:44.492Z"
   },
   {
    "duration": 18,
    "start_time": "2023-04-18T08:32:45.460Z"
   },
   {
    "duration": 5,
    "start_time": "2023-04-18T08:33:10.857Z"
   },
   {
    "duration": 7,
    "start_time": "2023-04-18T08:33:41.477Z"
   },
   {
    "duration": 1583,
    "start_time": "2023-04-18T08:34:14.282Z"
   },
   {
    "duration": 5,
    "start_time": "2023-04-18T08:34:28.721Z"
   },
   {
    "duration": 5,
    "start_time": "2023-04-18T08:35:07.121Z"
   },
   {
    "duration": 5,
    "start_time": "2023-04-18T08:35:09.779Z"
   },
   {
    "duration": 5,
    "start_time": "2023-04-18T08:36:09.424Z"
   },
   {
    "duration": 1615,
    "start_time": "2023-04-18T08:36:10.525Z"
   },
   {
    "duration": 2309,
    "start_time": "2023-04-18T08:36:29.820Z"
   },
   {
    "duration": 4,
    "start_time": "2023-04-18T08:36:33.617Z"
   },
   {
    "duration": 1294,
    "start_time": "2023-04-18T08:36:35.878Z"
   },
   {
    "duration": 2085,
    "start_time": "2023-04-18T08:41:25.923Z"
   },
   {
    "duration": 1459,
    "start_time": "2023-04-18T08:41:40.135Z"
   },
   {
    "duration": 482,
    "start_time": "2023-04-18T08:41:41.596Z"
   },
   {
    "duration": 7,
    "start_time": "2023-04-18T08:41:42.079Z"
   },
   {
    "duration": 7,
    "start_time": "2023-04-18T08:41:42.087Z"
   },
   {
    "duration": 7,
    "start_time": "2023-04-18T08:41:42.096Z"
   },
   {
    "duration": 10,
    "start_time": "2023-04-18T08:41:42.105Z"
   },
   {
    "duration": 8,
    "start_time": "2023-04-18T08:41:42.116Z"
   },
   {
    "duration": 760,
    "start_time": "2023-04-18T08:41:42.126Z"
   },
   {
    "duration": 612,
    "start_time": "2023-04-18T08:41:42.888Z"
   },
   {
    "duration": 109,
    "start_time": "2023-04-18T08:41:43.502Z"
   },
   {
    "duration": 327,
    "start_time": "2023-04-18T08:41:43.612Z"
   },
   {
    "duration": 120,
    "start_time": "2023-04-18T08:41:43.940Z"
   },
   {
    "duration": 23,
    "start_time": "2023-04-18T08:41:44.062Z"
   },
   {
    "duration": 16,
    "start_time": "2023-04-18T08:41:44.088Z"
   },
   {
    "duration": 36,
    "start_time": "2023-04-18T08:41:44.105Z"
   },
   {
    "duration": 146,
    "start_time": "2023-04-18T08:41:44.143Z"
   },
   {
    "duration": 49,
    "start_time": "2023-04-18T08:41:44.291Z"
   },
   {
    "duration": 43,
    "start_time": "2023-04-18T08:41:44.342Z"
   },
   {
    "duration": 332,
    "start_time": "2023-04-18T08:41:44.386Z"
   },
   {
    "duration": 160,
    "start_time": "2023-04-18T08:41:44.719Z"
   },
   {
    "duration": 420,
    "start_time": "2023-04-18T08:41:44.881Z"
   },
   {
    "duration": 100,
    "start_time": "2023-04-18T08:41:45.303Z"
   },
   {
    "duration": 95,
    "start_time": "2023-04-18T08:41:45.405Z"
   },
   {
    "duration": 17,
    "start_time": "2023-04-18T08:41:45.502Z"
   },
   {
    "duration": 9,
    "start_time": "2023-04-18T08:41:45.521Z"
   },
   {
    "duration": 5,
    "start_time": "2023-04-18T08:41:45.531Z"
   },
   {
    "duration": 63,
    "start_time": "2023-04-18T08:41:45.537Z"
   },
   {
    "duration": 71,
    "start_time": "2023-04-18T08:41:45.602Z"
   },
   {
    "duration": 60,
    "start_time": "2023-04-18T08:41:45.674Z"
   },
   {
    "duration": 43,
    "start_time": "2023-04-18T08:41:45.735Z"
   },
   {
    "duration": 9,
    "start_time": "2023-04-18T08:41:45.780Z"
   },
   {
    "duration": 98,
    "start_time": "2023-04-18T08:41:45.790Z"
   },
   {
    "duration": 101,
    "start_time": "2023-04-18T08:41:45.889Z"
   },
   {
    "duration": 110,
    "start_time": "2023-04-18T08:41:45.991Z"
   },
   {
    "duration": 10,
    "start_time": "2023-04-18T08:41:46.103Z"
   },
   {
    "duration": 23,
    "start_time": "2023-04-18T08:41:46.115Z"
   },
   {
    "duration": 165,
    "start_time": "2023-04-18T08:41:46.139Z"
   },
   {
    "duration": 45,
    "start_time": "2023-04-18T08:41:46.305Z"
   },
   {
    "duration": 7,
    "start_time": "2023-04-18T08:41:46.351Z"
   },
   {
    "duration": 11,
    "start_time": "2023-04-18T08:41:46.359Z"
   },
   {
    "duration": 17,
    "start_time": "2023-04-18T08:41:46.373Z"
   },
   {
    "duration": 1716,
    "start_time": "2023-04-18T08:41:46.392Z"
   },
   {
    "duration": 0,
    "start_time": "2023-04-18T08:41:48.109Z"
   },
   {
    "duration": 0,
    "start_time": "2023-04-18T08:41:48.111Z"
   },
   {
    "duration": 0,
    "start_time": "2023-04-18T08:41:48.112Z"
   },
   {
    "duration": 0,
    "start_time": "2023-04-18T08:41:48.113Z"
   },
   {
    "duration": 0,
    "start_time": "2023-04-18T08:41:48.114Z"
   },
   {
    "duration": 0,
    "start_time": "2023-04-18T08:41:48.115Z"
   },
   {
    "duration": 0,
    "start_time": "2023-04-18T08:41:48.116Z"
   },
   {
    "duration": 0,
    "start_time": "2023-04-18T08:41:48.117Z"
   },
   {
    "duration": 0,
    "start_time": "2023-04-18T08:41:48.118Z"
   },
   {
    "duration": 3328,
    "start_time": "2023-04-18T08:42:48.290Z"
   },
   {
    "duration": 2133,
    "start_time": "2023-04-18T08:43:07.115Z"
   },
   {
    "duration": 6,
    "start_time": "2023-04-18T08:43:50.912Z"
   },
   {
    "duration": 5,
    "start_time": "2023-04-18T08:59:33.525Z"
   },
   {
    "duration": 5,
    "start_time": "2023-04-18T08:59:40.846Z"
   },
   {
    "duration": 4,
    "start_time": "2023-04-18T08:59:45.218Z"
   },
   {
    "duration": 4,
    "start_time": "2023-04-18T09:00:05.629Z"
   },
   {
    "duration": 13,
    "start_time": "2023-04-18T09:00:30.039Z"
   },
   {
    "duration": 12,
    "start_time": "2023-04-18T09:00:37.979Z"
   },
   {
    "duration": 13,
    "start_time": "2023-04-18T09:01:15.622Z"
   },
   {
    "duration": 12,
    "start_time": "2023-04-18T09:01:24.242Z"
   },
   {
    "duration": 14,
    "start_time": "2023-04-18T09:01:31.791Z"
   },
   {
    "duration": 360,
    "start_time": "2023-04-18T09:03:06.629Z"
   },
   {
    "duration": 3,
    "start_time": "2023-04-18T09:03:29.122Z"
   },
   {
    "duration": 8,
    "start_time": "2023-04-18T09:03:37.090Z"
   },
   {
    "duration": 10,
    "start_time": "2023-04-18T09:04:13.226Z"
   },
   {
    "duration": 590,
    "start_time": "2023-04-18T09:04:24.279Z"
   },
   {
    "duration": 5,
    "start_time": "2023-04-18T09:07:04.683Z"
   },
   {
    "duration": 1665,
    "start_time": "2023-04-18T09:07:05.922Z"
   },
   {
    "duration": 5,
    "start_time": "2023-04-18T09:07:19.482Z"
   },
   {
    "duration": 58,
    "start_time": "2023-04-18T12:00:50.917Z"
   },
   {
    "duration": 2376,
    "start_time": "2023-04-18T12:00:58.150Z"
   },
   {
    "duration": 562,
    "start_time": "2023-04-18T12:01:00.529Z"
   },
   {
    "duration": 8,
    "start_time": "2023-04-18T12:01:01.093Z"
   },
   {
    "duration": 82,
    "start_time": "2023-04-18T12:01:01.103Z"
   },
   {
    "duration": 49,
    "start_time": "2023-04-18T12:01:01.188Z"
   },
   {
    "duration": 110,
    "start_time": "2023-04-18T12:01:01.244Z"
   },
   {
    "duration": 63,
    "start_time": "2023-04-18T12:01:01.357Z"
   },
   {
    "duration": 1368,
    "start_time": "2023-04-18T12:01:01.422Z"
   },
   {
    "duration": 782,
    "start_time": "2023-04-18T12:01:02.792Z"
   },
   {
    "duration": 141,
    "start_time": "2023-04-18T12:01:03.576Z"
   },
   {
    "duration": 380,
    "start_time": "2023-04-18T12:01:03.719Z"
   },
   {
    "duration": 149,
    "start_time": "2023-04-18T12:01:04.101Z"
   },
   {
    "duration": 31,
    "start_time": "2023-04-18T12:01:04.252Z"
   },
   {
    "duration": 13,
    "start_time": "2023-04-18T12:01:04.373Z"
   },
   {
    "duration": 73,
    "start_time": "2023-04-18T12:01:04.388Z"
   },
   {
    "duration": 188,
    "start_time": "2023-04-18T12:01:04.463Z"
   },
   {
    "duration": 88,
    "start_time": "2023-04-18T12:01:04.653Z"
   },
   {
    "duration": 56,
    "start_time": "2023-04-18T12:01:04.743Z"
   },
   {
    "duration": 444,
    "start_time": "2023-04-18T12:01:04.802Z"
   },
   {
    "duration": 231,
    "start_time": "2023-04-18T12:01:05.253Z"
   },
   {
    "duration": 190,
    "start_time": "2023-04-18T12:01:05.486Z"
   },
   {
    "duration": 143,
    "start_time": "2023-04-18T12:01:05.678Z"
   },
   {
    "duration": 128,
    "start_time": "2023-04-18T12:01:05.823Z"
   },
   {
    "duration": 34,
    "start_time": "2023-04-18T12:01:05.953Z"
   },
   {
    "duration": 13,
    "start_time": "2023-04-18T12:01:05.989Z"
   },
   {
    "duration": 4,
    "start_time": "2023-04-18T12:01:06.004Z"
   },
   {
    "duration": 87,
    "start_time": "2023-04-18T12:01:06.011Z"
   },
   {
    "duration": 147,
    "start_time": "2023-04-18T12:01:06.100Z"
   },
   {
    "duration": 70,
    "start_time": "2023-04-18T12:01:06.249Z"
   },
   {
    "duration": 1574,
    "start_time": "2023-04-18T12:01:06.321Z"
   },
   {
    "duration": 0,
    "start_time": "2023-04-18T12:01:07.898Z"
   },
   {
    "duration": 0,
    "start_time": "2023-04-18T12:01:07.899Z"
   },
   {
    "duration": 0,
    "start_time": "2023-04-18T12:01:07.901Z"
   },
   {
    "duration": 0,
    "start_time": "2023-04-18T12:01:07.901Z"
   },
   {
    "duration": 0,
    "start_time": "2023-04-18T12:01:07.903Z"
   },
   {
    "duration": 0,
    "start_time": "2023-04-18T12:01:07.903Z"
   },
   {
    "duration": 0,
    "start_time": "2023-04-18T12:01:07.905Z"
   },
   {
    "duration": 0,
    "start_time": "2023-04-18T12:01:07.906Z"
   },
   {
    "duration": 0,
    "start_time": "2023-04-18T12:01:07.907Z"
   },
   {
    "duration": 0,
    "start_time": "2023-04-18T12:01:07.908Z"
   },
   {
    "duration": 0,
    "start_time": "2023-04-18T12:01:07.910Z"
   },
   {
    "duration": 0,
    "start_time": "2023-04-18T12:01:07.911Z"
   },
   {
    "duration": 0,
    "start_time": "2023-04-18T12:01:07.913Z"
   },
   {
    "duration": 0,
    "start_time": "2023-04-18T12:01:07.913Z"
   },
   {
    "duration": 1,
    "start_time": "2023-04-18T12:01:07.914Z"
   },
   {
    "duration": 0,
    "start_time": "2023-04-18T12:01:07.915Z"
   },
   {
    "duration": 0,
    "start_time": "2023-04-18T12:01:07.917Z"
   },
   {
    "duration": 0,
    "start_time": "2023-04-18T12:01:07.918Z"
   },
   {
    "duration": 0,
    "start_time": "2023-04-18T12:01:07.919Z"
   },
   {
    "duration": 0,
    "start_time": "2023-04-18T12:01:07.920Z"
   },
   {
    "duration": 0,
    "start_time": "2023-04-18T12:01:07.921Z"
   },
   {
    "duration": 0,
    "start_time": "2023-04-18T12:01:07.922Z"
   },
   {
    "duration": 0,
    "start_time": "2023-04-18T12:01:07.923Z"
   },
   {
    "duration": 0,
    "start_time": "2023-04-18T12:01:07.925Z"
   },
   {
    "duration": 8,
    "start_time": "2023-04-18T12:01:28.750Z"
   },
   {
    "duration": 1604,
    "start_time": "2023-04-18T12:06:37.877Z"
   },
   {
    "duration": 555,
    "start_time": "2023-04-18T12:06:39.484Z"
   },
   {
    "duration": 11,
    "start_time": "2023-04-18T12:06:40.045Z"
   },
   {
    "duration": 25,
    "start_time": "2023-04-18T12:06:40.059Z"
   },
   {
    "duration": 8,
    "start_time": "2023-04-18T12:06:40.086Z"
   },
   {
    "duration": 14,
    "start_time": "2023-04-18T12:06:40.096Z"
   },
   {
    "duration": 11,
    "start_time": "2023-04-18T12:06:40.112Z"
   },
   {
    "duration": 879,
    "start_time": "2023-04-18T12:06:40.124Z"
   },
   {
    "duration": 620,
    "start_time": "2023-04-18T12:06:41.005Z"
   },
   {
    "duration": 137,
    "start_time": "2023-04-18T12:06:41.628Z"
   },
   {
    "duration": 353,
    "start_time": "2023-04-18T12:06:41.767Z"
   },
   {
    "duration": 198,
    "start_time": "2023-04-18T12:06:42.122Z"
   },
   {
    "duration": 36,
    "start_time": "2023-04-18T12:06:42.322Z"
   },
   {
    "duration": 22,
    "start_time": "2023-04-18T12:06:42.360Z"
   },
   {
    "duration": 63,
    "start_time": "2023-04-18T12:06:42.384Z"
   },
   {
    "duration": 335,
    "start_time": "2023-04-18T12:06:42.450Z"
   },
   {
    "duration": 64,
    "start_time": "2023-04-18T12:06:42.787Z"
   },
   {
    "duration": 76,
    "start_time": "2023-04-18T12:06:42.853Z"
   },
   {
    "duration": 485,
    "start_time": "2023-04-18T12:06:42.931Z"
   },
   {
    "duration": 179,
    "start_time": "2023-04-18T12:06:43.418Z"
   },
   {
    "duration": 572,
    "start_time": "2023-04-18T12:06:43.599Z"
   },
   {
    "duration": 124,
    "start_time": "2023-04-18T12:06:44.174Z"
   },
   {
    "duration": 125,
    "start_time": "2023-04-18T12:06:44.300Z"
   },
   {
    "duration": 32,
    "start_time": "2023-04-18T12:06:44.426Z"
   },
   {
    "duration": 48,
    "start_time": "2023-04-18T12:06:44.460Z"
   },
   {
    "duration": 17,
    "start_time": "2023-04-18T12:06:44.509Z"
   },
   {
    "duration": 65,
    "start_time": "2023-04-18T12:06:44.528Z"
   },
   {
    "duration": 79,
    "start_time": "2023-04-18T12:06:44.597Z"
   },
   {
    "duration": 88,
    "start_time": "2023-04-18T12:06:44.678Z"
   },
   {
    "duration": 190,
    "start_time": "2023-04-18T12:06:44.768Z"
   },
   {
    "duration": 0,
    "start_time": "2023-04-18T12:06:44.960Z"
   },
   {
    "duration": 0,
    "start_time": "2023-04-18T12:06:44.961Z"
   },
   {
    "duration": 0,
    "start_time": "2023-04-18T12:06:44.963Z"
   },
   {
    "duration": 0,
    "start_time": "2023-04-18T12:06:44.964Z"
   },
   {
    "duration": 0,
    "start_time": "2023-04-18T12:06:44.966Z"
   },
   {
    "duration": 0,
    "start_time": "2023-04-18T12:06:44.967Z"
   },
   {
    "duration": 0,
    "start_time": "2023-04-18T12:06:44.969Z"
   },
   {
    "duration": 0,
    "start_time": "2023-04-18T12:06:44.970Z"
   },
   {
    "duration": 0,
    "start_time": "2023-04-18T12:06:44.971Z"
   },
   {
    "duration": 0,
    "start_time": "2023-04-18T12:06:44.972Z"
   },
   {
    "duration": 0,
    "start_time": "2023-04-18T12:06:44.974Z"
   },
   {
    "duration": 0,
    "start_time": "2023-04-18T12:06:44.975Z"
   },
   {
    "duration": 0,
    "start_time": "2023-04-18T12:06:44.976Z"
   },
   {
    "duration": 0,
    "start_time": "2023-04-18T12:06:44.978Z"
   },
   {
    "duration": 0,
    "start_time": "2023-04-18T12:06:44.980Z"
   },
   {
    "duration": 0,
    "start_time": "2023-04-18T12:06:44.982Z"
   },
   {
    "duration": 0,
    "start_time": "2023-04-18T12:06:44.983Z"
   },
   {
    "duration": 0,
    "start_time": "2023-04-18T12:06:44.985Z"
   },
   {
    "duration": 0,
    "start_time": "2023-04-18T12:06:44.986Z"
   },
   {
    "duration": 0,
    "start_time": "2023-04-18T12:06:45.033Z"
   },
   {
    "duration": 0,
    "start_time": "2023-04-18T12:06:45.034Z"
   },
   {
    "duration": 0,
    "start_time": "2023-04-18T12:06:45.035Z"
   },
   {
    "duration": 0,
    "start_time": "2023-04-18T12:06:45.036Z"
   },
   {
    "duration": 28,
    "start_time": "2023-04-18T12:17:05.570Z"
   },
   {
    "duration": 79,
    "start_time": "2023-04-18T12:17:14.745Z"
   },
   {
    "duration": 5,
    "start_time": "2023-04-18T12:17:50.024Z"
   },
   {
    "duration": 22,
    "start_time": "2023-04-18T12:17:58.930Z"
   },
   {
    "duration": 13,
    "start_time": "2023-04-18T12:18:06.123Z"
   },
   {
    "duration": 127,
    "start_time": "2023-04-18T12:18:12.979Z"
   },
   {
    "duration": 90,
    "start_time": "2023-04-18T12:18:44.510Z"
   },
   {
    "duration": 99,
    "start_time": "2023-04-18T12:19:22.826Z"
   },
   {
    "duration": 84,
    "start_time": "2023-04-18T12:20:40.126Z"
   },
   {
    "duration": 12,
    "start_time": "2023-04-18T12:22:03.323Z"
   },
   {
    "duration": 12,
    "start_time": "2023-04-18T12:22:20.815Z"
   },
   {
    "duration": 64,
    "start_time": "2023-04-18T17:47:06.922Z"
   },
   {
    "duration": 2329,
    "start_time": "2023-04-19T08:30:22.617Z"
   },
   {
    "duration": 520,
    "start_time": "2023-04-19T08:30:24.949Z"
   },
   {
    "duration": 13,
    "start_time": "2023-04-19T08:30:25.471Z"
   },
   {
    "duration": 26,
    "start_time": "2023-04-19T08:30:25.486Z"
   },
   {
    "duration": 28,
    "start_time": "2023-04-19T08:30:25.515Z"
   },
   {
    "duration": 24,
    "start_time": "2023-04-19T08:30:25.545Z"
   },
   {
    "duration": 22,
    "start_time": "2023-04-19T08:30:25.571Z"
   },
   {
    "duration": 454,
    "start_time": "2023-04-19T08:30:25.594Z"
   },
   {
    "duration": 535,
    "start_time": "2023-04-19T08:30:26.050Z"
   },
   {
    "duration": 113,
    "start_time": "2023-04-19T08:30:26.587Z"
   },
   {
    "duration": 305,
    "start_time": "2023-04-19T08:30:26.702Z"
   },
   {
    "duration": 156,
    "start_time": "2023-04-19T08:30:27.009Z"
   },
   {
    "duration": 26,
    "start_time": "2023-04-19T08:30:27.167Z"
   },
   {
    "duration": 31,
    "start_time": "2023-04-19T08:30:27.196Z"
   },
   {
    "duration": 75,
    "start_time": "2023-04-19T08:30:27.229Z"
   },
   {
    "duration": 133,
    "start_time": "2023-04-19T08:30:27.305Z"
   },
   {
    "duration": 47,
    "start_time": "2023-04-19T08:30:27.440Z"
   },
   {
    "duration": 55,
    "start_time": "2023-04-19T08:30:27.489Z"
   },
   {
    "duration": 413,
    "start_time": "2023-04-19T08:30:27.546Z"
   },
   {
    "duration": 183,
    "start_time": "2023-04-19T08:30:27.961Z"
   },
   {
    "duration": 106,
    "start_time": "2023-04-19T08:30:28.146Z"
   },
   {
    "duration": 113,
    "start_time": "2023-04-19T08:30:28.253Z"
   },
   {
    "duration": 100,
    "start_time": "2023-04-19T08:30:28.367Z"
   },
   {
    "duration": 33,
    "start_time": "2023-04-19T08:30:28.468Z"
   },
   {
    "duration": 205,
    "start_time": "2023-04-19T08:30:28.503Z"
   },
   {
    "duration": 3,
    "start_time": "2023-04-19T08:30:28.710Z"
   },
   {
    "duration": 48,
    "start_time": "2023-04-19T08:30:28.715Z"
   },
   {
    "duration": 69,
    "start_time": "2023-04-19T08:30:28.765Z"
   },
   {
    "duration": 58,
    "start_time": "2023-04-19T08:30:28.835Z"
   },
   {
    "duration": 29,
    "start_time": "2023-04-19T08:30:28.895Z"
   },
   {
    "duration": 31,
    "start_time": "2023-04-19T08:30:28.926Z"
   },
   {
    "duration": 60,
    "start_time": "2023-04-19T08:30:28.959Z"
   },
   {
    "duration": 101,
    "start_time": "2023-04-19T08:30:29.021Z"
   },
   {
    "duration": 84,
    "start_time": "2023-04-19T08:30:29.123Z"
   },
   {
    "duration": 13,
    "start_time": "2023-04-19T08:30:29.209Z"
   },
   {
    "duration": 172,
    "start_time": "2023-04-19T08:30:29.223Z"
   },
   {
    "duration": 213,
    "start_time": "2023-04-19T08:30:29.396Z"
   },
   {
    "duration": 207,
    "start_time": "2023-04-19T08:30:29.611Z"
   },
   {
    "duration": 6,
    "start_time": "2023-04-19T08:30:29.820Z"
   },
   {
    "duration": 88,
    "start_time": "2023-04-19T08:30:29.828Z"
   },
   {
    "duration": 14,
    "start_time": "2023-04-19T08:30:29.922Z"
   },
   {
    "duration": 46,
    "start_time": "2023-04-19T08:30:29.939Z"
   },
   {
    "duration": 309,
    "start_time": "2023-04-19T08:30:29.987Z"
   },
   {
    "duration": 125,
    "start_time": "2023-04-19T08:30:30.297Z"
   },
   {
    "duration": 47,
    "start_time": "2023-04-19T08:30:30.423Z"
   },
   {
    "duration": 27,
    "start_time": "2023-04-19T08:30:30.484Z"
   },
   {
    "duration": 74,
    "start_time": "2023-04-19T08:30:30.513Z"
   },
   {
    "duration": 54,
    "start_time": "2023-04-19T08:30:30.589Z"
   },
   {
    "duration": 160,
    "start_time": "2023-04-19T08:30:30.645Z"
   },
   {
    "duration": 5,
    "start_time": "2023-04-19T08:30:30.807Z"
   },
   {
    "duration": 281,
    "start_time": "2023-04-19T08:30:30.814Z"
   },
   {
    "duration": 245,
    "start_time": "2023-04-19T08:30:31.096Z"
   },
   {
    "duration": 247,
    "start_time": "2023-04-19T08:30:31.343Z"
   },
   {
    "duration": 282,
    "start_time": "2023-04-19T08:30:31.592Z"
   },
   {
    "duration": 2490,
    "start_time": "2023-04-19T08:30:31.876Z"
   },
   {
    "duration": 1454,
    "start_time": "2023-04-19T08:30:34.367Z"
   },
   {
    "duration": 84,
    "start_time": "2023-04-19T08:30:35.823Z"
   },
   {
    "duration": 107,
    "start_time": "2023-04-19T08:31:16.882Z"
   },
   {
    "duration": 1603,
    "start_time": "2023-04-19T08:32:19.931Z"
   },
   {
    "duration": 475,
    "start_time": "2023-04-19T08:32:21.537Z"
   },
   {
    "duration": 7,
    "start_time": "2023-04-19T08:32:22.014Z"
   },
   {
    "duration": 100,
    "start_time": "2023-04-19T08:32:22.023Z"
   },
   {
    "duration": 33,
    "start_time": "2023-04-19T08:32:22.125Z"
   },
   {
    "duration": 67,
    "start_time": "2023-04-19T08:32:22.160Z"
   },
   {
    "duration": 50,
    "start_time": "2023-04-19T08:32:22.228Z"
   },
   {
    "duration": 688,
    "start_time": "2023-04-19T08:32:22.281Z"
   },
   {
    "duration": 507,
    "start_time": "2023-04-19T08:32:22.971Z"
   },
   {
    "duration": 121,
    "start_time": "2023-04-19T08:32:23.484Z"
   },
   {
    "duration": 515,
    "start_time": "2023-04-19T08:32:23.606Z"
   },
   {
    "duration": 162,
    "start_time": "2023-04-19T08:32:24.122Z"
   },
   {
    "duration": 27,
    "start_time": "2023-04-19T08:32:24.287Z"
   },
   {
    "duration": 214,
    "start_time": "2023-04-19T08:32:24.318Z"
   },
   {
    "duration": 185,
    "start_time": "2023-04-19T08:32:24.535Z"
   },
   {
    "duration": 517,
    "start_time": "2023-04-19T08:32:24.723Z"
   },
   {
    "duration": 258,
    "start_time": "2023-04-19T08:32:25.242Z"
   },
   {
    "duration": 57,
    "start_time": "2023-04-19T08:32:25.502Z"
   },
   {
    "duration": 385,
    "start_time": "2023-04-19T08:32:25.560Z"
   },
   {
    "duration": 166,
    "start_time": "2023-04-19T08:32:25.948Z"
   },
   {
    "duration": 367,
    "start_time": "2023-04-19T08:32:26.116Z"
   },
   {
    "duration": 121,
    "start_time": "2023-04-19T08:32:26.485Z"
   },
   {
    "duration": 115,
    "start_time": "2023-04-19T08:32:26.608Z"
   },
   {
    "duration": 22,
    "start_time": "2023-04-19T08:32:26.725Z"
   },
   {
    "duration": 1156,
    "start_time": "2023-04-19T08:32:26.749Z"
   },
   {
    "duration": 4,
    "start_time": "2023-04-19T08:32:27.906Z"
   },
   {
    "duration": 65,
    "start_time": "2023-04-19T08:32:27.912Z"
   },
   {
    "duration": 74,
    "start_time": "2023-04-19T08:32:27.979Z"
   },
   {
    "duration": 80,
    "start_time": "2023-04-19T08:32:28.055Z"
   },
   {
    "duration": 28,
    "start_time": "2023-04-19T08:32:28.136Z"
   },
   {
    "duration": 27,
    "start_time": "2023-04-19T08:32:28.166Z"
   },
   {
    "duration": 111,
    "start_time": "2023-04-19T08:32:28.195Z"
   },
   {
    "duration": 131,
    "start_time": "2023-04-19T08:32:28.308Z"
   },
   {
    "duration": 118,
    "start_time": "2023-04-19T08:32:28.441Z"
   },
   {
    "duration": 5,
    "start_time": "2023-04-19T08:32:28.561Z"
   },
   {
    "duration": 28,
    "start_time": "2023-04-19T08:32:28.568Z"
   },
   {
    "duration": 17,
    "start_time": "2023-04-19T08:32:28.597Z"
   },
   {
    "duration": 20,
    "start_time": "2023-04-19T08:32:28.616Z"
   },
   {
    "duration": 154,
    "start_time": "2023-04-19T08:32:28.637Z"
   },
   {
    "duration": 122,
    "start_time": "2023-04-19T08:32:28.793Z"
   },
   {
    "duration": 8,
    "start_time": "2023-04-19T08:32:28.919Z"
   },
   {
    "duration": 25,
    "start_time": "2023-04-19T08:32:28.929Z"
   },
   {
    "duration": 22,
    "start_time": "2023-04-19T08:32:28.956Z"
   },
   {
    "duration": 32,
    "start_time": "2023-04-19T08:32:28.980Z"
   },
   {
    "duration": 161,
    "start_time": "2023-04-19T08:32:29.014Z"
   },
   {
    "duration": 5,
    "start_time": "2023-04-19T08:32:29.177Z"
   },
   {
    "duration": 204,
    "start_time": "2023-04-19T08:32:29.184Z"
   },
   {
    "duration": 271,
    "start_time": "2023-04-19T08:32:29.389Z"
   },
   {
    "duration": 347,
    "start_time": "2023-04-19T08:32:29.662Z"
   },
   {
    "duration": 611,
    "start_time": "2023-04-19T08:32:30.010Z"
   },
   {
    "duration": 2508,
    "start_time": "2023-04-19T08:32:30.622Z"
   },
   {
    "duration": 1739,
    "start_time": "2023-04-19T08:32:33.132Z"
   },
   {
    "duration": 26,
    "start_time": "2023-04-19T08:32:34.873Z"
   },
   {
    "duration": 6,
    "start_time": "2023-04-19T08:33:22.522Z"
   },
   {
    "duration": 4,
    "start_time": "2023-04-19T08:33:28.486Z"
   },
   {
    "duration": 1604,
    "start_time": "2023-04-19T08:35:21.589Z"
   },
   {
    "duration": 587,
    "start_time": "2023-04-19T08:35:23.196Z"
   },
   {
    "duration": 7,
    "start_time": "2023-04-19T08:35:23.785Z"
   },
   {
    "duration": 24,
    "start_time": "2023-04-19T08:35:23.793Z"
   },
   {
    "duration": 7,
    "start_time": "2023-04-19T08:35:23.819Z"
   },
   {
    "duration": 15,
    "start_time": "2023-04-19T08:35:23.828Z"
   },
   {
    "duration": 26,
    "start_time": "2023-04-19T08:35:23.844Z"
   },
   {
    "duration": 861,
    "start_time": "2023-04-19T08:35:23.872Z"
   },
   {
    "duration": 602,
    "start_time": "2023-04-19T08:35:24.734Z"
   },
   {
    "duration": 116,
    "start_time": "2023-04-19T08:35:25.337Z"
   },
   {
    "duration": 360,
    "start_time": "2023-04-19T08:35:25.455Z"
   },
   {
    "duration": 528,
    "start_time": "2023-04-19T08:35:25.816Z"
   },
   {
    "duration": 26,
    "start_time": "2023-04-19T08:35:26.345Z"
   },
   {
    "duration": 44,
    "start_time": "2023-04-19T08:35:26.374Z"
   },
   {
    "duration": 54,
    "start_time": "2023-04-19T08:35:26.419Z"
   },
   {
    "duration": 962,
    "start_time": "2023-04-19T08:35:26.475Z"
   },
   {
    "duration": 129,
    "start_time": "2023-04-19T08:35:27.439Z"
   },
   {
    "duration": 50,
    "start_time": "2023-04-19T08:35:27.570Z"
   },
   {
    "duration": 346,
    "start_time": "2023-04-19T08:35:27.621Z"
   },
   {
    "duration": 156,
    "start_time": "2023-04-19T08:35:27.969Z"
   },
   {
    "duration": 210,
    "start_time": "2023-04-19T08:35:28.126Z"
   },
   {
    "duration": 101,
    "start_time": "2023-04-19T08:35:28.338Z"
   },
   {
    "duration": 98,
    "start_time": "2023-04-19T08:35:28.441Z"
   },
   {
    "duration": 21,
    "start_time": "2023-04-19T08:35:28.541Z"
   },
   {
    "duration": 233,
    "start_time": "2023-04-19T08:35:28.564Z"
   },
   {
    "duration": 4,
    "start_time": "2023-04-19T08:35:28.798Z"
   },
   {
    "duration": 72,
    "start_time": "2023-04-19T08:35:28.805Z"
   },
   {
    "duration": 65,
    "start_time": "2023-04-19T08:35:28.879Z"
   },
   {
    "duration": 71,
    "start_time": "2023-04-19T08:35:28.946Z"
   },
   {
    "duration": 41,
    "start_time": "2023-04-19T08:35:29.018Z"
   },
   {
    "duration": 37,
    "start_time": "2023-04-19T08:35:29.061Z"
   },
   {
    "duration": 102,
    "start_time": "2023-04-19T08:35:29.103Z"
   },
   {
    "duration": 119,
    "start_time": "2023-04-19T08:35:29.207Z"
   },
   {
    "duration": 105,
    "start_time": "2023-04-19T08:35:29.329Z"
   },
   {
    "duration": 6,
    "start_time": "2023-04-19T08:35:29.435Z"
   },
   {
    "duration": 47,
    "start_time": "2023-04-19T08:35:29.443Z"
   },
   {
    "duration": 141,
    "start_time": "2023-04-19T08:35:29.492Z"
   },
   {
    "duration": 416,
    "start_time": "2023-04-19T08:35:29.635Z"
   },
   {
    "duration": 11,
    "start_time": "2023-04-19T08:35:30.053Z"
   },
   {
    "duration": 32,
    "start_time": "2023-04-19T08:35:30.067Z"
   },
   {
    "duration": 332,
    "start_time": "2023-04-19T08:35:30.103Z"
   },
   {
    "duration": 5,
    "start_time": "2023-04-19T08:35:30.438Z"
   },
   {
    "duration": 500,
    "start_time": "2023-04-19T08:35:30.445Z"
   },
   {
    "duration": 1171,
    "start_time": "2023-04-19T08:35:30.947Z"
   },
   {
    "duration": 584,
    "start_time": "2023-04-19T08:35:32.120Z"
   },
   {
    "duration": 790,
    "start_time": "2023-04-19T08:35:32.705Z"
   },
   {
    "duration": 2276,
    "start_time": "2023-04-19T08:35:33.497Z"
   },
   {
    "duration": 1822,
    "start_time": "2023-04-19T08:35:35.775Z"
   },
   {
    "duration": 24,
    "start_time": "2023-04-19T08:35:37.599Z"
   },
   {
    "duration": 1430,
    "start_time": "2023-04-24T09:18:24.088Z"
   },
   {
    "duration": 559,
    "start_time": "2023-04-24T09:18:25.520Z"
   },
   {
    "duration": 6,
    "start_time": "2023-04-24T09:18:26.081Z"
   },
   {
    "duration": 10,
    "start_time": "2023-04-24T09:18:26.089Z"
   },
   {
    "duration": 8,
    "start_time": "2023-04-24T09:18:26.100Z"
   },
   {
    "duration": 11,
    "start_time": "2023-04-24T09:18:26.110Z"
   },
   {
    "duration": 6,
    "start_time": "2023-04-24T09:18:26.122Z"
   },
   {
    "duration": 324,
    "start_time": "2023-04-24T09:18:26.129Z"
   },
   {
    "duration": 478,
    "start_time": "2023-04-24T09:18:26.459Z"
   },
   {
    "duration": 131,
    "start_time": "2023-04-24T09:18:26.939Z"
   },
   {
    "duration": 314,
    "start_time": "2023-04-24T09:18:27.072Z"
   },
   {
    "duration": 80,
    "start_time": "2023-04-24T09:18:27.388Z"
   },
   {
    "duration": 27,
    "start_time": "2023-04-24T09:18:27.470Z"
   },
   {
    "duration": 43,
    "start_time": "2023-04-24T09:18:27.499Z"
   },
   {
    "duration": 53,
    "start_time": "2023-04-24T09:18:27.544Z"
   },
   {
    "duration": 119,
    "start_time": "2023-04-24T09:18:27.599Z"
   },
   {
    "duration": 45,
    "start_time": "2023-04-24T09:18:27.719Z"
   },
   {
    "duration": 56,
    "start_time": "2023-04-24T09:18:27.765Z"
   },
   {
    "duration": 363,
    "start_time": "2023-04-24T09:18:27.823Z"
   },
   {
    "duration": 201,
    "start_time": "2023-04-24T09:18:28.187Z"
   },
   {
    "duration": 63,
    "start_time": "2023-04-24T09:18:28.389Z"
   },
   {
    "duration": 132,
    "start_time": "2023-04-24T09:18:28.454Z"
   },
   {
    "duration": 116,
    "start_time": "2023-04-24T09:18:28.588Z"
   },
   {
    "duration": 21,
    "start_time": "2023-04-24T09:18:28.706Z"
   },
   {
    "duration": 88,
    "start_time": "2023-04-24T09:18:28.728Z"
   },
   {
    "duration": 5,
    "start_time": "2023-04-24T09:18:28.817Z"
   },
   {
    "duration": 74,
    "start_time": "2023-04-24T09:18:28.824Z"
   },
   {
    "duration": 75,
    "start_time": "2023-04-24T09:18:28.901Z"
   },
   {
    "duration": 57,
    "start_time": "2023-04-24T09:18:28.978Z"
   },
   {
    "duration": 47,
    "start_time": "2023-04-24T09:18:29.037Z"
   },
   {
    "duration": 12,
    "start_time": "2023-04-24T09:18:29.086Z"
   },
   {
    "duration": 113,
    "start_time": "2023-04-24T09:18:29.099Z"
   },
   {
    "duration": 109,
    "start_time": "2023-04-24T09:18:29.214Z"
   },
   {
    "duration": 122,
    "start_time": "2023-04-24T09:18:29.325Z"
   },
   {
    "duration": 9,
    "start_time": "2023-04-24T09:18:29.449Z"
   },
   {
    "duration": 10,
    "start_time": "2023-04-24T09:18:29.459Z"
   },
   {
    "duration": 136,
    "start_time": "2023-04-24T09:18:29.471Z"
   },
   {
    "duration": 30,
    "start_time": "2023-04-24T09:18:29.609Z"
   },
   {
    "duration": 8,
    "start_time": "2023-04-24T09:18:29.641Z"
   },
   {
    "duration": 26,
    "start_time": "2023-04-24T09:18:29.651Z"
   },
   {
    "duration": 97,
    "start_time": "2023-04-24T09:18:29.679Z"
   },
   {
    "duration": 4,
    "start_time": "2023-04-24T09:18:29.778Z"
   },
   {
    "duration": 180,
    "start_time": "2023-04-24T09:18:29.784Z"
   },
   {
    "duration": 252,
    "start_time": "2023-04-24T09:18:29.966Z"
   },
   {
    "duration": 295,
    "start_time": "2023-04-24T09:18:30.220Z"
   },
   {
    "duration": 197,
    "start_time": "2023-04-24T09:18:30.517Z"
   },
   {
    "duration": 782,
    "start_time": "2023-04-24T09:18:30.716Z"
   },
   {
    "duration": 698,
    "start_time": "2023-04-24T09:18:31.501Z"
   },
   {
    "duration": 18,
    "start_time": "2023-04-24T09:18:32.201Z"
   },
   {
    "duration": 186,
    "start_time": "2023-04-24T09:19:23.179Z"
   },
   {
    "duration": 1426,
    "start_time": "2023-04-24T09:19:31.919Z"
   },
   {
    "duration": 471,
    "start_time": "2023-04-24T09:19:33.347Z"
   },
   {
    "duration": 5,
    "start_time": "2023-04-24T09:19:33.819Z"
   },
   {
    "duration": 8,
    "start_time": "2023-04-24T09:19:33.826Z"
   },
   {
    "duration": 7,
    "start_time": "2023-04-24T09:19:33.836Z"
   },
   {
    "duration": 16,
    "start_time": "2023-04-24T09:19:33.845Z"
   },
   {
    "duration": 9,
    "start_time": "2023-04-24T09:19:33.869Z"
   },
   {
    "duration": 7,
    "start_time": "2023-04-24T09:19:33.880Z"
   },
   {
    "duration": 401,
    "start_time": "2023-04-24T09:19:33.889Z"
   },
   {
    "duration": 525,
    "start_time": "2023-04-24T09:19:34.294Z"
   },
   {
    "duration": 111,
    "start_time": "2023-04-24T09:19:34.821Z"
   },
   {
    "duration": 347,
    "start_time": "2023-04-24T09:19:34.933Z"
   },
   {
    "duration": 63,
    "start_time": "2023-04-24T09:19:35.282Z"
   },
   {
    "duration": 28,
    "start_time": "2023-04-24T09:19:35.346Z"
   },
   {
    "duration": 10,
    "start_time": "2023-04-24T09:19:35.376Z"
   },
   {
    "duration": 42,
    "start_time": "2023-04-24T09:19:35.387Z"
   },
   {
    "duration": 131,
    "start_time": "2023-04-24T09:19:35.431Z"
   },
   {
    "duration": 33,
    "start_time": "2023-04-24T09:19:35.563Z"
   },
   {
    "duration": 46,
    "start_time": "2023-04-24T09:19:35.598Z"
   },
   {
    "duration": 324,
    "start_time": "2023-04-24T09:19:35.645Z"
   },
   {
    "duration": 215,
    "start_time": "2023-04-24T09:19:35.971Z"
   },
   {
    "duration": 70,
    "start_time": "2023-04-24T09:19:36.188Z"
   },
   {
    "duration": 205,
    "start_time": "2023-04-24T09:19:36.266Z"
   },
   {
    "duration": 207,
    "start_time": "2023-04-24T09:19:36.474Z"
   },
   {
    "duration": 88,
    "start_time": "2023-04-24T09:19:36.683Z"
   },
   {
    "duration": 82,
    "start_time": "2023-04-24T09:19:36.774Z"
   },
   {
    "duration": 3,
    "start_time": "2023-04-24T09:19:36.863Z"
   },
   {
    "duration": 91,
    "start_time": "2023-04-24T09:19:36.871Z"
   },
   {
    "duration": 207,
    "start_time": "2023-04-24T09:19:36.964Z"
   },
   {
    "duration": 115,
    "start_time": "2023-04-24T09:19:37.173Z"
   },
   {
    "duration": 92,
    "start_time": "2023-04-24T09:19:37.290Z"
   },
   {
    "duration": 12,
    "start_time": "2023-04-24T09:19:37.384Z"
   },
   {
    "duration": 274,
    "start_time": "2023-04-24T09:19:37.398Z"
   },
   {
    "duration": 211,
    "start_time": "2023-04-24T09:19:37.675Z"
   },
   {
    "duration": 198,
    "start_time": "2023-04-24T09:19:37.887Z"
   },
   {
    "duration": 5,
    "start_time": "2023-04-24T09:19:38.087Z"
   },
   {
    "duration": 8,
    "start_time": "2023-04-24T09:19:38.094Z"
   },
   {
    "duration": 180,
    "start_time": "2023-04-24T09:19:38.157Z"
   },
   {
    "duration": 40,
    "start_time": "2023-04-24T09:19:38.339Z"
   },
   {
    "duration": 8,
    "start_time": "2023-04-24T09:19:38.381Z"
   },
   {
    "duration": 15,
    "start_time": "2023-04-24T09:19:38.390Z"
   },
   {
    "duration": 80,
    "start_time": "2023-04-24T09:19:38.407Z"
   },
   {
    "duration": 5,
    "start_time": "2023-04-24T09:19:38.489Z"
   },
   {
    "duration": 150,
    "start_time": "2023-04-24T09:19:38.496Z"
   },
   {
    "duration": 154,
    "start_time": "2023-04-24T09:19:38.648Z"
   },
   {
    "duration": 159,
    "start_time": "2023-04-24T09:19:38.804Z"
   },
   {
    "duration": 167,
    "start_time": "2023-04-24T09:19:38.968Z"
   },
   {
    "duration": 646,
    "start_time": "2023-04-24T09:19:39.136Z"
   },
   {
    "duration": 647,
    "start_time": "2023-04-24T09:19:39.784Z"
   },
   {
    "duration": 20,
    "start_time": "2023-04-24T09:19:40.433Z"
   },
   {
    "duration": 1368,
    "start_time": "2023-04-24T20:58:07.463Z"
   },
   {
    "duration": 598,
    "start_time": "2023-04-24T20:58:08.833Z"
   },
   {
    "duration": 5,
    "start_time": "2023-04-24T20:58:09.433Z"
   },
   {
    "duration": 16,
    "start_time": "2023-04-24T20:58:09.440Z"
   },
   {
    "duration": 11,
    "start_time": "2023-04-24T20:58:09.458Z"
   },
   {
    "duration": 8,
    "start_time": "2023-04-24T20:58:09.471Z"
   },
   {
    "duration": 7,
    "start_time": "2023-04-24T20:58:09.481Z"
   },
   {
    "duration": 5,
    "start_time": "2023-04-24T20:58:09.490Z"
   },
   {
    "duration": 316,
    "start_time": "2023-04-24T20:58:09.497Z"
   },
   {
    "duration": 510,
    "start_time": "2023-04-24T20:58:09.816Z"
   },
   {
    "duration": 130,
    "start_time": "2023-04-24T20:58:10.329Z"
   },
   {
    "duration": 325,
    "start_time": "2023-04-24T20:58:10.461Z"
   },
   {
    "duration": 68,
    "start_time": "2023-04-24T20:58:10.787Z"
   },
   {
    "duration": 24,
    "start_time": "2023-04-24T20:58:10.858Z"
   },
   {
    "duration": 12,
    "start_time": "2023-04-24T20:58:10.884Z"
   },
   {
    "duration": 59,
    "start_time": "2023-04-24T20:58:10.898Z"
   },
   {
    "duration": 101,
    "start_time": "2023-04-24T20:58:10.959Z"
   },
   {
    "duration": 27,
    "start_time": "2023-04-24T20:58:11.062Z"
   },
   {
    "duration": 49,
    "start_time": "2023-04-24T20:58:11.092Z"
   },
   {
    "duration": 349,
    "start_time": "2023-04-24T20:58:11.143Z"
   },
   {
    "duration": 194,
    "start_time": "2023-04-24T20:58:11.494Z"
   },
   {
    "duration": 50,
    "start_time": "2023-04-24T20:58:11.690Z"
   },
   {
    "duration": 116,
    "start_time": "2023-04-24T20:58:11.742Z"
   },
   {
    "duration": 117,
    "start_time": "2023-04-24T20:58:11.860Z"
   },
   {
    "duration": 21,
    "start_time": "2023-04-24T20:58:11.979Z"
   },
   {
    "duration": 68,
    "start_time": "2023-04-24T20:58:12.002Z"
   },
   {
    "duration": 4,
    "start_time": "2023-04-24T20:58:12.072Z"
   },
   {
    "duration": 104,
    "start_time": "2023-04-24T20:58:12.079Z"
   },
   {
    "duration": 89,
    "start_time": "2023-04-24T20:58:12.185Z"
   },
   {
    "duration": 62,
    "start_time": "2023-04-24T20:58:12.275Z"
   },
   {
    "duration": 30,
    "start_time": "2023-04-24T20:58:12.355Z"
   },
   {
    "duration": 12,
    "start_time": "2023-04-24T20:58:12.387Z"
   },
   {
    "duration": 119,
    "start_time": "2023-04-24T20:58:12.401Z"
   },
   {
    "duration": 157,
    "start_time": "2023-04-24T20:58:12.522Z"
   },
   {
    "duration": 109,
    "start_time": "2023-04-24T20:58:12.681Z"
   },
   {
    "duration": 4,
    "start_time": "2023-04-24T20:58:12.792Z"
   },
   {
    "duration": 12,
    "start_time": "2023-04-24T20:58:12.798Z"
   },
   {
    "duration": 134,
    "start_time": "2023-04-24T20:58:12.812Z"
   },
   {
    "duration": 25,
    "start_time": "2023-04-24T20:58:12.948Z"
   },
   {
    "duration": 7,
    "start_time": "2023-04-24T20:58:12.975Z"
   },
   {
    "duration": 13,
    "start_time": "2023-04-24T20:58:12.984Z"
   },
   {
    "duration": 63,
    "start_time": "2023-04-24T20:58:12.999Z"
   },
   {
    "duration": 4,
    "start_time": "2023-04-24T20:58:13.064Z"
   },
   {
    "duration": 128,
    "start_time": "2023-04-24T20:58:13.070Z"
   },
   {
    "duration": 146,
    "start_time": "2023-04-24T20:58:13.199Z"
   },
   {
    "duration": 160,
    "start_time": "2023-04-24T20:58:13.347Z"
   },
   {
    "duration": 190,
    "start_time": "2023-04-24T20:58:13.509Z"
   },
   {
    "duration": 609,
    "start_time": "2023-04-24T20:58:13.701Z"
   },
   {
    "duration": 600,
    "start_time": "2023-04-24T20:58:14.312Z"
   },
   {
    "duration": 17,
    "start_time": "2023-04-24T20:58:14.914Z"
   },
   {
    "duration": 1624,
    "start_time": "2023-04-26T18:36:38.253Z"
   },
   {
    "duration": 607,
    "start_time": "2023-04-26T18:36:39.880Z"
   },
   {
    "duration": 6,
    "start_time": "2023-04-26T18:36:40.489Z"
   },
   {
    "duration": 35,
    "start_time": "2023-04-26T18:36:40.498Z"
   },
   {
    "duration": 45,
    "start_time": "2023-04-26T18:36:40.535Z"
   },
   {
    "duration": 30,
    "start_time": "2023-04-26T18:36:40.582Z"
   },
   {
    "duration": 46,
    "start_time": "2023-04-26T18:36:40.614Z"
   },
   {
    "duration": 48,
    "start_time": "2023-04-26T18:36:40.662Z"
   },
   {
    "duration": 421,
    "start_time": "2023-04-26T18:36:40.712Z"
   },
   {
    "duration": 559,
    "start_time": "2023-04-26T18:36:41.136Z"
   },
   {
    "duration": 123,
    "start_time": "2023-04-26T18:36:41.697Z"
   },
   {
    "duration": 345,
    "start_time": "2023-04-26T18:36:41.822Z"
   },
   {
    "duration": 111,
    "start_time": "2023-04-26T18:36:42.170Z"
   },
   {
    "duration": 28,
    "start_time": "2023-04-26T18:36:42.283Z"
   },
   {
    "duration": 50,
    "start_time": "2023-04-26T18:36:42.314Z"
   },
   {
    "duration": 96,
    "start_time": "2023-04-26T18:36:42.366Z"
   },
   {
    "duration": 189,
    "start_time": "2023-04-26T18:36:42.464Z"
   },
   {
    "duration": 60,
    "start_time": "2023-04-26T18:36:42.655Z"
   },
   {
    "duration": 49,
    "start_time": "2023-04-26T18:36:42.717Z"
   },
   {
    "duration": 393,
    "start_time": "2023-04-26T18:36:42.768Z"
   },
   {
    "duration": 241,
    "start_time": "2023-04-26T18:36:43.163Z"
   },
   {
    "duration": 83,
    "start_time": "2023-04-26T18:36:43.406Z"
   },
   {
    "duration": 112,
    "start_time": "2023-04-26T18:36:43.491Z"
   },
   {
    "duration": 109,
    "start_time": "2023-04-26T18:36:43.604Z"
   },
   {
    "duration": 21,
    "start_time": "2023-04-26T18:36:43.715Z"
   },
   {
    "duration": 90,
    "start_time": "2023-04-26T18:36:43.738Z"
   },
   {
    "duration": 4,
    "start_time": "2023-04-26T18:36:43.830Z"
   },
   {
    "duration": 58,
    "start_time": "2023-04-26T18:36:43.838Z"
   },
   {
    "duration": 68,
    "start_time": "2023-04-26T18:36:43.898Z"
   },
   {
    "duration": 76,
    "start_time": "2023-04-26T18:36:43.968Z"
   },
   {
    "duration": 65,
    "start_time": "2023-04-26T18:36:44.047Z"
   },
   {
    "duration": 20,
    "start_time": "2023-04-26T18:36:44.114Z"
   },
   {
    "duration": 102,
    "start_time": "2023-04-26T18:36:44.136Z"
   },
   {
    "duration": 118,
    "start_time": "2023-04-26T18:36:44.240Z"
   },
   {
    "duration": 104,
    "start_time": "2023-04-26T18:36:44.360Z"
   },
   {
    "duration": 4,
    "start_time": "2023-04-26T18:36:44.466Z"
   },
   {
    "duration": 47,
    "start_time": "2023-04-26T18:36:44.472Z"
   },
   {
    "duration": 141,
    "start_time": "2023-04-26T18:36:44.521Z"
   },
   {
    "duration": 63,
    "start_time": "2023-04-26T18:36:44.664Z"
   },
   {
    "duration": 7,
    "start_time": "2023-04-26T18:36:44.728Z"
   },
   {
    "duration": 24,
    "start_time": "2023-04-26T18:36:44.737Z"
   },
   {
    "duration": 100,
    "start_time": "2023-04-26T18:36:44.762Z"
   },
   {
    "duration": 4,
    "start_time": "2023-04-26T18:36:44.864Z"
   },
   {
    "duration": 216,
    "start_time": "2023-04-26T18:36:44.869Z"
   },
   {
    "duration": 254,
    "start_time": "2023-04-26T18:36:45.088Z"
   },
   {
    "duration": 232,
    "start_time": "2023-04-26T18:36:45.343Z"
   },
   {
    "duration": 215,
    "start_time": "2023-04-26T18:36:45.577Z"
   },
   {
    "duration": 932,
    "start_time": "2023-04-26T18:36:45.794Z"
   },
   {
    "duration": 885,
    "start_time": "2023-04-26T18:36:46.728Z"
   },
   {
    "duration": 19,
    "start_time": "2023-04-26T18:36:47.615Z"
   },
   {
    "duration": 53,
    "start_time": "2023-05-02T09:15:32.810Z"
   },
   {
    "duration": 1627,
    "start_time": "2023-05-02T09:15:37.521Z"
   },
   {
    "duration": 644,
    "start_time": "2023-05-02T09:15:39.153Z"
   },
   {
    "duration": 9,
    "start_time": "2023-05-02T09:15:39.806Z"
   },
   {
    "duration": 15,
    "start_time": "2023-05-02T09:15:39.817Z"
   },
   {
    "duration": 14,
    "start_time": "2023-05-02T09:15:39.833Z"
   },
   {
    "duration": 12,
    "start_time": "2023-05-02T09:15:39.848Z"
   },
   {
    "duration": 26,
    "start_time": "2023-05-02T09:15:39.861Z"
   },
   {
    "duration": 34,
    "start_time": "2023-05-02T09:15:39.888Z"
   },
   {
    "duration": 580,
    "start_time": "2023-05-02T09:15:39.923Z"
   },
   {
    "duration": 520,
    "start_time": "2023-05-02T09:15:40.504Z"
   },
   {
    "duration": 126,
    "start_time": "2023-05-02T09:15:41.026Z"
   },
   {
    "duration": 408,
    "start_time": "2023-05-02T09:15:41.154Z"
   },
   {
    "duration": 85,
    "start_time": "2023-05-02T09:15:41.572Z"
   },
   {
    "duration": 48,
    "start_time": "2023-05-02T09:15:41.661Z"
   },
   {
    "duration": 26,
    "start_time": "2023-05-02T09:15:41.711Z"
   },
   {
    "duration": 59,
    "start_time": "2023-05-02T09:15:41.738Z"
   },
   {
    "duration": 160,
    "start_time": "2023-05-02T09:15:41.810Z"
   },
   {
    "duration": 67,
    "start_time": "2023-05-02T09:15:41.971Z"
   },
   {
    "duration": 53,
    "start_time": "2023-05-02T09:15:42.040Z"
   },
   {
    "duration": 391,
    "start_time": "2023-05-02T09:15:42.094Z"
   },
   {
    "duration": 196,
    "start_time": "2023-05-02T09:15:42.493Z"
   },
   {
    "duration": 132,
    "start_time": "2023-05-02T09:15:42.701Z"
   },
   {
    "duration": 113,
    "start_time": "2023-05-02T09:15:42.835Z"
   },
   {
    "duration": 119,
    "start_time": "2023-05-02T09:15:42.949Z"
   },
   {
    "duration": 47,
    "start_time": "2023-05-02T09:15:43.070Z"
   },
   {
    "duration": 203,
    "start_time": "2023-05-02T09:15:43.138Z"
   },
   {
    "duration": 3,
    "start_time": "2023-05-02T09:15:43.343Z"
   },
   {
    "duration": 71,
    "start_time": "2023-05-02T09:15:43.348Z"
   },
   {
    "duration": 97,
    "start_time": "2023-05-02T09:15:43.420Z"
   },
   {
    "duration": 91,
    "start_time": "2023-05-02T09:15:43.523Z"
   },
   {
    "duration": 25,
    "start_time": "2023-05-02T09:15:43.615Z"
   },
   {
    "duration": 9,
    "start_time": "2023-05-02T09:15:43.642Z"
   },
   {
    "duration": 139,
    "start_time": "2023-05-02T09:15:43.653Z"
   },
   {
    "duration": 116,
    "start_time": "2023-05-02T09:15:43.802Z"
   },
   {
    "duration": 99,
    "start_time": "2023-05-02T09:15:43.920Z"
   },
   {
    "duration": 9,
    "start_time": "2023-05-02T09:15:44.020Z"
   },
   {
    "duration": 15,
    "start_time": "2023-05-02T09:15:44.031Z"
   },
   {
    "duration": 179,
    "start_time": "2023-05-02T09:15:44.047Z"
   },
   {
    "duration": 80,
    "start_time": "2023-05-02T09:15:44.227Z"
   },
   {
    "duration": 8,
    "start_time": "2023-05-02T09:15:44.308Z"
   },
   {
    "duration": 22,
    "start_time": "2023-05-02T09:15:44.323Z"
   },
   {
    "duration": 180,
    "start_time": "2023-05-02T09:15:44.346Z"
   },
   {
    "duration": 5,
    "start_time": "2023-05-02T09:15:44.528Z"
   },
   {
    "duration": 335,
    "start_time": "2023-05-02T09:15:44.534Z"
   },
   {
    "duration": 356,
    "start_time": "2023-05-02T09:15:44.870Z"
   },
   {
    "duration": 375,
    "start_time": "2023-05-02T09:15:45.227Z"
   },
   {
    "duration": 418,
    "start_time": "2023-05-02T09:15:45.605Z"
   },
   {
    "duration": 1380,
    "start_time": "2023-05-02T09:15:46.025Z"
   },
   {
    "duration": 1242,
    "start_time": "2023-05-02T09:15:47.406Z"
   },
   {
    "duration": 21,
    "start_time": "2023-05-02T09:15:48.649Z"
   },
   {
    "duration": 2363,
    "start_time": "2023-05-02T09:15:48.671Z"
   },
   {
    "duration": 0,
    "start_time": "2023-05-02T09:15:51.036Z"
   },
   {
    "duration": 111,
    "start_time": "2023-05-02T09:16:32.238Z"
   },
   {
    "duration": 150,
    "start_time": "2023-05-02T09:16:33.539Z"
   },
   {
    "duration": 131,
    "start_time": "2023-05-02T09:16:45.227Z"
   },
   {
    "duration": 93,
    "start_time": "2023-05-02T09:17:01.819Z"
   },
   {
    "duration": 106,
    "start_time": "2023-05-02T09:17:21.208Z"
   },
   {
    "duration": 18,
    "start_time": "2023-05-02T09:17:22.624Z"
   },
   {
    "duration": 16,
    "start_time": "2023-05-02T09:17:39.906Z"
   },
   {
    "duration": 15,
    "start_time": "2023-05-02T09:18:03.222Z"
   },
   {
    "duration": 105,
    "start_time": "2023-05-02T09:18:22.806Z"
   },
   {
    "duration": 94,
    "start_time": "2023-05-02T09:18:25.528Z"
   },
   {
    "duration": 22,
    "start_time": "2023-05-02T09:18:26.234Z"
   },
   {
    "duration": 90,
    "start_time": "2023-05-02T09:18:34.420Z"
   },
   {
    "duration": 110,
    "start_time": "2023-05-02T09:18:35.032Z"
   },
   {
    "duration": 18,
    "start_time": "2023-05-02T09:18:35.921Z"
   },
   {
    "duration": 106,
    "start_time": "2023-05-02T09:18:55.020Z"
   },
   {
    "duration": 108,
    "start_time": "2023-05-02T09:18:55.524Z"
   },
   {
    "duration": 20,
    "start_time": "2023-05-02T09:18:56.220Z"
   },
   {
    "duration": 87,
    "start_time": "2023-05-02T09:19:18.722Z"
   },
   {
    "duration": 94,
    "start_time": "2023-05-02T09:19:19.719Z"
   },
   {
    "duration": 18,
    "start_time": "2023-05-02T09:19:20.219Z"
   },
   {
    "duration": 86,
    "start_time": "2023-05-02T09:19:40.321Z"
   },
   {
    "duration": 92,
    "start_time": "2023-05-02T09:19:42.240Z"
   },
   {
    "duration": 17,
    "start_time": "2023-05-02T09:19:42.334Z"
   },
   {
    "duration": 90,
    "start_time": "2023-05-02T09:19:52.137Z"
   },
   {
    "duration": 103,
    "start_time": "2023-05-02T09:19:52.832Z"
   },
   {
    "duration": 29,
    "start_time": "2023-05-02T09:19:53.760Z"
   },
   {
    "duration": 89,
    "start_time": "2023-05-02T09:20:03.732Z"
   },
   {
    "duration": 102,
    "start_time": "2023-05-02T09:20:04.258Z"
   },
   {
    "duration": 18,
    "start_time": "2023-05-02T09:20:05.121Z"
   },
   {
    "duration": 93,
    "start_time": "2023-05-02T09:20:17.644Z"
   },
   {
    "duration": 112,
    "start_time": "2023-05-02T09:20:18.453Z"
   },
   {
    "duration": 17,
    "start_time": "2023-05-02T09:20:19.931Z"
   },
   {
    "duration": 92,
    "start_time": "2023-05-02T09:20:51.836Z"
   },
   {
    "duration": 111,
    "start_time": "2023-05-02T09:20:52.397Z"
   },
   {
    "duration": 22,
    "start_time": "2023-05-02T09:20:53.138Z"
   },
   {
    "duration": 106,
    "start_time": "2023-05-02T09:21:28.332Z"
   },
   {
    "duration": 99,
    "start_time": "2023-05-02T09:21:38.535Z"
   },
   {
    "duration": 110,
    "start_time": "2023-05-02T09:21:39.195Z"
   },
   {
    "duration": 15,
    "start_time": "2023-05-02T09:21:39.924Z"
   },
   {
    "duration": 117,
    "start_time": "2023-05-02T09:22:46.249Z"
   },
   {
    "duration": 105,
    "start_time": "2023-05-02T09:22:46.820Z"
   },
   {
    "duration": 16,
    "start_time": "2023-05-02T09:22:47.714Z"
   },
   {
    "duration": 1351,
    "start_time": "2023-06-05T15:20:46.174Z"
   },
   {
    "duration": 430,
    "start_time": "2023-06-05T15:20:47.526Z"
   },
   {
    "duration": 5,
    "start_time": "2023-06-05T15:20:47.957Z"
   },
   {
    "duration": 20,
    "start_time": "2023-06-05T15:20:47.964Z"
   },
   {
    "duration": 13,
    "start_time": "2023-06-05T15:20:47.985Z"
   },
   {
    "duration": 7,
    "start_time": "2023-06-05T15:20:47.999Z"
   },
   {
    "duration": 6,
    "start_time": "2023-06-05T15:20:48.008Z"
   },
   {
    "duration": 7,
    "start_time": "2023-06-05T15:20:48.016Z"
   },
   {
    "duration": 403,
    "start_time": "2023-06-05T15:20:48.024Z"
   },
   {
    "duration": 416,
    "start_time": "2023-06-05T15:20:48.430Z"
   },
   {
    "duration": 97,
    "start_time": "2023-06-05T15:20:48.847Z"
   },
   {
    "duration": 311,
    "start_time": "2023-06-05T15:20:48.945Z"
   },
   {
    "duration": 75,
    "start_time": "2023-06-05T15:20:49.257Z"
   },
   {
    "duration": 23,
    "start_time": "2023-06-05T15:20:49.333Z"
   },
   {
    "duration": 30,
    "start_time": "2023-06-05T15:20:49.357Z"
   },
   {
    "duration": 42,
    "start_time": "2023-06-05T15:20:49.388Z"
   },
   {
    "duration": 137,
    "start_time": "2023-06-05T15:20:49.432Z"
   },
   {
    "duration": 47,
    "start_time": "2023-06-05T15:20:49.570Z"
   },
   {
    "duration": 48,
    "start_time": "2023-06-05T15:20:49.619Z"
   },
   {
    "duration": 317,
    "start_time": "2023-06-05T15:20:49.669Z"
   },
   {
    "duration": 208,
    "start_time": "2023-06-05T15:20:49.988Z"
   },
   {
    "duration": 91,
    "start_time": "2023-06-05T15:20:50.197Z"
   },
   {
    "duration": 114,
    "start_time": "2023-06-05T15:20:50.290Z"
   },
   {
    "duration": 118,
    "start_time": "2023-06-05T15:20:50.405Z"
   },
   {
    "duration": 18,
    "start_time": "2023-06-05T15:20:50.525Z"
   },
   {
    "duration": 85,
    "start_time": "2023-06-05T15:20:50.545Z"
   },
   {
    "duration": 4,
    "start_time": "2023-06-05T15:20:50.631Z"
   },
   {
    "duration": 54,
    "start_time": "2023-06-05T15:20:50.638Z"
   },
   {
    "duration": 82,
    "start_time": "2023-06-05T15:20:50.693Z"
   },
   {
    "duration": 61,
    "start_time": "2023-06-05T15:20:50.785Z"
   },
   {
    "duration": 44,
    "start_time": "2023-06-05T15:20:50.848Z"
   },
   {
    "duration": 10,
    "start_time": "2023-06-05T15:20:50.894Z"
   },
   {
    "duration": 106,
    "start_time": "2023-06-05T15:20:50.906Z"
   },
   {
    "duration": 119,
    "start_time": "2023-06-05T15:20:51.014Z"
   },
   {
    "duration": 97,
    "start_time": "2023-06-05T15:20:51.135Z"
   },
   {
    "duration": 4,
    "start_time": "2023-06-05T15:20:51.233Z"
   },
   {
    "duration": 12,
    "start_time": "2023-06-05T15:20:51.239Z"
   },
   {
    "duration": 138,
    "start_time": "2023-06-05T15:20:51.253Z"
   },
   {
    "duration": 50,
    "start_time": "2023-06-05T15:20:51.392Z"
   },
   {
    "duration": 107,
    "start_time": "2023-06-05T15:20:51.443Z"
   },
   {
    "duration": 18,
    "start_time": "2023-06-05T15:20:51.552Z"
   },
   {
    "duration": 121,
    "start_time": "2023-06-05T15:20:51.571Z"
   },
   {
    "duration": 5,
    "start_time": "2023-06-05T15:20:51.694Z"
   },
   {
    "duration": 222,
    "start_time": "2023-06-05T15:20:51.700Z"
   },
   {
    "duration": 212,
    "start_time": "2023-06-05T15:20:51.924Z"
   },
   {
    "duration": 274,
    "start_time": "2023-06-05T15:20:52.137Z"
   },
   {
    "duration": 229,
    "start_time": "2023-06-05T15:20:52.413Z"
   },
   {
    "duration": 893,
    "start_time": "2023-06-05T15:20:52.643Z"
   },
   {
    "duration": 998,
    "start_time": "2023-06-05T15:20:53.538Z"
   },
   {
    "duration": 17,
    "start_time": "2023-06-05T15:20:54.537Z"
   },
   {
    "duration": 100,
    "start_time": "2023-06-05T15:20:54.555Z"
   },
   {
    "duration": 114,
    "start_time": "2023-06-05T15:20:54.657Z"
   },
   {
    "duration": 25,
    "start_time": "2023-06-05T15:20:54.773Z"
   },
   {
    "duration": 2401,
    "start_time": "2023-06-05T20:14:17.876Z"
   },
   {
    "duration": 570,
    "start_time": "2023-06-05T20:14:20.279Z"
   },
   {
    "duration": 7,
    "start_time": "2023-06-05T20:14:20.851Z"
   },
   {
    "duration": 40,
    "start_time": "2023-06-05T20:14:20.860Z"
   },
   {
    "duration": 29,
    "start_time": "2023-06-05T20:14:20.903Z"
   },
   {
    "duration": 22,
    "start_time": "2023-06-05T20:14:20.934Z"
   },
   {
    "duration": 27,
    "start_time": "2023-06-05T20:14:20.959Z"
   },
   {
    "duration": 47,
    "start_time": "2023-06-05T20:14:20.988Z"
   },
   {
    "duration": 401,
    "start_time": "2023-06-05T20:14:21.037Z"
   },
   {
    "duration": 523,
    "start_time": "2023-06-05T20:14:21.440Z"
   },
   {
    "duration": 127,
    "start_time": "2023-06-05T20:14:21.965Z"
   },
   {
    "duration": 334,
    "start_time": "2023-06-05T20:14:22.094Z"
   },
   {
    "duration": 78,
    "start_time": "2023-06-05T20:14:22.430Z"
   },
   {
    "duration": 25,
    "start_time": "2023-06-05T20:14:22.601Z"
   },
   {
    "duration": 22,
    "start_time": "2023-06-05T20:14:22.628Z"
   },
   {
    "duration": 43,
    "start_time": "2023-06-05T20:14:22.652Z"
   },
   {
    "duration": 109,
    "start_time": "2023-06-05T20:14:22.697Z"
   },
   {
    "duration": 32,
    "start_time": "2023-06-05T20:14:22.808Z"
   },
   {
    "duration": 47,
    "start_time": "2023-06-05T20:14:22.842Z"
   },
   {
    "duration": 288,
    "start_time": "2023-06-05T20:14:22.891Z"
   },
   {
    "duration": 213,
    "start_time": "2023-06-05T20:14:23.181Z"
   },
   {
    "duration": 54,
    "start_time": "2023-06-05T20:14:23.396Z"
   },
   {
    "duration": 126,
    "start_time": "2023-06-05T20:14:23.452Z"
   },
   {
    "duration": 102,
    "start_time": "2023-06-05T20:14:23.580Z"
   },
   {
    "duration": 21,
    "start_time": "2023-06-05T20:14:23.683Z"
   },
   {
    "duration": 61,
    "start_time": "2023-06-05T20:14:23.707Z"
   },
   {
    "duration": 4,
    "start_time": "2023-06-05T20:14:23.770Z"
   },
   {
    "duration": 47,
    "start_time": "2023-06-05T20:14:23.775Z"
   },
   {
    "duration": 100,
    "start_time": "2023-06-05T20:14:23.823Z"
   },
   {
    "duration": 61,
    "start_time": "2023-06-05T20:14:23.924Z"
   },
   {
    "duration": 29,
    "start_time": "2023-06-05T20:14:23.987Z"
   },
   {
    "duration": 13,
    "start_time": "2023-06-05T20:14:24.018Z"
   },
   {
    "duration": 131,
    "start_time": "2023-06-05T20:14:24.033Z"
   },
   {
    "duration": 123,
    "start_time": "2023-06-05T20:14:24.165Z"
   },
   {
    "duration": 102,
    "start_time": "2023-06-05T20:14:24.290Z"
   },
   {
    "duration": 5,
    "start_time": "2023-06-05T20:14:24.394Z"
   },
   {
    "duration": 11,
    "start_time": "2023-06-05T20:14:24.401Z"
   },
   {
    "duration": 165,
    "start_time": "2023-06-05T20:14:24.414Z"
   },
   {
    "duration": 27,
    "start_time": "2023-06-05T20:14:24.581Z"
   },
   {
    "duration": 8,
    "start_time": "2023-06-05T20:14:24.610Z"
   },
   {
    "duration": 10,
    "start_time": "2023-06-05T20:14:24.621Z"
   },
   {
    "duration": 85,
    "start_time": "2023-06-05T20:14:24.632Z"
   },
   {
    "duration": 5,
    "start_time": "2023-06-05T20:14:24.719Z"
   },
   {
    "duration": 127,
    "start_time": "2023-06-05T20:14:24.727Z"
   },
   {
    "duration": 149,
    "start_time": "2023-06-05T20:14:24.855Z"
   },
   {
    "duration": 152,
    "start_time": "2023-06-05T20:14:25.006Z"
   },
   {
    "duration": 140,
    "start_time": "2023-06-05T20:14:25.160Z"
   },
   {
    "duration": 538,
    "start_time": "2023-06-05T20:14:25.301Z"
   },
   {
    "duration": 549,
    "start_time": "2023-06-05T20:14:25.841Z"
   },
   {
    "duration": 18,
    "start_time": "2023-06-05T20:14:26.392Z"
   },
   {
    "duration": 95,
    "start_time": "2023-06-05T20:14:26.412Z"
   },
   {
    "duration": 102,
    "start_time": "2023-06-05T20:14:26.509Z"
   },
   {
    "duration": 17,
    "start_time": "2023-06-05T20:14:26.613Z"
   },
   {
    "duration": 1342,
    "start_time": "2023-06-07T23:37:02.396Z"
   },
   {
    "duration": 518,
    "start_time": "2023-06-07T23:37:03.740Z"
   },
   {
    "duration": 5,
    "start_time": "2023-06-07T23:37:04.259Z"
   },
   {
    "duration": 8,
    "start_time": "2023-06-07T23:37:04.265Z"
   },
   {
    "duration": 9,
    "start_time": "2023-06-07T23:37:04.274Z"
   },
   {
    "duration": 10,
    "start_time": "2023-06-07T23:37:04.285Z"
   },
   {
    "duration": 21,
    "start_time": "2023-06-07T23:37:04.297Z"
   },
   {
    "duration": 6,
    "start_time": "2023-06-07T23:37:04.320Z"
   },
   {
    "duration": 371,
    "start_time": "2023-06-07T23:37:04.328Z"
   },
   {
    "duration": 422,
    "start_time": "2023-06-07T23:37:04.702Z"
   },
   {
    "duration": 113,
    "start_time": "2023-06-07T23:37:05.126Z"
   },
   {
    "duration": 326,
    "start_time": "2023-06-07T23:37:05.242Z"
   },
   {
    "duration": 66,
    "start_time": "2023-06-07T23:37:05.569Z"
   },
   {
    "duration": 24,
    "start_time": "2023-06-07T23:37:05.636Z"
   },
   {
    "duration": 22,
    "start_time": "2023-06-07T23:37:05.661Z"
   },
   {
    "duration": 39,
    "start_time": "2023-06-07T23:37:05.685Z"
   },
   {
    "duration": 129,
    "start_time": "2023-06-07T23:37:05.726Z"
   },
   {
    "duration": 58,
    "start_time": "2023-06-07T23:37:05.857Z"
   },
   {
    "duration": 103,
    "start_time": "2023-06-07T23:37:05.917Z"
   },
   {
    "duration": 603,
    "start_time": "2023-06-07T23:37:06.022Z"
   },
   {
    "duration": 199,
    "start_time": "2023-06-07T23:37:06.627Z"
   },
   {
    "duration": 89,
    "start_time": "2023-06-07T23:37:06.827Z"
   },
   {
    "duration": 219,
    "start_time": "2023-06-07T23:37:06.918Z"
   },
   {
    "duration": 209,
    "start_time": "2023-06-07T23:37:07.139Z"
   },
   {
    "duration": 18,
    "start_time": "2023-06-07T23:37:07.349Z"
   },
   {
    "duration": 88,
    "start_time": "2023-06-07T23:37:07.368Z"
   },
   {
    "duration": 4,
    "start_time": "2023-06-07T23:37:07.457Z"
   },
   {
    "duration": 47,
    "start_time": "2023-06-07T23:37:07.465Z"
   },
   {
    "duration": 63,
    "start_time": "2023-06-07T23:37:07.514Z"
   },
   {
    "duration": 72,
    "start_time": "2023-06-07T23:37:07.578Z"
   },
   {
    "duration": 25,
    "start_time": "2023-06-07T23:37:07.651Z"
   },
   {
    "duration": 9,
    "start_time": "2023-06-07T23:37:07.677Z"
   },
   {
    "duration": 101,
    "start_time": "2023-06-07T23:37:07.688Z"
   },
   {
    "duration": 108,
    "start_time": "2023-06-07T23:37:07.790Z"
   },
   {
    "duration": 89,
    "start_time": "2023-06-07T23:37:07.899Z"
   },
   {
    "duration": 4,
    "start_time": "2023-06-07T23:37:07.989Z"
   },
   {
    "duration": 20,
    "start_time": "2023-06-07T23:37:07.995Z"
   },
   {
    "duration": 136,
    "start_time": "2023-06-07T23:37:08.017Z"
   },
   {
    "duration": 40,
    "start_time": "2023-06-07T23:37:08.154Z"
   },
   {
    "duration": 68,
    "start_time": "2023-06-07T23:37:08.195Z"
   },
   {
    "duration": 40,
    "start_time": "2023-06-07T23:37:08.264Z"
   },
   {
    "duration": 105,
    "start_time": "2023-06-07T23:37:08.306Z"
   },
   {
    "duration": 4,
    "start_time": "2023-06-07T23:37:08.413Z"
   },
   {
    "duration": 165,
    "start_time": "2023-06-07T23:37:08.418Z"
   },
   {
    "duration": 217,
    "start_time": "2023-06-07T23:37:08.585Z"
   },
   {
    "duration": 213,
    "start_time": "2023-06-07T23:37:08.804Z"
   },
   {
    "duration": 175,
    "start_time": "2023-06-07T23:37:09.018Z"
   },
   {
    "duration": 769,
    "start_time": "2023-06-07T23:37:09.194Z"
   },
   {
    "duration": 829,
    "start_time": "2023-06-07T23:37:09.965Z"
   },
   {
    "duration": 17,
    "start_time": "2023-06-07T23:37:10.795Z"
   },
   {
    "duration": 88,
    "start_time": "2023-06-07T23:37:10.813Z"
   },
   {
    "duration": 102,
    "start_time": "2023-06-07T23:37:10.903Z"
   },
   {
    "duration": 21,
    "start_time": "2023-06-07T23:37:11.007Z"
   }
  ],
  "kernelspec": {
   "display_name": "Python 3 (ipykernel)",
   "language": "python",
   "name": "python3"
  },
  "language_info": {
   "codemirror_mode": {
    "name": "ipython",
    "version": 3
   },
   "file_extension": ".py",
   "mimetype": "text/x-python",
   "name": "python",
   "nbconvert_exporter": "python",
   "pygments_lexer": "ipython3",
   "version": "3.9.16"
  },
  "toc": {
   "base_numbering": 1,
   "nav_menu": {},
   "number_sections": true,
   "sideBar": true,
   "skip_h1_title": true,
   "title_cell": "Навигация",
   "title_sidebar": "Contents",
   "toc_cell": true,
   "toc_position": {
    "height": "673px",
    "left": "57px",
    "top": "111.125px",
    "width": "366.367px"
   },
   "toc_section_display": true,
   "toc_window_display": true
  }
 },
 "nbformat": 4,
 "nbformat_minor": 2
}
